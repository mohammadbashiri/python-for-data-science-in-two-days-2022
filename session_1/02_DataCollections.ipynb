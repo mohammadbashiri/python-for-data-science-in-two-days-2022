{
 "cells": [
  {
   "cell_type": "markdown",
   "source": "# Collection datatypes",
   "metadata": {
    "cell_id": "434b20b2abd948d39c1fcb378ab37450",
    "tags": [],
    "deepnote_cell_type": "markdown",
    "deepnote_cell_height": 82
   }
  },
  {
   "cell_type": "markdown",
   "source": "Python collections or *sequence* types allow users to create an object that can hold multiple values (or objects). Here, we'll go through three of the most commonly used collections:\n\n- **string** objects only hold text data.\n- **list** objects can hold any object\n- **tuple** objects can hold any object",
   "metadata": {
    "cell_id": "819bbec5f4594133a993018a16608543",
    "tags": [],
    "deepnote_cell_type": "markdown",
    "deepnote_cell_height": 175.96875
   }
  },
  {
   "cell_type": "markdown",
   "source": "## String",
   "metadata": {
    "cell_id": "ab4a0bbb390343c391363ff7a50b729c",
    "tags": [],
    "deepnote_cell_type": "markdown",
    "deepnote_cell_height": 70
   }
  },
  {
   "cell_type": "markdown",
   "source": "`string` objects can be created in many ways, all being equivalent:\n\n```python\n>>> 'Hello'  # with apostrophes (\"single-quotes\")\n'Hello'\n\n>>> \"Hello\"  # with quotation marks (\"double-quotes\")\n\"Hello\"\n\n>>> \"\"\"Hello,     \n... my name is\n... Mohammad\"\"\"   # with triple-double-quotes (a \"docstring\", used for multi-line text)\n'Hello,\\nmy name is\\nNick'  \n\n>>> str(32)  # using the str() function to change into a string\n'32'\n```",
   "metadata": {
    "cell_id": "faf9875b5d6e45d69fbd54823e85240a",
    "tags": [],
    "deepnote_cell_type": "markdown",
    "deepnote_cell_height": 399.9375
   }
  },
  {
   "cell_type": "markdown",
   "source": "Nucleotide sequences, for instance, are often represented as strings:\n\n```python\n>>> seq = 'GCATTGGCT'\n```\n<br>\n\nRemember objects and that every object comes with its own methods? A `str` object is no exception. What methods does it have? Let's explore some of them:",
   "metadata": {
    "cell_id": "ca913d9a218c407dba991e42d7474a1d",
    "tags": [],
    "deepnote_cell_type": "markdown",
    "deepnote_cell_height": 175.96875
   }
  },
  {
   "cell_type": "markdown",
   "source": "### Exercise\n\nModify the dna sequences below in a single line of code to match what's asked for.  Functions and methods that may be used are:\n\n### Operations\n  - `'GTC' * 3`\n  - `'GTC' + 'GTC'`\n  - `'GTC' == 'GTC'`\n  - `'GTC' != 'GTC'`\n\n### Functions\n  - `len('GTC')`\n\n### Methods\n  - `'GTC'.count('A')`\n  - `'GtC'.upper()`\n  - `'GTC'.lower()`\n  - `'GTC'.isdigit()`\n  - `'GTC'.index('T')`\n  - `'GTC'.replace('G', 'C')`\n  - `'GTC-CCA'.split('-')`\n\n",
   "metadata": {
    "cell_id": "aa0b3f8780584af3ba0f3f1a06d457d9",
    "tags": [],
    "deepnote_cell_type": "markdown",
    "deepnote_cell_height": 636.53125
   }
  },
  {
   "cell_type": "markdown",
   "source": "1. Count the Number of \"G\" in the sequence.",
   "metadata": {
    "cell_id": "bedf43ab1a0d476ebac289861bb92b4d",
    "tags": [],
    "deepnote_cell_type": "markdown",
    "deepnote_cell_height": 69.390625
   }
  },
  {
   "cell_type": "code",
   "metadata": {
    "cell_id": "d2d2a05845df421aadf49e98adbdc35a",
    "tags": [],
    "deepnote_to_be_reexecuted": false,
    "source_hash": "41a532a",
    "execution_start": 1659620248120,
    "execution_millis": 3,
    "deepnote_cell_type": "code",
    "deepnote_cell_height": 76
   },
   "source": "seq = \"GTGTCAGTCCCCATGAATCGATAG\"",
   "execution_count": 1,
   "outputs": []
  },
  {
   "cell_type": "code",
   "source": "seq.count(\"G\")",
   "metadata": {
    "cell_id": "bd7fb625781d406caadcb5f52eab2d95",
    "tags": [],
    "deepnote_to_be_reexecuted": false,
    "source_hash": "2f69ccdf",
    "execution_start": 1659620249831,
    "execution_millis": 106,
    "deepnote_cell_type": "code",
    "deepnote_cell_height": 113.1875,
    "deepnote_output_heights": [
     21.1875
    ]
   },
   "execution_count": 2,
   "outputs": [
    {
     "output_type": "execute_result",
     "execution_count": 2,
     "data": {
      "text/plain": "6"
     },
     "metadata": {}
    }
   ]
  },
  {
   "cell_type": "markdown",
   "source": "2. Count the number of \"AT\" repeats in the sequence.",
   "metadata": {
    "cell_id": "339c945ebe564a9781d9e47a4a1e3103",
    "tags": [],
    "deepnote_cell_type": "markdown",
    "deepnote_cell_height": 69.390625
   }
  },
  {
   "cell_type": "code",
   "metadata": {
    "cell_id": "e9f278182e09418d90c31ec82c4db6e5",
    "tags": [],
    "deepnote_to_be_reexecuted": false,
    "source_hash": "41a532a",
    "execution_start": 1659620269719,
    "execution_millis": 4,
    "deepnote_cell_type": "code",
    "deepnote_cell_height": 76
   },
   "source": "seq = \"GTGTCAGTCCCCATGAATCGATAG\"",
   "execution_count": 3,
   "outputs": []
  },
  {
   "cell_type": "code",
   "source": "seq.count(\"AT\")",
   "metadata": {
    "cell_id": "0b9b9ca48a284634a03bfca0baf888a3",
    "tags": [],
    "deepnote_to_be_reexecuted": false,
    "source_hash": "b707b7c8",
    "execution_start": 1659620277730,
    "execution_millis": 654,
    "deepnote_cell_type": "code",
    "deepnote_cell_height": 113.1875,
    "deepnote_output_heights": [
     21.1875
    ]
   },
   "execution_count": 4,
   "outputs": [
    {
     "output_type": "execute_result",
     "execution_count": 4,
     "data": {
      "text/plain": "3"
     },
     "metadata": {}
    }
   ]
  },
  {
   "cell_type": "markdown",
   "source": "3. Concatenate the following two sequences (i.e. combine them into one sequence).",
   "metadata": {
    "cell_id": "3b2d85bf94c34e64a20c03cd885ee958",
    "tags": [],
    "deepnote_cell_type": "markdown",
    "deepnote_cell_height": 69.390625
   }
  },
  {
   "cell_type": "code",
   "metadata": {
    "cell_id": "02e7048bc3f34691b564bbc08b15a208",
    "tags": [],
    "deepnote_to_be_reexecuted": false,
    "source_hash": "e000e2b3",
    "execution_start": 1659620290354,
    "execution_millis": 4,
    "deepnote_cell_type": "code",
    "deepnote_cell_height": 94
   },
   "source": "seq1 = \"GTGTCAGT\"\nseq2 = \"TGAATCGATAG\"",
   "execution_count": 5,
   "outputs": []
  },
  {
   "cell_type": "code",
   "metadata": {
    "cell_id": "e09712eca3774432bc186d157ee6028e",
    "tags": [],
    "deepnote_to_be_reexecuted": false,
    "source_hash": "d4d19349",
    "execution_start": 1659620291184,
    "execution_millis": 5,
    "deepnote_cell_type": "code",
    "deepnote_cell_height": 113.1875,
    "deepnote_output_heights": [
     21.1875
    ]
   },
   "source": "seq1 + seq2",
   "execution_count": 6,
   "outputs": [
    {
     "output_type": "execute_result",
     "execution_count": 6,
     "data": {
      "text/plain": "'GTGTCAGTTGAATCGATAG'"
     },
     "metadata": {}
    }
   ]
  },
  {
   "cell_type": "markdown",
   "source": "4. How long is the following sequence?",
   "metadata": {
    "cell_id": "1f15da7a903345208a7fdc0d973c9071",
    "tags": [],
    "deepnote_cell_type": "markdown",
    "deepnote_cell_height": 69.390625
   }
  },
  {
   "cell_type": "code",
   "metadata": {
    "cell_id": "222f3d3233414b8b87cca0c0b755877d",
    "tags": [],
    "deepnote_to_be_reexecuted": false,
    "source_hash": "41a532a",
    "execution_start": 1659620299701,
    "execution_millis": 2,
    "deepnote_cell_type": "code",
    "deepnote_cell_height": 76
   },
   "source": "seq = \"GTGTCAGTCCCCATGAATCGATAG\"",
   "execution_count": 7,
   "outputs": []
  },
  {
   "cell_type": "code",
   "metadata": {
    "cell_id": "2b290887d6fc49e4a1818533cada32bc",
    "tags": [],
    "deepnote_to_be_reexecuted": false,
    "source_hash": "c90baa99",
    "execution_start": 1659620300327,
    "execution_millis": 13,
    "deepnote_cell_type": "code",
    "deepnote_cell_height": 113.1875,
    "deepnote_output_heights": [
     21.1875
    ]
   },
   "source": "len(seq)",
   "execution_count": 8,
   "outputs": [
    {
     "output_type": "execute_result",
     "execution_count": 8,
     "data": {
      "text/plain": "24"
     },
     "metadata": {}
    }
   ]
  },
  {
   "cell_type": "markdown",
   "source": "5. Repeat the following sequence 13 times.",
   "metadata": {
    "cell_id": "7eda32d17f584cc59d77d7e1df2547e7",
    "tags": [],
    "deepnote_cell_type": "markdown",
    "deepnote_cell_height": 69.390625
   }
  },
  {
   "cell_type": "code",
   "metadata": {
    "cell_id": "41b574a9f38944e0974b3cd34cd14140",
    "tags": [],
    "deepnote_to_be_reexecuted": false,
    "source_hash": "e8325bd0",
    "execution_start": 1659620303693,
    "execution_millis": 2,
    "deepnote_cell_type": "code",
    "deepnote_cell_height": 76
   },
   "source": "gc = \"GC\"",
   "execution_count": 9,
   "outputs": []
  },
  {
   "cell_type": "code",
   "metadata": {
    "cell_id": "b62b61ee0e8c4533ad909b3ed1ad7d35",
    "tags": [],
    "deepnote_to_be_reexecuted": false,
    "source_hash": "9c7830be",
    "execution_start": 1659620304479,
    "execution_millis": 19,
    "deepnote_cell_type": "code",
    "deepnote_cell_height": 113.1875,
    "deepnote_output_heights": [
     21.1875
    ]
   },
   "source": "gc * 13",
   "execution_count": 10,
   "outputs": [
    {
     "output_type": "execute_result",
     "execution_count": 10,
     "data": {
      "text/plain": "'GCGCGCGCGCGCGCGCGCGCGCGCGC'"
     },
     "metadata": {}
    }
   ]
  },
  {
   "cell_type": "markdown",
   "source": "6. Replace the incorrect letter with an empty string (i.e. delete the letter).",
   "metadata": {
    "cell_id": "2ad01c068a2d4bf39c7a085b609124e7",
    "tags": [],
    "deepnote_cell_type": "markdown",
    "deepnote_cell_height": 69.390625
   }
  },
  {
   "cell_type": "code",
   "metadata": {
    "cell_id": "be7b761b998f46eaa9ec96c54f6c2a8b",
    "tags": [],
    "deepnote_to_be_reexecuted": false,
    "source_hash": "4bf1e4b3",
    "execution_start": 1659620317725,
    "execution_millis": 445237644,
    "deepnote_cell_type": "code",
    "deepnote_cell_height": 76
   },
   "source": "seq = \"GTGXXGTXCCXCCATGXAATCGXATA\"",
   "execution_count": 11,
   "outputs": []
  },
  {
   "cell_type": "code",
   "metadata": {
    "cell_id": "a498ee0fc33b48bba98af61915093e0d",
    "tags": [],
    "deepnote_to_be_reexecuted": false,
    "source_hash": "7e320e1c",
    "execution_start": 1659620318425,
    "execution_millis": 111,
    "deepnote_cell_type": "code",
    "deepnote_cell_height": 113.1875,
    "deepnote_output_heights": [
     21.1875
    ]
   },
   "source": "seq.replace(\"X\", \"\")",
   "execution_count": 12,
   "outputs": [
    {
     "output_type": "execute_result",
     "execution_count": 12,
     "data": {
      "text/plain": "'GTGGTCCCCATGAATCGATA'"
     },
     "metadata": {}
    }
   ]
  },
  {
   "cell_type": "markdown",
   "source": "7. Standardize the formatting of this sequence (i.e. all capital letters).",
   "metadata": {
    "cell_id": "8be207a379344854860e6b1b5f038d34",
    "tags": [],
    "deepnote_cell_type": "markdown",
    "deepnote_cell_height": 69.390625
   }
  },
  {
   "cell_type": "code",
   "metadata": {
    "cell_id": "065c92bd0b714df1b583e2f5ef1734ad",
    "tags": [],
    "deepnote_to_be_reexecuted": false,
    "source_hash": "5ceb027e",
    "execution_start": 1659620321640,
    "execution_millis": 0,
    "deepnote_cell_type": "code",
    "deepnote_cell_height": 76
   },
   "source": "seq = \"GtCGAaaCCgTaGcTAgc\"",
   "execution_count": 13,
   "outputs": []
  },
  {
   "cell_type": "code",
   "metadata": {
    "cell_id": "cb288582cf3740a5b766411b3eedecd6",
    "tags": [],
    "deepnote_to_be_reexecuted": false,
    "source_hash": "7416dbda",
    "execution_start": 1659620322509,
    "execution_millis": 2,
    "deepnote_cell_type": "code",
    "deepnote_cell_height": 113.1875,
    "deepnote_output_heights": [
     21.1875
    ]
   },
   "source": "seq.upper()",
   "execution_count": 14,
   "outputs": [
    {
     "output_type": "execute_result",
     "execution_count": 14,
     "data": {
      "text/plain": "'GTCGAAACCGTAGCTAGC'"
     },
     "metadata": {}
    }
   ]
  },
  {
   "cell_type": "markdown",
   "source": "8. Split the following string around the empty space into a list of sequences.",
   "metadata": {
    "cell_id": "2a8f6125498141048a1810c5d6459eb0",
    "tags": [],
    "deepnote_cell_type": "markdown",
    "deepnote_cell_height": 69.390625
   }
  },
  {
   "cell_type": "code",
   "metadata": {
    "cell_id": "342ae8e4d42a4f15968e20ba780b5946",
    "tags": [],
    "deepnote_to_be_reexecuted": false,
    "source_hash": "140b9420",
    "execution_start": 1659620324658,
    "execution_millis": 0,
    "deepnote_cell_type": "code",
    "deepnote_cell_height": 76
   },
   "source": "seqs = \"GTTCGAAAG GACCTGATTATAG AACCGATTTA\"",
   "execution_count": 15,
   "outputs": []
  },
  {
   "cell_type": "code",
   "metadata": {
    "cell_id": "521f801c53734006a0b7871f1d95b528",
    "tags": [],
    "deepnote_to_be_reexecuted": false,
    "source_hash": "51c78dbc",
    "execution_start": 1659620325513,
    "execution_millis": 1,
    "deepnote_cell_type": "code",
    "deepnote_cell_height": 113.1875,
    "deepnote_output_heights": [
     21.1875
    ]
   },
   "source": "seqs.split(\" \")",
   "execution_count": 16,
   "outputs": [
    {
     "output_type": "execute_result",
     "execution_count": 16,
     "data": {
      "text/plain": "['GTTCGAAAG', 'GACCTGATTATAG', 'AACCGATTTA']"
     },
     "metadata": {}
    }
   ]
  },
  {
   "cell_type": "markdown",
   "source": "9. What percentage of strong nucleotides (G and C) are there in this sequence?",
   "metadata": {
    "cell_id": "fd59c2fe87e04cec83517114966ba07b",
    "tags": [],
    "deepnote_cell_type": "markdown",
    "deepnote_cell_height": 69.390625
   }
  },
  {
   "cell_type": "code",
   "metadata": {
    "cell_id": "cf84be12234a4df78a6b59d9b868fb01",
    "tags": [],
    "deepnote_to_be_reexecuted": false,
    "source_hash": "41a532a",
    "execution_start": 1659620327892,
    "execution_millis": 3,
    "deepnote_cell_type": "code",
    "deepnote_cell_height": 76
   },
   "source": "seq = \"GTGTCAGTCCCCATGAATCGATAG\"",
   "execution_count": 17,
   "outputs": []
  },
  {
   "cell_type": "code",
   "metadata": {
    "cell_id": "e3520802a9484c48aea71021847affb4",
    "tags": [],
    "deepnote_to_be_reexecuted": false,
    "source_hash": "3c7c441",
    "execution_start": 1659620329306,
    "execution_millis": 564,
    "deepnote_cell_type": "code",
    "deepnote_cell_height": 113.1875,
    "deepnote_output_heights": [
     21.1875
    ]
   },
   "source": "(seq.count(\"G\") + seq.count(\"C\")) / len(seq)",
   "execution_count": 18,
   "outputs": [
    {
     "output_type": "execute_result",
     "execution_count": 18,
     "data": {
      "text/plain": "0.5"
     },
     "metadata": {}
    }
   ]
  },
  {
   "cell_type": "markdown",
   "source": "---",
   "metadata": {
    "cell_id": "ceb32a1b5e26401c8b9b58fd5bf6955a",
    "tags": [],
    "deepnote_cell_type": "markdown",
    "deepnote_cell_height": 46
   }
  },
  {
   "cell_type": "markdown",
   "source": "## List\n\n`list` objects are created by placing elements inside square brackets `[]`, separated by commas:\n\n```\n>>> my_list = [1, 2, 3]\n```\n<br>\n\nThey can have any number of elements and they may be of different types (integer, float, string, etc.):\n```\n>>> my_list = [1, \"tow\", [\"another\", \"list\"]]\n```",
   "metadata": {
    "cell_id": "1cbf6aa1b56740bb982677b01ea1ad17",
    "tags": [],
    "deepnote_cell_type": "markdown",
    "deepnote_cell_height": 307.5625
   }
  },
  {
   "cell_type": "code",
   "source": "my_list = [1, 2., \"two\", \"strings\"]",
   "metadata": {
    "cell_id": "fe7a100edad0486db94dcbe608751dde",
    "tags": [],
    "deepnote_to_be_reexecuted": false,
    "source_hash": "e0a21e69",
    "execution_start": 1659620379013,
    "execution_millis": 1,
    "deepnote_cell_type": "code",
    "deepnote_cell_height": 76
   },
   "execution_count": 19,
   "outputs": []
  },
  {
   "cell_type": "code",
   "source": "len(my_list)",
   "metadata": {
    "cell_id": "f779a4aec4684dbc8e4d0c5fc70e7e26",
    "tags": [],
    "deepnote_to_be_reexecuted": false,
    "source_hash": "c224534c",
    "execution_start": 1659620380819,
    "execution_millis": 442,
    "deepnote_cell_type": "code",
    "deepnote_cell_height": 113.1875,
    "deepnote_output_heights": [
     21.1875
    ]
   },
   "execution_count": 20,
   "outputs": [
    {
     "output_type": "execute_result",
     "execution_count": 20,
     "data": {
      "text/plain": "4"
     },
     "metadata": {}
    }
   ]
  },
  {
   "cell_type": "code",
   "metadata": {
    "cell_id": "443ef61f5b6943999b44748e7d4cfe18",
    "tags": [],
    "deepnote_to_be_reexecuted": false,
    "source_hash": "be62d25",
    "execution_start": 1659620381367,
    "execution_millis": 21,
    "deepnote_cell_type": "code",
    "deepnote_cell_height": 113.1875,
    "deepnote_output_heights": [
     21.1875
    ]
   },
   "source": "type(my_list)",
   "execution_count": 21,
   "outputs": [
    {
     "output_type": "execute_result",
     "execution_count": 21,
     "data": {
      "text/plain": "list"
     },
     "metadata": {}
    }
   ]
  },
  {
   "cell_type": "markdown",
   "source": "## Tuple\n\n`tuple` objects are very similar to lists but they are created with parentheses `()`:\n```\n>>> my_tuple = (1, \"tow\", [\"another\", \"list\"])\n```\n<br>\n\nThere is another (important) difference between lists and tuples, but we'll get to that during the exercise ;-)",
   "metadata": {
    "cell_id": "029f5563ba8d455da0a3e94b36dd775c",
    "tags": [],
    "deepnote_cell_type": "markdown",
    "deepnote_cell_height": 230.375
   }
  },
  {
   "cell_type": "code",
   "metadata": {
    "cell_id": "0f1697193ccd49e08161ac7337553752",
    "tags": [],
    "deepnote_to_be_reexecuted": false,
    "source_hash": "56240078",
    "execution_start": 1659620400433,
    "execution_millis": 2,
    "deepnote_cell_type": "code",
    "deepnote_cell_height": 131.1875,
    "deepnote_output_heights": [
     21.1875
    ]
   },
   "source": "my_tuple = (1, 2, \"two\", \"str\")\ntype(my_tuple)",
   "execution_count": 22,
   "outputs": [
    {
     "output_type": "execute_result",
     "execution_count": 22,
     "data": {
      "text/plain": "tuple"
     },
     "metadata": {}
    }
   ]
  },
  {
   "cell_type": "markdown",
   "source": "### Exercise (quick)",
   "metadata": {
    "cell_id": "63792d4405294223bd7317384ef569f4",
    "tags": [],
    "deepnote_cell_type": "markdown",
    "deepnote_cell_height": 62
   }
  },
  {
   "cell_type": "markdown",
   "source": "1. Create a list object that contains numbers from 1 to 4.",
   "metadata": {
    "cell_id": "54aea47ca0e0407eb98bcb28c1ba32b9",
    "tags": [],
    "deepnote_cell_type": "markdown",
    "deepnote_cell_height": 69.390625
   }
  },
  {
   "cell_type": "code",
   "source": "my_list = [1, 2, 3, 4]\nmy_list",
   "metadata": {
    "cell_id": "70910066231f4f48870c87e9d5807012",
    "tags": [],
    "deepnote_to_be_reexecuted": false,
    "source_hash": "f4265511",
    "execution_start": 1659620414881,
    "execution_millis": 9,
    "deepnote_cell_type": "code",
    "deepnote_cell_height": 131.1875,
    "deepnote_output_heights": [
     21.1875
    ]
   },
   "execution_count": 23,
   "outputs": [
    {
     "output_type": "execute_result",
     "execution_count": 23,
     "data": {
      "text/plain": "[1, 2, 3, 4]"
     },
     "metadata": {}
    }
   ]
  },
  {
   "cell_type": "markdown",
   "source": "2. What methods does a list object have? Display all the methods.",
   "metadata": {
    "cell_id": "22d1fc61b218479aab7ecf45daf545be",
    "tags": [],
    "deepnote_cell_type": "markdown",
    "deepnote_cell_height": 69.390625
   }
  },
  {
   "cell_type": "code",
   "source": "dir(my_list)",
   "metadata": {
    "cell_id": "1a1b918ff009412896d9f28ce0b44cce",
    "tags": [],
    "deepnote_to_be_reexecuted": false,
    "source_hash": "ad83e3c8",
    "execution_start": 1659620424857,
    "execution_millis": 4,
    "deepnote_cell_type": "code",
    "deepnote_cell_height": 703,
    "deepnote_output_heights": [
     611
    ]
   },
   "execution_count": 24,
   "outputs": [
    {
     "output_type": "execute_result",
     "execution_count": 24,
     "data": {
      "text/plain": "['__add__',\n '__class__',\n '__class_getitem__',\n '__contains__',\n '__delattr__',\n '__delitem__',\n '__dir__',\n '__doc__',\n '__eq__',\n '__format__',\n '__ge__',\n '__getattribute__',\n '__getitem__',\n '__gt__',\n '__hash__',\n '__iadd__',\n '__imul__',\n '__init__',\n '__init_subclass__',\n '__iter__',\n '__le__',\n '__len__',\n '__lt__',\n '__mul__',\n '__ne__',\n '__new__',\n '__reduce__',\n '__reduce_ex__',\n '__repr__',\n '__reversed__',\n '__rmul__',\n '__setattr__',\n '__setitem__',\n '__sizeof__',\n '__str__',\n '__subclasshook__',\n 'append',\n 'clear',\n 'copy',\n 'count',\n 'extend',\n 'index',\n 'insert',\n 'pop',\n 'remove',\n 'reverse',\n 'sort']"
     },
     "metadata": {}
    }
   ]
  },
  {
   "cell_type": "markdown",
   "source": "3. Change the list to a tuple and save it as (create a variable called) `my_tuple`.",
   "metadata": {
    "cell_id": "f2e7daba37a04396aabf95e2b2064ea5",
    "tags": [],
    "deepnote_cell_type": "markdown",
    "deepnote_cell_height": 69.390625
   }
  },
  {
   "cell_type": "code",
   "source": "my_tuple = tuple(my_list)",
   "metadata": {
    "cell_id": "1d8df878be9a409c95dcf620ea1e6a97",
    "tags": [],
    "deepnote_to_be_reexecuted": false,
    "source_hash": "48bcf434",
    "execution_start": 1659620447791,
    "execution_millis": 4,
    "deepnote_cell_type": "code",
    "deepnote_cell_height": 76
   },
   "execution_count": 26,
   "outputs": []
  },
  {
   "cell_type": "code",
   "metadata": {
    "cell_id": "ef187f89ce1f42c4be79ad910f429c26",
    "tags": [],
    "deepnote_to_be_reexecuted": false,
    "source_hash": "9e55246",
    "execution_start": 1659620449417,
    "execution_millis": 6,
    "deepnote_cell_type": "code",
    "deepnote_cell_height": 113.1875,
    "deepnote_output_heights": [
     21.1875
    ]
   },
   "source": "my_tuple",
   "execution_count": 27,
   "outputs": [
    {
     "output_type": "execute_result",
     "execution_count": 27,
     "data": {
      "text/plain": "(1, 2, 3, 4)"
     },
     "metadata": {}
    }
   ]
  },
  {
   "cell_type": "markdown",
   "source": "4. What is the sum of all the elements in `my_tuple`?",
   "metadata": {
    "cell_id": "f5ae70413ad54cecb8767f3a364260f3",
    "tags": [],
    "deepnote_cell_type": "markdown",
    "deepnote_cell_height": 69.390625
   }
  },
  {
   "cell_type": "code",
   "metadata": {
    "cell_id": "1303fcc5397f4655b00b70a8e4d39f85",
    "tags": [],
    "deepnote_to_be_reexecuted": false,
    "source_hash": "a2ee6b7",
    "execution_start": 1659620453825,
    "execution_millis": 1,
    "deepnote_cell_type": "code",
    "deepnote_cell_height": 113.1875,
    "deepnote_output_heights": [
     21.1875
    ]
   },
   "source": "sum(my_tuple)",
   "execution_count": 28,
   "outputs": [
    {
     "output_type": "execute_result",
     "execution_count": 28,
     "data": {
      "text/plain": "10"
     },
     "metadata": {}
    }
   ]
  },
  {
   "cell_type": "markdown",
   "source": "5. What is the mean values of `my_tuple`?",
   "metadata": {
    "cell_id": "1ae4901903c045899aa6adfb1d94d806",
    "tags": [],
    "deepnote_cell_type": "markdown",
    "deepnote_cell_height": 69.390625
   }
  },
  {
   "cell_type": "code",
   "metadata": {
    "cell_id": "d6a11c16e3884f6f9dc253b0524885cc",
    "tags": [],
    "deepnote_to_be_reexecuted": false,
    "source_hash": "4427f38e",
    "execution_start": 1659620458809,
    "execution_millis": 250,
    "deepnote_cell_type": "code",
    "deepnote_cell_height": 113.1875,
    "deepnote_output_heights": [
     21.1875
    ]
   },
   "source": "sum(my_tuple) / len(my_tuple)",
   "execution_count": 29,
   "outputs": [
    {
     "output_type": "execute_result",
     "execution_count": 29,
     "data": {
      "text/plain": "2.5"
     },
     "metadata": {}
    }
   ]
  },
  {
   "cell_type": "markdown",
   "source": "---",
   "metadata": {
    "cell_id": "904c303b348f45c3b468cddef0127cb3",
    "tags": [],
    "deepnote_cell_type": "markdown",
    "deepnote_cell_height": 46
   }
  },
  {
   "cell_type": "markdown",
   "source": "## Extracting Data From a Collection: Indexing and Slicing\n\n**Indexing**: Data can be indexed/queried/extracted from collections using the square brackets: `[ ]`\n\nIn sequences, putting a number inside the the brackets extracts the nth (counting from zero) value.\n```python\n>>> (1, 2, 3)[1]\n2\n\n>>> (1, 2, 3)[0]\n1\n```\n<br>\n\nNegative indices can be used to index the data from the end (last element's index being `-1`)\n```\n>>> (1, 2, 3)[-1]\n3\n```\n<br>\n\n**Slicing**: You can \"slice\" a sequence (get all elements from one index to another index) using the colon `[:]`\n```python\n>>> (10, 20, 30, 40, 50, 60)[1:3]\n(20, 30)\n\n>>> (10, 20, 30, 40, 50, 60)[:3]\n(10, 20, 30)\n\n>>> (10, 20, 30, 40, 50, 60)[3:]\n(40, 50, 60)\n\n>>> (10, 20, 30, 40, 50, 60)[1:6:2]  # takes every second element\n(20, 40, 60)\n```\n\n![Duplicate Button](./imgs/indexing.png)\n",
   "metadata": {
    "cell_id": "89893193bf3748079c3bcf79a761c46e",
    "tags": [],
    "deepnote_cell_type": "markdown",
    "deepnote_cell_height": 1197.46875
   }
  },
  {
   "cell_type": "markdown",
   "source": "### Exercise",
   "metadata": {
    "cell_id": "2cbe9257aae8408a9c234a80d098a116",
    "tags": [],
    "deepnote_cell_type": "markdown",
    "deepnote_cell_height": 62
   }
  },
  {
   "cell_type": "markdown",
   "source": "1. Display the methods of this list object.",
   "metadata": {
    "cell_id": "91278da53bd5446fae138e98ba67d4a2",
    "tags": [],
    "deepnote_cell_type": "markdown",
    "deepnote_cell_height": 69.390625
   }
  },
  {
   "cell_type": "code",
   "metadata": {
    "cell_id": "d25d5c554c1344a2b066e4007ce54fcf",
    "tags": [],
    "deepnote_to_be_reexecuted": false,
    "source_hash": "6ecaab2c",
    "execution_start": 1659620639841,
    "execution_millis": 1,
    "deepnote_cell_type": "code",
    "deepnote_cell_height": 76
   },
   "source": "letters = ['a', 'c', 'd', 'e']",
   "execution_count": 30,
   "outputs": []
  },
  {
   "cell_type": "code",
   "source": "dir(letters)",
   "metadata": {
    "cell_id": "9f6ebea577a54f4fac1fb873c0e0aa97",
    "tags": [],
    "deepnote_to_be_reexecuted": false,
    "source_hash": "3e64dda8",
    "execution_start": 1659620643491,
    "execution_millis": 13,
    "deepnote_cell_type": "code",
    "deepnote_cell_height": 703,
    "deepnote_output_heights": [
     611
    ]
   },
   "execution_count": 31,
   "outputs": [
    {
     "output_type": "execute_result",
     "execution_count": 31,
     "data": {
      "text/plain": "['__add__',\n '__class__',\n '__class_getitem__',\n '__contains__',\n '__delattr__',\n '__delitem__',\n '__dir__',\n '__doc__',\n '__eq__',\n '__format__',\n '__ge__',\n '__getattribute__',\n '__getitem__',\n '__gt__',\n '__hash__',\n '__iadd__',\n '__imul__',\n '__init__',\n '__init_subclass__',\n '__iter__',\n '__le__',\n '__len__',\n '__lt__',\n '__mul__',\n '__ne__',\n '__new__',\n '__reduce__',\n '__reduce_ex__',\n '__repr__',\n '__reversed__',\n '__rmul__',\n '__setattr__',\n '__setitem__',\n '__sizeof__',\n '__str__',\n '__subclasshook__',\n 'append',\n 'clear',\n 'copy',\n 'count',\n 'extend',\n 'index',\n 'insert',\n 'pop',\n 'remove',\n 'reverse',\n 'sort']"
     },
     "metadata": {}
    }
   ]
  },
  {
   "cell_type": "markdown",
   "source": "2. How many items does the `letters` (from previous exercise) list have? Use a Python built-in function to display the length of the list.",
   "metadata": {
    "cell_id": "dc8e945bd1434ea998f88d4b07b62f12",
    "tags": [],
    "deepnote_cell_type": "markdown",
    "deepnote_cell_height": 91.78125
   }
  },
  {
   "cell_type": "code",
   "source": "len(letters)",
   "metadata": {
    "cell_id": "a0cf8c5b4c7043ad8a1c08dc5ae72310",
    "tags": [],
    "deepnote_to_be_reexecuted": false,
    "source_hash": "8db9d213",
    "execution_start": 1659620683594,
    "execution_millis": 22,
    "deepnote_cell_type": "code",
    "deepnote_cell_height": 113.1875,
    "deepnote_output_heights": [
     21.1875
    ]
   },
   "execution_count": 32,
   "outputs": [
    {
     "output_type": "execute_result",
     "execution_count": 32,
     "data": {
      "text/plain": "4"
     },
     "metadata": {}
    }
   ]
  },
  {
   "cell_type": "markdown",
   "source": "3. Reverse the order of the elements in the `letters` list.",
   "metadata": {
    "cell_id": "1e8a3347f71646d888803a198fce31c7",
    "tags": [],
    "deepnote_cell_type": "markdown",
    "deepnote_cell_height": 69.390625
   }
  },
  {
   "cell_type": "code",
   "source": "letters[::-1]",
   "metadata": {
    "cell_id": "8842ce4ff91544b0ae74212ee97d01ba",
    "tags": [],
    "deepnote_to_be_reexecuted": false,
    "source_hash": "8439e67a",
    "execution_start": 1659620715424,
    "execution_millis": 1,
    "deepnote_cell_type": "code",
    "deepnote_cell_height": 113.1875,
    "deepnote_output_heights": [
     21.1875
    ]
   },
   "execution_count": 37,
   "outputs": [
    {
     "output_type": "execute_result",
     "execution_count": 37,
     "data": {
      "text/plain": "['e', 'd', 'c', 'a']"
     },
     "metadata": {}
    }
   ]
  },
  {
   "cell_type": "markdown",
   "source": "4. Add `\"f\"` at the end of the `letters` list. Hint: list object has a method for this.",
   "metadata": {
    "cell_id": "e9e891c1d84d46e09a7e12e36bcc9486",
    "tags": [],
    "deepnote_cell_type": "markdown",
    "deepnote_cell_height": 69.390625
   }
  },
  {
   "cell_type": "code",
   "metadata": {
    "cell_id": "4b2a5ac2b88440ef857e0165cbb38851",
    "tags": [],
    "deepnote_to_be_reexecuted": false,
    "source_hash": "6ecaab2c",
    "execution_start": 1659620729173,
    "execution_millis": 1,
    "deepnote_cell_type": "code",
    "deepnote_cell_height": 76
   },
   "source": "letters = ['a', 'c', 'd', 'e']",
   "execution_count": 39,
   "outputs": []
  },
  {
   "cell_type": "code",
   "metadata": {
    "cell_id": "6caee893f7004d8c9572dc43578a8dce",
    "tags": [],
    "deepnote_to_be_reexecuted": false,
    "source_hash": "8b29017a",
    "execution_start": 1659620729271,
    "execution_millis": 4,
    "deepnote_cell_type": "code",
    "deepnote_cell_height": 76
   },
   "source": "letters.append(\"f\")",
   "execution_count": 40,
   "outputs": []
  },
  {
   "cell_type": "code",
   "metadata": {
    "cell_id": "68b26c44e31f48e0aa22bd0a085a33ff",
    "tags": [],
    "deepnote_to_be_reexecuted": false,
    "source_hash": "8b049d0e",
    "execution_start": 1659620729594,
    "execution_millis": 1854,
    "deepnote_cell_type": "code",
    "deepnote_cell_height": 113.1875,
    "deepnote_output_heights": [
     21.1875
    ]
   },
   "source": "letters",
   "execution_count": 41,
   "outputs": [
    {
     "output_type": "execute_result",
     "execution_count": 41,
     "data": {
      "text/plain": "['a', 'c', 'd', 'e', 'f']"
     },
     "metadata": {}
    }
   ]
  },
  {
   "cell_type": "markdown",
   "source": "5. Insert `\"b\"` at the second position (after `\"a\"`) of the `letters` list.",
   "metadata": {
    "cell_id": "28db73e1acae4709a788e45353afc99a",
    "tags": [],
    "deepnote_cell_type": "markdown",
    "deepnote_cell_height": 69.390625
   }
  },
  {
   "cell_type": "code",
   "metadata": {
    "cell_id": "2f5286f5b24548cdad0e9e784770682a",
    "tags": [],
    "deepnote_to_be_reexecuted": false,
    "source_hash": "1c4f3427",
    "execution_start": 1659620735170,
    "execution_millis": 5,
    "deepnote_cell_type": "code",
    "deepnote_cell_height": 76
   },
   "source": "letters.insert(1, \"b\")",
   "execution_count": 42,
   "outputs": []
  },
  {
   "cell_type": "code",
   "metadata": {
    "cell_id": "c51bafd190ca4605a3b26bf73078af24",
    "tags": [],
    "deepnote_to_be_reexecuted": false,
    "source_hash": "8b049d0e",
    "execution_start": 1659620735539,
    "execution_millis": 100,
    "deepnote_cell_type": "code",
    "deepnote_cell_height": 113.1875,
    "deepnote_output_heights": [
     21.1875
    ]
   },
   "source": "letters",
   "execution_count": 43,
   "outputs": [
    {
     "output_type": "execute_result",
     "execution_count": 43,
     "data": {
      "text/plain": "['a', 'b', 'c', 'd', 'e', 'f']"
     },
     "metadata": {}
    }
   ]
  },
  {
   "cell_type": "markdown",
   "source": "6. Create a tuple from the letters list and call it `letters_tuple`.",
   "metadata": {
    "cell_id": "a14476e849304ca5b0e43686322fd883",
    "tags": [],
    "deepnote_cell_type": "markdown",
    "deepnote_cell_height": 69.390625
   }
  },
  {
   "cell_type": "code",
   "metadata": {
    "cell_id": "35fb113e027a464a822327beb5b44518",
    "tags": [],
    "deepnote_to_be_reexecuted": false,
    "source_hash": "3b21c3e0",
    "execution_start": 1659620739329,
    "execution_millis": 10,
    "deepnote_cell_type": "code",
    "deepnote_cell_height": 131.1875,
    "deepnote_output_heights": [
     21.1875
    ]
   },
   "source": "letters_tuple = tuple(letters)\nletters_tuple",
   "execution_count": 44,
   "outputs": [
    {
     "output_type": "execute_result",
     "execution_count": 44,
     "data": {
      "text/plain": "('a', 'b', 'c', 'd', 'e', 'f')"
     },
     "metadata": {}
    }
   ]
  },
  {
   "cell_type": "markdown",
   "source": "7. Change \"f\" into \"z\" in both `letters` list and `letters_tuple` tuple. ",
   "metadata": {
    "cell_id": "aa482ba4cb694db3a68f1e6d0c59656e",
    "tags": [],
    "deepnote_cell_type": "markdown",
    "deepnote_cell_height": 69.390625
   }
  },
  {
   "cell_type": "code",
   "metadata": {
    "cell_id": "2984ef1cedc14359b1f30d89960c2eed",
    "tags": [],
    "deepnote_to_be_reexecuted": false,
    "source_hash": "d18bac11",
    "execution_start": 1659620744717,
    "execution_millis": 3,
    "deepnote_cell_type": "code",
    "deepnote_cell_height": 76
   },
   "source": "letters[-1] = \"z\"",
   "execution_count": 45,
   "outputs": []
  },
  {
   "cell_type": "code",
   "metadata": {
    "cell_id": "d08f12731f1647b59066c69b232250eb",
    "tags": [],
    "deepnote_to_be_reexecuted": false,
    "source_hash": "8b049d0e",
    "execution_start": 1659620745836,
    "execution_millis": 7,
    "deepnote_cell_type": "code",
    "deepnote_cell_height": 113.1875,
    "deepnote_output_heights": [
     21.1875
    ]
   },
   "source": "letters",
   "execution_count": 46,
   "outputs": [
    {
     "output_type": "execute_result",
     "execution_count": 46,
     "data": {
      "text/plain": "['a', 'b', 'c', 'd', 'e', 'z']"
     },
     "metadata": {}
    }
   ]
  },
  {
   "cell_type": "code",
   "metadata": {
    "cell_id": "20f6339defea4ea494e620264a005109",
    "tags": [],
    "deepnote_to_be_reexecuted": false,
    "source_hash": "f2c0571b",
    "execution_start": 1659620747886,
    "execution_millis": 598,
    "deepnote_cell_type": "code",
    "deepnote_cell_height": 139.1875
   },
   "source": "letters_tuple[-1] = \"z\"",
   "execution_count": 47,
   "outputs": [
    {
     "output_type": "error",
     "ename": "TypeError",
     "evalue": "'tuple' object does not support item assignment",
     "traceback": [
      "\u001b[0;31m---------------------------------------------------------------------------\u001b[0m",
      "\u001b[0;31mTypeError\u001b[0m                                 Traceback (most recent call last)",
      "\u001b[0;32m<ipython-input-47-43ff8c8344bf>\u001b[0m in \u001b[0;36m<cell line: 1>\u001b[0;34m()\u001b[0m\n\u001b[0;32m----> 1\u001b[0;31m \u001b[0mletters_tuple\u001b[0m\u001b[0;34m[\u001b[0m\u001b[0;34m-\u001b[0m\u001b[0;36m1\u001b[0m\u001b[0;34m]\u001b[0m \u001b[0;34m=\u001b[0m \u001b[0;34m\"z\"\u001b[0m\u001b[0;34m\u001b[0m\u001b[0;34m\u001b[0m\u001b[0m\n\u001b[0m",
      "\u001b[0;31mTypeError\u001b[0m: 'tuple' object does not support item assignment"
     ]
    }
   ]
  },
  {
   "cell_type": "markdown",
   "source": "8. Make a list of only the first codon (the first 3 nucleotides) in each sequence.",
   "metadata": {
    "cell_id": "375cbe9d9e0f42e29d9bfdde82aad404",
    "tags": [],
    "deepnote_cell_type": "markdown",
    "deepnote_cell_height": 69.390625
   }
  },
  {
   "cell_type": "code",
   "metadata": {
    "cell_id": "57a1a596041442e7b013dda527ee26a9",
    "tags": [],
    "deepnote_to_be_reexecuted": false,
    "source_hash": "8efe34bd",
    "execution_start": 1659620757455,
    "execution_millis": 0,
    "deepnote_cell_type": "code",
    "deepnote_cell_height": 76
   },
   "source": "seqs = ['GGTATTA', 'GGCCAG', 'CCAGGATTAG']",
   "execution_count": 48,
   "outputs": []
  },
  {
   "cell_type": "code",
   "metadata": {
    "cell_id": "5a1379aabf244636ad1637da15fd3d4b",
    "tags": [],
    "deepnote_to_be_reexecuted": false,
    "source_hash": "e82e7ef6",
    "execution_start": 1659620757845,
    "execution_millis": 161,
    "deepnote_cell_type": "code",
    "deepnote_cell_height": 113.1875,
    "deepnote_output_heights": [
     21.1875
    ]
   },
   "source": "[seqs[0][:3], seqs[1][:3], seqs[2][:3]]",
   "execution_count": 49,
   "outputs": [
    {
     "output_type": "execute_result",
     "execution_count": 49,
     "data": {
      "text/plain": "['GGT', 'GGC', 'CCA']"
     },
     "metadata": {}
    }
   ]
  },
  {
   "cell_type": "markdown",
   "source": "",
   "metadata": {
    "cell_id": "d60a3f4ba66249159699d2ca15ed5412",
    "tags": [],
    "deepnote_cell_type": "markdown",
    "deepnote_cell_height": 46
   }
  },
  {
   "cell_type": "markdown",
   "source": "### Further Reading\n\n[Here's a nice article](https://towardsdatascience.com/the-basics-of-indexing-and-slicing-python-lists-2d12c90a94cf) that reviews indexing and slicing.",
   "metadata": {
    "cell_id": "f14adbc819224e47b11af99f74c3505b",
    "tags": [],
    "deepnote_cell_type": "markdown",
    "deepnote_cell_height": 100.390625
   }
  },
  {
   "cell_type": "markdown",
   "source": "",
   "metadata": {
    "cell_id": "3c6f73d7d3914f148d3bce71ab6bcb85",
    "tags": [],
    "deepnote_cell_type": "markdown",
    "deepnote_cell_height": 46
   }
  },
  {
   "cell_type": "markdown",
   "source": "<a style='text-decoration:none;line-height:16px;display:flex;color:#5B5B62;padding:10px;justify-content:end;' href='https://deepnote.com?utm_source=created-in-deepnote-cell&projectId=f12bb307-0323-41b8-b58a-a3dc423d7ca4' target=\"_blank\">\n<img alt='Created in deepnote.com' style='display:inline;max-height:16px;margin:0px;margin-right:7.5px;' src='data:image/svg+xml;base64,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' > </img>\nCreated in <span style='font-weight:600;margin-left:4px;'>Deepnote</span></a>",
   "metadata": {
    "tags": [],
    "created_in_deepnote_cell": true,
    "deepnote_cell_type": "markdown"
   }
  }
 ],
 "nbformat": 4,
 "nbformat_minor": 2,
 "metadata": {
  "orig_nbformat": 2,
  "deepnote": {},
  "deepnote_notebook_id": "548cb347-f814-4964-a948-ba631ddc3663",
  "deepnote_execution_queue": []
 }
}