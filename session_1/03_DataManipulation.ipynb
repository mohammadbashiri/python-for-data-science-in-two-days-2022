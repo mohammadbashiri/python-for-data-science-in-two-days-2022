{
 "cells": [
  {
   "cell_type": "markdown",
   "source": "# Data manipulation in Python\n\nIn real-world projects, once we get our hands on a dataset, we usually want to perform some of the following steps on the data:\n- **Inspect the data** to get an understaning of the number of datapoints, summary statistics, missing values, etc.\n- **Transform the data** to prepare it for down stream analysis \n- **Export/save the data** to keep the final version or to share it with someone else\n\n**Numpy** is a Python package that provides many **functions** exactly for this purpose. These functions operate on an object called **array**, which also can be defined using the Numpy library.\n\n![Duplicate Button](./imgs/numpy_diagram.png)",
   "metadata": {
    "cell_id": "5055c71adeed46d581c57f33e867bf03",
    "tags": [],
    "deepnote_cell_type": "markdown",
    "deepnote_cell_height": 1182.546875
   }
  },
  {
   "cell_type": "markdown",
   "source": "#### But.. why do we need arrays when we have lists?",
   "metadata": {
    "cell_id": "2eb4b591171c41d08a7158d51b323d99",
    "tags": [],
    "deepnote_cell_type": "markdown",
    "deepnote_cell_height": 54
   }
  },
  {
   "cell_type": "code",
   "metadata": {
    "cell_id": "f4fdc12e98db4ee6bdb721b6ceacc0c3",
    "tags": [],
    "deepnote_to_be_reexecuted": false,
    "source_hash": "8abc269a",
    "execution_start": 1659620893677,
    "execution_millis": 519,
    "deepnote_cell_type": "code",
    "deepnote_cell_height": 157.1875
   },
   "source": "a_list = [1, 2, 3, 4]\na_list + 2",
   "execution_count": 1,
   "outputs": [
    {
     "output_type": "error",
     "ename": "TypeError",
     "evalue": "can only concatenate list (not \"int\") to list",
     "traceback": [
      "\u001b[0;31m---------------------------------------------------------------------------\u001b[0m",
      "\u001b[0;31mTypeError\u001b[0m                                 Traceback (most recent call last)",
      "\u001b[0;32m<ipython-input-1-f0850d64d959>\u001b[0m in \u001b[0;36m<cell line: 2>\u001b[0;34m()\u001b[0m\n\u001b[1;32m      1\u001b[0m \u001b[0ma_list\u001b[0m \u001b[0;34m=\u001b[0m \u001b[0;34m[\u001b[0m\u001b[0;36m1\u001b[0m\u001b[0;34m,\u001b[0m \u001b[0;36m2\u001b[0m\u001b[0;34m,\u001b[0m \u001b[0;36m3\u001b[0m\u001b[0;34m,\u001b[0m \u001b[0;36m4\u001b[0m\u001b[0;34m]\u001b[0m\u001b[0;34m\u001b[0m\u001b[0;34m\u001b[0m\u001b[0m\n\u001b[0;32m----> 2\u001b[0;31m \u001b[0ma_list\u001b[0m \u001b[0;34m+\u001b[0m \u001b[0;36m2\u001b[0m\u001b[0;34m\u001b[0m\u001b[0;34m\u001b[0m\u001b[0m\n\u001b[0m",
      "\u001b[0;31mTypeError\u001b[0m: can only concatenate list (not \"int\") to list"
     ]
    }
   ]
  },
  {
   "cell_type": "markdown",
   "source": "Now let's do the same thing with numpy:\n- import the numpy library\n- create a numpy array\n- try incrementing each element by 2",
   "metadata": {
    "cell_id": "22a1b8ed34e04c28b8c6e0e1f8fb7d56",
    "tags": [],
    "deepnote_cell_type": "markdown",
    "deepnote_cell_height": 153.578125
   }
  },
  {
   "cell_type": "code",
   "source": "import numpy as np\n\nmy_arr = np.array([1, 2, 3, 4]) # some explanation\nmy_arr",
   "metadata": {
    "cell_id": "d1fe1229e9b042eb9d6cfa6f504923f5",
    "tags": [],
    "deepnote_to_be_reexecuted": false,
    "source_hash": "3a2e2665",
    "execution_start": 1659620918046,
    "execution_millis": 7,
    "deepnote_cell_type": "code",
    "deepnote_cell_height": 167.1875,
    "deepnote_output_heights": [
     21.1875
    ]
   },
   "execution_count": 2,
   "outputs": [
    {
     "output_type": "execute_result",
     "execution_count": 2,
     "data": {
      "text/plain": "array([1, 2, 3, 4])"
     },
     "metadata": {}
    }
   ]
  },
  {
   "cell_type": "code",
   "metadata": {
    "cell_id": "ead46f5c8c744c8f976f749a6ffde846",
    "tags": [],
    "deepnote_to_be_reexecuted": false,
    "source_hash": "7b9a5d15",
    "execution_start": 1659620919353,
    "execution_millis": 172,
    "deepnote_cell_type": "code",
    "deepnote_cell_height": 113.1875,
    "deepnote_output_heights": [
     21.1875
    ]
   },
   "source": "my_arr + 2",
   "execution_count": 3,
   "outputs": [
    {
     "output_type": "execute_result",
     "execution_count": 3,
     "data": {
      "text/plain": "array([3, 4, 5, 6])"
     },
     "metadata": {}
    }
   ]
  },
  {
   "cell_type": "markdown",
   "source": "## Arrays in Numpy\n\n**array** objects are yet another data collection type, provided by the **Numpy** library, that are designed to work with (mostly) numerical data. Arrays are very similar to lists, with one exception:\n  - **all elements in the array must be of the same data type (e.g. int, float, bool)**\n  \nDespite that limitation, arrays are extremely useful for data analysis, and we'll be taking advantage of its many features throughout the course.  So let's start by learning how to easily generate different patterns of data with arrays!",
   "metadata": {
    "cell_id": "7020c7cc9568440ab9fb063e2f13ccf8",
    "tags": [],
    "deepnote_cell_type": "markdown",
    "deepnote_cell_height": 270.765625
   }
  },
  {
   "cell_type": "markdown",
   "source": "### Building Arrays\n\nLet's generate some arrays using Numpy functions!  Some commonly-used functions are **arange()**, **linspace()**, **zeros()**, and the random number generation functions in **random** sub-module.\n\n| function | Purpose |  Example |\n| :-----------: | :-------------: | :-------------: |\n| **np.array()**  | Turns a list into an array |   np.array([2, 5, 3]) |\n| **np.arange()**                  | Makes an array with all the integers between two values | np.arange(2, 7) |\n| **np.linspace()**               | Makes a specific-length array |  np.linspace(2, 3, 10) |\n| **np.zeros()**                    | Makes an array of all zeros | np.zeros(5) |\n| **np.ones()**                     | Makes an array of all ones | np.ones(3) |\n| **np.random.random()** | Makes an array of random numbers | np.random.random(100) |\n| **np.random.randn()**     | Makes an array of normally-distributed random numbers | np.random.randn(100) |\n",
   "metadata": {
    "cell_id": "4f084705ac3a4912ae1aa821434a0159",
    "tags": [],
    "deepnote_cell_type": "markdown",
    "deepnote_cell_height": 399.140625
   }
  },
  {
   "cell_type": "markdown",
   "source": "### Exercise\n\nSolve the following exercises using the functions provided by the numpy package.",
   "metadata": {
    "cell_id": "815fa9eed2b34c63add025cb706da644",
    "tags": [],
    "deepnote_cell_type": "markdown",
    "deepnote_cell_height": 100.390625
   }
  },
  {
   "cell_type": "markdown",
   "source": "1. Import the numpy package and called it `np` so we can use `np.` to access its methods later on.",
   "metadata": {
    "cell_id": "c3a256b55b724b0a9da258bc04d4ea59",
    "tags": [],
    "deepnote_cell_type": "markdown",
    "deepnote_cell_height": 91.78125
   }
  },
  {
   "cell_type": "code",
   "metadata": {
    "cell_id": "2bc1cb745a334f72ba7b123e0dd3e950",
    "tags": [],
    "deepnote_to_be_reexecuted": false,
    "source_hash": "c2602aa8",
    "execution_start": 1659621053705,
    "execution_millis": 1,
    "deepnote_cell_type": "code",
    "deepnote_cell_height": 76
   },
   "source": "import numpy as np",
   "execution_count": 4,
   "outputs": []
  },
  {
   "cell_type": "markdown",
   "source": "2. Make an array from the following list.",
   "metadata": {
    "cell_id": "dccadc47027b4665aeb08398b81d66ee",
    "tags": [],
    "deepnote_cell_type": "markdown",
    "deepnote_cell_height": 69.390625
   }
  },
  {
   "cell_type": "code",
   "metadata": {
    "cell_id": "352f630e5130432abb6d0e2579723e08",
    "tags": [],
    "deepnote_to_be_reexecuted": false,
    "source_hash": "95988778",
    "execution_start": 1659621060333,
    "execution_millis": 1,
    "deepnote_cell_type": "code",
    "deepnote_cell_height": 76
   },
   "source": "my_list = [1, 2, 3, 4]",
   "execution_count": 5,
   "outputs": []
  },
  {
   "cell_type": "code",
   "metadata": {
    "cell_id": "b31528edcec34fff96be03c4727f5657",
    "tags": [],
    "deepnote_to_be_reexecuted": false,
    "source_hash": "1772d0c9",
    "execution_start": 1659621061480,
    "execution_millis": 4,
    "deepnote_cell_type": "code",
    "deepnote_cell_height": 113.1875,
    "deepnote_output_heights": [
     21.1875
    ]
   },
   "source": "np.array(my_list)",
   "execution_count": 6,
   "outputs": [
    {
     "output_type": "execute_result",
     "execution_count": 6,
     "data": {
      "text/plain": "array([1, 2, 3, 4])"
     },
     "metadata": {}
    }
   ]
  },
  {
   "cell_type": "markdown",
   "source": "3. Make an array containing the integers from 1 to 15.",
   "metadata": {
    "cell_id": "6f461c4683dd4eb596aea97ff5e268ff",
    "tags": [],
    "deepnote_cell_type": "markdown",
    "deepnote_cell_height": 69.390625
   }
  },
  {
   "cell_type": "code",
   "metadata": {
    "cell_id": "49b17943d3f743f6afd58643ad0c7236",
    "tags": [],
    "deepnote_to_be_reexecuted": false,
    "source_hash": "9bc65bac",
    "execution_start": 1659621073095,
    "execution_millis": 729,
    "deepnote_cell_type": "code",
    "deepnote_cell_height": 113.1875,
    "deepnote_output_heights": [
     21.1875
    ]
   },
   "source": "np.arange(1, 16)",
   "execution_count": 7,
   "outputs": [
    {
     "output_type": "execute_result",
     "execution_count": 7,
     "data": {
      "text/plain": "array([ 1,  2,  3,  4,  5,  6,  7,  8,  9, 10, 11, 12, 13, 14, 15])"
     },
     "metadata": {}
    }
   ]
  },
  {
   "cell_type": "markdown",
   "source": "4. Make an array of only 6 numbers starting from 1 and ending at 10, with evenly-spaced elements.",
   "metadata": {
    "cell_id": "d49d58406a444f53b96a7ac861b3335c",
    "tags": [],
    "deepnote_cell_type": "markdown",
    "deepnote_cell_height": 91.78125
   }
  },
  {
   "cell_type": "code",
   "metadata": {
    "cell_id": "482868860c564fd4a3f68f4fc95ab3f6",
    "tags": [],
    "deepnote_to_be_reexecuted": false,
    "source_hash": "6f0d243f",
    "execution_start": 1659621112979,
    "execution_millis": 672,
    "deepnote_cell_type": "code",
    "deepnote_cell_height": 113.1875,
    "deepnote_output_heights": [
     21.1875
    ]
   },
   "source": "np.linspace(1, 10, 6)",
   "execution_count": 8,
   "outputs": [
    {
     "output_type": "execute_result",
     "execution_count": 8,
     "data": {
      "text/plain": "array([ 1. ,  2.8,  4.6,  6.4,  8.2, 10. ])"
     },
     "metadata": {}
    }
   ]
  },
  {
   "cell_type": "markdown",
   "source": "5. Make an array of the values from 2 and 6, spaced 0.5 from each other.",
   "metadata": {
    "cell_id": "2fc6578802c644e4af91da00fafa8c94",
    "tags": [],
    "deepnote_cell_type": "markdown",
    "deepnote_cell_height": 69.390625
   }
  },
  {
   "cell_type": "code",
   "metadata": {
    "cell_id": "782b5d58fac943b885f17e7389aaaa49",
    "tags": [],
    "deepnote_to_be_reexecuted": false,
    "source_hash": "4bdad14d",
    "execution_start": 1659621119605,
    "execution_millis": 1,
    "deepnote_cell_type": "code",
    "deepnote_cell_height": 113.1875,
    "deepnote_output_heights": [
     21.1875
    ]
   },
   "source": "np.arange(2, 6, .5)",
   "execution_count": 9,
   "outputs": [
    {
     "output_type": "execute_result",
     "execution_count": 9,
     "data": {
      "text/plain": "array([2. , 2.5, 3. , 3.5, 4. , 4.5, 5. , 5.5])"
     },
     "metadata": {}
    }
   ]
  },
  {
   "cell_type": "markdown",
   "source": "6. Make an array containing 20 zeros.",
   "metadata": {
    "cell_id": "69875a483fce482ba8c64c5c43d56319",
    "tags": [],
    "deepnote_cell_type": "markdown",
    "deepnote_cell_height": 69.390625
   }
  },
  {
   "cell_type": "code",
   "source": "np.zeros(20)",
   "metadata": {
    "cell_id": "5020d82de6594b2ba8ba8756544d6e17",
    "tags": [],
    "deepnote_to_be_reexecuted": false,
    "source_hash": "c8bae2ec",
    "execution_start": 1659621131454,
    "execution_millis": 1,
    "deepnote_cell_type": "code",
    "deepnote_cell_height": 132.375,
    "deepnote_output_heights": [
     40.390625
    ]
   },
   "execution_count": 10,
   "outputs": [
    {
     "output_type": "execute_result",
     "execution_count": 10,
     "data": {
      "text/plain": "array([0., 0., 0., 0., 0., 0., 0., 0., 0., 0., 0., 0., 0., 0., 0., 0., 0.,\n       0., 0., 0.])"
     },
     "metadata": {}
    }
   ]
  },
  {
   "cell_type": "markdown",
   "source": "7. Generate an array of 10 **uniformly-distributed** random numbers.",
   "metadata": {
    "cell_id": "ccf5a1bee9424d50908f8a7160e0f3f4",
    "tags": [],
    "deepnote_cell_type": "markdown",
    "deepnote_cell_height": 69.390625
   }
  },
  {
   "cell_type": "code",
   "source": "np.random.rand(10)",
   "metadata": {
    "cell_id": "32ecb5b67a414d8e96e7b2306bd6ac42",
    "tags": [],
    "deepnote_to_be_reexecuted": false,
    "source_hash": "a279ec0f",
    "execution_start": 1659621143529,
    "execution_millis": 0,
    "deepnote_cell_type": "code",
    "deepnote_cell_height": 132.375,
    "deepnote_output_heights": [
     40.390625
    ]
   },
   "execution_count": 11,
   "outputs": [
    {
     "output_type": "execute_result",
     "execution_count": 11,
     "data": {
      "text/plain": "array([0.20535792, 0.96784474, 0.73312936, 0.38704906, 0.08971233,\n       0.93373462, 0.70065325, 0.58807924, 0.85387331, 0.64360375])"
     },
     "metadata": {}
    }
   ]
  },
  {
   "cell_type": "markdown",
   "source": "### From vectors to matrices\n\nNumpy arrays are quite flexible. You can define an array that:\n- contains a single value: `np.array(4)`\n- contains many values in the form of a *vector*: `np.array([1, 2, 3, 4])`\n- contains many values in the form of a *matrix*: \n    ```\n    np.array([[1, 2], \n              [3, 4]])\n    ```\n<br>\n\nThese definitions results in arrays that have different number of *dimensions*. For instance a vector is a 1-dimensional array and a matrix is a 2-dimensional array. \n\nSo far we practiced creating a 1-d array, but how do we create a 2-d array? Well, a 1-d array was a list, and a 2-d array is a list of lists.\n\nLet's create some 2-d arrays.",
   "metadata": {
    "cell_id": "88842fc40b5846fda80eede69c6ad8fc",
    "tags": [],
    "deepnote_cell_type": "markdown",
    "deepnote_cell_height": 425.53125
   }
  },
  {
   "cell_type": "code",
   "metadata": {
    "cell_id": "e03342d9299c4c1597472f2b87e76ff9",
    "tags": [],
    "deepnote_to_be_reexecuted": false,
    "source_hash": "93af426c",
    "execution_start": 1659621257327,
    "execution_millis": 6,
    "deepnote_cell_type": "code",
    "deepnote_cell_height": 168.375,
    "deepnote_output_heights": [
     40.390625
    ]
   },
   "source": "my_list = [[1, 2], \n           [3, 4]]\nnp.array(my_list)",
   "execution_count": 12,
   "outputs": [
    {
     "output_type": "execute_result",
     "execution_count": 12,
     "data": {
      "text/plain": "array([[1, 2],\n       [3, 4]])"
     },
     "metadata": {}
    }
   ]
  },
  {
   "cell_type": "code",
   "metadata": {
    "cell_id": "d4bf3c913ffd456398fde5e135498221",
    "tags": [],
    "deepnote_to_be_reexecuted": false,
    "source_hash": "e4cb1795",
    "execution_start": 1659621257446,
    "execution_millis": 7,
    "deepnote_cell_type": "code",
    "deepnote_cell_height": 132.375,
    "deepnote_output_heights": [
     40.390625
    ]
   },
   "source": "np.ones((2, 2))",
   "execution_count": 13,
   "outputs": [
    {
     "output_type": "execute_result",
     "execution_count": 13,
     "data": {
      "text/plain": "array([[1., 1.],\n       [1., 1.]])"
     },
     "metadata": {}
    }
   ]
  },
  {
   "cell_type": "code",
   "metadata": {
    "cell_id": "c5a993dd0a3247beac9f9f6b5f6c61b0",
    "tags": [],
    "deepnote_to_be_reexecuted": false,
    "source_hash": "52b469c",
    "execution_start": 1659621260461,
    "execution_millis": 0,
    "deepnote_cell_type": "code",
    "deepnote_cell_height": 696
   },
   "source": "help(np.ones)",
   "execution_count": 14,
   "outputs": [
    {
     "name": "stdout",
     "text": "Help on function ones in module numpy:\n\nones(shape, dtype=None, order='C', *, like=None)\n    Return a new array of given shape and type, filled with ones.\n    \n    Parameters\n    ----------\n    shape : int or sequence of ints\n        Shape of the new array, e.g., ``(2, 3)`` or ``2``.\n    dtype : data-type, optional\n        The desired data-type for the array, e.g., `numpy.int8`.  Default is\n        `numpy.float64`.\n    order : {'C', 'F'}, optional, default: C\n        Whether to store multi-dimensional data in row-major\n        (C-style) or column-major (Fortran-style) order in\n        memory.\n    like : array_like, optional\n        Reference object to allow the creation of arrays which are not\n        NumPy arrays. If an array-like passed in as ``like`` supports\n        the ``__array_function__`` protocol, the result will be defined\n        by it. In this case, it ensures the creation of an array object\n        compatible with that passed in via this argument.\n    \n        .. versionadded:: 1.20.0\n    \n    Returns\n    -------\n    out : ndarray\n        Array of ones with the given shape, dtype, and order.\n    \n    See Also\n    --------\n    ones_like : Return an array of ones with shape and type of input.\n    empty : Return a new uninitialized array.\n    zeros : Return a new array setting values to zero.\n    full : Return a new array of given shape filled with value.\n    \n    \n    Examples\n    --------\n    >>> np.ones(5)\n    array([1., 1., 1., 1., 1.])\n    \n    >>> np.ones((5,), dtype=int)\n    array([1, 1, 1, 1, 1])\n    \n    >>> np.ones((2, 1))\n    array([[1.],\n           [1.]])\n    \n    >>> s = (2,2)\n    >>> np.ones(s)\n    array([[1.,  1.],\n           [1.,  1.]])\n\n",
     "output_type": "stream"
    }
   ]
  },
  {
   "cell_type": "markdown",
   "source": "### Exercise (quick)",
   "metadata": {
    "cell_id": "ca2d494c71734322b101eff1de24ad7f",
    "tags": [],
    "deepnote_cell_type": "markdown",
    "deepnote_cell_height": 62
   }
  },
  {
   "cell_type": "markdown",
   "source": "1. Create a 2d array of zeros with 3 rows and 4 columns.",
   "metadata": {
    "cell_id": "4a22a086f2674f6f836ce390baee569c",
    "tags": [],
    "deepnote_cell_type": "markdown",
    "deepnote_cell_height": 69.390625
   }
  },
  {
   "cell_type": "code",
   "metadata": {
    "cell_id": "1adeb436640846bfb51e41cd5efe9edb",
    "tags": [],
    "deepnote_to_be_reexecuted": false,
    "source_hash": "2688798d",
    "execution_start": 1659621266095,
    "execution_millis": 4,
    "deepnote_cell_type": "code",
    "deepnote_cell_height": 151.59375,
    "deepnote_output_heights": [
     59.59375
    ]
   },
   "source": "np.zeros((3, 4))",
   "execution_count": 15,
   "outputs": [
    {
     "output_type": "execute_result",
     "execution_count": 15,
     "data": {
      "text/plain": "array([[0., 0., 0., 0.],\n       [0., 0., 0., 0.],\n       [0., 0., 0., 0.]])"
     },
     "metadata": {}
    }
   ]
  },
  {
   "cell_type": "markdown",
   "source": "2. Create a 2d array of normally-distributed random number with 5 rows and 2 columns.",
   "metadata": {
    "cell_id": "c042f248728843eea1b5bfa1dc39f10b",
    "tags": [],
    "deepnote_cell_type": "markdown",
    "deepnote_cell_height": 69.390625
   }
  },
  {
   "cell_type": "code",
   "metadata": {
    "cell_id": "1f5fddfbb4e447b89e4ddc9141e088dd",
    "tags": [],
    "deepnote_to_be_reexecuted": false,
    "source_hash": "b09556c5",
    "execution_start": 1659621273515,
    "execution_millis": 3,
    "deepnote_cell_type": "code",
    "deepnote_cell_height": 189.96875,
    "deepnote_output_heights": [
     97.984375
    ]
   },
   "source": "np.random.randn(5, 2)",
   "execution_count": 16,
   "outputs": [
    {
     "output_type": "execute_result",
     "execution_count": 16,
     "data": {
      "text/plain": "array([[ 2.00425342, -0.42572986],\n       [ 1.1217087 ,  1.09941148],\n       [ 0.64399524,  2.93876544],\n       [-1.60275123, -0.94295057],\n       [-0.45667054, -0.24335174]])"
     },
     "metadata": {}
    }
   ]
  },
  {
   "cell_type": "markdown",
   "source": "---",
   "metadata": {
    "cell_id": "1eb0c1f000a94188a47ea039b9d97cc1",
    "tags": [],
    "deepnote_cell_type": "markdown",
    "deepnote_cell_height": 46
   }
  },
  {
   "cell_type": "markdown",
   "source": "## Data Inspection\n\nData inspection usually involves getting an understanding of what does the data look like:\n- What type of values are we dealing with? `int` or `float`?\n- How big is it? how many values are in the data?\n- How many dimensions does it have? is it a 1-d array or a 2-d array?\n- If 1-d, how many elements does it have?\n- If 2-d, how many rows and columns does it have?\n\n### Aggregation\n\nOr we might want to know some statsitics of the data:\n- What are the mininum and maximum values?\n- What is the mean?\n- What is the standard deviation?\n- etc.\n\nNumpy arrays come with useful methods that allow us to inspect the data.",
   "metadata": {
    "cell_id": "0fe2db316cbc4f99aef0f8388f0c0449",
    "tags": [],
    "deepnote_cell_type": "markdown",
    "deepnote_cell_height": 479.75
   }
  },
  {
   "cell_type": "code",
   "metadata": {
    "cell_id": "308550ad09934b81837f94541d82eff3",
    "tags": [],
    "deepnote_to_be_reexecuted": false,
    "source_hash": "d28b3de0",
    "execution_start": 1659621345252,
    "execution_millis": 0,
    "deepnote_cell_type": "code",
    "deepnote_cell_height": 76
   },
   "source": "data = np.random.rand(4, 3)",
   "execution_count": 17,
   "outputs": []
  },
  {
   "cell_type": "code",
   "metadata": {
    "cell_id": "f6a397d09fed4fdcb368cca0e3c25aff",
    "tags": [],
    "deepnote_to_be_reexecuted": false,
    "source_hash": "e6928a8f",
    "execution_start": 1659621345987,
    "execution_millis": 3,
    "deepnote_cell_type": "code",
    "deepnote_cell_height": 170.78125,
    "deepnote_output_heights": [
     78.78125
    ]
   },
   "source": "data",
   "execution_count": 18,
   "outputs": [
    {
     "output_type": "execute_result",
     "execution_count": 18,
     "data": {
      "text/plain": "array([[0.07786538, 0.36446008, 0.83556346],\n       [0.41887985, 0.94907796, 0.99382534],\n       [0.99799756, 0.75993314, 0.62395731],\n       [0.70375457, 0.32310148, 0.71521759]])"
     },
     "metadata": {}
    }
   ]
  },
  {
   "cell_type": "code",
   "metadata": {
    "cell_id": "8a5fc1763167484bace772ee6ab33172",
    "tags": [],
    "deepnote_to_be_reexecuted": false,
    "source_hash": "981753cb",
    "execution_start": 1659621353081,
    "execution_millis": 530,
    "deepnote_cell_type": "code",
    "deepnote_cell_height": 113.1875,
    "deepnote_output_heights": [
     21.1875
    ]
   },
   "source": "data.dtype",
   "execution_count": 19,
   "outputs": [
    {
     "output_type": "execute_result",
     "execution_count": 19,
     "data": {
      "text/plain": "dtype('float64')"
     },
     "metadata": {}
    }
   ]
  },
  {
   "cell_type": "code",
   "metadata": {
    "cell_id": "337371e80f324bfb976ef184cbf63256",
    "tags": [],
    "deepnote_to_be_reexecuted": false,
    "source_hash": "9653dc5",
    "execution_start": 1659621354838,
    "execution_millis": 2,
    "deepnote_cell_type": "code",
    "deepnote_cell_height": 113.1875,
    "deepnote_output_heights": [
     21.1875
    ]
   },
   "source": "type(data)",
   "execution_count": 20,
   "outputs": [
    {
     "output_type": "execute_result",
     "execution_count": 20,
     "data": {
      "text/plain": "numpy.ndarray"
     },
     "metadata": {}
    }
   ]
  },
  {
   "cell_type": "code",
   "metadata": {
    "cell_id": "911107602f9f4a85a3a0e67a7b0547c0",
    "tags": [],
    "deepnote_to_be_reexecuted": false,
    "source_hash": "6d3168e",
    "execution_start": 1659621357159,
    "execution_millis": 8,
    "deepnote_cell_type": "code",
    "deepnote_cell_height": 113.1875,
    "deepnote_output_heights": [
     21.1875
    ]
   },
   "source": "data.size",
   "execution_count": 21,
   "outputs": [
    {
     "output_type": "execute_result",
     "execution_count": 21,
     "data": {
      "text/plain": "12"
     },
     "metadata": {}
    }
   ]
  },
  {
   "cell_type": "code",
   "metadata": {
    "cell_id": "a384db6e2a61493cbc4676daffa65ae5",
    "tags": [],
    "deepnote_to_be_reexecuted": false,
    "source_hash": "d36b3df2",
    "execution_start": 1659621358203,
    "execution_millis": 6,
    "deepnote_cell_type": "code",
    "deepnote_cell_height": 113.1875,
    "deepnote_output_heights": [
     21.1875
    ]
   },
   "source": "data.ndim",
   "execution_count": 22,
   "outputs": [
    {
     "output_type": "execute_result",
     "execution_count": 22,
     "data": {
      "text/plain": "2"
     },
     "metadata": {}
    }
   ]
  },
  {
   "cell_type": "code",
   "metadata": {
    "cell_id": "487d1a3f526f4c1d8cfdd31f09f03484",
    "tags": [],
    "deepnote_to_be_reexecuted": false,
    "source_hash": "2007f58",
    "execution_start": 1659621358211,
    "execution_millis": 4,
    "deepnote_cell_type": "code",
    "deepnote_cell_height": 113.1875,
    "deepnote_output_heights": [
     21.1875
    ]
   },
   "source": "data.shape",
   "execution_count": 23,
   "outputs": [
    {
     "output_type": "execute_result",
     "execution_count": 23,
     "data": {
      "text/plain": "(4, 3)"
     },
     "metadata": {}
    }
   ]
  },
  {
   "cell_type": "code",
   "source": "data.sum()",
   "metadata": {
    "cell_id": "054a2bb5895d4b79a92746e2ba6f71dc",
    "tags": [],
    "deepnote_to_be_reexecuted": false,
    "source_hash": "8ba8c9d0",
    "execution_start": 1659185846229,
    "execution_millis": 2,
    "deepnote_cell_type": "code",
    "deepnote_cell_height": 113.1875,
    "deepnote_output_heights": [
     21.1875
    ]
   },
   "execution_count": null,
   "outputs": [
    {
     "output_type": "execute_result",
     "execution_count": 77,
     "data": {
      "text/plain": "6.816378678512074"
     },
     "metadata": {}
    }
   ]
  },
  {
   "cell_type": "code",
   "source": "data.min()",
   "metadata": {
    "cell_id": "7013b38a69d8412cb38bb993879c8763",
    "tags": [],
    "deepnote_to_be_reexecuted": false,
    "source_hash": "aa2e8928",
    "execution_start": 1659185853386,
    "execution_millis": 445,
    "deepnote_cell_type": "code",
    "deepnote_cell_height": 113.1875,
    "deepnote_output_heights": [
     21.1875
    ]
   },
   "execution_count": null,
   "outputs": [
    {
     "output_type": "execute_result",
     "execution_count": 78,
     "data": {
      "text/plain": "0.03360066037049725"
     },
     "metadata": {}
    }
   ]
  },
  {
   "cell_type": "code",
   "source": "data.mean()",
   "metadata": {
    "cell_id": "8c2006b887f24682bfce2f372f087199",
    "tags": [],
    "deepnote_to_be_reexecuted": false,
    "source_hash": "2445f9c2",
    "execution_start": 1659185857611,
    "execution_millis": 0,
    "deepnote_cell_type": "code",
    "deepnote_cell_height": 113.1875,
    "deepnote_output_heights": [
     21.1875
    ]
   },
   "execution_count": null,
   "outputs": [
    {
     "output_type": "execute_result",
     "execution_count": 79,
     "data": {
      "text/plain": "0.5680315565426729"
     },
     "metadata": {}
    }
   ]
  },
  {
   "cell_type": "markdown",
   "source": "#### Statistics per dimension",
   "metadata": {
    "cell_id": "8de9adee3167418189e728d4302310d0",
    "tags": [],
    "deepnote_cell_type": "markdown",
    "deepnote_cell_height": 54
   }
  },
  {
   "cell_type": "code",
   "metadata": {
    "cell_id": "7bc5ff2f812748d281a0c7be51d18679",
    "tags": [],
    "deepnote_to_be_reexecuted": false,
    "source_hash": "e6928a8f",
    "execution_start": 1659185913477,
    "execution_millis": 393,
    "deepnote_cell_type": "code",
    "deepnote_cell_height": 170.78125,
    "deepnote_output_heights": [
     78.78125
    ]
   },
   "source": "data",
   "execution_count": null,
   "outputs": [
    {
     "output_type": "execute_result",
     "execution_count": 81,
     "data": {
      "text/plain": "array([[0.33934215, 0.03360066, 0.71505202],\n       [0.97470958, 0.11236965, 0.96309194],\n       [0.77823698, 0.60840807, 0.95004025],\n       [0.43719263, 0.52097667, 0.38335807]])"
     },
     "metadata": {}
    }
   ]
  },
  {
   "cell_type": "code",
   "metadata": {
    "cell_id": "c2f33a2bad40462cae02a16000a612b2",
    "tags": [],
    "deepnote_to_be_reexecuted": false,
    "source_hash": "517cb120",
    "execution_start": 1659185905737,
    "execution_millis": 3,
    "deepnote_cell_type": "code",
    "deepnote_cell_height": 113.1875,
    "deepnote_output_heights": [
     21.1875
    ]
   },
   "source": "data.mean(axis=0) # across rows (i.e. per column)",
   "execution_count": null,
   "outputs": [
    {
     "output_type": "execute_result",
     "execution_count": 80,
     "data": {
      "text/plain": "array([0.63237034, 0.31883876, 0.75288557])"
     },
     "metadata": {}
    }
   ]
  },
  {
   "cell_type": "code",
   "metadata": {
    "cell_id": "17bf70dd81144a7eb3e553a8a6bb62b7",
    "tags": [],
    "deepnote_to_be_reexecuted": false,
    "source_hash": "4dbc208b",
    "execution_start": 1659185975186,
    "execution_millis": 4,
    "deepnote_cell_type": "code",
    "deepnote_cell_height": 113.1875,
    "deepnote_output_heights": [
     21.1875
    ]
   },
   "source": "data.mean(axis=1) # across columns (i.e. per row)",
   "execution_count": null,
   "outputs": [
    {
     "output_type": "execute_result",
     "execution_count": 84,
     "data": {
      "text/plain": "array([0.36266494, 0.68339039, 0.7788951 , 0.44717579])"
     },
     "metadata": {}
    }
   ]
  },
  {
   "cell_type": "code",
   "metadata": {
    "cell_id": "eb6c9b2094464666a92534a23d11c6ae",
    "tags": [],
    "deepnote_to_be_reexecuted": false,
    "source_hash": "2007f58",
    "execution_start": 1659186002816,
    "execution_millis": 5,
    "deepnote_cell_type": "code",
    "deepnote_cell_height": 113.1875,
    "deepnote_output_heights": [
     21.1875
    ]
   },
   "source": "data.shape",
   "execution_count": null,
   "outputs": [
    {
     "output_type": "execute_result",
     "execution_count": 85,
     "data": {
      "text/plain": "(4, 3)"
     },
     "metadata": {}
    }
   ]
  },
  {
   "cell_type": "markdown",
   "source": "**Note**: many of the aggregation functions are provided both as a function from the numpy package or as a method of the array itself. You can choose whichever you'd prefer to use.\n\n```\nnp.mean(my_arr)\n# or\nmy_arr.mean()\n```",
   "metadata": {
    "cell_id": "2b0bbd06cca248e18ecc9eef0e847e70",
    "tags": [],
    "deepnote_cell_type": "markdown",
    "deepnote_cell_height": 171.15625
   }
  },
  {
   "cell_type": "markdown",
   "source": "## Exercise (quick)",
   "metadata": {
    "cell_id": "5d7c44305a7249799e962181db13e1a7",
    "tags": [],
    "deepnote_cell_type": "markdown",
    "deepnote_cell_height": 70
   }
  },
  {
   "cell_type": "markdown",
   "source": "1. Create a Numpy array with shape 3 by 4 that contains only 1s.",
   "metadata": {
    "cell_id": "d3810941fac741699fb703fd602edc04",
    "tags": [],
    "deepnote_cell_type": "markdown",
    "deepnote_cell_height": 69.390625
   }
  },
  {
   "cell_type": "code",
   "metadata": {
    "cell_id": "a7cb5665e6584923a04d9be7c4456a88",
    "tags": [],
    "deepnote_to_be_reexecuted": false,
    "source_hash": "9293ee9b",
    "execution_start": 1659621430093,
    "execution_millis": 2,
    "deepnote_cell_type": "code",
    "deepnote_cell_height": 76
   },
   "source": "dd = np.ones((3, 4))",
   "execution_count": 24,
   "outputs": []
  },
  {
   "cell_type": "markdown",
   "source": "2. Compute the sum of the whole array.",
   "metadata": {
    "cell_id": "64e38747317d487ebc86ce25e5bfec1f",
    "tags": [],
    "deepnote_cell_type": "markdown",
    "deepnote_cell_height": 69.390625
   }
  },
  {
   "cell_type": "code",
   "source": "dd.sum()",
   "metadata": {
    "cell_id": "14b660c6df444c858a15a563abbf5018",
    "tags": [],
    "deepnote_to_be_reexecuted": false,
    "source_hash": "b0635229",
    "execution_start": 1659621434469,
    "execution_millis": 5,
    "deepnote_cell_type": "code",
    "deepnote_cell_height": 113.1875,
    "deepnote_output_heights": [
     21.1875
    ]
   },
   "outputs": [
    {
     "output_type": "execute_result",
     "execution_count": 25,
     "data": {
      "text/plain": "12.0"
     },
     "metadata": {}
    }
   ],
   "execution_count": 25
  },
  {
   "cell_type": "markdown",
   "source": "3. Compute the sum for each column.",
   "metadata": {
    "cell_id": "60cf50509e2143e2b79cc8e5a02488ec",
    "tags": [],
    "deepnote_cell_type": "markdown",
    "deepnote_cell_height": 69.390625
   }
  },
  {
   "cell_type": "code",
   "metadata": {
    "cell_id": "31c5280e4e844eb58b5f65fe5aaf02bd",
    "tags": [],
    "deepnote_to_be_reexecuted": false,
    "source_hash": "771423d6",
    "execution_start": 1659621439170,
    "execution_millis": 340,
    "output_cleared": false,
    "deepnote_cell_type": "code",
    "deepnote_cell_height": 113.1875,
    "deepnote_output_heights": [
     21.1875
    ]
   },
   "source": "dd.sum(axis=0)",
   "execution_count": 26,
   "outputs": [
    {
     "output_type": "execute_result",
     "execution_count": 26,
     "data": {
      "text/plain": "array([3., 3., 3., 3.])"
     },
     "metadata": {}
    }
   ]
  },
  {
   "cell_type": "markdown",
   "source": "4. Compute the sum for each row. ",
   "metadata": {
    "cell_id": "7d6e41e5fe434250aa52e324bda5ffc4",
    "tags": [],
    "deepnote_cell_type": "markdown",
    "deepnote_cell_height": 69.390625
   }
  },
  {
   "cell_type": "code",
   "metadata": {
    "cell_id": "56e341bfa0554fd3aece12d5a6e2d2cd",
    "tags": [],
    "deepnote_to_be_reexecuted": false,
    "source_hash": "af8108b5",
    "execution_start": 1659621441725,
    "execution_millis": 582,
    "deepnote_cell_type": "code",
    "deepnote_cell_height": 113.1875,
    "deepnote_output_heights": [
     21.1875
    ]
   },
   "source": "dd.sum(axis=1)",
   "execution_count": 27,
   "outputs": [
    {
     "output_type": "execute_result",
     "execution_count": 27,
     "data": {
      "text/plain": "array([4., 4., 4.])"
     },
     "metadata": {}
    }
   ]
  },
  {
   "cell_type": "markdown",
   "source": "",
   "metadata": {
    "cell_id": "69678732b4904c4e927e94a71402997b",
    "tags": [],
    "deepnote_cell_type": "markdown",
    "deepnote_cell_height": 46
   }
  },
  {
   "cell_type": "markdown",
   "source": "## Data transformation\n\nData Transformation is essentially the application of any kind of operation on your data so that you tranform your data from one representation to another, making it ready for upcoming analysis. Numpy provides a handful number of functions that can be used to transform the data. Let's go through some of them.",
   "metadata": {
    "cell_id": "938b72fa90b34433bad85b496e1d18e2",
    "tags": [],
    "deepnote_cell_type": "markdown",
    "deepnote_cell_height": 175.578125
   }
  },
  {
   "cell_type": "code",
   "metadata": {
    "cell_id": "c8f851001dfd4b878d8aa358f82e59d8",
    "tags": [],
    "deepnote_to_be_reexecuted": false,
    "source_hash": "c6e837dd",
    "execution_start": 1659621464518,
    "execution_millis": 663,
    "deepnote_cell_type": "code",
    "deepnote_cell_height": 315.96875,
    "deepnote_output_heights": [
     97.984375
    ]
   },
   "source": "arr = [[1, 2, 3, 4], \n       [5, 6, 7, 8], \n       [9, 10, 11, 12], \n       [13, 14, 15, 16], \n       [17, 18, 19, 20]]\n\ndata = np.array(arr)\ndata",
   "execution_count": 28,
   "outputs": [
    {
     "output_type": "execute_result",
     "execution_count": 28,
     "data": {
      "text/plain": "array([[ 1,  2,  3,  4],\n       [ 5,  6,  7,  8],\n       [ 9, 10, 11, 12],\n       [13, 14, 15, 16],\n       [17, 18, 19, 20]])"
     },
     "metadata": {}
    }
   ]
  },
  {
   "cell_type": "code",
   "metadata": {
    "cell_id": "74b3555f738e452a81129dc904d01d58",
    "tags": [],
    "deepnote_to_be_reexecuted": false,
    "source_hash": "2007f58",
    "execution_start": 1659621466166,
    "execution_millis": 4,
    "deepnote_cell_type": "code",
    "deepnote_cell_height": 113.1875,
    "deepnote_output_heights": [
     21.1875
    ]
   },
   "source": "data.shape",
   "execution_count": 29,
   "outputs": [
    {
     "output_type": "execute_result",
     "execution_count": 29,
     "data": {
      "text/plain": "(5, 4)"
     },
     "metadata": {}
    }
   ]
  },
  {
   "cell_type": "markdown",
   "source": "We flip the rows and columns - transpose operation",
   "metadata": {
    "cell_id": "03556ccb200047898cc4d6671a228c8c",
    "tags": [],
    "deepnote_cell_type": "markdown",
    "deepnote_cell_height": 52.390625
   }
  },
  {
   "cell_type": "code",
   "metadata": {
    "cell_id": "c14f801f8eae4adfabf00e705cc14062",
    "tags": [],
    "deepnote_to_be_reexecuted": false,
    "source_hash": "b4edeb2f",
    "execution_start": 1659621477676,
    "execution_millis": 3,
    "deepnote_cell_type": "code",
    "deepnote_cell_height": 170.78125,
    "deepnote_output_heights": [
     78.78125
    ]
   },
   "source": "data.T",
   "execution_count": 30,
   "outputs": [
    {
     "output_type": "execute_result",
     "execution_count": 30,
     "data": {
      "text/plain": "array([[ 1,  5,  9, 13, 17],\n       [ 2,  6, 10, 14, 18],\n       [ 3,  7, 11, 15, 19],\n       [ 4,  8, 12, 16, 20]])"
     },
     "metadata": {}
    }
   ]
  },
  {
   "cell_type": "markdown",
   "source": "We can also change the shape of the whole array using the `reshape` method:",
   "metadata": {
    "cell_id": "bfacf92efda94bd1ba21162e34815609",
    "tags": [],
    "deepnote_cell_type": "markdown",
    "deepnote_cell_height": 52.390625
   }
  },
  {
   "cell_type": "code",
   "source": "data.reshape(2, 10)",
   "metadata": {
    "cell_id": "2f03b0ac6cfc4536bdcc4a66e6d31aeb",
    "tags": [],
    "deepnote_to_be_reexecuted": false,
    "source_hash": "ffdf55e8",
    "execution_start": 1659621507108,
    "execution_millis": 542,
    "deepnote_cell_type": "code",
    "deepnote_cell_height": 132.375,
    "deepnote_output_heights": [
     40.390625
    ]
   },
   "execution_count": 34,
   "outputs": [
    {
     "output_type": "execute_result",
     "execution_count": 34,
     "data": {
      "text/plain": "array([[ 1,  2,  3,  4,  5,  6,  7,  8,  9, 10],\n       [11, 12, 13, 14, 15, 16, 17, 18, 19, 20]])"
     },
     "metadata": {}
    }
   ]
  },
  {
   "cell_type": "markdown",
   "source": "There are also other useful function such as `log` and `exp`, `sin`, `cos`, etc. ",
   "metadata": {
    "cell_id": "e63edb5dac5148dbb7a47448e79affb7",
    "tags": [],
    "deepnote_cell_type": "markdown",
    "deepnote_cell_height": 52.390625
   }
  },
  {
   "cell_type": "code",
   "metadata": {
    "cell_id": "ec9048835f0140009b1625292295d23c",
    "tags": [],
    "deepnote_to_be_reexecuted": false,
    "source_hash": "ce3e1cdc",
    "execution_start": 1659111087849,
    "execution_millis": 0,
    "deepnote_cell_type": "code",
    "deepnote_cell_height": 189.96875,
    "deepnote_output_heights": [
     97.984375
    ]
   },
   "source": "np.exp(data)",
   "execution_count": null,
   "outputs": [
    {
     "output_type": "execute_result",
     "execution_count": 24,
     "data": {
      "text/plain": "array([[2.71828183e+00, 7.38905610e+00, 2.00855369e+01, 5.45981500e+01],\n       [1.48413159e+02, 4.03428793e+02, 1.09663316e+03, 2.98095799e+03],\n       [8.10308393e+03, 2.20264658e+04, 5.98741417e+04, 1.62754791e+05],\n       [4.42413392e+05, 1.20260428e+06, 3.26901737e+06, 8.88611052e+06],\n       [2.41549528e+07, 6.56599691e+07, 1.78482301e+08, 4.85165195e+08]])"
     },
     "metadata": {}
    }
   ]
  },
  {
   "cell_type": "markdown",
   "source": "## Indexing and slicing\n\nSimilar to what we learned before for indexing and slicing lists, numpy arrays can be indexed and sliced the same way, in all dimensions.\n\n![Duplicate Button](./imgs/indexing.png)",
   "metadata": {
    "cell_id": "cfddec8f8b284ffea45b660cf5cfc702",
    "tags": [],
    "deepnote_cell_type": "markdown",
    "deepnote_cell_height": 484.78125
   }
  },
  {
   "cell_type": "markdown",
   "source": "## Exercise",
   "metadata": {
    "cell_id": "d5d59b4fd6fe419c8c5885f842cbb37f",
    "tags": [],
    "deepnote_cell_type": "markdown",
    "deepnote_cell_height": 70
   }
  },
  {
   "cell_type": "markdown",
   "source": "1. How many dimensions does the following Numpy array have?",
   "metadata": {
    "cell_id": "9797babecb484176b117bc933c5ec317",
    "tags": [],
    "deepnote_cell_type": "markdown",
    "deepnote_cell_height": 69.390625
   }
  },
  {
   "cell_type": "code",
   "metadata": {
    "cell_id": "959a9ebcc9c14f819e9effe064539198",
    "tags": [],
    "deepnote_to_be_reexecuted": false,
    "source_hash": "6ab62b53",
    "execution_start": 1659621550392,
    "execution_millis": 1,
    "deepnote_cell_type": "code",
    "deepnote_cell_height": 76
   },
   "source": "my_arr = np.array([[1., 2., 3.], [4., 5., 6.]])",
   "execution_count": 35,
   "outputs": []
  },
  {
   "cell_type": "code",
   "source": "my_arr.ndim",
   "metadata": {
    "cell_id": "a08d577153fb43dab1afa0113abfdaff",
    "tags": [],
    "deepnote_to_be_reexecuted": false,
    "source_hash": "c3cc3492",
    "execution_start": 1659621554055,
    "execution_millis": 3,
    "deepnote_cell_type": "code",
    "deepnote_cell_height": 113.1875,
    "deepnote_output_heights": [
     21.1875
    ]
   },
   "execution_count": 36,
   "outputs": [
    {
     "output_type": "execute_result",
     "execution_count": 36,
     "data": {
      "text/plain": "2"
     },
     "metadata": {}
    }
   ]
  },
  {
   "cell_type": "markdown",
   "source": "2. How many elements does `my_arr` have in each dimension (i.e., what is the shape of it)?",
   "metadata": {
    "cell_id": "f52dc122fa044ee38a871e359f149884",
    "tags": [],
    "deepnote_cell_type": "markdown",
    "deepnote_cell_height": 69.390625
   }
  },
  {
   "cell_type": "code",
   "metadata": {
    "cell_id": "9a77b64fb67a469c9810df803ae7ced0",
    "tags": [],
    "deepnote_to_be_reexecuted": false,
    "source_hash": "84daa801",
    "execution_start": 1659621560573,
    "execution_millis": 3,
    "deepnote_cell_type": "code",
    "deepnote_cell_height": 113.1875,
    "deepnote_output_heights": [
     21.1875
    ]
   },
   "source": "my_arr.shape",
   "execution_count": 37,
   "outputs": [
    {
     "output_type": "execute_result",
     "execution_count": 37,
     "data": {
      "text/plain": "(2, 3)"
     },
     "metadata": {}
    }
   ]
  },
  {
   "cell_type": "markdown",
   "source": "3. What is the data type of the elements of `my_arr`?",
   "metadata": {
    "cell_id": "4c789b82e96b49028bfc4c07b79952da",
    "tags": [],
    "deepnote_cell_type": "markdown",
    "deepnote_cell_height": 69.390625
   }
  },
  {
   "cell_type": "code",
   "source": "my_arr.dtype",
   "metadata": {
    "cell_id": "35b12848684f4588b4eced239de027f5",
    "tags": [],
    "deepnote_to_be_reexecuted": false,
    "source_hash": "8746f671",
    "execution_start": 1659621567265,
    "execution_millis": 596,
    "deepnote_cell_type": "code",
    "deepnote_cell_height": 113.1875,
    "deepnote_output_heights": [
     21.1875
    ]
   },
   "execution_count": 38,
   "outputs": [
    {
     "output_type": "execute_result",
     "execution_count": 38,
     "data": {
      "text/plain": "dtype('float64')"
     },
     "metadata": {}
    }
   ]
  },
  {
   "cell_type": "markdown",
   "source": "4. Generate a 3 x 10 array of random integers between 1 and 4 using **`np.random.randint`**.",
   "metadata": {
    "cell_id": "38b773ead8fd4e4cac1507f0894ba77a",
    "tags": [],
    "deepnote_cell_type": "markdown",
    "deepnote_cell_height": 69.390625
   }
  },
  {
   "cell_type": "code",
   "metadata": {
    "cell_id": "b495c1dbe7bf47b682db532cdc81abc4",
    "tags": [],
    "deepnote_to_be_reexecuted": false,
    "source_hash": "97b7b71a",
    "execution_start": 1659621587735,
    "execution_millis": 50,
    "deepnote_cell_type": "code",
    "deepnote_cell_height": 151.59375,
    "deepnote_output_heights": [
     59.59375
    ]
   },
   "source": "np.random.randint(1, 4, (3, 10))",
   "execution_count": 39,
   "outputs": [
    {
     "output_type": "execute_result",
     "execution_count": 39,
     "data": {
      "text/plain": "array([[3, 3, 2, 1, 2, 3, 1, 3, 3, 2],\n       [3, 2, 3, 2, 1, 1, 1, 1, 3, 2],\n       [3, 1, 3, 1, 1, 2, 3, 2, 2, 1]])"
     },
     "metadata": {}
    }
   ]
  },
  {
   "cell_type": "markdown",
   "source": "5. Make a flat (i.e. 1-d) array with all the integer values between 0 and 11, and then reshape it into a 3 x 4 matrix using **`array.reshape()`**.",
   "metadata": {
    "cell_id": "cdf11b4b4b1e465186ea0569e18a0542",
    "tags": [],
    "deepnote_cell_type": "markdown",
    "deepnote_cell_height": 91.78125
   }
  },
  {
   "cell_type": "code",
   "metadata": {
    "cell_id": "b2ce56dd04f14ca8994e41c97ab97122",
    "tags": [],
    "deepnote_to_be_reexecuted": false,
    "source_hash": "770bcd74",
    "execution_start": 1659621609998,
    "execution_millis": 753,
    "deepnote_cell_type": "code",
    "deepnote_cell_height": 187.59375,
    "deepnote_output_heights": [
     59.59375
    ]
   },
   "source": "arr = np.arange(0, 12)\narr = arr.reshape(3, 4)\narr",
   "execution_count": 40,
   "outputs": [
    {
     "output_type": "execute_result",
     "execution_count": 40,
     "data": {
      "text/plain": "array([[ 0,  1,  2,  3],\n       [ 4,  5,  6,  7],\n       [ 8,  9, 10, 11]])"
     },
     "metadata": {}
    }
   ]
  },
  {
   "cell_type": "markdown",
   "source": "...Reshape the previous array into a 4 x 3 matrix...",
   "metadata": {
    "cell_id": "20406a58ab234fee8255ca0a27e10744",
    "tags": [],
    "deepnote_cell_type": "markdown",
    "deepnote_cell_height": 52.390625
   }
  },
  {
   "cell_type": "code",
   "metadata": {
    "cell_id": "28a15854b98e42058fffc14aced594f5",
    "tags": [],
    "deepnote_to_be_reexecuted": false,
    "source_hash": "a096e23d",
    "execution_start": 1659621614656,
    "execution_millis": 5,
    "deepnote_cell_type": "code",
    "deepnote_cell_height": 170.78125,
    "deepnote_output_heights": [
     78.78125
    ]
   },
   "source": "arr.reshape(4, 3)",
   "execution_count": 41,
   "outputs": [
    {
     "output_type": "execute_result",
     "execution_count": 41,
     "data": {
      "text/plain": "array([[ 0,  1,  2],\n       [ 3,  4,  5],\n       [ 6,  7,  8],\n       [ 9, 10, 11]])"
     },
     "metadata": {}
    }
   ]
  },
  {
   "cell_type": "markdown",
   "source": "...Reshape that array into a 2 x 6 matrix...",
   "metadata": {
    "cell_id": "b3ac1c18637c41a6a75f0ccb7dfeb90e",
    "tags": [],
    "deepnote_cell_type": "markdown",
    "deepnote_cell_height": 52.390625
   }
  },
  {
   "cell_type": "code",
   "source": "arr.reshape(2, 6)",
   "metadata": {
    "cell_id": "4c72a1ca641b4121850b39d9b8c3b8a0",
    "tags": [],
    "deepnote_to_be_reexecuted": false,
    "source_hash": "66e4dd98",
    "execution_start": 1659621626249,
    "execution_millis": 6,
    "deepnote_cell_type": "code",
    "deepnote_cell_height": 132.375,
    "deepnote_output_heights": [
     40.390625
    ]
   },
   "execution_count": 42,
   "outputs": [
    {
     "output_type": "execute_result",
     "execution_count": 42,
     "data": {
      "text/plain": "array([[ 0,  1,  2,  3,  4,  5],\n       [ 6,  7,  8,  9, 10, 11]])"
     },
     "metadata": {}
    }
   ]
  },
  {
   "cell_type": "markdown",
   "source": "...Then flatten it (meaning: make it 1-d). **Hint**: the array object has a method for this. ",
   "metadata": {
    "cell_id": "5c26127da078420bafea488422952ee8",
    "tags": [],
    "deepnote_cell_type": "markdown",
    "deepnote_cell_height": 52.390625
   }
  },
  {
   "cell_type": "code",
   "metadata": {
    "cell_id": "51638ae611e44e57a9b8336276df5f56",
    "tags": [],
    "deepnote_to_be_reexecuted": false,
    "source_hash": "4e7bc01f",
    "execution_start": 1659621632008,
    "execution_millis": 8,
    "deepnote_cell_type": "code",
    "deepnote_cell_height": 113.1875,
    "deepnote_output_heights": [
     21.1875
    ]
   },
   "source": "arr.flatten()",
   "execution_count": 43,
   "outputs": [
    {
     "output_type": "execute_result",
     "execution_count": 43,
     "data": {
      "text/plain": "array([ 0,  1,  2,  3,  4,  5,  6,  7,  8,  9, 10, 11])"
     },
     "metadata": {}
    }
   ]
  },
  {
   "cell_type": "markdown",
   "source": "Numpy arrays work the same way as other sequences, but they can have multiple dimensions (i.e. rows, columns, etc.) over which we can index/slice the array.\n\n```\ndata = np.array([[0, 1, 2,  3],\n                 [4, 5, 6,  7],\n                 [8, 9, 10, 11]]\n               )\nsecond_row = data[1, :]\nthird_column = data[:, 2]\n```",
   "metadata": {
    "cell_id": "108fcda0bf554169adbce9f4c659223e",
    "tags": [],
    "deepnote_cell_type": "markdown",
    "deepnote_cell_height": 233.53125
   }
  },
  {
   "cell_type": "markdown",
   "source": "Using the example variable `scores`, select only the described elements from each list:",
   "metadata": {
    "cell_id": "bc2431742ce04d54b90d4a869105e65f",
    "tags": [],
    "deepnote_cell_type": "markdown",
    "deepnote_cell_height": 52.390625
   }
  },
  {
   "cell_type": "code",
   "metadata": {
    "cell_id": "ffaaa9b353664bbe9aaabdb0854f16b6",
    "tags": [],
    "deepnote_to_be_reexecuted": false,
    "source_hash": "dce0364f",
    "execution_start": 1659621757568,
    "execution_millis": 146,
    "deepnote_cell_type": "code",
    "deepnote_cell_height": 245.1875,
    "deepnote_output_heights": [
     117.1875
    ]
   },
   "source": "import numpy as np\nscores = np.arange(1, 49).reshape(6, 8)\nscores",
   "execution_count": 44,
   "outputs": [
    {
     "output_type": "execute_result",
     "execution_count": 44,
     "data": {
      "text/plain": "array([[ 1,  2,  3,  4,  5,  6,  7,  8],\n       [ 9, 10, 11, 12, 13, 14, 15, 16],\n       [17, 18, 19, 20, 21, 22, 23, 24],\n       [25, 26, 27, 28, 29, 30, 31, 32],\n       [33, 34, 35, 36, 37, 38, 39, 40],\n       [41, 42, 43, 44, 45, 46, 47, 48]])"
     },
     "metadata": {}
    }
   ]
  },
  {
   "cell_type": "markdown",
   "source": "6. The third-through-fourth columns.",
   "metadata": {
    "cell_id": "93c5c0a0b6f742ae8fe7c42e8e72fc96",
    "tags": [],
    "deepnote_cell_type": "markdown",
    "deepnote_cell_height": 69.390625
   }
  },
  {
   "cell_type": "code",
   "metadata": {
    "cell_id": "74aeb9d9a6dc4f03b87b022993f2559b",
    "tags": [],
    "deepnote_to_be_reexecuted": false,
    "source_hash": "9dc1f817",
    "execution_start": 1659621761312,
    "execution_millis": 7,
    "deepnote_cell_type": "code",
    "deepnote_cell_height": 209.1875,
    "deepnote_output_heights": [
     117.1875
    ]
   },
   "source": "scores[:, 2:4]",
   "execution_count": 45,
   "outputs": [
    {
     "output_type": "execute_result",
     "execution_count": 45,
     "data": {
      "text/plain": "array([[ 3,  4],\n       [11, 12],\n       [19, 20],\n       [27, 28],\n       [35, 36],\n       [43, 44]])"
     },
     "metadata": {}
    }
   ]
  },
  {
   "cell_type": "markdown",
   "source": "7. The third-through-fifth columns.",
   "metadata": {
    "cell_id": "21186190038f4049a41b47199e0887cf",
    "tags": [],
    "deepnote_cell_type": "markdown",
    "deepnote_cell_height": 69.390625
   }
  },
  {
   "cell_type": "code",
   "source": "scores[:, 2:5]",
   "metadata": {
    "cell_id": "6616afa8866144658f1a0b6b4eef32ca",
    "tags": [],
    "deepnote_to_be_reexecuted": false,
    "source_hash": "dc6c275",
    "execution_start": 1659621772452,
    "execution_millis": 1,
    "deepnote_cell_type": "code",
    "deepnote_cell_height": 209.1875,
    "deepnote_output_heights": [
     117.1875
    ]
   },
   "execution_count": 46,
   "outputs": [
    {
     "output_type": "execute_result",
     "execution_count": 46,
     "data": {
      "text/plain": "array([[ 3,  4,  5],\n       [11, 12, 13],\n       [19, 20, 21],\n       [27, 28, 29],\n       [35, 36, 37],\n       [43, 44, 45]])"
     },
     "metadata": {}
    }
   ]
  },
  {
   "cell_type": "markdown",
   "source": "8. The 2nd through 5th score, in the 6th column.",
   "metadata": {
    "cell_id": "e984928ac2ef47abb57b499f49001faf",
    "tags": [],
    "deepnote_cell_type": "markdown",
    "deepnote_cell_height": 69.390625
   }
  },
  {
   "cell_type": "code",
   "source": "scores[1:5, 5]",
   "metadata": {
    "cell_id": "546b745c6d8540cc879132b21af8d6e7",
    "tags": [],
    "deepnote_to_be_reexecuted": false,
    "source_hash": "87805d9d",
    "execution_start": 1659621796152,
    "execution_millis": 1,
    "deepnote_cell_type": "code",
    "deepnote_cell_height": 113.1875,
    "deepnote_output_heights": [
     21.1875
    ]
   },
   "execution_count": 47,
   "outputs": [
    {
     "output_type": "execute_result",
     "execution_count": 47,
     "data": {
      "text/plain": "array([14, 22, 30, 38])"
     },
     "metadata": {}
    }
   ]
  },
  {
   "cell_type": "markdown",
   "source": "9. Change the 3rd column to all 10s.",
   "metadata": {
    "cell_id": "2fd1edf6c5cd45e39f95131d5fa703e7",
    "tags": [],
    "deepnote_cell_type": "markdown",
    "deepnote_cell_height": 69.390625
   }
  },
  {
   "cell_type": "code",
   "metadata": {
    "cell_id": "7ce989dd9bc541ed8bc70d00cc175ca1",
    "tags": [],
    "deepnote_to_be_reexecuted": false,
    "source_hash": "e2f3caa9",
    "execution_start": 1659621805729,
    "execution_millis": 816,
    "deepnote_cell_type": "code",
    "deepnote_cell_height": 227.1875,
    "deepnote_output_heights": [
     117.1875
    ]
   },
   "source": "scores[:, 2] = 10\nscores",
   "execution_count": 48,
   "outputs": [
    {
     "output_type": "execute_result",
     "execution_count": 48,
     "data": {
      "text/plain": "array([[ 1,  2, 10,  4,  5,  6,  7,  8],\n       [ 9, 10, 10, 12, 13, 14, 15, 16],\n       [17, 18, 10, 20, 21, 22, 23, 24],\n       [25, 26, 10, 28, 29, 30, 31, 32],\n       [33, 34, 10, 36, 37, 38, 39, 40],\n       [41, 42, 10, 44, 45, 46, 47, 48]])"
     },
     "metadata": {}
    }
   ]
  },
  {
   "cell_type": "markdown",
   "source": "10. Change the 4th row to 0s.",
   "metadata": {
    "cell_id": "db78c5ef00cd4457b1a9fe7c3f8959bc",
    "tags": [],
    "deepnote_cell_type": "markdown",
    "deepnote_cell_height": 69.390625
   }
  },
  {
   "cell_type": "code",
   "source": "scores[3, :] = 0\nscores",
   "metadata": {
    "cell_id": "6e808ef3699a44568c98fcc664be89d0",
    "tags": [],
    "deepnote_to_be_reexecuted": false,
    "source_hash": "1fae31d8",
    "execution_start": 1659621830549,
    "execution_millis": 11,
    "deepnote_cell_type": "code",
    "deepnote_cell_height": 227.1875,
    "deepnote_output_heights": [
     117.1875
    ]
   },
   "execution_count": 50,
   "outputs": [
    {
     "output_type": "execute_result",
     "execution_count": 50,
     "data": {
      "text/plain": "array([[ 1,  2, 10,  4,  5,  6,  7,  8],\n       [ 9, 10, 10, 12, 13, 14, 15, 16],\n       [17, 18, 10, 20, 21, 22, 23, 24],\n       [ 0,  0,  0,  0,  0,  0,  0,  0],\n       [33, 34, 10, 36, 37, 38, 39, 40],\n       [41, 42, 10, 44, 45, 46, 47, 48]])"
     },
     "metadata": {}
    }
   ]
  },
  {
   "cell_type": "markdown",
   "source": "<a style='text-decoration:none;line-height:16px;display:flex;color:#5B5B62;padding:10px;justify-content:end;' href='https://deepnote.com?utm_source=created-in-deepnote-cell&projectId=f12bb307-0323-41b8-b58a-a3dc423d7ca4' target=\"_blank\">\n<img alt='Created in deepnote.com' style='display:inline;max-height:16px;margin:0px;margin-right:7.5px;' src='data:image/svg+xml;base64,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' > </img>\nCreated in <span style='font-weight:600;margin-left:4px;'>Deepnote</span></a>",
   "metadata": {
    "tags": [],
    "created_in_deepnote_cell": true,
    "deepnote_cell_type": "markdown"
   }
  }
 ],
 "nbformat": 4,
 "nbformat_minor": 2,
 "metadata": {
  "orig_nbformat": 2,
  "deepnote": {},
  "deepnote_notebook_id": "68b37eb4-e6d4-4bfa-af2a-d328666181e7",
  "deepnote_execution_queue": []
 }
}