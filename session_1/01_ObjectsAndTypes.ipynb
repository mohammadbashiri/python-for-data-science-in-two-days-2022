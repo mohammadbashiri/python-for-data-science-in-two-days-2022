{
 "cells": [
  {
   "cell_type": "markdown",
   "source": "## Functions and packages",
   "metadata": {
    "cell_id": "e428b23b19d44e0bb5b6ac3f8b1e095b",
    "tags": [],
    "deepnote_cell_type": "markdown",
    "deepnote_cell_height": 70
   }
  },
  {
   "cell_type": "markdown",
   "source": "So far we used Python as a calculator and performed some math operations. But Python has a lot more to offer through functions that are readily available.\n\nBut.. what is a function? A function is a piece of code that takes some input and does something with the input (e.g. displays the input, or gives back something as an output). In python, they usually have the following syntax:\n\n```\noutput = function_name(input)\noutput = function_name(argument1, argument2)\n```\n<br>\n\nFor instance, the function `print` would take a text as input and displays it:\n``` python\n>>> print(\"Hello!\")\nHello!\n```\n<br>\n\nLet's try some other functions.",
   "metadata": {
    "cell_id": "79601a89d28e4a1980d331f4b9bc8098",
    "tags": [],
    "deepnote_cell_type": "markdown",
    "deepnote_cell_height": 399.9375
   }
  },
  {
   "cell_type": "code",
   "metadata": {
    "cell_id": "8927b4a156754d19bba956f9aa51a3e4",
    "tags": [],
    "deepnote_to_be_reexecuted": false,
    "source_hash": "399ed47f",
    "execution_start": 1659614527996,
    "execution_millis": 107,
    "deepnote_cell_type": "code",
    "deepnote_cell_height": 106.859375
   },
   "source": "print(\"Hello\")",
   "outputs": [
    {
     "name": "stdout",
     "text": "Hello\n",
     "output_type": "stream"
    }
   ],
   "execution_count": null
  },
  {
   "cell_type": "markdown",
   "source": "### Exercise (quick): Aggregating a list of values into a single value",
   "metadata": {
    "cell_id": "1f913c13cac141b5a8d73215c7b49c27",
    "tags": [],
    "deepnote_cell_type": "markdown",
    "deepnote_cell_height": 94
   }
  },
  {
   "cell_type": "markdown",
   "source": "Some examples of other readily available Python functions are `min`, `max`, `sum`, and `len`. Let's use them and see what they do.",
   "metadata": {
    "cell_id": "87d8f778554e4d40a215bed1ee7cf80b",
    "tags": [],
    "deepnote_cell_type": "markdown",
    "deepnote_cell_height": 74.78125
   }
  },
  {
   "cell_type": "markdown",
   "source": "Read the following lines of Python and try to guess their output.  Then, run the code to see if you were correct.",
   "metadata": {
    "cell_id": "a081299ae81846128464bcf00339ab4f",
    "tags": [],
    "deepnote_cell_type": "markdown",
    "deepnote_cell_height": 74.78125
   }
  },
  {
   "cell_type": "markdown",
   "source": "```python\nmin([3, 6, 5, 2])\n```",
   "metadata": {
    "cell_id": "e7632b9894b444ca98d7247f12e4c1d2",
    "tags": [],
    "deepnote_cell_type": "markdown",
    "deepnote_cell_height": 72.390625
   }
  },
  {
   "cell_type": "code",
   "metadata": {
    "cell_id": "645f1a51642f4b10aa2d908c3302a9ae",
    "tags": [],
    "deepnote_to_be_reexecuted": false,
    "source_hash": "7173c438",
    "execution_start": 1659614561729,
    "execution_millis": 3,
    "deepnote_cell_type": "code",
    "deepnote_cell_height": 113.1875,
    "deepnote_output_heights": [
     21.1875
    ]
   },
   "source": "min([3, 6, 5, 2])",
   "outputs": [
    {
     "output_type": "execute_result",
     "execution_count": 2,
     "data": {
      "text/plain": "2"
     },
     "metadata": {}
    }
   ],
   "execution_count": null
  },
  {
   "cell_type": "markdown",
   "source": "```python\nmax([3, 6, 5, 2])\n```",
   "metadata": {
    "cell_id": "d78141ce279e45cf9f60ea636f5f6fe2",
    "tags": [],
    "deepnote_cell_type": "markdown",
    "deepnote_cell_height": 72.390625
   }
  },
  {
   "cell_type": "code",
   "source": "max([3, 6, 5, 2])",
   "metadata": {
    "cell_id": "80d0c77ed7514d9b9395bb3d35348093",
    "tags": [],
    "deepnote_to_be_reexecuted": false,
    "source_hash": "76022190",
    "execution_start": 1659614564054,
    "execution_millis": 8,
    "deepnote_cell_type": "code",
    "deepnote_cell_height": 113.1875,
    "deepnote_output_heights": [
     21.1875
    ]
   },
   "outputs": [
    {
     "output_type": "execute_result",
     "execution_count": 3,
     "data": {
      "text/plain": "6"
     },
     "metadata": {}
    }
   ],
   "execution_count": null
  },
  {
   "cell_type": "markdown",
   "source": "```\nsum([1, 2, 3, 4])\n```",
   "metadata": {
    "cell_id": "85257596d99a4bf4ac8b56a8d6543676",
    "tags": [],
    "deepnote_cell_type": "markdown",
    "deepnote_cell_height": 70.78125
   }
  },
  {
   "cell_type": "code",
   "source": "sum([1, 2, 3, 4])",
   "metadata": {
    "cell_id": "a06c50be40724a2885323b4b680ad273",
    "tags": [],
    "deepnote_to_be_reexecuted": false,
    "source_hash": "94d69d78",
    "execution_start": 1659614602578,
    "execution_millis": 0,
    "deepnote_cell_type": "code",
    "deepnote_cell_height": 113.1875,
    "deepnote_output_heights": [
     21.1875
    ]
   },
   "outputs": [
    {
     "output_type": "execute_result",
     "execution_count": 4,
     "data": {
      "text/plain": "10"
     },
     "metadata": {}
    }
   ],
   "execution_count": null
  },
  {
   "cell_type": "markdown",
   "source": "```python\nlen([1, 2, 5, 6])\n```",
   "metadata": {
    "cell_id": "3bbf12b1a7da45909e41c75c80885ef7",
    "tags": [],
    "deepnote_cell_type": "markdown",
    "deepnote_cell_height": 72.390625
   }
  },
  {
   "cell_type": "code",
   "source": "len([1, 2, 5, 6])",
   "metadata": {
    "cell_id": "7d9f869def104dbebd3ddc04468d22b8",
    "tags": [],
    "deepnote_to_be_reexecuted": false,
    "source_hash": "3c0872f1",
    "execution_start": 1659614604824,
    "execution_millis": 8,
    "deepnote_cell_type": "code",
    "deepnote_cell_height": 113.1875,
    "deepnote_output_heights": [
     21.1875
    ]
   },
   "outputs": [
    {
     "output_type": "execute_result",
     "execution_count": 5,
     "data": {
      "text/plain": "4"
     },
     "metadata": {}
    }
   ],
   "execution_count": null
  },
  {
   "cell_type": "markdown",
   "source": "These readily available functions are commonly referred to as **built-in** functions. As soon as you are in a Python environment, you can use them.\n\n**Standard Library**: But.. are there more functions? What if we want more functions other than the built-in ones? This is where python **libraries/packages** come in. Python includes a handful of packages that contain useful functions. Packages are simply a collection of functions, sitting in a file. To access them, you first have to import the **package**. Then you can use a function inside the package using the following syntax:\n\n```\nimport package\noutput = package.function(input)\n```\n<br>\n\nLet's try one of these standard libraries. To use these libraries, first we need to import them:\n```\nimport math\n```\n<br>\n\nAs soon as we import it, we have all its functions available to us. But how do we know what functions it has? There are several ways to find that out: my favorite, and probably the fastest way, is **tab completion**. Type `math.` and press TAB. \n\nLet's choose one of them (e.g. `math.degrees`). Can you tell what it does?\n\nThere is an easy way to check what a function does, using the function `help`:\n```\nhelp(math.degrees)\n```\n<br>\n\nThis will display some text explaining what the function does, what kinds of inputs it needs, etc.\n\n**Note** that libraries do not only provide functions, but they can also provide useful values/variables. For instance `math.pi` holds the $\\pi$ value.\n\n#### Some terminology:\n* Functions in a python library are usually referred to as **methods**\n* Values in python a python library are usually referred to as **attributes**",
   "metadata": {
    "cell_id": "6161c1de11ac45ef96a3b9f15bbae5de",
    "tags": [],
    "deepnote_cell_type": "markdown",
    "deepnote_cell_height": 830.875
   }
  },
  {
   "cell_type": "code",
   "metadata": {
    "cell_id": "0c767c8ff7db4bbcac69c58e61dc207f",
    "tags": [],
    "deepnote_to_be_reexecuted": false,
    "source_hash": "ff143fe",
    "execution_start": 1659615204729,
    "execution_millis": 0,
    "deepnote_cell_type": "code",
    "deepnote_cell_height": 76
   },
   "source": "import math",
   "outputs": [],
   "execution_count": null
  },
  {
   "cell_type": "code",
   "metadata": {
    "cell_id": "58b521a916a74209a607db439a4d0adb",
    "tags": [],
    "deepnote_to_be_reexecuted": false,
    "source_hash": "c1cf5c20",
    "execution_start": 1659615204857,
    "execution_millis": 667,
    "deepnote_cell_type": "code",
    "deepnote_cell_height": 186.3125
   },
   "source": "help(math.degrees)",
   "outputs": [
    {
     "name": "stdout",
     "text": "Help on built-in function degrees in module math:\n\ndegrees(x, /)\n    Convert angle x from radians to degrees.\n\n",
     "output_type": "stream"
    }
   ],
   "execution_count": null
  },
  {
   "cell_type": "code",
   "metadata": {
    "cell_id": "32472334cfe5420dab71da020536356a",
    "tags": [],
    "deepnote_to_be_reexecuted": false,
    "source_hash": "d793959",
    "execution_start": 1659615206949,
    "execution_millis": 4,
    "deepnote_cell_type": "code",
    "deepnote_cell_height": 703,
    "deepnote_output_heights": [
     611
    ]
   },
   "source": "dir(math)",
   "outputs": [
    {
     "output_type": "execute_result",
     "execution_count": 9,
     "data": {
      "text/plain": "['__doc__',\n '__file__',\n '__loader__',\n '__name__',\n '__package__',\n '__spec__',\n 'acos',\n 'acosh',\n 'asin',\n 'asinh',\n 'atan',\n 'atan2',\n 'atanh',\n 'ceil',\n 'comb',\n 'copysign',\n 'cos',\n 'cosh',\n 'degrees',\n 'dist',\n 'e',\n 'erf',\n 'erfc',\n 'exp',\n 'expm1',\n 'fabs',\n 'factorial',\n 'floor',\n 'fmod',\n 'frexp',\n 'fsum',\n 'gamma',\n 'gcd',\n 'hypot',\n 'inf',\n 'isclose',\n 'isfinite',\n 'isinf',\n 'isnan',\n 'isqrt',\n 'lcm',\n 'ldexp',\n 'lgamma',\n 'log',\n 'log10',\n 'log1p',\n 'log2',\n 'modf',\n 'nan',\n 'nextafter',\n 'perm',\n 'pi',\n 'pow',\n 'prod',\n 'radians',\n 'remainder',\n 'sin',\n 'sinh',\n 'sqrt',\n 'tan',\n 'tanh',\n 'tau',\n 'trunc',\n 'ulp']"
     },
     "metadata": {}
    }
   ],
   "execution_count": null
  },
  {
   "cell_type": "markdown",
   "source": "### Exercise\n\nAnswer the following questions using the `math` library.",
   "metadata": {
    "cell_id": "7d47ee86e030436282ac004350ce1e94",
    "tags": [],
    "deepnote_cell_type": "markdown",
    "deepnote_cell_height": 100.390625
   }
  },
  {
   "cell_type": "markdown",
   "source": "1. What is the square root of 72?",
   "metadata": {
    "cell_id": "3abb38ca5ff441ebaffe6ceaf9729510",
    "tags": [],
    "deepnote_cell_type": "markdown",
    "deepnote_cell_height": 69.390625
   }
  },
  {
   "cell_type": "code",
   "metadata": {
    "cell_id": "0ad3660799434511bf0e0ffcd39f5726",
    "tags": [],
    "deepnote_to_be_reexecuted": false,
    "source_hash": "ff143fe",
    "execution_start": 1659615210916,
    "execution_millis": 0,
    "deepnote_cell_type": "code",
    "deepnote_cell_height": 76
   },
   "source": "import math",
   "outputs": [],
   "execution_count": null
  },
  {
   "cell_type": "code",
   "metadata": {
    "cell_id": "5e9dde3f5f074063921f8e34194318af",
    "tags": [],
    "deepnote_to_be_reexecuted": false,
    "source_hash": "c65e4676",
    "execution_start": 1659615211750,
    "execution_millis": 14,
    "deepnote_cell_type": "code",
    "deepnote_cell_height": 113.1875,
    "deepnote_output_heights": [
     21.1875
    ]
   },
   "source": "math.sqrt(72)",
   "outputs": [
    {
     "output_type": "execute_result",
     "execution_count": 11,
     "data": {
      "text/plain": "8.48528137423857"
     },
     "metadata": {}
    }
   ],
   "execution_count": null
  },
  {
   "cell_type": "markdown",
   "source": "2. What is the log of 20?",
   "metadata": {
    "cell_id": "31abae0d2e1f4893a494bd31d95accb8",
    "tags": [],
    "deepnote_cell_type": "markdown",
    "deepnote_cell_height": 69.390625
   }
  },
  {
   "cell_type": "code",
   "metadata": {
    "cell_id": "52a283d661994adeb9f5fd2001cfeb63",
    "tags": [],
    "deepnote_to_be_reexecuted": false,
    "source_hash": "83e28255",
    "execution_start": 1659615213192,
    "execution_millis": 825,
    "deepnote_cell_type": "code",
    "deepnote_cell_height": 113.1875,
    "deepnote_output_heights": [
     21.1875
    ]
   },
   "source": "math.log(20)",
   "outputs": [
    {
     "output_type": "execute_result",
     "execution_count": 12,
     "data": {
      "text/plain": "2.995732273553991"
     },
     "metadata": {}
    }
   ],
   "execution_count": null
  },
  {
   "cell_type": "markdown",
   "source": "3. What is the cosine of pi?",
   "metadata": {
    "cell_id": "000c9cc33ebf498995189612e8a32625",
    "tags": [],
    "deepnote_cell_type": "markdown",
    "deepnote_cell_height": 69.390625
   }
  },
  {
   "cell_type": "code",
   "metadata": {
    "cell_id": "5854528d0ba441c680e018e895b8857b",
    "tags": [],
    "deepnote_to_be_reexecuted": false,
    "source_hash": "cd85009f",
    "execution_start": 1659615217910,
    "execution_millis": 6,
    "deepnote_cell_type": "code",
    "deepnote_cell_height": 113.1875,
    "deepnote_output_heights": [
     21.1875
    ]
   },
   "source": "math.cos(math.pi)",
   "outputs": [
    {
     "output_type": "execute_result",
     "execution_count": 13,
     "data": {
      "text/plain": "-1.0"
     },
     "metadata": {}
    }
   ],
   "execution_count": null
  },
  {
   "cell_type": "markdown",
   "source": "4. What values do the following equations result in.\n\n1) $tan^{-1}(\\frac{1}{2}) + \\tan^{-1}(\\frac{1}{3})$\n2) $4tan^{-1}(\\frac{1}{5}) - \\tan^{-1}(\\frac{1}{239})$\n\nAre they equal to $\\frac{\\pi}{4}$?",
   "metadata": {
    "cell_id": "02b7df6a43ab4cb592efadd694c327ab",
    "tags": [],
    "deepnote_cell_type": "markdown",
    "deepnote_cell_height": 153.578125
   }
  },
  {
   "cell_type": "code",
   "source": "res1 = math.atan(1/2) + math.atan(1/3)\nres2 = 4 * math.atan(1/5) - math.atan(1/239)",
   "metadata": {
    "cell_id": "dbd533ef7ea548bd893fbb04025ffdb2",
    "tags": [],
    "deepnote_to_be_reexecuted": false,
    "source_hash": "9bc525a6",
    "execution_start": 1659615261915,
    "execution_millis": 2,
    "deepnote_cell_type": "code",
    "deepnote_cell_height": 94
   },
   "outputs": [],
   "execution_count": null
  },
  {
   "cell_type": "code",
   "source": "res1, res2",
   "metadata": {
    "cell_id": "bb09612a4eca4b98933a02544b615469",
    "tags": [],
    "deepnote_to_be_reexecuted": false,
    "source_hash": "39e7b14",
    "execution_start": 1659615272531,
    "execution_millis": 6,
    "deepnote_cell_type": "code",
    "deepnote_cell_height": 113.1875,
    "deepnote_output_heights": [
     21.1875
    ]
   },
   "outputs": [
    {
     "output_type": "execute_result",
     "execution_count": 17,
     "data": {
      "text/plain": "(0.7853981633974483, 0.7853981633974484)"
     },
     "metadata": {}
    }
   ],
   "execution_count": null
  },
  {
   "cell_type": "code",
   "metadata": {
    "cell_id": "863e3b48e918433d80ccb36d182f9eba",
    "tags": [],
    "deepnote_to_be_reexecuted": false,
    "source_hash": "59f05f82",
    "execution_start": 1659615276283,
    "execution_millis": 4,
    "deepnote_cell_type": "code",
    "deepnote_cell_height": 113.1875,
    "deepnote_output_heights": [
     21.1875
    ]
   },
   "source": "math.pi/4",
   "outputs": [
    {
     "output_type": "execute_result",
     "execution_count": 18,
     "data": {
      "text/plain": "0.7853981633974483"
     },
     "metadata": {}
    }
   ],
   "execution_count": null
  },
  {
   "cell_type": "markdown",
   "source": "### Third-party libraries\n\nSo far we heard about **built-in** functions that are directly avaible in Python and the functions (or methods) provided by Python's **standard libraries** (`math` library was just one example). But it does not stop there..\n\nMany Python users and developers come up with libraries that they can share with the rest of the world, and of course we can use them too! These kind of libraries are called **third-party libraries**. In constrast to the standard libraries that are shipped with Python and we just need to import them, the third-party libraries need to be installed first and only then can be imported and used. You can install a third-party library by running the following commmand in your terminal:\n\n```\npip install <package_name>\n```\n<br>\n\nSince all the packages that we need for this workshop are already available in the Deepnote environment, we will not go through this, but if you are interested you can take a look at [this short tutorial](https://datatofish.com/install-package-python-using-pip/).",
   "metadata": {
    "cell_id": "abdbe1b382d24b9fa1c24e2c989a9e2c",
    "tags": [],
    "deepnote_cell_type": "markdown",
    "deepnote_cell_height": 437.9375
   }
  },
  {
   "cell_type": "markdown",
   "source": "---",
   "metadata": {
    "cell_id": "4192dd5a96ad4f68852adf6c072a79e5",
    "tags": [],
    "deepnote_cell_type": "markdown",
    "deepnote_cell_height": 46
   }
  },
  {
   "cell_type": "markdown",
   "source": "## Namespaces and objects",
   "metadata": {
    "cell_id": "fe234336ae3547c884abefc55d59e044",
    "tags": [],
    "deepnote_cell_type": "markdown",
    "deepnote_cell_height": 70
   }
  },
  {
   "cell_type": "markdown",
   "source": "Before we proceed I want to talk about two concepts that are important in programming world, and I want to make them clear now: Namespaces and Objects.\n\n### Namespaces\nThis is something I struggled with in the early days, but it turned out that it is actually pretty simple!\n**Namespace is a space where names are unique**.\n\nFor instance, let's think about a household: a family with several members. In a family, usually the kids are named uniquely:\n\n- Family 1: Sara, <font color='red'>Daniel</font>, and Elisabeth\n- Family 2: Jonas, Ali, and <font color='red'>Daniel</font>\nWhat makes the two <font color='red'>Daniel</font>s unique? - the family name..\n\nSpace -> family, and\nThe name of the pace (namespace) -> family name\n\n- But, in the context of porgamming, what kind of space are we talking about? -> **Memory space**...\n- What do we do within this space? -> **define variables, functions, etc** with unique names\n\nFor instance, a package is a namespace: within a specific packages functions must have unique names, but two different packages can have a function with the same name, because the functions can be distinguished by the package name (i.e. namesapce). \n\nHere is an example:",
   "metadata": {
    "cell_id": "af0ba5a0ee4d4fb687ec6218cf78425e",
    "tags": [],
    "deepnote_cell_type": "markdown",
    "deepnote_cell_height": 621.515625
   }
  },
  {
   "cell_type": "code",
   "metadata": {
    "cell_id": "c5e57a169c61435c9475b19318adab68",
    "tags": [],
    "deepnote_to_be_reexecuted": false,
    "source_hash": "30f240e6",
    "execution_start": 1659615504009,
    "execution_millis": 0,
    "deepnote_cell_type": "code",
    "deepnote_cell_height": 94
   },
   "source": "import math\nimport numpy",
   "outputs": [],
   "execution_count": null
  },
  {
   "cell_type": "code",
   "metadata": {
    "cell_id": "75c4ac6492764b0ca8d5e115782549ea",
    "tags": [],
    "deepnote_to_be_reexecuted": false,
    "source_hash": "72485629",
    "execution_start": 1659615507473,
    "execution_millis": 17,
    "deepnote_cell_type": "code",
    "deepnote_cell_height": 186.3125
   },
   "source": "help(math.sqrt)",
   "outputs": [
    {
     "name": "stdout",
     "text": "Help on built-in function sqrt in module math:\n\nsqrt(x, /)\n    Return the square root of x.\n\n",
     "output_type": "stream"
    }
   ],
   "execution_count": null
  },
  {
   "cell_type": "code",
   "source": "help(numpy.sqrt)",
   "metadata": {
    "cell_id": "7190ea2305964c78be2ece4acced88ee",
    "tags": [],
    "deepnote_to_be_reexecuted": false,
    "source_hash": "709ce217",
    "execution_start": 1659615516857,
    "execution_millis": 1,
    "deepnote_cell_type": "code",
    "deepnote_cell_height": 696
   },
   "outputs": [
    {
     "name": "stdout",
     "text": "Help on ufunc:\n\nsqrt = <ufunc 'sqrt'>\n    sqrt(x, /, out=None, *, where=True, casting='same_kind', order='K', dtype=None, subok=True[, signature, extobj])\n    \n    Return the non-negative square-root of an array, element-wise.\n    \n    Parameters\n    ----------\n    x : array_like\n        The values whose square-roots are required.\n    out : ndarray, None, or tuple of ndarray and None, optional\n        A location into which the result is stored. If provided, it must have\n        a shape that the inputs broadcast to. If not provided or None,\n        a freshly-allocated array is returned. A tuple (possible only as a\n        keyword argument) must have length equal to the number of outputs.\n    where : array_like, optional\n        This condition is broadcast over the input. At locations where the\n        condition is True, the `out` array will be set to the ufunc result.\n        Elsewhere, the `out` array will retain its original value.\n        Note that if an uninitialized `out` array is created via the default\n        ``out=None``, locations within it where the condition is False will\n        remain uninitialized.\n    **kwargs\n        For other keyword-only arguments, see the\n        :ref:`ufunc docs <ufuncs.kwargs>`.\n    \n    Returns\n    -------\n    y : ndarray\n        An array of the same shape as `x`, containing the positive\n        square-root of each element in `x`.  If any element in `x` is\n        complex, a complex array is returned (and the square-roots of\n        negative reals are calculated).  If all of the elements in `x`\n        are real, so is `y`, with negative elements returning ``nan``.\n        If `out` was provided, `y` is a reference to it.\n        This is a scalar if `x` is a scalar.\n    \n    See Also\n    --------\n    emath.sqrt\n        A version which returns complex numbers when given negative reals.\n        Note: 0.0 and -0.0 are handled differently for complex inputs.\n    \n    Notes\n    -----\n    *sqrt* has--consistent with common convention--as its branch cut the\n    real \"interval\" [`-inf`, 0), and is continuous from above on it.\n    A branch cut is a curve in the complex plane across which a given\n    complex function fails to be continuous.\n    \n    Examples\n    --------\n    >>> np.sqrt([1,4,9])\n    array([ 1.,  2.,  3.])\n    \n    >>> np.sqrt([4, -1, -3+4J])\n    array([ 2.+0.j,  0.+1.j,  1.+2.j])\n    \n    >>> np.sqrt([4, -1, np.inf])\n    array([ 2., nan, inf])\n\n",
     "output_type": "stream"
    }
   ],
   "execution_count": null
  },
  {
   "cell_type": "markdown",
   "source": "`math` and `numpy` are each a namedspace which allows the `min` method in each package to be unique.",
   "metadata": {
    "cell_id": "8b3c18ba77df40789b2713d0af1b25eb",
    "tags": [],
    "deepnote_cell_type": "markdown",
    "deepnote_cell_height": 74.78125
   }
  },
  {
   "cell_type": "markdown",
   "source": "### Objects\n\nWhat are **objects** and what is their relation to namedspaces? -> **anything that occupies memory space is an object!**\n\n- the packages that we import are objects\n- the method inside packages are objects\n- a variable that you define in python (e.g. `a = 2`) is an object\n\nIn general, everything in Python is an object and objects usually have methods and attributes attached with them (a package is just one example of an object).\n\nOk, so if I have an object how do I know what attributes and methods does it have? -> there is also a function for this: `dir()`\n\nLet's try it!",
   "metadata": {
    "cell_id": "c4b10d2000ca49f699746a85fbe939c1",
    "tags": [],
    "deepnote_cell_type": "markdown",
    "deepnote_cell_height": 363.953125
   }
  },
  {
   "cell_type": "code",
   "metadata": {
    "cell_id": "9409bedda6de4cb0a6728427f098069d",
    "tags": [],
    "deepnote_to_be_reexecuted": false,
    "source_hash": "75fbb619",
    "execution_start": 1659615572424,
    "execution_millis": 1,
    "deepnote_cell_type": "code",
    "deepnote_cell_height": 76
   },
   "source": "a = 2",
   "outputs": [],
   "execution_count": null
  },
  {
   "cell_type": "code",
   "metadata": {
    "cell_id": "b2ea5d0564304f5dabc7237f62e60719",
    "tags": [],
    "deepnote_to_be_reexecuted": false,
    "source_hash": "b000bcba",
    "execution_start": 1659615573470,
    "execution_millis": 30,
    "deepnote_cell_type": "code",
    "deepnote_cell_height": 703,
    "deepnote_output_heights": [
     611
    ]
   },
   "source": "dir(a)",
   "outputs": [
    {
     "output_type": "execute_result",
     "execution_count": 24,
     "data": {
      "text/plain": "['__abs__',\n '__add__',\n '__and__',\n '__bool__',\n '__ceil__',\n '__class__',\n '__delattr__',\n '__dir__',\n '__divmod__',\n '__doc__',\n '__eq__',\n '__float__',\n '__floor__',\n '__floordiv__',\n '__format__',\n '__ge__',\n '__getattribute__',\n '__getnewargs__',\n '__gt__',\n '__hash__',\n '__index__',\n '__init__',\n '__init_subclass__',\n '__int__',\n '__invert__',\n '__le__',\n '__lshift__',\n '__lt__',\n '__mod__',\n '__mul__',\n '__ne__',\n '__neg__',\n '__new__',\n '__or__',\n '__pos__',\n '__pow__',\n '__radd__',\n '__rand__',\n '__rdivmod__',\n '__reduce__',\n '__reduce_ex__',\n '__repr__',\n '__rfloordiv__',\n '__rlshift__',\n '__rmod__',\n '__rmul__',\n '__ror__',\n '__round__',\n '__rpow__',\n '__rrshift__',\n '__rshift__',\n '__rsub__',\n '__rtruediv__',\n '__rxor__',\n '__setattr__',\n '__sizeof__',\n '__str__',\n '__sub__',\n '__subclasshook__',\n '__truediv__',\n '__trunc__',\n '__xor__',\n 'as_integer_ratio',\n 'bit_length',\n 'conjugate',\n 'denominator',\n 'from_bytes',\n 'imag',\n 'numerator',\n 'real',\n 'to_bytes']"
     },
     "metadata": {}
    }
   ],
   "execution_count": null
  },
  {
   "cell_type": "code",
   "metadata": {
    "cell_id": "19c51a5414584262bb6290d03eeccaa9",
    "tags": [],
    "deepnote_to_be_reexecuted": false,
    "source_hash": "d793959",
    "execution_start": 1659615574623,
    "execution_millis": 355,
    "deepnote_cell_type": "code",
    "deepnote_cell_height": 703,
    "deepnote_output_heights": [
     611
    ]
   },
   "source": "dir(math)",
   "outputs": [
    {
     "output_type": "execute_result",
     "execution_count": 25,
     "data": {
      "text/plain": "['__doc__',\n '__file__',\n '__loader__',\n '__name__',\n '__package__',\n '__spec__',\n 'acos',\n 'acosh',\n 'asin',\n 'asinh',\n 'atan',\n 'atan2',\n 'atanh',\n 'ceil',\n 'comb',\n 'copysign',\n 'cos',\n 'cosh',\n 'degrees',\n 'dist',\n 'e',\n 'erf',\n 'erfc',\n 'exp',\n 'expm1',\n 'fabs',\n 'factorial',\n 'floor',\n 'fmod',\n 'frexp',\n 'fsum',\n 'gamma',\n 'gcd',\n 'hypot',\n 'inf',\n 'isclose',\n 'isfinite',\n 'isinf',\n 'isnan',\n 'isqrt',\n 'lcm',\n 'ldexp',\n 'lgamma',\n 'log',\n 'log10',\n 'log1p',\n 'log2',\n 'modf',\n 'nan',\n 'nextafter',\n 'perm',\n 'pi',\n 'pow',\n 'prod',\n 'radians',\n 'remainder',\n 'sin',\n 'sinh',\n 'sqrt',\n 'tan',\n 'tanh',\n 'tau',\n 'trunc',\n 'ulp']"
     },
     "metadata": {}
    }
   ],
   "execution_count": null
  },
  {
   "cell_type": "code",
   "metadata": {
    "cell_id": "991f6a4af080427c8a09b6b627ec3710",
    "tags": [],
    "deepnote_to_be_reexecuted": false,
    "source_hash": "6311fb6d",
    "execution_start": 1659615575195,
    "execution_millis": 4,
    "deepnote_cell_type": "code",
    "deepnote_cell_height": 650.71875,
    "deepnote_output_heights": [
     558.734375
    ]
   },
   "source": "dir(math.degrees)",
   "outputs": [
    {
     "output_type": "execute_result",
     "execution_count": 26,
     "data": {
      "text/plain": "['__call__',\n '__class__',\n '__delattr__',\n '__dir__',\n '__doc__',\n '__eq__',\n '__format__',\n '__ge__',\n '__getattribute__',\n '__gt__',\n '__hash__',\n '__init__',\n '__init_subclass__',\n '__le__',\n '__lt__',\n '__module__',\n '__name__',\n '__ne__',\n '__new__',\n '__qualname__',\n '__reduce__',\n '__reduce_ex__',\n '__repr__',\n '__self__',\n '__setattr__',\n '__sizeof__',\n '__str__',\n '__subclasshook__',\n '__text_signature__']"
     },
     "metadata": {}
    }
   ],
   "execution_count": null
  },
  {
   "cell_type": "code",
   "metadata": {
    "cell_id": "9add9be56d57432198c5081c76fbb349",
    "tags": [],
    "deepnote_to_be_reexecuted": false,
    "source_hash": "cab5234d",
    "execution_start": 1659027058330,
    "execution_millis": 3,
    "deepnote_cell_type": "code",
    "deepnote_cell_height": 739,
    "deepnote_output_heights": [
     611
    ]
   },
   "source": "a = 2\n\ndir(a)",
   "execution_count": null,
   "outputs": [
    {
     "output_type": "execute_result",
     "execution_count": 20,
     "data": {
      "text/plain": "['__abs__',\n '__add__',\n '__and__',\n '__bool__',\n '__ceil__',\n '__class__',\n '__delattr__',\n '__dir__',\n '__divmod__',\n '__doc__',\n '__eq__',\n '__float__',\n '__floor__',\n '__floordiv__',\n '__format__',\n '__ge__',\n '__getattribute__',\n '__getnewargs__',\n '__gt__',\n '__hash__',\n '__index__',\n '__init__',\n '__init_subclass__',\n '__int__',\n '__invert__',\n '__le__',\n '__lshift__',\n '__lt__',\n '__mod__',\n '__mul__',\n '__ne__',\n '__neg__',\n '__new__',\n '__or__',\n '__pos__',\n '__pow__',\n '__radd__',\n '__rand__',\n '__rdivmod__',\n '__reduce__',\n '__reduce_ex__',\n '__repr__',\n '__rfloordiv__',\n '__rlshift__',\n '__rmod__',\n '__rmul__',\n '__ror__',\n '__round__',\n '__rpow__',\n '__rrshift__',\n '__rshift__',\n '__rsub__',\n '__rtruediv__',\n '__rxor__',\n '__setattr__',\n '__sizeof__',\n '__str__',\n '__sub__',\n '__subclasshook__',\n '__truediv__',\n '__trunc__',\n '__xor__',\n 'as_integer_ratio',\n 'bit_length',\n 'conjugate',\n 'denominator',\n 'from_bytes',\n 'imag',\n 'numerator',\n 'real',\n 'to_bytes']"
     },
     "metadata": {}
    }
   ]
  },
  {
   "cell_type": "markdown",
   "source": "### Exercise (quick)",
   "metadata": {
    "cell_id": "96f759ba00fe41088e5ae117e95ae19b",
    "tags": [],
    "deepnote_cell_type": "markdown",
    "deepnote_cell_height": 62
   }
  },
  {
   "cell_type": "markdown",
   "source": "1. What functions does the `numpy` package contain?",
   "metadata": {
    "cell_id": "47de165911dd4e22919b182017fb7807",
    "tags": [],
    "deepnote_cell_type": "markdown",
    "deepnote_cell_height": 69.390625
   }
  },
  {
   "cell_type": "code",
   "source": "import numpy as np",
   "metadata": {
    "cell_id": "d69fa4b94bb74d6893ded8379886d20d",
    "tags": [],
    "deepnote_to_be_reexecuted": false,
    "source_hash": "c2602aa8",
    "execution_start": 1659615588183,
    "execution_millis": 0,
    "deepnote_cell_type": "code",
    "deepnote_cell_height": 76
   },
   "outputs": [],
   "execution_count": null
  },
  {
   "cell_type": "code",
   "metadata": {
    "cell_id": "c30aac17b2544deaa4dfd6dddf40308b",
    "tags": [],
    "deepnote_to_be_reexecuted": false,
    "source_hash": "ebcf50e7",
    "execution_start": 1659615589043,
    "execution_millis": 159,
    "deepnote_cell_type": "code",
    "deepnote_cell_height": 703,
    "deepnote_output_heights": [
     611
    ]
   },
   "source": "dir(np)",
   "outputs": [
    {
     "output_type": "execute_result",
     "execution_count": 28,
     "data": {
      "text/plain": "['ALLOW_THREADS',\n 'AxisError',\n 'BUFSIZE',\n 'CLIP',\n 'ComplexWarning',\n 'DataSource',\n 'ERR_CALL',\n 'ERR_DEFAULT',\n 'ERR_IGNORE',\n 'ERR_LOG',\n 'ERR_PRINT',\n 'ERR_RAISE',\n 'ERR_WARN',\n 'FLOATING_POINT_SUPPORT',\n 'FPE_DIVIDEBYZERO',\n 'FPE_INVALID',\n 'FPE_OVERFLOW',\n 'FPE_UNDERFLOW',\n 'False_',\n 'Inf',\n 'Infinity',\n 'MAXDIMS',\n 'MAY_SHARE_BOUNDS',\n 'MAY_SHARE_EXACT',\n 'ModuleDeprecationWarning',\n 'NAN',\n 'NINF',\n 'NZERO',\n 'NaN',\n 'PINF',\n 'PZERO',\n 'RAISE',\n 'RankWarning',\n 'SHIFT_DIVIDEBYZERO',\n 'SHIFT_INVALID',\n 'SHIFT_OVERFLOW',\n 'SHIFT_UNDERFLOW',\n 'ScalarType',\n 'Tester',\n 'TooHardError',\n 'True_',\n 'UFUNC_BUFSIZE_DEFAULT',\n 'UFUNC_PYVALS_NAME',\n 'VisibleDeprecationWarning',\n 'WRAP',\n '_CopyMode',\n '_NoValue',\n '_UFUNC_API',\n '__NUMPY_SETUP__',\n '__all__',\n '__builtins__',\n '__cached__',\n '__config__',\n '__deprecated_attrs__',\n '__dir__',\n '__doc__',\n '__expired_functions__',\n '__file__',\n '__getattr__',\n '__git_version__',\n '__loader__',\n '__name__',\n '__package__',\n '__path__',\n '__spec__',\n '__version__',\n '_add_newdoc_ufunc',\n '_distributor_init',\n '_financial_names',\n '_globals',\n '_mat',\n '_pyinstaller_hooks_dir',\n '_pytesttester',\n '_version',\n 'abs',\n 'absolute',\n 'add',\n 'add_docstring',\n 'add_newdoc',\n 'add_newdoc_ufunc',\n 'all',\n 'allclose',\n 'alltrue',\n 'amax',\n 'amin',\n 'angle',\n 'any',\n 'append',\n 'apply_along_axis',\n 'apply_over_axes',\n 'arange',\n 'arccos',\n 'arccosh',\n 'arcsin',\n 'arcsinh',\n 'arctan',\n 'arctan2',\n 'arctanh',\n 'argmax',\n 'argmin',\n 'argpartition',\n 'argsort',\n 'argwhere',\n 'around',\n 'array',\n 'array2string',\n 'array_equal',\n 'array_equiv',\n 'array_repr',\n 'array_split',\n 'array_str',\n 'asanyarray',\n 'asarray',\n 'asarray_chkfinite',\n 'ascontiguousarray',\n 'asfarray',\n 'asfortranarray',\n 'asmatrix',\n 'atleast_1d',\n 'atleast_2d',\n 'atleast_3d',\n 'average',\n 'bartlett',\n 'base_repr',\n 'binary_repr',\n 'bincount',\n 'bitwise_and',\n 'bitwise_not',\n 'bitwise_or',\n 'bitwise_xor',\n 'blackman',\n 'block',\n 'bmat',\n 'bool8',\n 'bool_',\n 'broadcast',\n 'broadcast_arrays',\n 'broadcast_shapes',\n 'broadcast_to',\n 'busday_count',\n 'busday_offset',\n 'busdaycalendar',\n 'byte',\n 'byte_bounds',\n 'bytes0',\n 'bytes_',\n 'c_',\n 'can_cast',\n 'cast',\n 'cbrt',\n 'cdouble',\n 'ceil',\n 'cfloat',\n 'char',\n 'character',\n 'chararray',\n 'choose',\n 'clip',\n 'clongdouble',\n 'clongfloat',\n 'column_stack',\n 'common_type',\n 'compare_chararrays',\n 'compat',\n 'complex128',\n 'complex256',\n 'complex64',\n 'complex_',\n 'complexfloating',\n 'compress',\n 'concatenate',\n 'conj',\n 'conjugate',\n 'convolve',\n 'copy',\n 'copysign',\n 'copyto',\n 'core',\n 'corrcoef',\n 'correlate',\n 'cos',\n 'cosh',\n 'count_nonzero',\n 'cov',\n 'cross',\n 'csingle',\n 'ctypeslib',\n 'cumprod',\n 'cumproduct',\n 'cumsum',\n 'datetime64',\n 'datetime_as_string',\n 'datetime_data',\n 'deg2rad',\n 'degrees',\n 'delete',\n 'deprecate',\n 'deprecate_with_doc',\n 'diag',\n 'diag_indices',\n 'diag_indices_from',\n 'diagflat',\n 'diagonal',\n 'diff',\n 'digitize',\n 'disp',\n 'divide',\n 'divmod',\n 'dot',\n 'double',\n 'dsplit',\n 'dstack',\n 'dtype',\n 'e',\n 'ediff1d',\n 'einsum',\n 'einsum_path',\n 'emath',\n 'empty',\n 'empty_like',\n 'equal',\n 'errstate',\n 'euler_gamma',\n 'exp',\n 'exp2',\n 'expand_dims',\n 'expm1',\n 'extract',\n 'eye',\n 'fabs',\n 'fastCopyAndTranspose',\n 'fft',\n 'fill_diagonal',\n 'find_common_type',\n 'finfo',\n 'fix',\n 'flatiter',\n 'flatnonzero',\n 'flexible',\n 'flip',\n 'fliplr',\n 'flipud',\n 'float128',\n 'float16',\n 'float32',\n 'float64',\n 'float_',\n 'float_power',\n 'floating',\n 'floor',\n 'floor_divide',\n 'fmax',\n 'fmin',\n 'fmod',\n 'format_float_positional',\n 'format_float_scientific',\n 'format_parser',\n 'frexp',\n 'from_dlpack',\n 'frombuffer',\n 'fromfile',\n 'fromfunction',\n 'fromiter',\n 'frompyfunc',\n 'fromregex',\n 'fromstring',\n 'full',\n 'full_like',\n 'gcd',\n 'generic',\n 'genfromtxt',\n 'geomspace',\n 'get_array_wrap',\n 'get_include',\n 'get_printoptions',\n 'getbufsize',\n 'geterr',\n 'geterrcall',\n 'geterrobj',\n 'gradient',\n 'greater',\n 'greater_equal',\n 'half',\n 'hamming',\n 'hanning',\n 'heaviside',\n 'histogram',\n 'histogram2d',\n 'histogram_bin_edges',\n 'histogramdd',\n 'hsplit',\n 'hstack',\n 'hypot',\n 'i0',\n 'identity',\n 'iinfo',\n 'imag',\n 'in1d',\n 'index_exp',\n 'indices',\n 'inexact',\n 'inf',\n 'info',\n 'infty',\n 'inner',\n 'insert',\n 'int0',\n 'int16',\n 'int32',\n 'int64',\n 'int8',\n 'int_',\n 'intc',\n 'integer',\n 'interp',\n 'intersect1d',\n 'intp',\n 'invert',\n 'is_busday',\n 'isclose',\n 'iscomplex',\n 'iscomplexobj',\n 'isfinite',\n 'isfortran',\n 'isin',\n 'isinf',\n 'isnan',\n 'isnat',\n 'isneginf',\n 'isposinf',\n 'isreal',\n 'isrealobj',\n 'isscalar',\n 'issctype',\n 'issubclass_',\n 'issubdtype',\n 'issubsctype',\n 'iterable',\n 'ix_',\n 'kaiser',\n 'kernel_version',\n 'kron',\n 'lcm',\n 'ldexp',\n 'left_shift',\n 'less',\n 'less_equal',\n 'lexsort',\n 'lib',\n 'linalg',\n 'linspace',\n 'little_endian',\n 'load',\n 'loadtxt',\n 'log',\n 'log10',\n 'log1p',\n 'log2',\n 'logaddexp',\n 'logaddexp2',\n 'logical_and',\n 'logical_not',\n 'logical_or',\n 'logical_xor',\n 'logspace',\n 'longcomplex',\n 'longdouble',\n 'longfloat',\n 'longlong',\n 'lookfor',\n 'ma',\n 'mask_indices',\n 'mat',\n 'math',\n 'matmul',\n 'matrix',\n 'matrixlib',\n 'max',\n 'maximum',\n 'maximum_sctype',\n 'may_share_memory',\n 'mean',\n 'median',\n 'memmap',\n 'meshgrid',\n 'mgrid',\n 'min',\n 'min_scalar_type',\n 'minimum',\n 'mintypecode',\n 'mod',\n 'modf',\n 'moveaxis',\n 'msort',\n 'multiply',\n 'nan',\n 'nan_to_num',\n 'nanargmax',\n 'nanargmin',\n 'nancumprod',\n 'nancumsum',\n 'nanmax',\n 'nanmean',\n 'nanmedian',\n 'nanmin',\n 'nanpercentile',\n 'nanprod',\n 'nanquantile',\n 'nanstd',\n 'nansum',\n 'nanvar',\n 'nbytes',\n 'ndarray',\n 'ndenumerate',\n 'ndim',\n 'ndindex',\n 'nditer',\n 'negative',\n 'nested_iters',\n 'newaxis',\n 'nextafter',\n 'nonzero',\n 'not_equal',\n 'numarray',\n 'number',\n 'obj2sctype',\n 'object0',\n 'object_',\n 'ogrid',\n 'oldnumeric',\n 'ones',\n 'ones_like',\n 'os',\n 'outer',\n 'packbits',\n 'pad',\n 'partition',\n 'percentile',\n 'pi',\n 'piecewise',\n 'place',\n 'poly',\n 'poly1d',\n 'polyadd',\n 'polyder',\n 'polydiv',\n 'polyfit',\n 'polyint',\n 'polymul',\n 'polynomial',\n 'polysub',\n 'polyval',\n 'positive',\n 'power',\n 'printoptions',\n 'prod',\n 'product',\n 'promote_types',\n 'ptp',\n 'put',\n 'put_along_axis',\n 'putmask',\n 'quantile',\n 'r_',\n 'rad2deg',\n 'radians',\n 'random',\n 'ravel',\n 'ravel_multi_index',\n 'real',\n 'real_if_close',\n 'rec',\n 'recarray',\n 'recfromcsv',\n 'recfromtxt',\n 'reciprocal',\n 'record',\n 'remainder',\n 'repeat',\n 'require',\n 'reshape',\n 'resize',\n 'result_type',\n 'right_shift',\n 'rint',\n 'roll',\n 'rollaxis',\n 'roots',\n 'rot90',\n 'round',\n 'round_',\n 'row_stack',\n 's_',\n 'safe_eval',\n 'save',\n 'savetxt',\n 'savez',\n 'savez_compressed',\n 'sctype2char',\n 'sctypeDict',\n 'sctypes',\n 'searchsorted',\n 'select',\n 'set_numeric_ops',\n 'set_printoptions',\n 'set_string_function',\n 'setbufsize',\n 'setdiff1d',\n 'seterr',\n 'seterrcall',\n 'seterrobj',\n 'setxor1d',\n 'shape',\n 'shares_memory',\n 'short',\n 'show_config',\n 'sign',\n 'signbit',\n 'signedinteger',\n 'sin',\n 'sinc',\n 'single',\n 'singlecomplex',\n 'sinh',\n 'size',\n 'sometrue',\n 'sort',\n 'sort_complex',\n 'source',\n 'spacing',\n 'split',\n 'sqrt',\n 'square',\n 'squeeze',\n 'stack',\n 'std',\n 'str0',\n 'str_',\n 'string_',\n 'subtract',\n 'sum',\n 'swapaxes',\n 'sys',\n 'take',\n 'take_along_axis',\n 'tan',\n 'tanh',\n 'tensordot',\n 'test',\n 'testing',\n 'tile',\n 'timedelta64',\n 'trace',\n 'tracemalloc_domain',\n 'transpose',\n 'trapz',\n 'tri',\n 'tril',\n 'tril_indices',\n 'tril_indices_from',\n 'trim_zeros',\n 'triu',\n 'triu_indices',\n 'triu_indices_from',\n 'true_divide',\n 'trunc',\n 'typecodes',\n 'typename',\n 'ubyte',\n 'ufunc',\n 'uint',\n 'uint0',\n 'uint16',\n 'uint32',\n 'uint64',\n 'uint8',\n 'uintc',\n 'uintp',\n 'ulonglong',\n 'unicode_',\n 'union1d',\n 'unique',\n 'unpackbits',\n 'unravel_index',\n 'unsignedinteger',\n 'unwrap',\n 'use_hugepage',\n 'ushort',\n 'vander',\n 'var',\n 'vdot',\n 'vectorize',\n 'version',\n 'void',\n 'void0',\n 'vsplit',\n 'vstack',\n 'warnings',\n 'where',\n 'who',\n 'zeros',\n 'zeros_like']"
     },
     "metadata": {}
    }
   ],
   "execution_count": null
  },
  {
   "cell_type": "markdown",
   "source": "2. What does the function `numpy.sin` do? Display its *docstring* (i.e. help documentation).",
   "metadata": {
    "cell_id": "baff5199162b45d09f5b0cfe5f04e3e0",
    "tags": [],
    "deepnote_cell_type": "markdown",
    "deepnote_cell_height": 69.390625
   }
  },
  {
   "cell_type": "code",
   "metadata": {
    "cell_id": "c52c3d38fb1d4811b61b06066d540dc9",
    "tags": [],
    "deepnote_to_be_reexecuted": false,
    "source_hash": "10aa0394",
    "execution_start": 1659615597756,
    "execution_millis": 36,
    "deepnote_cell_type": "code",
    "deepnote_cell_height": 696
   },
   "source": "help(np.sin)",
   "outputs": [
    {
     "name": "stdout",
     "text": "Help on ufunc:\n\nsin = <ufunc 'sin'>\n    sin(x, /, out=None, *, where=True, casting='same_kind', order='K', dtype=None, subok=True[, signature, extobj])\n    \n    Trigonometric sine, element-wise.\n    \n    Parameters\n    ----------\n    x : array_like\n        Angle, in radians (:math:`2 \\pi` rad equals 360 degrees).\n    out : ndarray, None, or tuple of ndarray and None, optional\n        A location into which the result is stored. If provided, it must have\n        a shape that the inputs broadcast to. If not provided or None,\n        a freshly-allocated array is returned. A tuple (possible only as a\n        keyword argument) must have length equal to the number of outputs.\n    where : array_like, optional\n        This condition is broadcast over the input. At locations where the\n        condition is True, the `out` array will be set to the ufunc result.\n        Elsewhere, the `out` array will retain its original value.\n        Note that if an uninitialized `out` array is created via the default\n        ``out=None``, locations within it where the condition is False will\n        remain uninitialized.\n    **kwargs\n        For other keyword-only arguments, see the\n        :ref:`ufunc docs <ufuncs.kwargs>`.\n    \n    Returns\n    -------\n    y : array_like\n        The sine of each element of x.\n        This is a scalar if `x` is a scalar.\n    \n    See Also\n    --------\n    arcsin, sinh, cos\n    \n    Notes\n    -----\n    The sine is one of the fundamental functions of trigonometry (the\n    mathematical study of triangles).  Consider a circle of radius 1\n    centered on the origin.  A ray comes in from the :math:`+x` axis, makes\n    an angle at the origin (measured counter-clockwise from that axis), and\n    departs from the origin.  The :math:`y` coordinate of the outgoing\n    ray's intersection with the unit circle is the sine of that angle.  It\n    ranges from -1 for :math:`x=3\\pi / 2` to +1 for :math:`\\pi / 2.`  The\n    function has zeroes where the angle is a multiple of :math:`\\pi`.\n    Sines of angles between :math:`\\pi` and :math:`2\\pi` are negative.\n    The numerous properties of the sine and related functions are included\n    in any standard trigonometry text.\n    \n    Examples\n    --------\n    Print sine of one angle:\n    \n    >>> np.sin(np.pi/2.)\n    1.0\n    \n    Print sines of an array of angles given in degrees:\n    \n    >>> np.sin(np.array((0., 30., 45., 60., 90.)) * np.pi / 180. )\n    array([ 0.        ,  0.5       ,  0.70710678,  0.8660254 ,  1.        ])\n    \n    Plot the sine function:\n    \n    >>> import matplotlib.pylab as plt\n    >>> x = np.linspace(-np.pi, np.pi, 201)\n    >>> plt.plot(x, np.sin(x))\n    >>> plt.xlabel('Angle [rad]')\n    >>> plt.ylabel('sin(x)')\n    >>> plt.axis('tight')\n    >>> plt.show()\n\n",
     "output_type": "stream"
    }
   ],
   "execution_count": null
  },
  {
   "cell_type": "markdown",
   "source": "---",
   "metadata": {
    "cell_id": "c14a9c350fba4c148f0ca359579d74c8",
    "tags": [],
    "deepnote_cell_type": "markdown",
    "deepnote_cell_height": 46
   }
  },
  {
   "cell_type": "markdown",
   "source": "## Python Data Types\n\nData in Python can take the form of several different **types**.  But, generally, they can be divided into two groups: \n- data types that hold a **single value**\n- data types that hold a **collection of values**",
   "metadata": {
    "cell_id": "97176946200a4029addece113c92d790",
    "tags": [],
    "deepnote_cell_type": "markdown",
    "deepnote_cell_height": 206.578125
   }
  },
  {
   "cell_type": "markdown",
   "source": "### Single values\n\nThe most basic types that hold a single value are:\n\n  - **int**: 3   # whole numbers\n  - **float**: 3.1  # decimal numbers\n  - **bool**: True  # the logical values, can only be True or False\n  - **NoneType**: None  # a placeholder, usually for missing values\n  \nData can be \"assigned\" to variables for use in other lines of code using the equals sign:\n\n```python\n>>> data = 3\n>>> data + 5\n8\n```\n<br>\n\nSomtimes it's not clear what type of data a certain variable represents.   \nTo find out the type of data, you can use the `type()` function:\n\n```python\n>>> type(3)\nint\n\n>>> data = 3\n>>> type(data)\nint\n```",
   "metadata": {
    "cell_id": "4a4fd393c95f4b64b759d51595ec565e",
    "tags": [],
    "deepnote_cell_type": "markdown",
    "deepnote_cell_height": 586.125
   }
  },
  {
   "cell_type": "markdown",
   "source": "### Exercise",
   "metadata": {
    "cell_id": "f5dda835fd664a9e814e758dd20f0c88",
    "tags": [],
    "deepnote_cell_type": "markdown",
    "deepnote_cell_height": 62
   }
  },
  {
   "cell_type": "markdown",
   "source": "1. What type is 3?",
   "metadata": {
    "cell_id": "a0dfa29e31f74940b4aefd54a3aa5ce6",
    "tags": [],
    "deepnote_cell_type": "markdown",
    "deepnote_cell_height": 69.390625
   }
  },
  {
   "cell_type": "code",
   "source": "type(3)",
   "metadata": {
    "cell_id": "ba584965280c430c8abda2f3ccd054db",
    "tags": [],
    "deepnote_to_be_reexecuted": false,
    "source_hash": "1fa4ebe8",
    "execution_start": 1659615699214,
    "execution_millis": 0,
    "deepnote_cell_type": "code",
    "deepnote_cell_height": 113.1875,
    "deepnote_output_heights": [
     21.1875
    ]
   },
   "outputs": [
    {
     "output_type": "execute_result",
     "execution_count": 30,
     "data": {
      "text/plain": "int"
     },
     "metadata": {}
    }
   ],
   "execution_count": null
  },
  {
   "cell_type": "markdown",
   "source": "2. What type is -1?",
   "metadata": {
    "cell_id": "96386af01d534671823602b6465b451f",
    "tags": [],
    "deepnote_cell_type": "markdown",
    "deepnote_cell_height": 69.390625
   }
  },
  {
   "cell_type": "code",
   "source": "type(-1)",
   "metadata": {
    "cell_id": "a9b8be25663647fd9636e8bc7bc6bc00",
    "tags": [],
    "deepnote_to_be_reexecuted": false,
    "source_hash": "c699e1d2",
    "execution_start": 1659615710012,
    "execution_millis": 3,
    "deepnote_cell_type": "code",
    "deepnote_cell_height": 113.1875,
    "deepnote_output_heights": [
     21.1875
    ]
   },
   "outputs": [
    {
     "output_type": "execute_result",
     "execution_count": 31,
     "data": {
      "text/plain": "int"
     },
     "metadata": {}
    }
   ],
   "execution_count": null
  },
  {
   "cell_type": "markdown",
   "source": "3. What type is 5.2?",
   "metadata": {
    "cell_id": "8d097159e7614bdeaa7ac8f93e83045b",
    "tags": [],
    "deepnote_cell_type": "markdown",
    "deepnote_cell_height": 69.390625
   }
  },
  {
   "cell_type": "code",
   "source": "type(5.2)",
   "metadata": {
    "cell_id": "2b0bd237a3f64bd0a31dfdd8239bb82e",
    "tags": [],
    "deepnote_to_be_reexecuted": false,
    "source_hash": "25a74a43",
    "execution_start": 1659615718290,
    "execution_millis": 16,
    "deepnote_cell_type": "code",
    "deepnote_cell_height": 113.1875,
    "deepnote_output_heights": [
     21.1875
    ]
   },
   "outputs": [
    {
     "output_type": "execute_result",
     "execution_count": 32,
     "data": {
      "text/plain": "float"
     },
     "metadata": {}
    }
   ],
   "execution_count": null
  },
  {
   "cell_type": "markdown",
   "source": "4. What type is `data`?",
   "metadata": {
    "cell_id": "e8d63a1264014075a28d273c19fe3c69",
    "tags": [],
    "deepnote_cell_type": "markdown",
    "deepnote_cell_height": 69.390625
   }
  },
  {
   "cell_type": "code",
   "metadata": {
    "cell_id": "ed2a08d08b3d4decbd27442e16e0c923",
    "tags": [],
    "deepnote_to_be_reexecuted": false,
    "source_hash": "c375a4b0",
    "execution_start": 1659615721684,
    "execution_millis": 0,
    "deepnote_cell_type": "code",
    "deepnote_cell_height": 76
   },
   "source": "data = 3.14",
   "outputs": [],
   "execution_count": null
  },
  {
   "cell_type": "code",
   "source": "type(data)",
   "metadata": {
    "cell_id": "1dcb336e08d743a8969b3bc9f5ab942a",
    "tags": [],
    "deepnote_to_be_reexecuted": false,
    "source_hash": "9653dc5",
    "execution_start": 1659615724381,
    "execution_millis": 6,
    "deepnote_cell_type": "code",
    "deepnote_cell_height": 113.1875,
    "deepnote_output_heights": [
     21.1875
    ]
   },
   "outputs": [
    {
     "output_type": "execute_result",
     "execution_count": 34,
     "data": {
      "text/plain": "float"
     },
     "metadata": {}
    }
   ],
   "execution_count": null
  },
  {
   "cell_type": "markdown",
   "source": "5. What type is `data`?",
   "metadata": {
    "cell_id": "b0d03dfe9cee41649ccce1fbac96ce58",
    "tags": [],
    "deepnote_cell_type": "markdown",
    "deepnote_cell_height": 69.390625
   }
  },
  {
   "cell_type": "code",
   "metadata": {
    "cell_id": "bbe913555eb9455297dba96ebc28d67f",
    "tags": [],
    "deepnote_to_be_reexecuted": false,
    "source_hash": "fdcefb96",
    "execution_start": 1659615727460,
    "execution_millis": 1,
    "deepnote_cell_type": "code",
    "deepnote_cell_height": 76
   },
   "source": "data = 10.",
   "outputs": [],
   "execution_count": null
  },
  {
   "cell_type": "code",
   "source": "type(data)",
   "metadata": {
    "cell_id": "2bcbd453280943fb80529cc7a6062335",
    "tags": [],
    "deepnote_to_be_reexecuted": false,
    "source_hash": "9653dc5",
    "execution_start": 1659615730088,
    "execution_millis": 5,
    "deepnote_cell_type": "code",
    "deepnote_cell_height": 113.1875,
    "deepnote_output_heights": [
     21.1875
    ]
   },
   "outputs": [
    {
     "output_type": "execute_result",
     "execution_count": 36,
     "data": {
      "text/plain": "float"
     },
     "metadata": {}
    }
   ],
   "execution_count": null
  },
  {
   "cell_type": "markdown",
   "source": "6. What type is `data`?",
   "metadata": {
    "cell_id": "2b35362e17354df5997758376286fc49",
    "tags": [],
    "deepnote_cell_type": "markdown",
    "deepnote_cell_height": 69.390625
   }
  },
  {
   "cell_type": "code",
   "metadata": {
    "cell_id": "fd05ae624cb6461085431ed7d0f4eae4",
    "tags": [],
    "deepnote_to_be_reexecuted": false,
    "source_hash": "dfb64805",
    "execution_start": 1659615733967,
    "execution_millis": 0,
    "deepnote_cell_type": "code",
    "deepnote_cell_height": 76
   },
   "source": "data = False",
   "outputs": [],
   "execution_count": null
  },
  {
   "cell_type": "code",
   "source": "type(data)",
   "metadata": {
    "cell_id": "c849169e5c384436a0cf287a98d3dfc8",
    "tags": [],
    "deepnote_to_be_reexecuted": false,
    "source_hash": "9653dc5",
    "execution_start": 1659615738888,
    "execution_millis": 10,
    "deepnote_cell_type": "code",
    "deepnote_cell_height": 113.1875,
    "deepnote_output_heights": [
     21.1875
    ]
   },
   "outputs": [
    {
     "output_type": "execute_result",
     "execution_count": 38,
     "data": {
      "text/plain": "bool"
     },
     "metadata": {}
    }
   ],
   "execution_count": null
  },
  {
   "cell_type": "markdown",
   "source": "7. What type is `data`?",
   "metadata": {
    "cell_id": "2ad3a53d303243389de850ff4f16e358",
    "tags": [],
    "deepnote_cell_type": "markdown",
    "deepnote_cell_height": 69.390625
   }
  },
  {
   "cell_type": "code",
   "metadata": {
    "cell_id": "98d87980e67f41c88793bf7710f3516f",
    "tags": [],
    "deepnote_to_be_reexecuted": false,
    "source_hash": "cb88fa17",
    "execution_start": 1659615742762,
    "execution_millis": 2,
    "deepnote_cell_type": "code",
    "deepnote_cell_height": 76
   },
   "source": "data = None",
   "outputs": [],
   "execution_count": null
  },
  {
   "cell_type": "code",
   "source": "type(data)",
   "metadata": {
    "cell_id": "9553271ed88a4db7959756587d6dbd7e",
    "tags": [],
    "deepnote_to_be_reexecuted": false,
    "source_hash": "9653dc5",
    "execution_start": 1659615744934,
    "execution_millis": 6,
    "deepnote_cell_type": "code",
    "deepnote_cell_height": 113.1875,
    "deepnote_output_heights": [
     21.1875
    ]
   },
   "outputs": [
    {
     "output_type": "execute_result",
     "execution_count": 40,
     "data": {
      "text/plain": "NoneType"
     },
     "metadata": {}
    }
   ],
   "execution_count": null
  },
  {
   "cell_type": "markdown",
   "source": "8. What type is `data`?",
   "metadata": {
    "cell_id": "4d64e711810a4639bc818af0fcd92f8f",
    "tags": [],
    "deepnote_cell_type": "markdown",
    "deepnote_cell_height": 69.390625
   }
  },
  {
   "cell_type": "code",
   "metadata": {
    "cell_id": "fd710954f6354dbab228023e107fc09f",
    "tags": [],
    "deepnote_to_be_reexecuted": false,
    "source_hash": "360aff10",
    "execution_start": 1659615748444,
    "execution_millis": 1,
    "deepnote_cell_type": "code",
    "deepnote_cell_height": 76
   },
   "source": "data = 5 > 2",
   "outputs": [],
   "execution_count": null
  },
  {
   "cell_type": "code",
   "source": "type(data)",
   "metadata": {
    "cell_id": "1512d972d73f4dcbadadebc94c4400f0",
    "tags": [],
    "deepnote_to_be_reexecuted": false,
    "source_hash": "9653dc5",
    "execution_start": 1659615750881,
    "execution_millis": 4,
    "deepnote_cell_type": "code",
    "deepnote_cell_height": 113.1875,
    "deepnote_output_heights": [
     21.1875
    ]
   },
   "outputs": [
    {
     "output_type": "execute_result",
     "execution_count": 42,
     "data": {
      "text/plain": "bool"
     },
     "metadata": {}
    }
   ],
   "execution_count": null
  },
  {
   "cell_type": "markdown",
   "source": "9. What type is `data`?",
   "metadata": {
    "cell_id": "61679846e82b49a5a9656e97cd170f25",
    "tags": [],
    "deepnote_cell_type": "markdown",
    "deepnote_cell_height": 69.390625
   }
  },
  {
   "cell_type": "code",
   "metadata": {
    "cell_id": "280c8513a4374410842be132b1820c20",
    "tags": [],
    "deepnote_to_be_reexecuted": false,
    "source_hash": "ede7cad",
    "execution_start": 1659615753802,
    "execution_millis": 0,
    "deepnote_cell_type": "code",
    "deepnote_cell_height": 76
   },
   "source": "data = round(3.2)",
   "outputs": [],
   "execution_count": null
  },
  {
   "cell_type": "code",
   "source": "type(data)",
   "metadata": {
    "cell_id": "f8beeec96f8f475993808613719b3245",
    "tags": [],
    "deepnote_to_be_reexecuted": false,
    "source_hash": "9653dc5",
    "execution_start": 1659615756634,
    "execution_millis": 2,
    "deepnote_cell_type": "code",
    "deepnote_cell_height": 113.1875,
    "deepnote_output_heights": [
     21.1875
    ]
   },
   "outputs": [
    {
     "output_type": "execute_result",
     "execution_count": 44,
     "data": {
      "text/plain": "int"
     },
     "metadata": {}
    }
   ],
   "execution_count": null
  },
  {
   "cell_type": "markdown",
   "source": "### Typecasting: change objects from one type to another\n\nPython is a **dynamically typed** language: you can change the type of a variable at different places in your code, as opposed to *statically typed* language (e.g. C, C++, Java) where you need to specify the variable type at the beginning of the code (and it cannot be changed later).\n\n**How to do it?** Just as how the function `sum()` transforms a list of numbers into a single number, there are functions that can transform data from one type into another type.  Much of the time, this function is named the same as the type itself, so if you know the type's name, you know how to do it!\n\nFor example, make a `float` from an `int`:\n```\n>>> x1 = 3\n>>> type(x1)\nint\n>>> x2 = float(x1)\n>>> type(x2)\nfloat\n```",
   "metadata": {
    "cell_id": "d243cd2c470146feaa4d77311d0515fc",
    "tags": [],
    "deepnote_cell_type": "markdown",
    "deepnote_cell_height": 466.3125
   }
  },
  {
   "cell_type": "markdown",
   "source": "What happens if we transform a boolean to an int? And the other way around?",
   "metadata": {
    "is_collapsed": false,
    "cell_id": "2773d9fe7e7144089cc8ca7333fd39cf",
    "tags": [],
    "formattedRanges": [
     {
      "fromCodePoint": 31,
      "toCodePoint": 38,
      "marks": {
       "code": true
      }
     },
     {
      "fromCodePoint": 45,
      "toCodePoint": 48,
      "marks": {
       "code": true
      }
     }
    ],
    "deepnote_cell_type": "text-cell-p"
   }
  },
  {
   "cell_type": "code",
   "source": "a_bool = False\nint(a_bool)",
   "metadata": {
    "cell_id": "41e1fb901c1c410cb60dc84c96f5612b",
    "tags": [],
    "deepnote_to_be_reexecuted": false,
    "source_hash": "b85a6ae1",
    "execution_start": 1659616057953,
    "execution_millis": 443,
    "deepnote_cell_type": "code",
    "deepnote_cell_height": 131.1875,
    "deepnote_output_heights": [
     21.1875
    ]
   },
   "outputs": [
    {
     "output_type": "execute_result",
     "execution_count": 47,
     "data": {
      "text/plain": "0"
     },
     "metadata": {}
    }
   ],
   "execution_count": null
  },
  {
   "cell_type": "code",
   "source": "neg_number = -200\nbool(neg_number)",
   "metadata": {
    "cell_id": "0ff6cb4ba7e54fd89e6dcbb20ba1a922",
    "tags": [],
    "deepnote_to_be_reexecuted": false,
    "source_hash": "ff0a8a7a",
    "execution_start": 1659616054747,
    "execution_millis": 1,
    "deepnote_cell_type": "code",
    "deepnote_cell_height": 131.1875,
    "deepnote_output_heights": [
     21.1875
    ]
   },
   "outputs": [
    {
     "output_type": "execute_result",
     "execution_count": 46,
     "data": {
      "text/plain": "True"
     },
     "metadata": {}
    }
   ],
   "execution_count": null
  },
  {
   "cell_type": "markdown",
   "source": "### Exercise",
   "metadata": {
    "cell_id": "37e970b47958407c96949149bc0ce3c9",
    "tags": [],
    "deepnote_cell_type": "markdown",
    "deepnote_cell_height": 62
   }
  },
  {
   "cell_type": "markdown",
   "source": "1. Change `data1` type to be a `float` and save it as a variable called `data2`.",
   "metadata": {
    "cell_id": "222e6b6ed99c4d6494cfbfde46e33745",
    "tags": [],
    "deepnote_cell_type": "markdown",
    "deepnote_cell_height": 69.390625
   }
  },
  {
   "cell_type": "code",
   "metadata": {
    "cell_id": "f949dcaebc084a668ac38bf3560fdd75",
    "tags": [],
    "deepnote_to_be_reexecuted": false,
    "source_hash": "a036ba2d",
    "execution_start": 1659616103005,
    "execution_millis": 0,
    "deepnote_cell_type": "code",
    "deepnote_cell_height": 94
   },
   "source": "data1 = 3\n",
   "outputs": [],
   "execution_count": null
  },
  {
   "cell_type": "code",
   "source": "data2 = float(data1)",
   "metadata": {
    "cell_id": "dc2b379450cc44f398197d68b8e622f5",
    "tags": [],
    "deepnote_to_be_reexecuted": false,
    "source_hash": "49c3f2be",
    "execution_start": 1659616109154,
    "execution_millis": 0,
    "deepnote_cell_type": "code",
    "deepnote_cell_height": 76
   },
   "outputs": [],
   "execution_count": null
  },
  {
   "cell_type": "markdown",
   "source": "2. Make `data2` an `int`, from `data1`. (What's different here from the `round()` function?)",
   "metadata": {
    "cell_id": "b5d045245b964ba7bfcff019f6fa5d52",
    "tags": [],
    "deepnote_cell_type": "markdown",
    "deepnote_cell_height": 69.390625
   }
  },
  {
   "cell_type": "code",
   "metadata": {
    "cell_id": "f6b28add641744f9af326765acba0cae",
    "tags": [],
    "deepnote_to_be_reexecuted": false,
    "source_hash": "16c8cb84",
    "execution_start": 1659616140638,
    "execution_millis": 2,
    "deepnote_cell_type": "code",
    "deepnote_cell_height": 76
   },
   "source": "data1 = 3.5",
   "outputs": [],
   "execution_count": null
  },
  {
   "cell_type": "code",
   "source": "data2 = int(data1)",
   "metadata": {
    "cell_id": "1256c2e02a8448e2a0a0be69d2b599c7",
    "tags": [],
    "deepnote_to_be_reexecuted": false,
    "source_hash": "47fe254a",
    "execution_start": 1659616145757,
    "execution_millis": 0,
    "deepnote_cell_type": "code",
    "deepnote_cell_height": 76
   },
   "outputs": [],
   "execution_count": null
  },
  {
   "cell_type": "code",
   "source": "data2, round(data1)",
   "metadata": {
    "cell_id": "d938190f8dd548d39847da1f75f9eea6",
    "tags": [],
    "deepnote_to_be_reexecuted": false,
    "source_hash": "737b3aba",
    "execution_start": 1659616153205,
    "execution_millis": 4,
    "deepnote_cell_type": "code",
    "deepnote_cell_height": 113.1875,
    "deepnote_output_heights": [
     21.1875
    ]
   },
   "outputs": [
    {
     "output_type": "execute_result",
     "execution_count": 53,
     "data": {
      "text/plain": "(3, 4)"
     },
     "metadata": {}
    }
   ],
   "execution_count": null
  },
  {
   "cell_type": "markdown",
   "source": "3. Using the `math` library, compute $cos(2*\\pi)$ and check its type.",
   "metadata": {
    "cell_id": "9fc0b33e050642679f957bd8338a9e3d",
    "tags": [],
    "deepnote_cell_type": "markdown",
    "deepnote_cell_height": 69.390625
   }
  },
  {
   "cell_type": "code",
   "source": "import math\nx = math.cos(2 * math.pi)\ntype(x)",
   "metadata": {
    "cell_id": "536321298a1e4544a8ea6a67f42f53aa",
    "tags": [],
    "deepnote_to_be_reexecuted": false,
    "source_hash": "e975ce7d",
    "execution_start": 1659616166790,
    "execution_millis": 453,
    "deepnote_cell_type": "code",
    "deepnote_cell_height": 149.1875,
    "deepnote_output_heights": [
     21.1875
    ]
   },
   "outputs": [
    {
     "output_type": "execute_result",
     "execution_count": 54,
     "data": {
      "text/plain": "float"
     },
     "metadata": {}
    }
   ],
   "execution_count": null
  },
  {
   "cell_type": "markdown",
   "source": "... if it is not an `int` change it to be an `int`.",
   "metadata": {
    "cell_id": "5f500d16e91d4172a3c5cf0163b7e089",
    "tags": [],
    "deepnote_cell_type": "markdown",
    "deepnote_cell_height": 52.390625
   }
  },
  {
   "cell_type": "code",
   "source": "int(x)",
   "metadata": {
    "cell_id": "2f27fe757ae34f46858e3f6f4a7b77b9",
    "tags": [],
    "deepnote_to_be_reexecuted": false,
    "source_hash": "fb62c5ea",
    "execution_start": 1659616598809,
    "execution_millis": 0,
    "deepnote_cell_type": "code",
    "deepnote_cell_height": 113.1875,
    "deepnote_output_heights": [
     21.1875
    ]
   },
   "outputs": [
    {
     "output_type": "execute_result",
     "execution_count": 55,
     "data": {
      "text/plain": "1"
     },
     "metadata": {}
    }
   ],
   "execution_count": null
  },
  {
   "cell_type": "markdown",
   "source": "4. What is the type of the result if the following operation?",
   "metadata": {
    "cell_id": "3235216fa29b4fd5800c0e68bb50c0fd",
    "tags": [],
    "deepnote_cell_type": "markdown",
    "deepnote_cell_height": 69.390625
   }
  },
  {
   "cell_type": "code",
   "source": "res = 4/2",
   "metadata": {
    "cell_id": "bb78974a14044f8e98bfa1c7d8005a6c",
    "tags": [],
    "deepnote_to_be_reexecuted": false,
    "source_hash": "912c3930",
    "execution_start": 1659616607428,
    "execution_millis": 1,
    "deepnote_cell_type": "code",
    "deepnote_cell_height": 76
   },
   "outputs": [],
   "execution_count": null
  },
  {
   "cell_type": "code",
   "metadata": {
    "cell_id": "04261099ff524b97adeb7300b1058e10",
    "tags": [],
    "deepnote_to_be_reexecuted": false,
    "source_hash": "f37c84f4",
    "execution_start": 1659616609449,
    "execution_millis": 4,
    "deepnote_cell_type": "code",
    "deepnote_cell_height": 113.1875,
    "deepnote_output_heights": [
     21.1875
    ]
   },
   "source": "type(res)",
   "outputs": [
    {
     "output_type": "execute_result",
     "execution_count": 57,
     "data": {
      "text/plain": "float"
     },
     "metadata": {}
    }
   ],
   "execution_count": null
  },
  {
   "cell_type": "markdown",
   "source": "... if it is not an `int`, there are two ways to make the result to be of type `int`. What are they?",
   "metadata": {
    "cell_id": "2cbcd381a18a4ecba71ee6bb76ab3fd9",
    "tags": [],
    "deepnote_cell_type": "markdown",
    "deepnote_cell_height": 52.390625
   }
  },
  {
   "cell_type": "code",
   "source": "# option 1: type casting\nint(res)",
   "metadata": {
    "cell_id": "b6c03f626f2e418db8cf2ad8a2f9666a",
    "tags": [],
    "deepnote_to_be_reexecuted": false,
    "source_hash": "3089c70e",
    "execution_start": 1659616627505,
    "execution_millis": 0,
    "deepnote_cell_type": "code",
    "deepnote_cell_height": 131.1875,
    "deepnote_output_heights": [
     21.1875
    ]
   },
   "outputs": [
    {
     "output_type": "execute_result",
     "execution_count": 59,
     "data": {
      "text/plain": "2"
     },
     "metadata": {}
    }
   ],
   "execution_count": null
  },
  {
   "cell_type": "code",
   "source": "# option 2: integer division\n5//2",
   "metadata": {
    "cell_id": "0ba3fc8c0e5d4de9a3dd4d4ba49203ee",
    "tags": [],
    "deepnote_to_be_reexecuted": false,
    "source_hash": "45a61af3",
    "execution_start": 1659616639000,
    "execution_millis": 5,
    "deepnote_cell_type": "code",
    "deepnote_cell_height": 131.1875,
    "deepnote_output_heights": [
     21.1875
    ]
   },
   "outputs": [
    {
     "output_type": "execute_result",
     "execution_count": 60,
     "data": {
      "text/plain": "2"
     },
     "metadata": {}
    }
   ],
   "execution_count": null
  },
  {
   "cell_type": "markdown",
   "source": "<a style='text-decoration:none;line-height:16px;display:flex;color:#5B5B62;padding:10px;justify-content:end;' href='https://deepnote.com?utm_source=created-in-deepnote-cell&projectId=f12bb307-0323-41b8-b58a-a3dc423d7ca4' target=\"_blank\">\n<img alt='Created in deepnote.com' style='display:inline;max-height:16px;margin:0px;margin-right:7.5px;' src='data:image/svg+xml;base64,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' > </img>\nCreated in <span style='font-weight:600;margin-left:4px;'>Deepnote</span></a>",
   "metadata": {
    "tags": [],
    "created_in_deepnote_cell": true,
    "deepnote_cell_type": "markdown"
   }
  }
 ],
 "nbformat": 4,
 "nbformat_minor": 2,
 "metadata": {
  "orig_nbformat": 2,
  "deepnote": {},
  "deepnote_notebook_id": "0d167f3d-74d7-43eb-9439-3e62bd805ac9",
  "deepnote_execution_queue": []
 }
}