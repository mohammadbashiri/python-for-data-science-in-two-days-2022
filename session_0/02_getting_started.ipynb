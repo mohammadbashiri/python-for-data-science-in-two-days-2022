{
 "cells": [
  {
   "cell_type": "markdown",
   "source": "## Familiarizing with Deepnote\n\nBelow are some exercises to help you get familiarized with Deepnote and get some time with the basics of Python. Don't worry if you get stuck or get a wrong answer, just keep trying out different things and see what Python does!\n\n**Note**: If you are completely unsure how to answer a question, just look in the explanation section above that section's exercises; something close to the answer can usually be found there. ;-)",
   "metadata": {
    "cell_id": "bffdd8c3b3844668ae154e04b5eb3188",
    "tags": [],
    "deepnote_cell_type": "markdown",
    "deepnote_cell_height": 234.375
   }
  },
  {
   "cell_type": "markdown",
   "source": "## Using Python as a calculator",
   "metadata": {
    "cell_id": "730a4f6f53b6499b88f20c8238ca9d85",
    "tags": [],
    "deepnote_cell_type": "markdown",
    "deepnote_cell_height": 70
   }
  },
  {
   "cell_type": "markdown",
   "source": "Using the operators in the table below, solve these math equations using Python:\n\n| Operator . | Purpose . | Example |\n| :------  |  :----- |  :----  |\n| `+` | Addition | `3 + 5` |\n| `-` | Subtraction | `3 - 5` |\n| `*` | Multiplication | `3 * 5` |\n| `/` | Division | `14 / 3` |\n| `**` | Power | `3 ** 5` |\n| `//` | Integer Division | `14 // 3` |\n| `%`  | Remainder after Integer Division | `14 % 3` |\n| `=`  | Assigning to a Name | `x = 3` |\n<br>\n\n**There is more**: [Here is a list](https://www.programiz.com/python-programming/operators) of all operators in python",
   "metadata": {
    "cell_id": "167a3798e058425696b919af75356654",
    "tags": [],
    "deepnote_cell_type": "markdown",
    "deepnote_cell_height": 649.75
   }
  },
  {
   "cell_type": "markdown",
   "source": "**Exercises**\n\nFor each question below, write the corresponding Python code that answers it in the cell below it.  Each cell can be run with the *Ctrl-Enter* or *Shift-Enter* keyboard shortcuts, or by clicking the **Run** button to the right of the cell.\n\nExample:\n\n*What is 5 + 8?*\n```python\n5 + 8\n```",
   "metadata": {
    "cell_id": "3fb72f2a8ec14cacabdf24c85cd31455",
    "tags": [],
    "deepnote_cell_type": "markdown",
    "deepnote_cell_height": 262.765625
   }
  },
  {
   "cell_type": "code",
   "metadata": {
    "cell_id": "3e0f2936eca34b9fa50b28a63e94b257",
    "tags": [],
    "deepnote_to_be_reexecuted": false,
    "source_hash": "b65966cb",
    "execution_start": 1659623646878,
    "execution_millis": 11,
    "deepnote_cell_type": "code",
    "deepnote_cell_height": 113.1875,
    "deepnote_output_heights": [
     21.1875
    ]
   },
   "source": "5 + 8",
   "execution_count": 1,
   "outputs": [
    {
     "output_type": "execute_result",
     "execution_count": 1,
     "data": {
      "text/plain": "13"
     },
     "metadata": {}
    }
   ]
  },
  {
   "cell_type": "markdown",
   "source": "1. What is two plus three?",
   "metadata": {
    "cell_id": "19d63a375bc349cfa639360d9b73ffd5",
    "tags": [],
    "deepnote_cell_type": "markdown",
    "deepnote_cell_height": 69.390625
   }
  },
  {
   "cell_type": "code",
   "metadata": {
    "cell_id": "f6625616d71e46caa4d979684eca6ef3",
    "tags": [],
    "deepnote_to_be_reexecuted": false,
    "source_hash": "619fab48",
    "execution_start": 1659167570558,
    "execution_millis": 2,
    "deepnote_cell_type": "code",
    "deepnote_cell_height": 113.1875,
    "deepnote_output_heights": [
     21.1875
    ]
   },
   "source": "2 + 3",
   "execution_count": null,
   "outputs": [
    {
     "output_type": "execute_result",
     "execution_count": 4,
     "data": {
      "text/plain": "5"
     },
     "metadata": {}
    }
   ]
  },
  {
   "cell_type": "markdown",
   "source": "2. What is two times three?",
   "metadata": {
    "cell_id": "6477c434c7d8403090710388222096f5",
    "tags": [],
    "deepnote_cell_type": "markdown",
    "deepnote_cell_height": 69.390625
   }
  },
  {
   "cell_type": "code",
   "source": "2 * 3",
   "metadata": {
    "cell_id": "09187a7549a14af3a4aa23156bdaa3f6",
    "tags": [],
    "deepnote_to_be_reexecuted": false,
    "source_hash": "3380e881",
    "execution_start": 1659623648133,
    "execution_millis": 69,
    "deepnote_cell_type": "code",
    "deepnote_cell_height": 113.1875,
    "deepnote_output_heights": [
     21.1875
    ]
   },
   "execution_count": 2,
   "outputs": [
    {
     "output_type": "execute_result",
     "execution_count": 2,
     "data": {
      "text/plain": "6"
     },
     "metadata": {}
    }
   ]
  },
  {
   "cell_type": "markdown",
   "source": "3. What is two to the third power?",
   "metadata": {
    "cell_id": "964af40c51e94afca1ecade0b60db696",
    "tags": [],
    "deepnote_cell_type": "markdown",
    "deepnote_cell_height": 69.390625
   }
  },
  {
   "cell_type": "code",
   "source": "2 ** 3",
   "metadata": {
    "cell_id": "42d2909b996343c6aca49cc14632faf2",
    "tags": [],
    "deepnote_to_be_reexecuted": false,
    "source_hash": "9a930071",
    "execution_start": 1659623654357,
    "execution_millis": 1,
    "deepnote_cell_type": "code",
    "deepnote_cell_height": 113.1875,
    "deepnote_output_heights": [
     21.1875
    ]
   },
   "execution_count": 3,
   "outputs": [
    {
     "output_type": "execute_result",
     "execution_count": 3,
     "data": {
      "text/plain": "8"
     },
     "metadata": {}
    }
   ]
  },
  {
   "cell_type": "markdown",
   "source": "4. How many (whole) times does 7 go into 100?",
   "metadata": {
    "cell_id": "791cd9984edb4687a4ae086634028a48",
    "tags": [],
    "deepnote_cell_type": "markdown",
    "deepnote_cell_height": 69.390625
   }
  },
  {
   "cell_type": "code",
   "source": "100 // 7",
   "metadata": {
    "cell_id": "1ba62a8f268c4896a65c515879243550",
    "tags": [],
    "deepnote_to_be_reexecuted": false,
    "source_hash": "fbf46bc3",
    "execution_start": 1659623662526,
    "execution_millis": 3,
    "deepnote_cell_type": "code",
    "deepnote_cell_height": 113.1875,
    "deepnote_output_heights": [
     21.1875
    ]
   },
   "execution_count": 4,
   "outputs": [
    {
     "output_type": "execute_result",
     "execution_count": 4,
     "data": {
      "text/plain": "14"
     },
     "metadata": {}
    }
   ]
  },
  {
   "cell_type": "markdown",
   "source": "5. What is the remainder after dividing 3 by 2?",
   "metadata": {
    "cell_id": "8b55e770d66949c98a1de75ebb439b0b",
    "tags": [],
    "deepnote_cell_type": "markdown",
    "deepnote_cell_height": 69.390625
   }
  },
  {
   "cell_type": "code",
   "source": "3 % 2",
   "metadata": {
    "cell_id": "b8ebea8094524570a83da3147b6d5d20",
    "tags": [],
    "deepnote_to_be_reexecuted": false,
    "source_hash": "f7c48cbf",
    "execution_start": 1659623676640,
    "execution_millis": 4,
    "deepnote_cell_type": "code",
    "deepnote_cell_height": 113.1875,
    "deepnote_output_heights": [
     21.1875
    ]
   },
   "execution_count": 5,
   "outputs": [
    {
     "output_type": "execute_result",
     "execution_count": 5,
     "data": {
      "text/plain": "1"
     },
     "metadata": {}
    }
   ]
  },
  {
   "cell_type": "markdown",
   "source": "---",
   "metadata": {
    "cell_id": "8944e400d05c49fdb7594ebec24c4443",
    "tags": [],
    "deepnote_cell_type": "markdown",
    "deepnote_cell_height": 46
   }
  },
  {
   "cell_type": "markdown",
   "source": "## Testing Your Logic",
   "metadata": {
    "cell_id": "b5efd93f190c4c3a86b6f84b595c27fb",
    "tags": [],
    "deepnote_cell_type": "markdown",
    "deepnote_cell_height": 70
   }
  },
  {
   "cell_type": "markdown",
   "source": "\n### Bools\n\nYou can also ask Python logical questions (questions that have a \"True\" or \"False\" answer). \n\n| \"Is Equal to\" | \"Is Greater than\" | \"Is Greater than or Equal to\"|  \"Is not Equal to\" |\n|  :----------: |  :----------:     |  :----------: |  :----------: |\n| ==            |   >               |   >=          |  !=  |\n\nPython will return \"True\" if the statement is true, \"False\" if False\n\n```python\n>>> 3 > 2\nTrue\n\n>>> 3 < 2\nFalse\n\n>>> 3 == 2\nFalse\n```\n\nUsing logical operators, decide if the following assertions are True or False:",
   "metadata": {
    "cell_id": "37bffc8f08a847f1bf63d57043e7f980",
    "tags": [],
    "deepnote_cell_type": "markdown",
    "deepnote_cell_height": 421.140625
   }
  },
  {
   "cell_type": "markdown",
   "source": "1. One hundred is bigger than ten.",
   "metadata": {
    "cell_id": "0db7798566d64092a23f919102393893",
    "tags": [],
    "deepnote_cell_type": "markdown",
    "deepnote_cell_height": 69.390625
   }
  },
  {
   "cell_type": "code",
   "source": "100 > 10",
   "metadata": {
    "cell_id": "0141c66790c54eb08e52e76c4b164b9b",
    "tags": [],
    "deepnote_to_be_reexecuted": false,
    "source_hash": "f271e650",
    "execution_start": 1659623686371,
    "execution_millis": 5,
    "deepnote_cell_type": "code",
    "deepnote_cell_height": 113.1875,
    "deepnote_output_heights": [
     21.1875
    ]
   },
   "execution_count": 6,
   "outputs": [
    {
     "output_type": "execute_result",
     "execution_count": 6,
     "data": {
      "text/plain": "True"
     },
     "metadata": {}
    }
   ]
  },
  {
   "cell_type": "markdown",
   "source": "2. Thirty squared is not equal to nine-hundred.",
   "metadata": {
    "cell_id": "850bebf88a6b49f0a1d24b99f0895fd4",
    "tags": [],
    "deepnote_cell_type": "markdown",
    "deepnote_cell_height": 69.390625
   }
  },
  {
   "cell_type": "code",
   "source": "30 ** 2 != 900",
   "metadata": {
    "cell_id": "9ed780530e034f03abfa48a5e47cce09",
    "tags": [],
    "deepnote_to_be_reexecuted": false,
    "source_hash": "c17d7504",
    "execution_start": 1659623697400,
    "execution_millis": 2,
    "deepnote_cell_type": "code",
    "deepnote_cell_height": 113.1875,
    "deepnote_output_heights": [
     21.1875
    ]
   },
   "execution_count": 7,
   "outputs": [
    {
     "output_type": "execute_result",
     "execution_count": 7,
     "data": {
      "text/plain": "False"
     },
     "metadata": {}
    }
   ]
  },
  {
   "cell_type": "markdown",
   "source": "3. These two equations are equal:  \n  - 30 - 5 * 2\n  - 100 / 5",
   "metadata": {
    "cell_id": "edcebfb9227a4146ac01aa4ec7e6b057",
    "tags": [],
    "deepnote_cell_type": "markdown",
    "deepnote_cell_height": 131.1875
   }
  },
  {
   "cell_type": "code",
   "source": "30 - 5 * 2 == 100 / 5",
   "metadata": {
    "cell_id": "fc5a6fc4b485402c966a0b6bff2d2fd6",
    "tags": [],
    "deepnote_to_be_reexecuted": false,
    "source_hash": "39a43fa9",
    "execution_start": 1659623711920,
    "execution_millis": 1,
    "deepnote_cell_type": "code",
    "deepnote_cell_height": 113.1875,
    "deepnote_output_heights": [
     21.1875
    ]
   },
   "execution_count": 8,
   "outputs": [
    {
     "output_type": "execute_result",
     "execution_count": 8,
     "data": {
      "text/plain": "True"
     },
     "metadata": {}
    }
   ]
  },
  {
   "cell_type": "markdown",
   "source": "4. The sum of the numbers from 1 to 5 are at least 15.",
   "metadata": {
    "cell_id": "b7455da7fb73439abdad7e6169eba5a2",
    "tags": [],
    "deepnote_cell_type": "markdown",
    "deepnote_cell_height": 69.390625
   }
  },
  {
   "cell_type": "code",
   "source": "sum([1, 2, 3, 4, 5]) >= 15",
   "metadata": {
    "cell_id": "7453a614683043c9bd8b18da4167e8b5",
    "tags": [],
    "deepnote_to_be_reexecuted": false,
    "source_hash": "776e44ba",
    "execution_start": 1659623745066,
    "execution_millis": 139,
    "deepnote_cell_type": "code",
    "deepnote_cell_height": 113.1875,
    "deepnote_output_heights": [
     21.1875
    ]
   },
   "outputs": [
    {
     "output_type": "execute_result",
     "execution_count": 9,
     "data": {
      "text/plain": "True"
     },
     "metadata": {}
    }
   ],
   "execution_count": 9
  },
  {
   "cell_type": "markdown",
   "source": "<a style='text-decoration:none;line-height:16px;display:flex;color:#5B5B62;padding:10px;justify-content:end;' href='https://deepnote.com?utm_source=created-in-deepnote-cell&projectId=61c77cb6-e4c9-4caf-9786-7336bdd9409d' target=\"_blank\">\n<img alt='Created in deepnote.com' style='display:inline;max-height:16px;margin:0px;margin-right:7.5px;' src='data:image/svg+xml;base64,PD94bWwgdmVyc2lvbj0iMS4wIiBlbmNvZGluZz0iVVRGLTgiPz4KPHN2ZyB3aWR0aD0iODBweCIgaGVpZ2h0PSI4MHB4IiB2aWV3Qm94PSIwIDAgODAgODAiIHZlcnNpb249IjEuMSIgeG1sbnM9Imh0dHA6Ly93d3cudzMub3JnLzIwMDAvc3ZnIiB4bWxuczp4bGluaz0iaHR0cDovL3d3dy53My5vcmcvMTk5OS94bGluayI+CiAgICA8IS0tIEdlbmVyYXRvcjogU2tldGNoIDU0LjEgKDc2NDkwKSAtIGh0dHBzOi8vc2tldGNoYXBwLmNvbSAtLT4KICAgIDx0aXRsZT5Hcm91cCAzPC90aXRsZT4KICAgIDxkZXNjPkNyZWF0ZWQgd2l0aCBTa2V0Y2guPC9kZXNjPgogICAgPGcgaWQ9IkxhbmRpbmciIHN0cm9rZT0ibm9uZSIgc3Ryb2tlLXdpZHRoPSIxIiBmaWxsPSJub25lIiBmaWxsLXJ1bGU9ImV2ZW5vZGQiPgogICAgICAgIDxnIGlkPSJBcnRib2FyZCIgdHJhbnNmb3JtPSJ0cmFuc2xhdGUoLTEyMzUuMDAwMDAwLCAtNzkuMDAwMDAwKSI+CiAgICAgICAgICAgIDxnIGlkPSJHcm91cC0zIiB0cmFuc2Zvcm09InRyYW5zbGF0ZSgxMjM1LjAwMDAwMCwgNzkuMDAwMDAwKSI+CiAgICAgICAgICAgICAgICA8cG9seWdvbiBpZD0iUGF0aC0yMCIgZmlsbD0iIzAyNjVCNCIgcG9pbnRzPSIyLjM3NjIzNzYyIDgwIDM4LjA0NzY2NjcgODAgNTcuODIxNzgyMiA3My44MDU3NTkyIDU3LjgyMTc4MjIgMzIuNzU5MjczOSAzOS4xNDAyMjc4IDMxLjY4MzE2ODMiPjwvcG9seWdvbj4KICAgICAgICAgICAgICAgIDxwYXRoIGQ9Ik0zNS4wMDc3MTgsODAgQzQyLjkwNjIwMDcsNzYuNDU0OTM1OCA0Ny41NjQ5MTY3LDcxLjU0MjI2NzEgNDguOTgzODY2LDY1LjI2MTk5MzkgQzUxLjExMjI4OTksNTUuODQxNTg0MiA0MS42NzcxNzk1LDQ5LjIxMjIyODQgMjUuNjIzOTg0Niw0OS4yMTIyMjg0IEMyNS40ODQ5Mjg5LDQ5LjEyNjg0NDggMjkuODI2MTI5Niw0My4yODM4MjQ4IDM4LjY0NzU4NjksMzEuNjgzMTY4MyBMNzIuODcxMjg3MSwzMi41NTQ0MjUgTDY1LjI4MDk3Myw2Ny42NzYzNDIxIEw1MS4xMTIyODk5LDc3LjM3NjE0NCBMMzUuMDA3NzE4LDgwIFoiIGlkPSJQYXRoLTIyIiBmaWxsPSIjMDAyODY4Ij48L3BhdGg+CiAgICAgICAgICAgICAgICA8cGF0aCBkPSJNMCwzNy43MzA0NDA1IEwyNy4xMTQ1MzcsMC4yNTcxMTE0MzYgQzYyLjM3MTUxMjMsLTEuOTkwNzE3MDEgODAsMTAuNTAwMzkyNyA4MCwzNy43MzA0NDA1IEM4MCw2NC45NjA0ODgyIDY0Ljc3NjUwMzgsNzkuMDUwMzQxNCAzNC4zMjk1MTEzLDgwIEM0Ny4wNTUzNDg5LDc3LjU2NzA4MDggNTMuNDE4MjY3Nyw3MC4zMTM2MTAzIDUzLjQxODI2NzcsNTguMjM5NTg4NSBDNTMuNDE4MjY3Nyw0MC4xMjg1NTU3IDM2LjMwMzk1NDQsMzcuNzMwNDQwNSAyNS4yMjc0MTcsMzcuNzMwNDQwNSBDMTcuODQzMDU4NiwzNy43MzA0NDA1IDkuNDMzOTE5NjYsMzcuNzMwNDQwNSAwLDM3LjczMDQ0MDUgWiIgaWQ9IlBhdGgtMTkiIGZpbGw9IiMzNzkzRUYiPjwvcGF0aD4KICAgICAgICAgICAgPC9nPgogICAgICAgIDwvZz4KICAgIDwvZz4KPC9zdmc+' > </img>\nCreated in <span style='font-weight:600;margin-left:4px;'>Deepnote</span></a>",
   "metadata": {
    "tags": [],
    "created_in_deepnote_cell": true,
    "deepnote_cell_type": "markdown"
   }
  }
 ],
 "nbformat": 4,
 "nbformat_minor": 2,
 "metadata": {
  "orig_nbformat": 2,
  "deepnote": {},
  "deepnote_notebook_id": "53878716-f139-4cea-80b8-e4ea08bf5253",
  "deepnote_execution_queue": []
 }
}