{
 "cells": [
  {
   "cell_type": "markdown",
   "source": "### Welcome to the Intro to Python workshop",
   "metadata": {
    "cell_id": "38d6030db7de448ab6b4b22eba9b0d55",
    "tags": [],
    "deepnote_cell_type": "markdown",
    "deepnote_cell_height": 62
   }
  },
  {
   "cell_type": "markdown",
   "source": "This is the Deepnote interface, where we'll be doing a lot of our Python exercises. Deepnote is a Jupyter-like data science notebook tool that will help us get going very quickly so you can start learning to code in Python as soon as possible.",
   "metadata": {
    "cell_id": "8a36e0da8d6c4df18b7e847cc4efa4ba",
    "tags": [],
    "deepnote_cell_type": "markdown",
    "deepnote_cell_height": 74.78125
   }
  },
  {
   "cell_type": "markdown",
   "source": "## Working with Data Science Notebooks",
   "metadata": {
    "cell_id": "48353b006f2f47f599b2fa3468c9713c",
    "tags": [],
    "deepnote_cell_type": "markdown",
    "deepnote_cell_height": 70
   }
  },
  {
   "cell_type": "markdown",
   "source": "There are many ways to run the notebooks in this workshop. However, Deepnote is the most straightforward, and my recommendation if you're just getting started.\n\nBelow I explain two options for running notebooks.",
   "metadata": {
    "cell_id": "b4017c4de10f4cc2a1ab63c500bbddaf",
    "tags": [],
    "deepnote_cell_type": "markdown",
    "deepnote_cell_height": 111.1875
   }
  },
  {
   "cell_type": "markdown",
   "source": "### Option 1: In Deepnote (Recommended for the workshop)",
   "metadata": {
    "cell_id": "2df81f2fefe6411f9835a43b8b965c3f",
    "tags": [],
    "deepnote_cell_type": "markdown",
    "deepnote_cell_height": 62
   }
  },
  {
   "cell_type": "markdown",
   "source": "To be able to edit and run this notebook, you need to duplicate it into your account.  These means registering for a free Deepnote account, then coming to this notebook and hitting the **Duplicate** button found in the upper-right area of the screen:\n\n![Duplicate Button](./imgs/duplicate_button.png)\n\nOnce you've duplicated it, you should be able to edit anything you like in the cell, and even run the code you write!  All of the text in this notebooks can also be edited by double-clicking them, making these notebooks useful for taking notes and trying more experiments out during the workshop for your reference later on.",
   "metadata": {
    "cell_id": "ca6e4b07e3664955a20dbcb0da6ea253",
    "tags": [],
    "deepnote_cell_type": "markdown",
    "deepnote_cell_height": 265.96875
   }
  },
  {
   "cell_type": "markdown",
   "source": "### Option 2: In Jupyter or Google Colab",
   "metadata": {
    "cell_id": "2222f1061f034d9bba77321f1fabe09b",
    "tags": [],
    "deepnote_cell_type": "markdown",
    "deepnote_cell_height": 62
   }
  },
  {
   "cell_type": "markdown",
   "source": "Other options are [Jupyter Lab](https://jupyterlab.readthedocs.io/en/stable/) (best downloaded by installing [Anaconda](https://www.anaconda.com/products/individual)) or [Google Colab](https://colab.research.google.com/).  One way to do this is to download the notebook file (.ipynb file extension) onto your computer, then either upload it into Google Colab or open it on your computer in Jupyter Lab.  To download the notebook, you can click on the three-dot symbol next to the notebook filename and click on \"Export as .ipynb\"\n\n![Export Button Pic](./imgs/export_button.png)",
   "metadata": {
    "cell_id": "63f2f3ab371444369736f81042fc7825",
    "tags": [],
    "owner_user_id": "f3fbb784-58d0-47fc-a674-023c9903dc6d",
    "deepnote_cell_type": "markdown",
    "deepnote_cell_height": 442.578125
   }
  },
  {
   "cell_type": "markdown",
   "source": "Again, both are fine but I'll be using Deepnote for this workshop, so I'd recommend you do the same. \n\nNow, let's get started! In the next notebook (`02_getting_started.ipynb`) we'll go through some Python exercises and along the way will familiarize ourselves with Deepnote :-)",
   "metadata": {
    "cell_id": "9a6e0a65224148d3a49a53a843ffa655",
    "tags": [],
    "deepnote_cell_type": "markdown",
    "deepnote_cell_height": 111.1875
   }
  },
  {
   "cell_type": "markdown",
   "source": "<a style='text-decoration:none;line-height:16px;display:flex;color:#5B5B62;padding:10px;justify-content:end;' href='https://deepnote.com?utm_source=created-in-deepnote-cell&projectId=61c77cb6-e4c9-4caf-9786-7336bdd9409d' target=\"_blank\">\n<img alt='Created in deepnote.com' style='display:inline;max-height:16px;margin:0px;margin-right:7.5px;' src='data:image/svg+xml;base64,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' > </img>\nCreated in <span style='font-weight:600;margin-left:4px;'>Deepnote</span></a>",
   "metadata": {
    "tags": [],
    "created_in_deepnote_cell": true,
    "deepnote_cell_type": "markdown"
   }
  }
 ],
 "nbformat": 4,
 "nbformat_minor": 2,
 "metadata": {
  "orig_nbformat": 2,
  "deepnote": {},
  "deepnote_notebook_id": "4a673d58-ae1f-4d02-bbd6-8c8e651d8416",
  "deepnote_execution_queue": []
 }
}