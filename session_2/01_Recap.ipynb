{
 "cells": [
  {
   "cell_type": "markdown",
   "id": "c662878f",
   "metadata": {
    "cell_id": "3f1e18df-9bc4-4cea-869f-81c871287510",
    "deepnote_cell_height": 82,
    "deepnote_cell_type": "markdown"
   },
   "source": [
    "# Recap"
   ]
  },
  {
   "cell_type": "markdown",
   "id": "9b995196",
   "metadata": {
    "cell_id": "00001-2b8ae667-83bb-4b1c-9f93-c689a8b35a7c",
    "deepnote_cell_height": 46,
    "deepnote_cell_type": "markdown"
   },
   "source": [
    "---"
   ]
  },
  {
   "cell_type": "markdown",
   "id": "ec233cee",
   "metadata": {
    "cell_id": "00002-e9cdfa87-2618-43d9-aadf-318d6e8388d7",
    "deepnote_cell_height": 330,
    "deepnote_cell_type": "markdown"
   },
   "source": [
    "### The origin of Python functions\n",
    "\n",
    "**built-in**: Functions that are readily available as soon as you enter the Python environment.\n",
    "\n",
    "**Standard library**: Some functions are availble through standard libraries. Standard libraries are packages that are shipped with Python (i.e. if you install Python the package is also installed automatically) but one needs to import them to use their functions. Example: `math` library.\n",
    "\n",
    "**Third-party library**: Function that are available through packages developed by Python users. To use these functions we need to install the package via `pip install package_name`. Once installed, we can import the package and make use of the functions in it."
   ]
  },
  {
   "cell_type": "markdown",
   "id": "35a3438b",
   "metadata": {
    "cell_id": "00003-ba29e5d9-c3a7-44ac-9cd7-053d8a48fcd3",
    "deepnote_cell_height": 46,
    "deepnote_cell_type": "markdown"
   },
   "source": [
    "---"
   ]
  },
  {
   "cell_type": "markdown",
   "id": "aaaf708a",
   "metadata": {
    "cell_id": "00004-783ab6ad-ff4c-40e5-a4df-d2fbe2b110f0",
    "deepnote_cell_height": 405.828125,
    "deepnote_cell_type": "markdown",
    "tags": []
   },
   "source": [
    "### Python Data Types\n",
    "\n",
    "#### Single value\n",
    "- **int**: `3`   # whole numbers\n",
    "- **float**: `3.1`  # decimal numbers\n",
    "- **bool**: `True`  # the logical values, can only be True or False\n",
    "\n",
    "#### Collection of values\n",
    "- **string**: `\"this is a string\"`  # objects only hold letters (text data)\n",
    "- **list**: `[1, \"two\", [\"another\", \"list\"]]`  # holds any number of elements of any type\n",
    "- **tuple**: `(1, \"two\", [\"another\", \"list\"])`  # holds any number of elements of any type\n",
    "\n",
    "#### Use the `type()` built-in function to find out the type of an object."
   ]
  },
  {
   "cell_type": "markdown",
   "id": "d6d832e8",
   "metadata": {
    "cell_id": "00005-101cef9a-f6e8-4e77-93f0-305b439590db",
    "deepnote_cell_height": 46,
    "deepnote_cell_type": "markdown"
   },
   "source": [
    "---"
   ]
  },
  {
   "cell_type": "markdown",
   "id": "5f66b7f0",
   "metadata": {
    "cell_id": "00006-3ad8658e-9d4d-463b-95be-165c0182e693",
    "deepnote_cell_height": 519.796875,
    "deepnote_cell_type": "markdown",
    "tags": []
   },
   "source": [
    "### Everything in Python is an object\n",
    "\n",
    "Everything in Python is an object and objects usually come with methods (and attributes) attached to them:\n",
    "- the packages that we import are objects\n",
    "- the method inside packages are objects\n",
    "- a variable that you define in python (e.g. `a = 2`) is an object\n",
    "\n",
    "Methods and attributes of an object can be accessed using the \".\" operator:\n",
    "```\n",
    ">>> object.method()\n",
    ">>> object.attribute\n",
    "```\n",
    "\n",
    "If you have an object there are two ways to know its methods and attributes:\n",
    "- `object.` + TAB\n",
    "- `dir(object)`\n",
    "\n",
    "To get a description of what a method does you can use the `help()` function. Example:\n",
    "```\n",
    "help(math.degrees)\n",
    "```"
   ]
  },
  {
   "cell_type": "markdown",
   "id": "6186ed60",
   "metadata": {
    "cell_id": "00007-21a0ee52-6ca9-419b-a545-e04deb823c7f",
    "deepnote_cell_height": 46,
    "deepnote_cell_type": "markdown"
   },
   "source": [
    "---"
   ]
  },
  {
   "cell_type": "markdown",
   "id": "a62568ea",
   "metadata": {
    "cell_id": "00008-8f1e7f47-a7de-455d-86fe-794b88e3920d",
    "deepnote_cell_height": 382,
    "deepnote_cell_type": "markdown",
    "tags": []
   },
   "source": [
    "### Type casting: change objects from one type to another\n",
    "\n",
    "In Python, there are functions that can transform data from one type into another type.  Most of the time, this function is named the same as the type itself, so if you know the type's name, you know how to do it!\n",
    "\n",
    "For example, make a `float` from an `int`:\n",
    "\n",
    "``` python\n",
    ">>> x1 = 3\n",
    ">>> type(x1)\n",
    "int\n",
    ">>> x2 = float(x1)\n",
    ">>> type(x2)\n",
    "float\n",
    "```"
   ]
  },
  {
   "cell_type": "markdown",
   "id": "501ff29f",
   "metadata": {
    "cell_id": "00009-8154c588-c58f-4e98-8e75-c3bed872ca08",
    "deepnote_cell_height": 46,
    "deepnote_cell_type": "markdown"
   },
   "source": [
    "---"
   ]
  },
  {
   "cell_type": "markdown",
   "id": "1804a406",
   "metadata": {
    "cell_id": "00010-e97c944e-db09-40e6-9c70-47728ba55ffc",
    "deepnote_cell_height": 695.796875,
    "deepnote_cell_type": "markdown"
   },
   "source": [
    "### **Numpy**: A package for numerical analysis and computations\n",
    "\n",
    "**Array**: Another data collection type, provided by the Numpy library, that are designed to work wit numerical data. **Note**: all elements in the array must be of the same data type.\n",
    "\n",
    "<br>\n",
    "\n",
    "#### 1D and 2D arrays\n",
    "\n",
    "**1D array**: contains many values in the form of a vector. Can be create by passing a list to `np.array()` function.\n",
    "``` Python\n",
    ">>> 1d_array = np.array([1, 2, 3, 4])\n",
    "```\n",
    "\n",
    "**2D array**: contains many values in the form of a *matrix*. Can be create by passing a list of lists to `np.array()` function.\n",
    "``` Python\n",
    ">>> 2d_array = np.array([[1, 2], [3, 4]])\n",
    "```\n",
    "\n",
    "Also, there are other methods availble in Numpy to generate Arrays: `np.arange()`, `np.linspace()`, etc.\n",
    "\n",
    "#### Aggregation across a specific dimension\n",
    "\n",
    "When using aggregation functions (eg. `.sum()`, `.mean()`, etc.) on 2D arrays, you can specify a dimension (i.e. rows or columns) to apply the aggregaetion function on by setting the value of the `axis` argument:\n",
    "- `axis=0`: to apply aggregation across rows (which gives you a value per column)\n",
    "- `axis=1`: to apply aggregation across columns (which gives you a value per row)"
   ]
  },
  {
   "cell_type": "markdown",
   "id": "d7dd1ffa",
   "metadata": {
    "cell_id": "00011-de8ac7b4-93c2-4347-be41-a72c124a3bee",
    "deepnote_cell_height": 46,
    "deepnote_cell_type": "markdown"
   },
   "source": [
    "---"
   ]
  },
  {
   "cell_type": "markdown",
   "id": "2eed9bd7",
   "metadata": {
    "cell_id": "00012-9ce22958-245a-4829-b4fb-667c8e91a8c6",
    "deepnote_cell_height": 850.78125,
    "deepnote_cell_type": "markdown"
   },
   "source": [
    "### Indexing and slicing\n",
    "\n",
    "Indexing and slicing is similar between collection types.\n",
    "- we use square brackets `[ ]`.\n",
    "- python is 0-indexed: the first element has index 0.\n",
    "- you can also use negative indices: the last element is indexing -1, second last element is index -2, and so on.\n",
    "- for slicing (or extracting a specific part of the collection) we can specify three numbers in the bracket `[start:end:step]`:\n",
    "    - the element with the `end` index is not included (slicing is until the `end` index)\n",
    "    - default value of `start` is 0, so if you leave it empty it starts from the very first element\n",
    "    - default for `end` is to go until the end of the collection (including the last element)\n",
    "    - default of the `step` is 1, so if you leave it empty it will take all the elements between `start` and `end` indices\n",
    "    \n",
    "![slicing and indexing](./imgs/indexing.png)\n",
    "\n",
    "**Note**: for 2D arrays nothing changes, we just need to specify the indices for each dimension (rows or columns).\n",
    "- indexing: `[row_index, column_index]`\n",
    "- slicing: `[start_row:end_row:step_row, start_col:end_col:step_col]`"
   ]
  },
  {
   "cell_type": "markdown",
   "id": "14c74e45",
   "metadata": {
    "cell_id": "00013-5e82c552-998c-4cb7-b982-e6a1db9d787a",
    "deepnote_cell_height": 46,
    "deepnote_cell_type": "markdown"
   },
   "source": [
    "---"
   ]
  },
  {
   "cell_type": "markdown",
   "id": "7c6e46c9",
   "metadata": {
    "cell_id": "00014-876d28fe-287f-4d67-b89f-8e111145c179",
    "deepnote_cell_height": 451.1875,
    "deepnote_cell_type": "markdown"
   },
   "source": [
    "### **Matplotlib**: A package for data visualization\n",
    "\n",
    "Different types of plots have their own function in matplotlib:\n",
    "- line plot: `plt.plot()`\n",
    "- histogram: `plt.histogram()`\n",
    "\n",
    "Input arguments to these functions allow us to change the data representation (e.g. color, line style, etc.)\n",
    "\n",
    "We can add extra information to the plot such as axis labels, title, legend, etc. using other methods. For example:\n",
    "- `plt.xlabel()` would add a label to our x axis\n",
    "- `plt.ylabel()` would add a label to our y axis\n",
    "- `plt.title()` would add a title\n",
    "- `plt.legend()` would display the legend. **Note** that for legend to display anything we need to label the data which can be specified as an input to our plotting function: for instance, `plt.plot(x, y, label=\"Data 1\")`"
   ]
  },
  {
   "cell_type": "markdown",
   "id": "331f9bf4",
   "metadata": {
    "cell_id": "00015-b1d42c96-c299-4cda-a4fc-69df3251cb98",
    "deepnote_cell_height": 46,
    "deepnote_cell_type": "markdown"
   },
   "source": [
    "---"
   ]
  },
  {
   "cell_type": "markdown",
   "id": "070bdb17",
   "metadata": {
    "cell_id": "00016-91010084-b3e7-4464-842a-dd49cc7b53f7",
    "deepnote_cell_height": 82,
    "deepnote_cell_type": "markdown"
   },
   "source": [
    "# Exercise"
   ]
  },
  {
   "cell_type": "markdown",
   "id": "7a07fb5f",
   "metadata": {
    "cell_id": "00017-e5ce4f36-f6ff-4ea4-accc-15d075aad881",
    "deepnote_cell_height": 69.390625,
    "deepnote_cell_type": "markdown"
   },
   "source": [
    "1. Create a tuple, called `my_tuple`, containing numbers from 1 to 5 (including 5)."
   ]
  },
  {
   "cell_type": "code",
   "execution_count": 1,
   "id": "b88885a6",
   "metadata": {
    "cell_id": "00018-7a7e9d9c-9e14-413a-93a5-596058c7d264",
    "deepnote_cell_height": 76,
    "deepnote_cell_type": "code",
    "deepnote_to_be_reexecuted": false,
    "execution_millis": 4,
    "execution_start": 1659773577688,
    "source_hash": "c96b6b46"
   },
   "outputs": [
    {
     "data": {
      "text/plain": [
       "(1, 2, 3, 4, 5)"
      ]
     },
     "execution_count": 1,
     "metadata": {},
     "output_type": "execute_result"
    }
   ],
   "source": [
    "my_tuple = (1, 2, 3, 4, 5)\n",
    "my_tuple"
   ]
  },
  {
   "cell_type": "markdown",
   "id": "e277972c",
   "metadata": {
    "cell_id": "00019-3225b692-dca4-404f-a1cd-6673a5234d25",
    "deepnote_cell_height": 69.390625,
    "deepnote_cell_type": "markdown"
   },
   "source": [
    "2. Turn the tuple into a list and call it `my_list`."
   ]
  },
  {
   "cell_type": "code",
   "execution_count": 2,
   "id": "19e73327",
   "metadata": {
    "cell_id": "00020-1fdbb758-318e-4ee2-aed4-1ccdfa267c46",
    "deepnote_cell_height": 76,
    "deepnote_cell_type": "code",
    "deepnote_to_be_reexecuted": false,
    "execution_millis": 4,
    "execution_start": 1659773578841,
    "source_hash": "abeb8f40"
   },
   "outputs": [
    {
     "data": {
      "text/plain": [
       "[1, 2, 3, 4, 5]"
      ]
     },
     "execution_count": 2,
     "metadata": {},
     "output_type": "execute_result"
    }
   ],
   "source": [
    "my_list = list(my_tuple)\n",
    "my_list"
   ]
  },
  {
   "cell_type": "markdown",
   "id": "c29bc3d6",
   "metadata": {
    "cell_id": "00021-4aa91183-b19b-4f7a-95be-d9dbf0cd94ec",
    "deepnote_cell_height": 69.390625,
    "deepnote_cell_type": "markdown"
   },
   "source": [
    "3. Create a list, called `my_other_list`, containing numbers from 6 to 9 (including 9)."
   ]
  },
  {
   "cell_type": "code",
   "execution_count": 3,
   "id": "ecb2c13a",
   "metadata": {
    "cell_id": "00022-0d06581a-4806-4c6e-ba58-c01c9f786a6d",
    "deepnote_cell_height": 76,
    "deepnote_cell_type": "code",
    "deepnote_to_be_reexecuted": false,
    "execution_millis": 0,
    "execution_start": 1659773584176,
    "source_hash": "8aa25ea6"
   },
   "outputs": [],
   "source": [
    "my_other_list = [6, 7, 8, 9]"
   ]
  },
  {
   "cell_type": "markdown",
   "id": "cae3b8db",
   "metadata": {
    "cell_id": "00023-5c3257da-d2ed-4302-939a-03c72847d7d9",
    "deepnote_cell_height": 91.796875,
    "deepnote_cell_type": "markdown"
   },
   "source": [
    "4. Using a method of the list object update `my_list` to also include the elements of `my_other_list`."
   ]
  },
  {
   "cell_type": "code",
   "execution_count": 4,
   "id": "e597da62",
   "metadata": {
    "cell_id": "00024-18128df7-a7bb-43a6-9704-651081e3e1ad",
    "deepnote_cell_height": 113.171875,
    "deepnote_cell_type": "code",
    "deepnote_output_heights": [
     21.1875
    ],
    "deepnote_to_be_reexecuted": false,
    "execution_millis": 7,
    "execution_start": 1659773522023,
    "source_hash": "becdea4c"
   },
   "outputs": [],
   "source": [
    "## option #1\n",
    "# my_list = my_list + my_other_list\n",
    "\n",
    "## option #2\n",
    "my_list.extend(my_other_list)"
   ]
  },
  {
   "cell_type": "code",
   "execution_count": 5,
   "id": "70b323a3",
   "metadata": {
    "cell_id": "1e63abe65af74019ab1aaf07d43ddfa2",
    "deepnote_cell_height": 113.171875,
    "deepnote_cell_type": "code",
    "deepnote_output_heights": [
     21.1875
    ],
    "deepnote_to_be_reexecuted": false,
    "execution_millis": 2,
    "execution_start": 1659773602097,
    "source_hash": "d76b7c80",
    "tags": []
   },
   "outputs": [
    {
     "data": {
      "text/plain": [
       "[1, 2, 3, 4, 5, 6, 7, 8, 9]"
      ]
     },
     "execution_count": 5,
     "metadata": {},
     "output_type": "execute_result"
    }
   ],
   "source": [
    "my_list"
   ]
  },
  {
   "cell_type": "markdown",
   "id": "a18e4e63",
   "metadata": {
    "cell_id": "00025-52d833f9-6da5-4b37-83ac-b7f70e443ced",
    "deepnote_cell_height": 69.390625,
    "deepnote_cell_type": "markdown"
   },
   "source": [
    "5. Using a method of the list object, add number 10 at the end of `my_list`."
   ]
  },
  {
   "cell_type": "code",
   "execution_count": 6,
   "id": "8c7c5e47",
   "metadata": {
    "cell_id": "00026-c498c110-d550-457f-a10e-61871150c229",
    "deepnote_cell_height": 76,
    "deepnote_cell_type": "code",
    "deepnote_to_be_reexecuted": false,
    "execution_millis": 4,
    "execution_start": 1659773646995,
    "source_hash": "5b634127"
   },
   "outputs": [],
   "source": [
    "my_list.append(10)"
   ]
  },
  {
   "cell_type": "code",
   "execution_count": 7,
   "id": "63c797e2",
   "metadata": {
    "cell_id": "51f2d1df415e4ba7a7f6056d8919f94b",
    "deepnote_cell_height": 113.171875,
    "deepnote_cell_type": "code",
    "deepnote_output_heights": [
     21.1875
    ],
    "deepnote_to_be_reexecuted": false,
    "execution_millis": 6,
    "execution_start": 1659773651424,
    "source_hash": "d76b7c80",
    "tags": []
   },
   "outputs": [
    {
     "data": {
      "text/plain": [
       "[1, 2, 3, 4, 5, 6, 7, 8, 9, 10]"
      ]
     },
     "execution_count": 7,
     "metadata": {},
     "output_type": "execute_result"
    }
   ],
   "source": [
    "my_list"
   ]
  },
  {
   "cell_type": "markdown",
   "id": "8e729eeb",
   "metadata": {
    "cell_id": "00027-7bcc6a6f-7830-4479-893d-cefcf9727089",
    "deepnote_cell_height": 69.390625,
    "deepnote_cell_type": "markdown"
   },
   "source": [
    "6. Import the `numpy` package and call it `np`."
   ]
  },
  {
   "cell_type": "code",
   "execution_count": 8,
   "id": "69d480fb",
   "metadata": {
    "cell_id": "00028-3eaaef9b-950d-42de-a4ee-7140a9b692d5",
    "deepnote_cell_height": 76,
    "deepnote_cell_type": "code",
    "deepnote_to_be_reexecuted": false,
    "execution_millis": 1,
    "execution_start": 1659773663963,
    "source_hash": "c2602aa8"
   },
   "outputs": [],
   "source": [
    "import numpy as np"
   ]
  },
  {
   "cell_type": "markdown",
   "id": "fbf49296",
   "metadata": {
    "cell_id": "00029-a23574da-23a1-4937-b09d-d37b31a86be2",
    "deepnote_cell_height": 69.390625,
    "deepnote_cell_type": "markdown"
   },
   "source": [
    "7. Create a Numpy Array, called `x`, from `my_list`."
   ]
  },
  {
   "cell_type": "code",
   "execution_count": 9,
   "id": "c59661d8",
   "metadata": {
    "cell_id": "00030-eca156c1-63ba-4fe6-adf3-017b94b8d74d",
    "deepnote_cell_height": 76,
    "deepnote_cell_type": "code",
    "deepnote_output_heights": [
     21.1875
    ],
    "deepnote_to_be_reexecuted": false,
    "execution_millis": 2,
    "execution_start": 1659773681170,
    "source_hash": "9889f929"
   },
   "outputs": [],
   "source": [
    "x = np.array(my_list)"
   ]
  },
  {
   "cell_type": "markdown",
   "id": "43fb0a4d",
   "metadata": {
    "cell_id": "00031-f6596dc2-97b3-4ed2-b5b1-de4594b33e67",
    "deepnote_cell_height": 69.390625,
    "deepnote_cell_type": "markdown"
   },
   "source": [
    "8. Update `x` by dividing its values by 10 and then multiply the values by $2 \\pi$."
   ]
  },
  {
   "cell_type": "code",
   "execution_count": 10,
   "id": "dad5f2a0",
   "metadata": {
    "cell_id": "00032-2b6ac929-6ac4-4e70-b69a-5a9b3ce79a31",
    "deepnote_cell_height": 150.375,
    "deepnote_cell_type": "code",
    "deepnote_output_heights": [
     40.390625
    ],
    "deepnote_to_be_reexecuted": false,
    "execution_millis": 7,
    "execution_start": 1659773723637,
    "source_hash": "e7691c6a"
   },
   "outputs": [
    {
     "data": {
      "text/plain": [
       "array([0.62831853, 1.25663706, 1.88495559, 2.51327412, 3.14159265,\n",
       "       3.76991118, 4.39822972, 5.02654825, 5.65486678, 6.28318531])"
      ]
     },
     "execution_count": 10,
     "metadata": {},
     "output_type": "execute_result"
    }
   ],
   "source": [
    "x = (x / 10) * 2*np.pi\n",
    "x"
   ]
  },
  {
   "cell_type": "markdown",
   "id": "1ca28cd3",
   "metadata": {
    "cell_id": "00033-6690eb19-2c8b-48e7-884a-890bd00a17e1",
    "deepnote_cell_height": 69.390625,
    "deepnote_cell_type": "markdown"
   },
   "source": [
    "9. Create a new varible `y` which is $sin(x)$."
   ]
  },
  {
   "cell_type": "code",
   "execution_count": 11,
   "id": "1fa4abf2",
   "metadata": {
    "cell_id": "00034-9d709d78-d8ed-4358-b8b6-21953854be7c",
    "deepnote_cell_height": 76,
    "deepnote_cell_type": "code",
    "deepnote_to_be_reexecuted": false,
    "execution_millis": 0,
    "execution_start": 1659773744812,
    "source_hash": "5a13ae2e"
   },
   "outputs": [],
   "source": [
    "y = np.sin(x)"
   ]
  },
  {
   "cell_type": "markdown",
   "id": "93beb8a9",
   "metadata": {
    "cell_id": "00035-cbb9e7dc-5992-4e14-b4fb-bf055d4e0cb4",
    "deepnote_cell_height": 69.390625,
    "deepnote_cell_type": "markdown"
   },
   "source": [
    "10. Import the `matplotlib.pyplot` package and call it `plt`. "
   ]
  },
  {
   "cell_type": "code",
   "execution_count": 12,
   "id": "89269a88",
   "metadata": {
    "cell_id": "00036-e22138b4-2d84-447c-a2c5-71007f39b8c8",
    "deepnote_cell_height": 76,
    "deepnote_cell_type": "code",
    "deepnote_to_be_reexecuted": false,
    "execution_millis": 1152,
    "execution_start": 1659773753695,
    "source_hash": "6a77453d"
   },
   "outputs": [],
   "source": [
    "import matplotlib.pyplot as plt"
   ]
  },
  {
   "cell_type": "markdown",
   "id": "7c09a1f1",
   "metadata": {
    "cell_id": "00037-7b806c7f-5cae-4294-b992-133222e14e9b",
    "deepnote_cell_height": 69.390625,
    "deepnote_cell_type": "markdown"
   },
   "source": [
    "11. Plot `x` vs `y` as a line plot (i.e. using `plt.plot()`)."
   ]
  },
  {
   "cell_type": "code",
   "execution_count": 13,
   "id": "c72558d7",
   "metadata": {
    "cell_id": "00038-3da7355b-41cc-4bf9-950a-6120dcf16159",
    "deepnote_cell_height": 394.171875,
    "deepnote_cell_type": "code",
    "deepnote_output_heights": [
     21.1875,
     250
    ],
    "deepnote_to_be_reexecuted": false,
    "execution_millis": 263,
    "execution_start": 1659773784597,
    "source_hash": "d41401"
   },
   "outputs": [
    {
     "data": {
      "text/plain": [
       "[<matplotlib.lines.Line2D at 0x7f5d6ad752b0>]"
      ]
     },
     "execution_count": 13,
     "metadata": {},
     "output_type": "execute_result"
    },
    {
     "data": {
      "image/png": "[encoded data removed]",
      "text/plain": [
       "<Figure size 432x288 with 1 Axes>"
      ]
     },
     "metadata": {
      "needs_background": "light"
     },
     "output_type": "display_data"
    }
   ],
   "source": [
    "plt.plot(x, y)"
   ]
  },
  {
   "cell_type": "markdown",
   "id": "ee065c83",
   "metadata": {
    "cell_id": "00039-e3b49d45-802a-48a9-abe0-4bd08515a5b0",
    "deepnote_cell_height": 232.796875,
    "deepnote_cell_type": "markdown"
   },
   "source": [
    "12. Make the following changes to your plot:\n",
    "- line color: dodgerblue\n",
    "- line style: dashed\n",
    "- line width: 3\n",
    "- title of the plot: \"y = sin(x)\"\n",
    "- label of x axis: \"x\"\n",
    "- label of y axis: \"sin(x)\""
   ]
  },
  {
   "cell_type": "code",
   "execution_count": 14,
   "id": "19e4d74a",
   "metadata": {
    "cell_id": "00040-f75cda7f-c3f6-4e13-a6eb-0556faf74511",
    "deepnote_cell_height": 478.171875,
    "deepnote_cell_type": "code",
    "deepnote_output_heights": [
     21.1875,
     280
    ],
    "deepnote_to_be_reexecuted": false,
    "execution_millis": 193,
    "execution_start": 1659773953035,
    "source_hash": "7650d5d7"
   },
   "outputs": [
    {
     "data": {
      "text/plain": [
       "Text(0, 0.5, 'sin(x)')"
      ]
     },
     "execution_count": 14,
     "metadata": {},
     "output_type": "execute_result"
    },
    {
     "data": {
      "image/png": "[encoded data removed]",
      "text/plain": [
       "<Figure size 432x288 with 1 Axes>"
      ]
     },
     "metadata": {
      "needs_background": "light"
     },
     "output_type": "display_data"
    }
   ],
   "source": [
    "plt.plot(x, y, color=\"dodgerblue\", linestyle=\"--\", linewidth=3)\n",
    "plt.title(\"y = sin(x)\")\n",
    "plt.xlabel(\"x\")\n",
    "plt.ylabel(\"sin(x)\")"
   ]
  },
  {
   "cell_type": "markdown",
   "id": "a1ecf10f",
   "metadata": {
    "cell_id": "00041-a9a37178-97c5-4d4c-97d2-50d1594d6840",
    "deepnote_cell_height": 69.390625,
    "deepnote_cell_type": "markdown"
   },
   "source": [
    "13. Add to the same figure $cos(x)$."
   ]
  },
  {
   "cell_type": "code",
   "execution_count": 15,
   "id": "9fed7f11",
   "metadata": {
    "cell_id": "00042-0e450836-ba35-4f99-b87d-febe614803e8",
    "deepnote_cell_height": 532.171875,
    "deepnote_cell_type": "code",
    "deepnote_output_heights": [
     21.1875,
     280
    ],
    "deepnote_to_be_reexecuted": false,
    "execution_millis": 1146,
    "execution_start": 1659774000754,
    "source_hash": "90398364"
   },
   "outputs": [
    {
     "data": {
      "text/plain": [
       "Text(0, 0.5, 'sin(x)')"
      ]
     },
     "execution_count": 15,
     "metadata": {},
     "output_type": "execute_result"
    },
    {
     "data": {
      "image/png": "[encoded data removed]",
      "text/plain": [
       "<Figure size 432x288 with 1 Axes>"
      ]
     },
     "metadata": {
      "needs_background": "light"
     },
     "output_type": "display_data"
    }
   ],
   "source": [
    "y2 = np.cos(x)\n",
    "\n",
    "plt.plot(x, y, color=\"dodgerblue\", linestyle=\"--\", linewidth=3)\n",
    "plt.plot(x, y2)\n",
    "plt.title(\"y = sin(x)\")\n",
    "plt.xlabel(\"x\")\n",
    "plt.ylabel(\"sin(x)\")"
   ]
  },
  {
   "cell_type": "markdown",
   "id": "32aa3330",
   "metadata": {
    "cell_id": "00043-51ca0f7c-5058-4b8c-9df2-478e6c735545",
    "deepnote_cell_height": 156.59375,
    "deepnote_cell_type": "markdown"
   },
   "source": [
    "14. Make the following changes to your new plot:\n",
    "- label of y axis: \"f(x)\"\n",
    "- add a legend that shows the function they represent: \"sin(x)\" and \"cos(x)\"\n",
    "- generally improve the figure as much as you can (by changing colors, styles, etc.)"
   ]
  },
  {
   "cell_type": "code",
   "execution_count": 16,
   "id": "a6866e09",
   "metadata": {
    "cell_id": "00044-8e935790-883f-4346-9537-72a69f8127d8",
    "deepnote_cell_height": 573.171875,
    "deepnote_cell_type": "code",
    "deepnote_output_heights": [
     21.1875,
     280,
     280
    ],
    "deepnote_to_be_reexecuted": false,
    "execution_millis": 242,
    "execution_start": 1659774086651,
    "source_hash": "1fd6890e"
   },
   "outputs": [
    {
     "data": {
      "text/plain": [
       "<matplotlib.legend.Legend at 0x7f5d6ab99a00>"
      ]
     },
     "execution_count": 16,
     "metadata": {},
     "output_type": "execute_result"
    },
    {
     "data": {
      "image/png": "[encoded data removed]",
      "text/plain": [
       "<Figure size 432x288 with 1 Axes>"
      ]
     },
     "metadata": {
      "needs_background": "light"
     },
     "output_type": "display_data"
    }
   ],
   "source": [
    "y2 = np.cos(x)\n",
    "\n",
    "plt.plot(x, y, color=\"dodgerblue\", linestyle=\"--\", linewidth=3, label=\"sin(x)\")\n",
    "plt.plot(x, y2, label=\"cos(x)\")\n",
    "plt.title(\"y = sin(x)\")\n",
    "plt.xlabel(\"x\")\n",
    "plt.ylabel(\"f(x)\")\n",
    "\n",
    "plt.legend()"
   ]
  },
  {
   "cell_type": "markdown",
   "id": "e92e3663",
   "metadata": {
    "cell_id": "00045-262dc9ed-6d74-4e1e-a638-8fa10f13b6d2",
    "deepnote_cell_height": 69.390625,
    "deepnote_cell_type": "markdown"
   },
   "source": [
    "15. Create a 1D Array with 1000 entries ranging from 0 to $4 \\pi$. "
   ]
  },
  {
   "cell_type": "code",
   "execution_count": 17,
   "id": "ac876b48",
   "metadata": {
    "cell_id": "00046-97c919cb-813e-4ae9-9435-cfc51a3931cc",
    "deepnote_cell_height": 76,
    "deepnote_cell_type": "code",
    "deepnote_to_be_reexecuted": false,
    "execution_millis": 1,
    "execution_start": 1659774140129,
    "source_hash": "93329903"
   },
   "outputs": [],
   "source": [
    "data = np.linspace(0, 4*np.pi, 1000)"
   ]
  },
  {
   "cell_type": "markdown",
   "id": "e9d8555f",
   "metadata": {
    "cell_id": "00047-dd342a99-6af3-4c52-97d7-08b14b587d9d",
    "deepnote_cell_height": 52.390625,
    "deepnote_cell_type": "markdown"
   },
   "source": [
    "... reshape it into a 2D Array with 2 rows."
   ]
  },
  {
   "cell_type": "code",
   "execution_count": 18,
   "id": "60769abb",
   "metadata": {
    "cell_id": "00048-99753a4f-b18b-4edb-a8cc-13f5694f3dbf",
    "deepnote_cell_height": 76,
    "deepnote_cell_type": "code",
    "deepnote_output_heights": [
     21.1875
    ],
    "deepnote_to_be_reexecuted": false,
    "execution_millis": 3,
    "execution_start": 1659774248431,
    "source_hash": "b47503de"
   },
   "outputs": [],
   "source": [
    "data = data.reshape(2, -1)"
   ]
  },
  {
   "cell_type": "markdown",
   "id": "6ed36c1c",
   "metadata": {
    "cell_id": "00049-c165496b-a8fe-4134-8c9c-a24575480c16",
    "deepnote_cell_height": 52.390625,
    "deepnote_cell_type": "markdown"
   },
   "source": [
    "... save each row as a separate variable. Call first row `x1` and second row `x2`."
   ]
  },
  {
   "cell_type": "code",
   "execution_count": 19,
   "id": "c24cbc03",
   "metadata": {
    "cell_id": "00050-004b5a68-d5fa-48ca-996e-7dfba2f71d6e",
    "deepnote_cell_height": 94,
    "deepnote_cell_type": "code",
    "deepnote_to_be_reexecuted": false,
    "execution_millis": 0,
    "execution_start": 1659774462978,
    "source_hash": "b660dfe7"
   },
   "outputs": [],
   "source": [
    "x1 = data[0]\n",
    "x2 = data[1]"
   ]
  },
  {
   "cell_type": "code",
   "execution_count": 20,
   "id": "e4cda9b9",
   "metadata": {
    "cell_id": "d565fc62f2b544018cf67cbe47d5fd51",
    "deepnote_cell_height": 113.171875,
    "deepnote_cell_type": "code",
    "deepnote_output_heights": [
     21.1875
    ],
    "deepnote_to_be_reexecuted": false,
    "execution_millis": 1,
    "execution_start": 1659774492998,
    "source_hash": "60942972",
    "tags": []
   },
   "outputs": [
    {
     "data": {
      "text/plain": [
       "(500,)"
      ]
     },
     "execution_count": 20,
     "metadata": {},
     "output_type": "execute_result"
    }
   ],
   "source": [
    "x1.shape"
   ]
  },
  {
   "cell_type": "markdown",
   "id": "0e14ade7",
   "metadata": {
    "cell_id": "00051-2e3b891b-247a-4087-9ba9-8266a3b75d91",
    "deepnote_cell_height": 52.390625,
    "deepnote_cell_type": "markdown"
   },
   "source": [
    "... compute `y1` and `y2` as $y1 = sin(x1)$ and $y2 = cos(x2)$."
   ]
  },
  {
   "cell_type": "code",
   "execution_count": 21,
   "id": "243a38ca",
   "metadata": {
    "cell_id": "00052-d4bc4417-a1a3-4a10-a680-8c4c0ae38bc1",
    "deepnote_cell_height": 94,
    "deepnote_cell_type": "code",
    "deepnote_to_be_reexecuted": false,
    "execution_millis": 1,
    "execution_start": 1659774632897,
    "source_hash": "63b446ab"
   },
   "outputs": [],
   "source": [
    "y1 = np.sin(x1)\n",
    "y2 = np.cos(x2)"
   ]
  },
  {
   "cell_type": "markdown",
   "id": "3e403f82",
   "metadata": {
    "cell_id": "00053-25196899-5800-46c4-b11d-d62e44ad8c7a",
    "deepnote_cell_height": 52.390625,
    "deepnote_cell_type": "markdown"
   },
   "source": [
    "... plot `y1` vs `y2`."
   ]
  },
  {
   "cell_type": "code",
   "execution_count": 22,
   "id": "e2b03d64",
   "metadata": {
    "cell_id": "3076e8edbabe4895b339c4c1993cdd3a",
    "deepnote_cell_height": 394.171875,
    "deepnote_cell_type": "code",
    "deepnote_output_heights": [
     21.1875,
     250
    ],
    "deepnote_to_be_reexecuted": false,
    "execution_millis": 243,
    "execution_start": 1659774640803,
    "source_hash": "1a83ec26",
    "tags": []
   },
   "outputs": [
    {
     "data": {
      "text/plain": [
       "[<matplotlib.lines.Line2D at 0x7f5d6aad9100>]"
      ]
     },
     "execution_count": 22,
     "metadata": {},
     "output_type": "execute_result"
    },
    {
     "data": {
      "image/png": "[encoded data removed]",
      "text/plain": [
       "<Figure size 432x288 with 1 Axes>"
      ]
     },
     "metadata": {
      "needs_background": "light"
     },
     "output_type": "display_data"
    }
   ],
   "source": [
    "plt.plot(y1, y2)"
   ]
  },
  {
   "cell_type": "markdown",
   "id": "26a24147",
   "metadata": {
    "cell_id": "00054-53b5b1e8-12cc-40df-bdc7-e23953604043",
    "deepnote_cell_height": 136.59375,
    "deepnote_cell_type": "markdown"
   },
   "source": [
    "16. The Array below contains the grades of students for the four quizes they did during the semester. Each row is a different student, and each column is different quiz (first column is the first quiz and last column the last quiz).\n",
    "\n",
    "Answer the following questions about this dataset."
   ]
  },
  {
   "cell_type": "code",
   "execution_count": 23,
   "id": "7485607d",
   "metadata": {
    "cell_id": "00055-f4f7817c-4db2-497a-9c13-571d149ee0f1",
    "deepnote_cell_height": 238,
    "deepnote_cell_type": "code",
    "deepnote_to_be_reexecuted": false,
    "execution_millis": 3,
    "execution_start": 1659774706361,
    "source_hash": "d9840577"
   },
   "outputs": [],
   "source": [
    "grades = np.array([[9.2, 8.7, 7.8, 7.6], \n",
    "                   [8.5, 6.2, 7.7, 6.3], \n",
    "                   [6.5, 7.0, 5.1, 4.9], \n",
    "                   [6.7, 9.8, 4.9, 9.2], \n",
    "                   [5.1, 6.9, 8.1, 7.2], \n",
    "                   [7.3, 9.3, 6.9, 9.4], \n",
    "                   [4.4, 4.1, 8., 5.1], \n",
    "                   [6.4, 6.7, 6.5, 6.], \n",
    "                   [9., 8.5, 7.9, 8.], \n",
    "                   [7.4, 8.4, 8.2, 5.5]])"
   ]
  },
  {
   "cell_type": "markdown",
   "id": "2f626ba4",
   "metadata": {
    "cell_id": "00056-7f72cf2e-b139-4f74-b0b2-ed9645b1e13b",
    "deepnote_cell_height": 52.390625,
    "deepnote_cell_type": "markdown"
   },
   "source": [
    "a) What is the average score of the class taking all students and quizes into account?"
   ]
  },
  {
   "cell_type": "code",
   "execution_count": 24,
   "id": "29c946d4",
   "metadata": {
    "cell_id": "00057-28530545-fa34-47d8-bcf2-6820b36df9ab",
    "deepnote_cell_height": 113.171875,
    "deepnote_cell_type": "code",
    "deepnote_output_heights": [
     21.1875
    ],
    "deepnote_to_be_reexecuted": false,
    "execution_millis": 660,
    "execution_start": 1659774720277,
    "source_hash": "d90ae640"
   },
   "outputs": [
    {
     "data": {
      "text/plain": [
       "7.159999999999999"
      ]
     },
     "execution_count": 24,
     "metadata": {},
     "output_type": "execute_result"
    }
   ],
   "source": [
    "grades.mean()"
   ]
  },
  {
   "cell_type": "markdown",
   "id": "4b9f389c",
   "metadata": {
    "cell_id": "00058-8e371122-4c3c-4e8f-945d-002775c08293",
    "deepnote_cell_height": 52.390625,
    "deepnote_cell_type": "markdown"
   },
   "source": [
    "b) What is the average score in the class for each quiz?"
   ]
  },
  {
   "cell_type": "code",
   "execution_count": 25,
   "id": "73ddc18f",
   "metadata": {
    "cell_id": "00059-94f0a5d2-6a2f-4931-9814-b0a6b5bd2906",
    "deepnote_cell_height": 113.171875,
    "deepnote_cell_type": "code",
    "deepnote_output_heights": [
     21.1875
    ],
    "deepnote_to_be_reexecuted": false,
    "execution_millis": 427,
    "execution_start": 1659774760962,
    "source_hash": "457b8545"
   },
   "outputs": [
    {
     "data": {
      "text/plain": [
       "array([7.05, 7.56, 7.11, 6.92])"
      ]
     },
     "execution_count": 25,
     "metadata": {},
     "output_type": "execute_result"
    }
   ],
   "source": [
    "grades.mean(axis=0)"
   ]
  },
  {
   "cell_type": "markdown",
   "id": "308ffcd1",
   "metadata": {
    "cell_id": "00060-32b8ac0a-08ea-48e8-af07-6950ca344f60",
    "deepnote_cell_height": 52.390625,
    "deepnote_cell_type": "markdown"
   },
   "source": [
    "c) What is the average score of each student taking all quizes into account?"
   ]
  },
  {
   "cell_type": "code",
   "execution_count": 26,
   "id": "cce0ab3b",
   "metadata": {
    "cell_id": "00061-833df3df-31d0-48e5-856d-1126ac9cf072",
    "deepnote_cell_height": 132.375,
    "deepnote_cell_type": "code",
    "deepnote_output_heights": [
     40.390625
    ],
    "deepnote_to_be_reexecuted": false,
    "execution_millis": 3,
    "execution_start": 1659774785473,
    "source_hash": "6ee191fd"
   },
   "outputs": [
    {
     "data": {
      "text/plain": [
       "array([8.325, 7.175, 5.875, 7.65 , 6.825, 8.225, 5.4  , 6.4  , 8.35 ,\n",
       "       7.375])"
      ]
     },
     "execution_count": 26,
     "metadata": {},
     "output_type": "execute_result"
    }
   ],
   "source": [
    "grades.mean(axis=1)"
   ]
  },
  {
   "cell_type": "markdown",
   "id": "635554d4",
   "metadata": {
    "cell_id": "00062-5188becd-3cb4-4d3b-a6ac-27a8f2651d5c",
    "deepnote_cell_height": 74.796875,
    "deepnote_cell_type": "markdown"
   },
   "source": [
    "d) With a plot show whether the first student improved from one quiz to another or got worse?"
   ]
  },
  {
   "cell_type": "code",
   "execution_count": 27,
   "id": "1a118b7a",
   "metadata": {
    "cell_id": "00063-8d0e5b3b-ece0-4139-94df-52f54078dddf",
    "deepnote_cell_height": 394.171875,
    "deepnote_cell_type": "code",
    "deepnote_output_heights": [
     21.1875,
     250
    ],
    "deepnote_to_be_reexecuted": false,
    "execution_millis": 191,
    "execution_start": 1659774823683,
    "source_hash": "32e6f143"
   },
   "outputs": [
    {
     "data": {
      "text/plain": [
       "[<matplotlib.lines.Line2D at 0x7f5d6aac0d60>]"
      ]
     },
     "execution_count": 27,
     "metadata": {},
     "output_type": "execute_result"
    },
    {
     "data": {
      "image/png": "[encoded data removed]",
      "text/plain": [
       "<Figure size 432x288 with 1 Axes>"
      ]
     },
     "metadata": {
      "needs_background": "light"
     },
     "output_type": "display_data"
    }
   ],
   "source": [
    "plt.plot(grades[0])"
   ]
  }
 ],
 "metadata": {
  "deepnote": {},
  "deepnote_execution_queue": [],
  "deepnote_notebook_id": "a0af0d6b-2660-444c-abfd-b30e25f1bcdb",
  "kernelspec": {
   "display_name": "Python 3 (ipykernel)",
   "language": "python",
   "name": "python3"
  },
  "language_info": {
   "codemirror_mode": {
    "name": "ipython",
    "version": 3
   },
   "file_extension": ".py",
   "mimetype": "text/x-python",
   "name": "python",
   "nbconvert_exporter": "python",
   "pygments_lexer": "ipython3",
   "version": "3.9.10"
  }
 },
 "nbformat": 4,
 "nbformat_minor": 5
}
