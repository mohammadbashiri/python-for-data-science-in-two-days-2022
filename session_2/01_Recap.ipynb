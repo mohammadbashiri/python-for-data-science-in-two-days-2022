{
 "cells": [
  {
   "cell_type": "markdown",
   "id": "d40554a5-007b-433e-b62f-9cd9464d4c98",
   "metadata": {},
   "source": [
    "# Recap"
   ]
  },
  {
   "cell_type": "markdown",
   "id": "cdc8e904-7112-49e2-8215-197fa579c478",
   "metadata": {},
   "source": [
    "---"
   ]
  },
  {
   "cell_type": "markdown",
   "id": "8a3d5337-3851-4053-8581-52b9728e471e",
   "metadata": {},
   "source": [
    "### The origin of Python functions\n",
    "\n",
    "**built-in**: functions that are readily available as soon as you enter the Python environment.\n",
    "\n",
    "**Standard library**: Some function are availble through standard libraries. Standard libraries are packages that are shipped with Python (i.e. if you install Python the package is availble) but one needs to import them to use their functions. Example: `math` library\n",
    "\n",
    "**Third-party library**: Function that are available through packages developed by Python developers. To use these functions we need to install the package via `pip install package_name`. Once installed, we can import the package and make use of the functions in it."
   ]
  },
  {
   "cell_type": "markdown",
   "id": "7498e349-48b8-40e6-a247-39b1b38864ab",
   "metadata": {},
   "source": [
    "---"
   ]
  },
  {
   "cell_type": "markdown",
   "id": "98cffbed-84f3-4926-b961-b9dfccac2443",
   "metadata": {
    "tags": []
   },
   "source": [
    "### Python Data Types\n",
    "\n",
    "#### Single value\n",
    "- **int**: `3`   # whole numbers\n",
    "- **float**: `3.1`  # decimal numbers\n",
    "- **bool**: `True`  # the logical values, can only be True or False\n",
    "\n",
    "#### Collection of values\n",
    "- **string**: `\"this is a string\"`  # objects only hold letters (text data)\n",
    "- **list**: `[1, \"two\", [\"another\", \"list\"]]`  # holds any number of elements of any type\n",
    "- **tuple**: `(1, \"two\", [\"another\", \"list\"])`  # holds any number of elements of any type\n",
    "\n",
    "#### Use the `type()` built-in function to find out the type of an object."
   ]
  },
  {
   "cell_type": "markdown",
   "id": "75d3eb50-f9ae-4254-a3a9-18f9c7dbc5c6",
   "metadata": {},
   "source": [
    "---"
   ]
  },
  {
   "cell_type": "markdown",
   "id": "7ab70dcd-28d5-42eb-8c3a-ae7f01f2465d",
   "metadata": {
    "tags": []
   },
   "source": [
    "### Everything in Python is an object\n",
    "\n",
    "Everything in Python is an object and objects usually come with methods (and attributes) attached to them:\n",
    "- the packages that we import are objects\n",
    "- the method inside packages are objects\n",
    "- a variable that you define in python (e.g. `a = 2`) is an object\n",
    "\n",
    "Methods and attributes of an object can be accessed using the \".\" operator:\n",
    "```\n",
    ">>> object.method()\n",
    ">>> object.attribute\n",
    "```\n",
    "\n",
    "If you have an object there are two ways to know its methods and attributes:\n",
    "- `object.` + TAB\n",
    "- `dir(object)`\n"
   ]
  },
  {
   "cell_type": "markdown",
   "id": "3a80bfe4-e2fa-4638-b8e8-d710b516a8d1",
   "metadata": {},
   "source": [
    "---"
   ]
  },
  {
   "cell_type": "markdown",
   "id": "b2ccb7ac-35fb-4fb4-b104-d4ced55c74b7",
   "metadata": {
    "tags": []
   },
   "source": [
    "### Type casting: change objects from one type to another\n",
    "\n",
    "In Python, there are functions that can transform data from one type into another type.  Much of the time, this function is named the same as the type itself, so if you know the type's name, you know how to do it!\n",
    "\n",
    "For example, make a `float` from an `int`:\n",
    "\n",
    "``` python\n",
    ">>> x1 = 3\n",
    ">>> type(x1)\n",
    "int\n",
    ">>> x2 = float(x1)\n",
    ">>> type(x2)\n",
    "float\n",
    "```"
   ]
  },
  {
   "cell_type": "markdown",
   "id": "cf8aabd1-902f-4f02-8d37-bbb377f5e63e",
   "metadata": {},
   "source": [
    "---"
   ]
  },
  {
   "cell_type": "markdown",
   "id": "a04472b3-b84f-41bc-ba6d-de32393044ce",
   "metadata": {},
   "source": [
    "### **Numpy**: A package for numerical analysis and computations\n",
    "\n",
    "**Array**: Another data collection type, provided by the Numpy library, that are designed to work with (mostly) numerical data. **Note**: all elements in the array must be of the same data type.\n",
    "\n",
    "<br>\n",
    "\n",
    "#### 1D and 2D arrays\n",
    "\n",
    "**1D array**: contains many values in the form of a vector. Can be create by passing a list to `np.array()` function.\n",
    "``` Python\n",
    ">>> 1d_array = np.array([1, 2, 3, 4])\n",
    "```\n",
    "\n",
    "**2D array**: contains many values in the form of a *matrix*. Can be create by passing a list of lists to `np.array()` function.\n",
    "``` Python\n",
    ">>> 2d_array = np.array([[1, 2], [3, 4]])\n",
    "```\n",
    "\n",
    "<br>\n",
    "\n",
    "#### Aggregation across a specific dimension\n",
    "\n",
    "When using aggregation functions on 2D arrays, you can specify a dimension (i.e. rows or columns) to apply the aggregaetion function by setting the value of the `axis` argument:\n",
    "- `axis=0`: to apply aggregation across rows (which gives you a value per column)\n",
    "- `axis=1`: to apply aggregation across columns (which gives you a value per row)"
   ]
  },
  {
   "cell_type": "markdown",
   "id": "e6a27d61-8e3d-435d-8375-e679bb682a56",
   "metadata": {},
   "source": [
    "---"
   ]
  },
  {
   "cell_type": "markdown",
   "id": "96cff82a-c866-457c-ba6e-fb3930bacb78",
   "metadata": {},
   "source": [
    "### Indexing and slicing\n",
    "\n",
    "Indexing and slicing is similar between collection types.\n",
    "- we use square brackets `[ ]`.\n",
    "- python is 0-indexed: the first element has index 0.\n",
    "- you can also use negative indices: the last element is indexing -1, second last element is index -2 and so on.\n",
    "- for slicing (or extracting a specific part of the collection) we can specify three numbers in the bracket `[start:end:step]`:\n",
    "    - the element with the `end` index is not included (slicing is until the `end` index)\n",
    "    - default value of `start` is 0, so if you leave it empty it starts from the very first element\n",
    "    - default for `end` is to go until the end of the collection (including the last element)\n",
    "    - default of the `step` is 1, so if you leave it empty it will take all the elements between `start` and `end` indices\n",
    "    \n",
    "![slicing and indexing](./imgs/indexing.png)\n",
    "\n",
    "**Note**: for 2D arrays nothing changes, we just need to specify the indices for each dimension (rows or columns).\n",
    "- indexing: `[row_index, column_index]`\n",
    "- slicing: `[start_row:end_row:step_row, start_col:end_col:step_col]`"
   ]
  },
  {
   "cell_type": "markdown",
   "id": "536ef11f-7359-43c1-8829-b31328a50fb2",
   "metadata": {},
   "source": [
    "---"
   ]
  },
  {
   "cell_type": "markdown",
   "id": "ee150a40-6cbe-4789-8f23-d9afec54527f",
   "metadata": {},
   "source": [
    "### **Matplotlib**: A package for data visualization\n",
    "\n",
    "Different types of plots have their own function in matplotlib:\n",
    "- line plot: `plt.plot()`\n",
    "- histogram: `plt.histogram()`\n",
    "\n",
    "Input arguments to these functions allow us to change the data representation (e.g. color, line style, etc.)\n",
    "\n",
    "We can add extra information to the plot such as axis labels, title, legend, etc. using other methods. For example:\n",
    "- `plt.xlabel()` would add a label to our x axis\n",
    "- `plt.ylabel()` would add a label to our y axis\n",
    "- `plt.title()` would add a title\n",
    "- `plt.legend()` would display the legend. **Note** that for legend to display anything we need to label the data which can be done as an input to our plotting function: for instance, `plt.plot(x, y, label=\"Data 1\")`"
   ]
  },
  {
   "cell_type": "markdown",
   "id": "ba5ddea9-965d-4050-8764-dc80ea2bfc18",
   "metadata": {},
   "source": [
    "---"
   ]
  },
  {
   "cell_type": "markdown",
   "id": "05c6a3a2-509a-4557-99f3-0727778aa925",
   "metadata": {},
   "source": [
    "# Exercise"
   ]
  },
  {
   "cell_type": "markdown",
   "id": "047e6fbb-db95-4ea5-85d8-09927a8cd95f",
   "metadata": {},
   "source": [
    "1. Create a tuple, called `my_tuple`, containing number from 1 to 5 (including 5)."
   ]
  },
  {
   "cell_type": "code",
   "execution_count": null,
   "id": "4ccfa816-df57-48a6-a0c8-70138396a003",
   "metadata": {},
   "outputs": [],
   "source": []
  },
  {
   "cell_type": "markdown",
   "id": "2d32b829-43c8-465f-8cc3-26561d5f81b0",
   "metadata": {},
   "source": [
    "2. Turn the tuple into a list and call it `my_list`."
   ]
  },
  {
   "cell_type": "code",
   "execution_count": null,
   "id": "85cdf29c-4115-404f-b82d-79410fa6f52c",
   "metadata": {},
   "outputs": [],
   "source": []
  },
  {
   "cell_type": "markdown",
   "id": "ed45688f-797d-4942-85f9-a1f6c4404a08",
   "metadata": {},
   "source": [
    "3. Create a list, called `my_other_list`, containing numbers from 6 to 9 (including 9)."
   ]
  },
  {
   "cell_type": "code",
   "execution_count": null,
   "id": "779206cd-99d9-4f7f-ae17-f0b759445981",
   "metadata": {},
   "outputs": [],
   "source": []
  },
  {
   "cell_type": "markdown",
   "id": "1f95e1ee-7c62-43df-90eb-1983f7e0ce0e",
   "metadata": {},
   "source": [
    "4. Using a method of the list object update `my_list` to also include the elements of `my_other_list`."
   ]
  },
  {
   "cell_type": "code",
   "execution_count": null,
   "id": "5fc65d23-9914-4046-a98f-b90e08c94414",
   "metadata": {},
   "outputs": [],
   "source": []
  },
  {
   "cell_type": "markdown",
   "id": "4d8ec2f9-f4ef-4745-92d3-7ec1b258d2df",
   "metadata": {},
   "source": [
    "5. Using a method of the list object, add number 10 at the end of `my_list`."
   ]
  },
  {
   "cell_type": "code",
   "execution_count": null,
   "id": "75a76e3a-9349-4bb3-935d-9df682ac0dcb",
   "metadata": {},
   "outputs": [],
   "source": []
  },
  {
   "cell_type": "markdown",
   "id": "8370ed5f-5d44-4407-8b42-2bce9179b45a",
   "metadata": {},
   "source": [
    "6. Import the `numpy` package and call it `np`."
   ]
  },
  {
   "cell_type": "code",
   "execution_count": null,
   "id": "5a1d4db4-a56e-492f-a894-90f3634bb516",
   "metadata": {},
   "outputs": [],
   "source": []
  },
  {
   "cell_type": "markdown",
   "id": "883b09ac-228d-4cf6-a015-254fd45a6606",
   "metadata": {},
   "source": [
    "7. Create a Numpy Array, called `x`, from `my_list`."
   ]
  },
  {
   "cell_type": "code",
   "execution_count": null,
   "id": "fb129a66-fba5-419d-bd6f-9830a1e863f6",
   "metadata": {},
   "outputs": [],
   "source": []
  },
  {
   "cell_type": "markdown",
   "id": "58bc5a9d-6080-45f3-b36f-24a164e13a79",
   "metadata": {},
   "source": [
    "8. Update `x` by dividing its values by 10 and then multiply the values by $2 \\pi$."
   ]
  },
  {
   "cell_type": "code",
   "execution_count": null,
   "id": "6390c0e7-9b99-4a99-8acc-301df312c274",
   "metadata": {},
   "outputs": [],
   "source": []
  },
  {
   "cell_type": "markdown",
   "id": "e7f76852-9d08-416d-80df-4f7b540e33ec",
   "metadata": {},
   "source": [
    "9. Create a new varible `y` which is $sin(x)$."
   ]
  },
  {
   "cell_type": "code",
   "execution_count": null,
   "id": "0a19cc2e-599b-42c0-af7b-b05ab2880dc6",
   "metadata": {},
   "outputs": [],
   "source": []
  },
  {
   "cell_type": "markdown",
   "id": "e2a49cf6-cf1e-43c6-8925-f14e28ac6df7",
   "metadata": {},
   "source": [
    "10. Import the `matplotlib.pyplot` package and call it `plt`. "
   ]
  },
  {
   "cell_type": "code",
   "execution_count": null,
   "id": "7fd8cdf7-babd-4e2f-9707-2668ae3323b4",
   "metadata": {},
   "outputs": [],
   "source": []
  },
  {
   "cell_type": "markdown",
   "id": "4e2a2924-a648-4159-b52f-a1829fc85430",
   "metadata": {},
   "source": [
    "11. Plot `x` vs `y` as a line plot (i.e. using `plt.plot()`)."
   ]
  },
  {
   "cell_type": "code",
   "execution_count": null,
   "id": "562defec-d9ed-47a8-94c6-bcc738888950",
   "metadata": {},
   "outputs": [],
   "source": []
  },
  {
   "cell_type": "markdown",
   "id": "bc600d5d-82ad-43c2-bf9f-7dab367fb787",
   "metadata": {},
   "source": [
    "12. Make the following changed to your plot:\n",
    "- line color: dodgerblue\n",
    "- line style: dashed\n",
    "- line width: 3\n",
    "- title of the plot: \"y = sin(x)\"\n",
    "- label of x axis: \"x\"\n",
    "- label of y axis: \"sin(x)\""
   ]
  },
  {
   "cell_type": "code",
   "execution_count": null,
   "id": "bb96a9af-bde9-4e23-a71e-4399be0cc060",
   "metadata": {},
   "outputs": [],
   "source": []
  },
  {
   "cell_type": "markdown",
   "id": "27dfcc38-7d60-4d92-acff-8197ddee69c0",
   "metadata": {},
   "source": [
    "13. Add to the same figure $cos(x)$."
   ]
  },
  {
   "cell_type": "code",
   "execution_count": null,
   "id": "cc18f546-ae4f-48ad-b017-7d2e184be7f1",
   "metadata": {},
   "outputs": [],
   "source": []
  },
  {
   "cell_type": "markdown",
   "id": "3ae39212-b173-48f9-b040-5b8d7f69967a",
   "metadata": {},
   "source": [
    "14. Make the following changed to your new plot:\n",
    "- label of y axis: \"f(x)\"\n",
    "- add a legend that shows the function they represent: \"sin(x)\" and \"cos(x)\"\n",
    "- generally improve the figure as much as you can (by changing colors, styles, etc.)"
   ]
  },
  {
   "cell_type": "code",
   "execution_count": null,
   "id": "a3120a5b-261e-4b84-ba79-987835900b19",
   "metadata": {},
   "outputs": [],
   "source": []
  },
  {
   "cell_type": "markdown",
   "id": "620941db-c64b-4d15-8a87-caa745c34d6a",
   "metadata": {},
   "source": [
    "15. Create a 1D Array with 1000 entries ranging from 0 to $4 \\pi$. "
   ]
  },
  {
   "cell_type": "code",
   "execution_count": null,
   "id": "a2abc1c2-93bd-4b84-ac33-3413732e20e1",
   "metadata": {},
   "outputs": [],
   "source": []
  },
  {
   "cell_type": "markdown",
   "id": "5fd9723c-488e-478f-bf18-953c89859c31",
   "metadata": {},
   "source": [
    "... reshape it into a 2D Array with 2 rows."
   ]
  },
  {
   "cell_type": "code",
   "execution_count": null,
   "id": "4dbe9ab5-787a-4190-ad5b-9d6ea1d00db9",
   "metadata": {},
   "outputs": [],
   "source": []
  },
  {
   "cell_type": "markdown",
   "id": "cc3c34f6-c985-4d5f-b72b-8e63e4f15c63",
   "metadata": {},
   "source": [
    "... save each row as a separate variable. Call first row `x1` and second row `x2`."
   ]
  },
  {
   "cell_type": "code",
   "execution_count": null,
   "id": "1f6a8b75-34b6-4b21-9da5-fd28edc601ff",
   "metadata": {},
   "outputs": [],
   "source": []
  },
  {
   "cell_type": "markdown",
   "id": "6a61b878-be5f-415a-b50c-38dfd1ccb603",
   "metadata": {},
   "source": [
    "... compute `y1` and `y2` as $y1 = sin(x1)$ and $y2 = cos(x2)$."
   ]
  },
  {
   "cell_type": "code",
   "execution_count": null,
   "id": "50dd32a6-36e8-4c7b-97f8-c4145b2806c7",
   "metadata": {},
   "outputs": [],
   "source": []
  },
  {
   "cell_type": "markdown",
   "id": "a2a70b43-c62f-41f1-93ea-295524a17069",
   "metadata": {},
   "source": [
    "... plot `y1` vs `y2`."
   ]
  },
  {
   "cell_type": "markdown",
   "id": "3454e38d-11c0-4f73-8ab1-5e912ff8c93f",
   "metadata": {},
   "source": [
    "16. The Array below contains the grade of students for the four quizes they did during the semester. Each row is a different student, and each column is different quick (first column is the first quiz and last column the last quiz)."
   ]
  },
  {
   "cell_type": "code",
   "execution_count": 11,
   "id": "f532b7b8-2255-4383-8a6b-5f3e3bb0138a",
   "metadata": {},
   "outputs": [],
   "source": [
    "grades = np.array([[9.2, 8.7, 7.8, 7.6], \n",
    "                   [8.5, 6.2, 7.7, 6.3], \n",
    "                   [6.5, 7.0, 5.1, 4.9], \n",
    "                   [6.7, 9.8, 4.9, 9.2], \n",
    "                   [5.1, 6.9, 8.1, 7.2], \n",
    "                   [7.3, 9.3, 6.9, 9.4], \n",
    "                   [4.4, 4.1, 8., 5.1], \n",
    "                   [6.4, 6.7, 6.5, 6.], \n",
    "                   [9., 8.5, 7.9, 8.], \n",
    "                   [7.4, 8.4, 8.2, 5.5]])"
   ]
  },
  {
   "cell_type": "markdown",
   "id": "ff09e534-e6a1-40d6-b327-f190919cf913",
   "metadata": {},
   "source": [
    "a) What is the average score of the class taking all student and quizes into account?"
   ]
  },
  {
   "cell_type": "code",
   "execution_count": null,
   "id": "83638ae0-5eff-40b9-a74d-4f40e1e057ee",
   "metadata": {},
   "outputs": [],
   "source": []
  },
  {
   "cell_type": "markdown",
   "id": "39cdec69-0509-4951-a705-d003f1ef29c7",
   "metadata": {},
   "source": [
    "b) What is the average score in the class for each quiz?"
   ]
  },
  {
   "cell_type": "code",
   "execution_count": null,
   "id": "13b4c49b-48be-4755-a819-718685b69c1b",
   "metadata": {},
   "outputs": [],
   "source": []
  },
  {
   "cell_type": "markdown",
   "id": "771819cf-f2de-4de9-90a7-2361a08fe9c1",
   "metadata": {},
   "source": [
    "c) What is the average score of each student taking all quizes into account?"
   ]
  },
  {
   "cell_type": "code",
   "execution_count": null,
   "id": "7264c454-554d-4248-b182-8aafc60cca29",
   "metadata": {},
   "outputs": [],
   "source": []
  },
  {
   "cell_type": "markdown",
   "id": "93591733-8651-4c43-a4bc-59075380818c",
   "metadata": {},
   "source": [
    "d) With a plot show whether the first student improved from one quiz to another or got worse?"
   ]
  },
  {
   "cell_type": "code",
   "execution_count": null,
   "id": "ccf52c94-022b-44f3-84ea-96b47cd45d27",
   "metadata": {},
   "outputs": [],
   "source": []
  }
 ],
 "metadata": {
  "kernelspec": {
   "display_name": "Python 3 (ipykernel)",
   "language": "python",
   "name": "python3"
  },
  "language_info": {
   "codemirror_mode": {
    "name": "ipython",
    "version": 3
   },
   "file_extension": ".py",
   "mimetype": "text/x-python",
   "name": "python",
   "nbconvert_exporter": "python",
   "pygments_lexer": "ipython3",
   "version": "3.9.10"
  }
 },
 "nbformat": 4,
 "nbformat_minor": 5
}
