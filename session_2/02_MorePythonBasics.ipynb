{
 "cells": [
  {
   "cell_type": "markdown",
   "id": "2b055310",
   "metadata": {
    "cell_id": "e73162e3-093b-4f97-91a7-84ba526b5fee",
    "deepnote_cell_height": 496,
    "deepnote_cell_type": "markdown"
   },
   "source": [
    "# Defining functions\n",
    "\n",
    "It happens often that you have a block of code (a specific set of operstions) and you want to perform the same thing at different places in your code. Of course, you could always write the whole thing over and over, but another approach is to pack that set of operations, give it a name, and just use that name to perform it, instead of re-writing everything everytime - **keep your code dry!** And **functions** help you do exactly that.\n",
    "\n",
    "**Functions** are a set of instructions (lines of code) put together that perform a specific task, and return some result(s). Usually a function also gets inputs (referred to as **function arguments**), and in Python you can define functions with any number of arguments, including no arguments.\n",
    "\n",
    "To create a function we use the Python keyword `def`:\n",
    "```python\n",
    "def my_func(arg):\n",
    "    # do something\n",
    "    # result = final thing\n",
    "    return result\n",
    "```"
   ]
  },
  {
   "cell_type": "code",
   "execution_count": 1,
   "id": "b07e440b",
   "metadata": {
    "cell_id": "00001-f02372f5-1a7a-451b-8a5c-490895307f29",
    "deepnote_cell_height": 112,
    "deepnote_cell_type": "code",
    "deepnote_to_be_reexecuted": false,
    "execution_millis": 2,
    "execution_start": 1659775198055,
    "source_hash": "933dd9a"
   },
   "outputs": [],
   "source": [
    "## Example of a function with no arguments\n",
    "\n",
    "def my_func():\n",
    "    result = 5\n",
    "    return result"
   ]
  },
  {
   "cell_type": "code",
   "execution_count": 2,
   "id": "e7e2f6ed",
   "metadata": {
    "cell_id": "00002-9496bf15-5e0e-4fd0-a977-01ee4f2294c6",
    "deepnote_cell_height": 113.171875,
    "deepnote_cell_type": "code",
    "deepnote_output_heights": [
     21.1875
    ],
    "deepnote_to_be_reexecuted": false,
    "execution_millis": 313,
    "execution_start": 1659775198540,
    "source_hash": "416ffdb4"
   },
   "outputs": [
    {
     "data": {
      "text/plain": [
       "5"
      ]
     },
     "execution_count": 2,
     "metadata": {},
     "output_type": "execute_result"
    }
   ],
   "source": [
    "my_func()"
   ]
  },
  {
   "cell_type": "code",
   "execution_count": 3,
   "id": "592cce4a",
   "metadata": {
    "cell_id": "00003-83cf00b5-16dd-4dd5-9c3b-b246551d5ec6",
    "deepnote_cell_height": 112,
    "deepnote_cell_type": "code",
    "deepnote_to_be_reexecuted": false,
    "execution_millis": 0,
    "execution_start": 1659775223874,
    "source_hash": "311fecfe"
   },
   "outputs": [],
   "source": [
    "## One argument\n",
    "\n",
    "def add_3(input_val):\n",
    "    result = input_val + 3\n",
    "    return result"
   ]
  },
  {
   "cell_type": "code",
   "execution_count": 4,
   "id": "10758133",
   "metadata": {
    "cell_id": "00004-8d7d5ed7-2d3e-4477-b089-9e10a4fb519e",
    "deepnote_cell_height": 113.171875,
    "deepnote_cell_type": "code",
    "deepnote_output_heights": [
     21.1875
    ],
    "deepnote_to_be_reexecuted": false,
    "execution_millis": 67,
    "execution_start": 1659775224807,
    "source_hash": "d4273e6a"
   },
   "outputs": [
    {
     "data": {
      "text/plain": [
       "10"
      ]
     },
     "execution_count": 4,
     "metadata": {},
     "output_type": "execute_result"
    }
   ],
   "source": [
    "add_3(7)"
   ]
  },
  {
   "cell_type": "markdown",
   "id": "8fdfec87",
   "metadata": {
    "cell_id": "00005-025e1f38-a549-4afe-8189-7e7f6302d061",
    "deepnote_cell_height": 52.390625,
    "deepnote_cell_type": "markdown"
   },
   "source": [
    "Note that the variables defined in the function are not available outside it"
   ]
  },
  {
   "cell_type": "code",
   "execution_count": 5,
   "id": "01c0c794",
   "metadata": {
    "cell_id": "00006-e5e11095-307a-45d2-96ab-6048c0508eae",
    "deepnote_cell_height": 139.1875,
    "deepnote_cell_type": "code",
    "deepnote_to_be_reexecuted": false,
    "execution_millis": 954,
    "execution_start": 1659775244212,
    "source_hash": "bae0e1b5"
   },
   "outputs": [
    {
     "ename": "NameError",
     "evalue": "name 'result' is not defined",
     "output_type": "error",
     "traceback": [
      "\u001b[0;31m---------------------------------------------------------------------------\u001b[0m",
      "\u001b[0;31mNameError\u001b[0m                                 Traceback (most recent call last)",
      "Input \u001b[0;32mIn [5]\u001b[0m, in \u001b[0;36m<cell line: 1>\u001b[0;34m()\u001b[0m\n\u001b[0;32m----> 1\u001b[0m \u001b[43mresult\u001b[49m\n",
      "\u001b[0;31mNameError\u001b[0m: name 'result' is not defined"
     ]
    }
   ],
   "source": [
    "result"
   ]
  },
  {
   "cell_type": "code",
   "execution_count": null,
   "id": "7f9f53e0",
   "metadata": {
    "cell_id": "00007-98bcc1c9-746f-44c0-8cac-27d6612d1f4c",
    "deepnote_cell_height": 112,
    "deepnote_cell_type": "code",
    "deepnote_to_be_reexecuted": false,
    "execution_millis": 5,
    "execution_start": 1659775258541,
    "source_hash": "9ef3690d"
   },
   "outputs": [],
   "source": [
    "## Two arguments\n",
    "\n",
    "def add(a, b):\n",
    "    result = a + b\n",
    "    return result"
   ]
  },
  {
   "cell_type": "code",
   "execution_count": null,
   "id": "324c4790",
   "metadata": {
    "cell_id": "00008-1a4d05b3-e52f-4b73-87aa-c8c9c1fd1f27",
    "deepnote_cell_height": 113.171875,
    "deepnote_cell_type": "code",
    "deepnote_output_heights": [
     21.1875
    ],
    "deepnote_to_be_reexecuted": false,
    "execution_millis": 3,
    "execution_start": 1659775259671,
    "source_hash": "b62c84c4"
   },
   "outputs": [],
   "source": [
    "add(5, 3)"
   ]
  },
  {
   "cell_type": "markdown",
   "id": "3bd4c13a-6a7f-4717-be90-a433682fda9e",
   "metadata": {},
   "source": [
    "**Note** that the input can be any object. Here is an example of a function that gets one input which is a list object:"
   ]
  },
  {
   "cell_type": "code",
   "execution_count": 6,
   "id": "7161c8a0-baea-4f65-b7e2-b45790968ea2",
   "metadata": {},
   "outputs": [],
   "source": [
    "def get_length(ll):\n",
    "    result = len(ll)\n",
    "    return result"
   ]
  },
  {
   "cell_type": "code",
   "execution_count": 7,
   "id": "d6bb0da8-0cc6-4e20-bfdf-683441c5ec7d",
   "metadata": {},
   "outputs": [
    {
     "data": {
      "text/plain": [
       "3"
      ]
     },
     "execution_count": 7,
     "metadata": {},
     "output_type": "execute_result"
    }
   ],
   "source": [
    "a_list = [3, 2, 1]\n",
    "get_length(a_list)"
   ]
  },
  {
   "cell_type": "markdown",
   "id": "6685c86e",
   "metadata": {
    "cell_id": "00009-f1a8f676-eb64-41d4-9715-cc74d3eb8faa",
    "deepnote_cell_height": 70,
    "deepnote_cell_type": "markdown"
   },
   "source": [
    "## Exercise (quick)"
   ]
  },
  {
   "cell_type": "markdown",
   "id": "551e82c0",
   "metadata": {
    "cell_id": "00010-e50ab550-ecda-4b82-bf85-f47c0a9ab9ab",
    "deepnote_cell_height": 69.390625,
    "deepnote_cell_type": "markdown"
   },
   "source": [
    "1. Define a function that takes a single input, divides it by 2, and returns the results."
   ]
  },
  {
   "cell_type": "code",
   "execution_count": 8,
   "id": "f50b76da",
   "metadata": {
    "cell_id": "00011-c3c6e4c2-20d4-46dd-b8ae-829f104628cf",
    "deepnote_cell_height": 112,
    "deepnote_cell_type": "code",
    "deepnote_to_be_reexecuted": false,
    "execution_millis": 3,
    "execution_start": 1659775497858,
    "source_hash": "852ae427"
   },
   "outputs": [],
   "source": [
    "def divide_by_2(x):\n",
    "    result = x / 2\n",
    "    return result"
   ]
  },
  {
   "cell_type": "code",
   "execution_count": 9,
   "id": "c1652044",
   "metadata": {
    "cell_id": "c5e45daaf7c9438590b889877d808148",
    "deepnote_cell_height": 113.171875,
    "deepnote_cell_type": "code",
    "deepnote_output_heights": [
     21.1875
    ],
    "deepnote_to_be_reexecuted": false,
    "execution_millis": 8,
    "execution_start": 1659775507910,
    "source_hash": "9a8dde15",
    "tags": []
   },
   "outputs": [
    {
     "data": {
      "text/plain": [
       "2.5"
      ]
     },
     "execution_count": 9,
     "metadata": {},
     "output_type": "execute_result"
    }
   ],
   "source": [
    "divide_by_2(5)"
   ]
  },
  {
   "cell_type": "markdown",
   "id": "fb54cba5",
   "metadata": {
    "cell_id": "00012-1e5e6762-f44f-476f-ba51-5d62f51207f0",
    "deepnote_cell_height": 52.390625,
    "deepnote_cell_type": "markdown"
   },
   "source": [
    "... change the function such that it returns an integer."
   ]
  },
  {
   "cell_type": "code",
   "execution_count": 10,
   "id": "6ab84a1c",
   "metadata": {
    "cell_id": "00013-b6f27c5f-dc06-46dc-8aaa-e04b4d871580",
    "deepnote_cell_height": 112,
    "deepnote_cell_type": "code",
    "deepnote_to_be_reexecuted": false,
    "execution_millis": 2,
    "execution_start": 1659775558027,
    "source_hash": "37003900"
   },
   "outputs": [],
   "source": [
    "def divide_by_2(x):\n",
    "    result = x // 2\n",
    "    return result"
   ]
  },
  {
   "cell_type": "code",
   "execution_count": 11,
   "id": "c4b29988",
   "metadata": {
    "cell_id": "80056ae804b641f194e382d9ca7cbc7d",
    "deepnote_cell_height": 113.171875,
    "deepnote_cell_type": "code",
    "deepnote_output_heights": [
     21.1875
    ],
    "deepnote_to_be_reexecuted": false,
    "execution_millis": 3,
    "execution_start": 1659775560366,
    "source_hash": "9a8dde15",
    "tags": []
   },
   "outputs": [
    {
     "data": {
      "text/plain": [
       "2"
      ]
     },
     "execution_count": 11,
     "metadata": {},
     "output_type": "execute_result"
    }
   ],
   "source": [
    "divide_by_2(5)"
   ]
  },
  {
   "cell_type": "markdown",
   "id": "15f80067",
   "metadata": {
    "cell_id": "00014-7aa8657a-c39d-4530-adbb-5c137b2311ce",
    "deepnote_cell_height": 91.796875,
    "deepnote_cell_type": "markdown"
   },
   "source": [
    "2. Define a function that takes two values, divides the first input by the second one and returns the remainder."
   ]
  },
  {
   "cell_type": "code",
   "execution_count": 12,
   "id": "a011ceba",
   "metadata": {
    "cell_id": "00015-d18aeaae-9038-40ac-a945-417178e64050",
    "deepnote_cell_height": 112,
    "deepnote_cell_type": "code",
    "deepnote_to_be_reexecuted": false,
    "execution_millis": 2,
    "execution_start": 1659775600461,
    "source_hash": "df43050e"
   },
   "outputs": [],
   "source": [
    "def divide(a, b):\n",
    "    remainder = a % b\n",
    "    return remainder"
   ]
  },
  {
   "cell_type": "code",
   "execution_count": 13,
   "id": "82845ed0",
   "metadata": {
    "cell_id": "10739bff844e41b48502ce8eb171aeff",
    "deepnote_cell_height": 113.171875,
    "deepnote_cell_type": "code",
    "deepnote_output_heights": [
     21.1875
    ],
    "deepnote_to_be_reexecuted": false,
    "execution_millis": 2,
    "execution_start": 1659775614623,
    "source_hash": "e333174f",
    "tags": []
   },
   "outputs": [
    {
     "data": {
      "text/plain": [
       "0"
      ]
     },
     "execution_count": 13,
     "metadata": {},
     "output_type": "execute_result"
    }
   ],
   "source": [
    "divide(10, 2)"
   ]
  },
  {
   "cell_type": "markdown",
   "id": "b8932ca5",
   "metadata": {
    "cell_id": "00016-c0085534-1df8-4800-a64f-934d23acaacf",
    "deepnote_cell_height": 46,
    "deepnote_cell_type": "markdown"
   },
   "source": [
    " "
   ]
  },
  {
   "cell_type": "markdown",
   "id": "bd77c167",
   "metadata": {
    "cell_id": "00017-b5e5a0b7-7d98-4900-bc0c-c121dab7992e",
    "deepnote_cell_height": 189.59375,
    "deepnote_cell_type": "markdown"
   },
   "source": [
    "## Positional vs optional arguments\n",
    "\n",
    "There are **two types** of function arguments:\n",
    "\n",
    "**Positional arguments**: have no default value and must be passed to the function.\n",
    "**Optional arguments** (aka named arguments): you guessed it - have a default value which will be used in case no value is passed by the user."
   ]
  },
  {
   "cell_type": "code",
   "execution_count": 14,
   "id": "6021f65f",
   "metadata": {
    "cell_id": "00018-28b80dc8-4dae-4fce-89c4-0cf30555a017",
    "deepnote_cell_height": 112,
    "deepnote_cell_type": "code",
    "deepnote_to_be_reexecuted": false,
    "execution_millis": 1,
    "execution_start": 1659775659549,
    "source_hash": "6ed26b34"
   },
   "outputs": [],
   "source": [
    "def add_two_values(a, b):\n",
    "    result = a + b\n",
    "    return result"
   ]
  },
  {
   "cell_type": "code",
   "execution_count": 15,
   "id": "3afc9a13",
   "metadata": {
    "cell_id": "00019-08db666b-9051-4528-aea9-2477fe3916f2",
    "deepnote_cell_height": 139.1875,
    "deepnote_cell_type": "code",
    "deepnote_to_be_reexecuted": false,
    "execution_millis": 5,
    "execution_start": 1659775667299,
    "source_hash": "dea7eff2"
   },
   "outputs": [
    {
     "ename": "TypeError",
     "evalue": "add_two_values() missing 1 required positional argument: 'b'",
     "output_type": "error",
     "traceback": [
      "\u001b[0;31m---------------------------------------------------------------------------\u001b[0m",
      "\u001b[0;31mTypeError\u001b[0m                                 Traceback (most recent call last)",
      "Input \u001b[0;32mIn [15]\u001b[0m, in \u001b[0;36m<cell line: 1>\u001b[0;34m()\u001b[0m\n\u001b[0;32m----> 1\u001b[0m \u001b[43madd_two_values\u001b[49m\u001b[43m(\u001b[49m\u001b[38;5;241;43m5\u001b[39;49m\u001b[43m)\u001b[49m\n",
      "\u001b[0;31mTypeError\u001b[0m: add_two_values() missing 1 required positional argument: 'b'"
     ]
    }
   ],
   "source": [
    "add_two_values(5)"
   ]
  },
  {
   "cell_type": "code",
   "execution_count": 16,
   "id": "9833980c",
   "metadata": {
    "cell_id": "00020-b5cbccb9-5271-472d-abb4-10ac7764229b",
    "deepnote_cell_height": 112,
    "deepnote_cell_type": "code",
    "deepnote_to_be_reexecuted": false,
    "execution_millis": 1,
    "execution_start": 1659775713217,
    "source_hash": "15011b2d"
   },
   "outputs": [],
   "source": [
    "def add_two_values(a, b=0):\n",
    "    result = a + b\n",
    "    return result"
   ]
  },
  {
   "cell_type": "code",
   "execution_count": 17,
   "id": "64a9e3ca",
   "metadata": {
    "cell_id": "00021-705abf90-82ef-46b8-bdc7-a8195b112aca",
    "deepnote_cell_height": 113.171875,
    "deepnote_cell_type": "code",
    "deepnote_output_heights": [
     21.1875
    ],
    "deepnote_to_be_reexecuted": false,
    "execution_millis": 197,
    "execution_start": 1659775717582,
    "source_hash": "90de005"
   },
   "outputs": [
    {
     "data": {
      "text/plain": [
       "7"
      ]
     },
     "execution_count": 17,
     "metadata": {},
     "output_type": "execute_result"
    }
   ],
   "source": [
    "add_two_values(7)"
   ]
  },
  {
   "cell_type": "code",
   "execution_count": 18,
   "id": "b463b2c6",
   "metadata": {
    "cell_id": "0d0e5c1da1ff46f8b02396dc1f0af85a",
    "deepnote_cell_height": 113.171875,
    "deepnote_cell_type": "code",
    "deepnote_output_heights": [
     21.1875
    ],
    "deepnote_to_be_reexecuted": false,
    "execution_millis": 8,
    "execution_start": 1659775772761,
    "source_hash": "38881e7a",
    "tags": []
   },
   "outputs": [
    {
     "data": {
      "text/plain": [
       "10"
      ]
     },
     "execution_count": 18,
     "metadata": {},
     "output_type": "execute_result"
    }
   ],
   "source": [
    "add_two_values(7, b=3)"
   ]
  },
  {
   "cell_type": "markdown",
   "id": "6569e7d6",
   "metadata": {
    "cell_id": "00022-24a39f14-331a-434f-9a9f-0141a9877f2c",
    "deepnote_cell_height": 52.390625,
    "deepnote_cell_type": "markdown"
   },
   "source": [
    "Functions can also return **multiple outputs**"
   ]
  },
  {
   "cell_type": "code",
   "execution_count": 19,
   "id": "e1e18249",
   "metadata": {
    "cell_id": "00023-5f5905b7-1a2d-4cab-8854-ecff0566ad5a",
    "deepnote_cell_height": 130,
    "deepnote_cell_type": "code",
    "deepnote_to_be_reexecuted": false,
    "execution_millis": 2,
    "execution_start": 1659775834833,
    "source_hash": "9b64f07b"
   },
   "outputs": [],
   "source": [
    "def add_and_subtract_two_values(a, b=3):\n",
    "    result_add = a + b\n",
    "    result_sub = a - b\n",
    "    return result_add, result_sub"
   ]
  },
  {
   "cell_type": "code",
   "execution_count": 20,
   "id": "a9ba0bbf",
   "metadata": {
    "cell_id": "00024-59c32a4c-c832-4f83-aeae-b8fe0f4ff400",
    "deepnote_cell_height": 76,
    "deepnote_cell_type": "code",
    "deepnote_output_heights": [
     21.1875
    ],
    "deepnote_to_be_reexecuted": false,
    "execution_millis": 2,
    "execution_start": 1659775924727,
    "source_hash": "f1bab32c"
   },
   "outputs": [],
   "source": [
    "res = add_and_subtract_two_values(5)"
   ]
  },
  {
   "cell_type": "code",
   "execution_count": 21,
   "id": "b60adfc9-3c3c-4502-bee6-34d5f8bcf60b",
   "metadata": {},
   "outputs": [
    {
     "data": {
      "text/plain": [
       "(8, 2)"
      ]
     },
     "execution_count": 21,
     "metadata": {},
     "output_type": "execute_result"
    }
   ],
   "source": [
    "res"
   ]
  },
  {
   "cell_type": "markdown",
   "id": "df569674",
   "metadata": {
    "cell_id": "00025-ce872501-b462-4f01-82cd-c8feb03eb36e",
    "deepnote_cell_height": 52.390625,
    "deepnote_cell_type": "markdown"
   },
   "source": [
    "**Question**: what is the type of the function output?"
   ]
  },
  {
   "cell_type": "markdown",
   "id": "095e4adb-7041-4709-be9b-edd099a6f58d",
   "metadata": {},
   "source": [
    "### Quick side note: Tuple unpacking"
   ]
  },
  {
   "cell_type": "code",
   "execution_count": 22,
   "id": "3365bfb9-1c93-4ed6-9848-8d036c075676",
   "metadata": {},
   "outputs": [],
   "source": [
    "res1, res2 = add_and_subtract_two_values(5)"
   ]
  },
  {
   "cell_type": "code",
   "execution_count": 23,
   "id": "32114f5a-2920-4bf4-bfca-a589afcc538f",
   "metadata": {},
   "outputs": [
    {
     "data": {
      "text/plain": [
       "8"
      ]
     },
     "execution_count": 23,
     "metadata": {},
     "output_type": "execute_result"
    }
   ],
   "source": [
    "res1"
   ]
  },
  {
   "cell_type": "code",
   "execution_count": 24,
   "id": "8dfba3f5-5650-495e-a553-45d9488d6941",
   "metadata": {},
   "outputs": [
    {
     "data": {
      "text/plain": [
       "2"
      ]
     },
     "execution_count": 24,
     "metadata": {},
     "output_type": "execute_result"
    }
   ],
   "source": [
    "res2"
   ]
  },
  {
   "cell_type": "markdown",
   "id": "7f51de63",
   "metadata": {
    "cell_id": "00026-b4e075f1-6404-45b3-8009-e105f1dd1a32",
    "deepnote_cell_height": 70,
    "deepnote_cell_type": "markdown"
   },
   "source": [
    "## Exercise"
   ]
  },
  {
   "cell_type": "markdown",
   "id": "5eea40d8",
   "metadata": {
    "cell_id": "00027-f5522307-18fe-481f-866f-411b10c0d310",
    "deepnote_cell_height": 69.390625,
    "deepnote_cell_type": "markdown"
   },
   "source": [
    "1. Define a function that multplies two values and returns the result."
   ]
  },
  {
   "cell_type": "code",
   "execution_count": 25,
   "id": "2da79cca",
   "metadata": {
    "cell_id": "00028-e227a194-6469-4199-96fe-649e11c2938d",
    "deepnote_cell_height": 61,
    "deepnote_cell_type": "code"
   },
   "outputs": [],
   "source": [
    "def mult(a, b):\n",
    "    return a*b"
   ]
  },
  {
   "cell_type": "code",
   "execution_count": 26,
   "id": "e7333061-82e2-4060-a5a4-6cba5c5deb4b",
   "metadata": {},
   "outputs": [
    {
     "data": {
      "text/plain": [
       "6"
      ]
     },
     "execution_count": 26,
     "metadata": {},
     "output_type": "execute_result"
    }
   ],
   "source": [
    "mult(2, 3)"
   ]
  },
  {
   "cell_type": "markdown",
   "id": "6aa824ba",
   "metadata": {
    "cell_id": "00029-640ee954-d86a-45ef-81dd-2f1d4974aec3",
    "deepnote_cell_height": 91.796875,
    "deepnote_cell_type": "markdown"
   },
   "source": [
    "2. Define a function that takes two values and raise the first one to the power of the second one."
   ]
  },
  {
   "cell_type": "code",
   "execution_count": 27,
   "id": "3ab24235",
   "metadata": {
    "cell_id": "00030-d3095fbd-88b6-4158-8e41-3eeeac311e4b",
    "deepnote_cell_height": 61,
    "deepnote_cell_type": "code"
   },
   "outputs": [],
   "source": [
    "def exponent(a, b):\n",
    "    return a**b"
   ]
  },
  {
   "cell_type": "code",
   "execution_count": 28,
   "id": "3d456b34-cc7c-49a5-8471-e5faf195a392",
   "metadata": {},
   "outputs": [
    {
     "data": {
      "text/plain": [
       "8"
      ]
     },
     "execution_count": 28,
     "metadata": {},
     "output_type": "execute_result"
    }
   ],
   "source": [
    "exponent(2, 3)"
   ]
  },
  {
   "cell_type": "markdown",
   "id": "eda5b248",
   "metadata": {
    "cell_id": "00031-6f1e7d10-c7fb-4d66-af4f-62fab2aa1d79",
    "deepnote_cell_height": 91.796875,
    "deepnote_cell_type": "markdown"
   },
   "source": [
    "3. Change the previous function to leave the first value unchanged if the second input was not specified. "
   ]
  },
  {
   "cell_type": "code",
   "execution_count": 29,
   "id": "cf2868ac-61a4-472c-915a-0d89ca7af14c",
   "metadata": {
    "cell_id": "00030-d3095fbd-88b6-4158-8e41-3eeeac311e4b",
    "deepnote_cell_height": 61,
    "deepnote_cell_type": "code"
   },
   "outputs": [],
   "source": [
    "def exponent(a, b=1):\n",
    "    return a**b"
   ]
  },
  {
   "cell_type": "code",
   "execution_count": 30,
   "id": "06e4609d-47bf-472f-983f-ff8b1cd69516",
   "metadata": {},
   "outputs": [
    {
     "data": {
      "text/plain": [
       "2"
      ]
     },
     "execution_count": 30,
     "metadata": {},
     "output_type": "execute_result"
    }
   ],
   "source": [
    "exponent(2)"
   ]
  },
  {
   "cell_type": "markdown",
   "id": "6586c10c",
   "metadata": {
    "cell_id": "00033-9d385a81-09ad-424f-b897-50ad58d87018",
    "deepnote_cell_height": 91.796875,
    "deepnote_cell_type": "markdown"
   },
   "source": [
    "4. Define a function called `compute_sum` that takes a list (of numerical values) and returns the sum of all values."
   ]
  },
  {
   "cell_type": "code",
   "execution_count": 31,
   "id": "4596cd94",
   "metadata": {
    "cell_id": "00034-3e850f01-931e-4540-8006-6d061330b8a9",
    "deepnote_cell_height": 112,
    "deepnote_cell_type": "code",
    "deepnote_to_be_reexecuted": false,
    "execution_millis": 4,
    "execution_start": 1659777246675,
    "source_hash": "66267ad2"
   },
   "outputs": [],
   "source": [
    "def compute_sum(aa):\n",
    "    result = sum(aa)\n",
    "    return result"
   ]
  },
  {
   "cell_type": "code",
   "execution_count": 32,
   "id": "f05da39a",
   "metadata": {
    "cell_id": "4a2838a90fc9414e8f424c237042f3f1",
    "deepnote_cell_height": 113.171875,
    "deepnote_cell_type": "code",
    "deepnote_output_heights": [
     21.1875
    ],
    "deepnote_to_be_reexecuted": false,
    "execution_millis": 13,
    "execution_start": 1659777259124,
    "source_hash": "4163b204",
    "tags": []
   },
   "outputs": [
    {
     "data": {
      "text/plain": [
       "6"
      ]
     },
     "execution_count": 32,
     "metadata": {},
     "output_type": "execute_result"
    }
   ],
   "source": [
    "compute_sum([1, 2, 3])"
   ]
  },
  {
   "cell_type": "markdown",
   "id": "b14338ae",
   "metadata": {
    "cell_id": "00035-634cf5d4-bfcb-4ea7-a09b-ade22be4acb0",
    "deepnote_cell_height": 91.796875,
    "deepnote_cell_type": "markdown"
   },
   "source": [
    "5. Define a function called `compute_mean` that takes a list (of numerical values) and returns the mean (or average) value."
   ]
  },
  {
   "cell_type": "code",
   "execution_count": 33,
   "id": "ca65689b",
   "metadata": {
    "cell_id": "00036-3b903815-de88-492e-9c4c-e3771687b7ca",
    "deepnote_cell_height": 112,
    "deepnote_cell_type": "code",
    "deepnote_to_be_reexecuted": false,
    "execution_millis": 5,
    "execution_start": 1659777285859,
    "source_hash": "7abf062e"
   },
   "outputs": [],
   "source": [
    "def compute_mean(bb):\n",
    "    result = sum(bb) / len(bb)\n",
    "    return result"
   ]
  },
  {
   "cell_type": "code",
   "execution_count": 34,
   "id": "8115d21e",
   "metadata": {
    "cell_id": "56d8985032614dad9f92ff5022251bd9",
    "deepnote_cell_height": 113.171875,
    "deepnote_cell_type": "code",
    "deepnote_output_heights": [
     21.1875
    ],
    "deepnote_to_be_reexecuted": false,
    "execution_millis": 2,
    "execution_start": 1659777292249,
    "source_hash": "4163b204",
    "tags": []
   },
   "outputs": [
    {
     "data": {
      "text/plain": [
       "2.0"
      ]
     },
     "execution_count": 34,
     "metadata": {},
     "output_type": "execute_result"
    }
   ],
   "source": [
    "compute_mean([1, 2, 3])"
   ]
  },
  {
   "cell_type": "markdown",
   "id": "6fdc2bde",
   "metadata": {
    "cell_id": "00037-068207aa-7f39-4342-9d81-8397b558a72b",
    "deepnote_cell_height": 91.796875,
    "deepnote_cell_type": "markdown"
   },
   "source": [
    "6. Define a function that takes a Numpy Array and normalizes the values in the array to be between 0 and 1.\n",
    "\n",
    "**What is normalization?** Transforming the data such that the minimum value is 0 and the maximum is 1."
   ]
  },
  {
   "cell_type": "code",
   "execution_count": 35,
   "id": "e35ba8d8",
   "metadata": {
    "cell_id": "636e046c221b4639986519f871595aab",
    "deepnote_cell_height": 76,
    "deepnote_cell_type": "code",
    "deepnote_to_be_reexecuted": false,
    "execution_millis": 2,
    "execution_start": 1659777452000,
    "source_hash": "c2602aa8",
    "tags": []
   },
   "outputs": [],
   "source": [
    "import numpy as np"
   ]
  },
  {
   "cell_type": "code",
   "execution_count": 36,
   "id": "81c849b2",
   "metadata": {
    "cell_id": "00038-216d86c1-5b77-49e8-ae45-ecc51bc68739",
    "deepnote_cell_height": 130,
    "deepnote_cell_type": "code",
    "deepnote_to_be_reexecuted": false,
    "execution_millis": 7,
    "execution_start": 1659777376372,
    "source_hash": "d9d48d33"
   },
   "outputs": [],
   "source": [
    "def normalize(arr):\n",
    "    res1 = arr - arr.min()\n",
    "    result = res1 / res1.max()\n",
    "    return result"
   ]
  },
  {
   "cell_type": "code",
   "execution_count": 37,
   "id": "5b884aea",
   "metadata": {
    "cell_id": "0c71825e9c2a4b0eac2c3df79c7961af",
    "deepnote_cell_height": 76,
    "deepnote_cell_type": "code",
    "deepnote_to_be_reexecuted": false,
    "execution_millis": 3,
    "execution_start": 1659777453633,
    "source_hash": "62e80e36",
    "tags": []
   },
   "outputs": [],
   "source": [
    "my_arr = np.array([3, 4, 5, 6, 7])"
   ]
  },
  {
   "cell_type": "code",
   "execution_count": 38,
   "id": "6bc4b26f",
   "metadata": {
    "cell_id": "f69c4ec6da454601a0da06aa9cc33f76",
    "deepnote_cell_height": 113.171875,
    "deepnote_cell_type": "code",
    "deepnote_output_heights": [
     21.1875
    ],
    "deepnote_to_be_reexecuted": false,
    "execution_millis": 5,
    "execution_start": 1659777459351,
    "source_hash": "eeb94b3f",
    "tags": []
   },
   "outputs": [
    {
     "data": {
      "text/plain": [
       "array([0.  , 0.25, 0.5 , 0.75, 1.  ])"
      ]
     },
     "execution_count": 38,
     "metadata": {},
     "output_type": "execute_result"
    }
   ],
   "source": [
    "normalize(my_arr)"
   ]
  },
  {
   "cell_type": "markdown",
   "id": "3c501b33",
   "metadata": {
    "cell_id": "00039-b48ddc8a-4ac5-4af1-b9b3-bc9e3b5e42c1",
    "deepnote_cell_height": 128.1875,
    "deepnote_cell_type": "markdown"
   },
   "source": [
    "7. Define a function that standardizes a given Array.\n",
    "\n",
    "    **What is standardization?** Rescaling the data to have a mean of 0 and a standard deviation of 1."
   ]
  },
  {
   "cell_type": "code",
   "execution_count": 39,
   "id": "873a9e84",
   "metadata": {
    "cell_id": "00040-cabdbfce-3e66-4f14-a1da-c9b42d044bfe",
    "deepnote_cell_height": 148,
    "deepnote_cell_type": "code",
    "deepnote_to_be_reexecuted": false,
    "execution_millis": 2,
    "execution_start": 1659777670650,
    "source_hash": "7b2b27c5"
   },
   "outputs": [],
   "source": [
    "def standardize(arr):\n",
    "    res1 = arr - arr.mean()\n",
    "    result = res1 / res1.std()\n",
    "\n",
    "    return result"
   ]
  },
  {
   "cell_type": "code",
   "execution_count": 40,
   "id": "6477745c",
   "metadata": {
    "cell_id": "6b2e49106b804fd7aaec42e3327ca57f",
    "deepnote_cell_height": 76,
    "deepnote_cell_type": "code",
    "deepnote_to_be_reexecuted": false,
    "execution_millis": 2,
    "execution_start": 1659777683668,
    "source_hash": "62e80e36",
    "tags": []
   },
   "outputs": [],
   "source": [
    "my_arr = np.array([3, 4, 5, 6, 7])"
   ]
  },
  {
   "cell_type": "code",
   "execution_count": 41,
   "id": "75956559",
   "metadata": {
    "cell_id": "1338d2d827fe49918a9389b3b2569aeb",
    "deepnote_cell_height": 113.171875,
    "deepnote_cell_type": "code",
    "deepnote_output_heights": [
     21.1875
    ],
    "deepnote_to_be_reexecuted": false,
    "execution_millis": 3,
    "execution_start": 1659777690776,
    "source_hash": "ed214fd4",
    "tags": []
   },
   "outputs": [
    {
     "data": {
      "text/plain": [
       "(5.0, 1.4142135623730951)"
      ]
     },
     "execution_count": 41,
     "metadata": {},
     "output_type": "execute_result"
    }
   ],
   "source": [
    "my_arr.mean(), my_arr.std()"
   ]
  },
  {
   "cell_type": "code",
   "execution_count": 42,
   "id": "a1c77ea5",
   "metadata": {
    "cell_id": "6526479c8d4c4f43947fe84cbb591355",
    "deepnote_cell_height": 113.171875,
    "deepnote_cell_type": "code",
    "deepnote_output_heights": [
     21.1875
    ],
    "deepnote_to_be_reexecuted": false,
    "execution_millis": 2,
    "execution_start": 1659777738203,
    "source_hash": "37287458",
    "tags": []
   },
   "outputs": [],
   "source": [
    "my_arr_standardized = standardize(my_arr)"
   ]
  },
  {
   "cell_type": "code",
   "execution_count": 43,
   "id": "64177d8f-b5d9-4d96-86e6-e2e9bd86552b",
   "metadata": {},
   "outputs": [
    {
     "data": {
      "text/plain": [
       "(0.0, 0.9999999999999999)"
      ]
     },
     "execution_count": 43,
     "metadata": {},
     "output_type": "execute_result"
    }
   ],
   "source": [
    "my_arr_standardized.mean(), my_arr_standardized.std()"
   ]
  },
  {
   "cell_type": "markdown",
   "id": "d9978a0a",
   "metadata": {
    "cell_id": "00041-668ec0cc-36a5-4e78-8751-80f9e736168d",
    "deepnote_cell_height": 46,
    "deepnote_cell_type": "markdown"
   },
   "source": [
    "---"
   ]
  },
  {
   "cell_type": "markdown",
   "id": "38d43b32",
   "metadata": {
    "cell_id": "00042-6b8731e3-848e-4435-bf3c-3a7b3307faba",
    "deepnote_cell_height": 459.59375,
    "deepnote_cell_type": "markdown",
    "tags": []
   },
   "source": [
    "# Controlling program flow\n",
    "\n",
    "There are situations where depending on some condition we want to perform different operations - control the flow of the program. `if` statement can be used to control the flow of the operations performed in our code. if statements run when their argument is **True** (a boolean variable). So we can control the flow by performing operations that output boolean states.\n",
    "\n",
    "Similar to functions, we need a **colon** and the operation under the if statement should be **indented**.\n",
    "\n",
    "```python\n",
    "if condition_1:\n",
    "\n",
    "    do something\n",
    "\n",
    "else:\n",
    "\n",
    "    do something\n",
    "```"
   ]
  },
  {
   "cell_type": "code",
   "execution_count": 44,
   "id": "adb694b3",
   "metadata": {
    "cell_id": "00043-d27d7235-ee06-4e96-bda1-9d1ec3b90b14",
    "deepnote_cell_height": 76,
    "deepnote_cell_type": "code",
    "deepnote_to_be_reexecuted": false,
    "execution_millis": 2,
    "execution_start": 1659778692597,
    "source_hash": "efb64f2c"
   },
   "outputs": [],
   "source": [
    "a = 5"
   ]
  },
  {
   "cell_type": "code",
   "execution_count": 45,
   "id": "118cd71c",
   "metadata": {
    "cell_id": "00044-5cf7aa2b-f8f2-4497-b22f-c2e0457055ca",
    "deepnote_cell_height": 160.828125,
    "deepnote_cell_type": "code",
    "deepnote_to_be_reexecuted": false,
    "execution_millis": 9,
    "execution_start": 1659778722307,
    "source_hash": "cc372a7c"
   },
   "outputs": [
    {
     "name": "stdout",
     "output_type": "stream",
     "text": [
      "Argument of \"if\" evaluated to True\n"
     ]
    }
   ],
   "source": [
    "if a > 2:\n",
    "    print('Argument of \"if\" evaluated to True')"
   ]
  },
  {
   "cell_type": "code",
   "execution_count": 46,
   "id": "92a50b20",
   "metadata": {
    "cell_id": "aa0b76c33d0a4de0b785d55b5de2059d",
    "deepnote_cell_height": 113.171875,
    "deepnote_cell_type": "code",
    "deepnote_output_heights": [
     21.1875
    ],
    "deepnote_to_be_reexecuted": false,
    "execution_millis": 17,
    "execution_start": 1659778747512,
    "source_hash": "3df68efd",
    "tags": []
   },
   "outputs": [
    {
     "data": {
      "text/plain": [
       "bool"
      ]
     },
     "execution_count": 46,
     "metadata": {},
     "output_type": "execute_result"
    }
   ],
   "source": [
    "type(a > 2)"
   ]
  },
  {
   "cell_type": "markdown",
   "id": "b9c1b80d",
   "metadata": {
    "cell_id": "00046-3481017f-a10f-492c-ae8b-858107014985",
    "deepnote_cell_height": 52.390625,
    "deepnote_cell_type": "markdown"
   },
   "source": [
    "We can also define a *defaul* operation if the condition is False via the `else` keyword:"
   ]
  },
  {
   "cell_type": "code",
   "execution_count": 47,
   "id": "15a456e3-d590-4809-ad0e-70a52c98b036",
   "metadata": {},
   "outputs": [],
   "source": [
    "a = 1"
   ]
  },
  {
   "cell_type": "code",
   "execution_count": 48,
   "id": "19685ae7",
   "metadata": {
    "cell_id": "00047-e141a621-8c73-4ddb-97db-2eb1b84ed337",
    "deepnote_cell_height": 160.828125,
    "deepnote_cell_type": "code"
   },
   "outputs": [
    {
     "name": "stdout",
     "output_type": "stream",
     "text": [
      "Argument of \"if\" evaluated to False\n"
     ]
    }
   ],
   "source": [
    "if a > 2:\n",
    "    print('Argument of \"if\" evaluated to True')\n",
    "else:\n",
    "    print('Argument of \"if\" evaluated to False')"
   ]
  },
  {
   "cell_type": "markdown",
   "id": "d46ebbca",
   "metadata": {
    "cell_id": "00048-a3527c22-3ad7-4176-b939-af822feed2ea",
    "deepnote_cell_height": 46,
    "deepnote_cell_type": "markdown"
   },
   "source": [
    " "
   ]
  },
  {
   "cell_type": "markdown",
   "id": "4522d636",
   "metadata": {
    "cell_id": "00049-dee6e21a-9522-45ab-a224-3783769e9671",
    "deepnote_cell_height": 332.796875,
    "deepnote_cell_type": "markdown"
   },
   "source": [
    "We can also have multiple conditions..\n",
    "```python\n",
    "if condition_1:\n",
    "\n",
    "    do something\n",
    "\n",
    "elif condition_2:\n",
    "    \n",
    "    do something\n",
    "\n",
    "else:\n",
    "\n",
    "    do something\n",
    "```"
   ]
  },
  {
   "cell_type": "code",
   "execution_count": 49,
   "id": "547a59e3",
   "metadata": {
    "cell_id": "00050-9e1b79b7-a76a-48ef-a3f9-5cb34a564b47",
    "deepnote_cell_height": 94,
    "deepnote_cell_type": "code",
    "deepnote_to_be_reexecuted": false,
    "execution_millis": 1,
    "execution_start": 1659778811613,
    "source_hash": "448f5fc6"
   },
   "outputs": [],
   "source": [
    "a = 5\n",
    "b = 3"
   ]
  },
  {
   "cell_type": "code",
   "execution_count": 50,
   "id": "9f1a8c17",
   "metadata": {
    "cell_id": "00051-fd3874fd-7186-48c8-8e93-8bf400d118c3",
    "deepnote_cell_height": 196.828125,
    "deepnote_cell_type": "code",
    "deepnote_to_be_reexecuted": false,
    "execution_millis": 637,
    "execution_start": 1659778831832,
    "source_hash": "c4a13360"
   },
   "outputs": [
    {
     "name": "stdout",
     "output_type": "stream",
     "text": [
      "a is bigger than b\n"
     ]
    }
   ],
   "source": [
    "if a > b:\n",
    "    print(\"a is bigger than b\")\n",
    "elif a < b:\n",
    "    print(\"a is smaller than b\")\n",
    "else:\n",
    "    print(\"a is equal to b\")"
   ]
  },
  {
   "cell_type": "markdown",
   "id": "1b2ab186-14e9-4b36-84a2-e22b1f6efcf1",
   "metadata": {},
   "source": [
    "**Note** that here the examples are with the `print()` function to keep the examples simple, but you can use any other function and any line of code in a block under the conditional statement."
   ]
  },
  {
   "cell_type": "markdown",
   "id": "13452bdb",
   "metadata": {
    "cell_id": "00052-f4f64857-918e-49e0-b39d-3f2c0605a24b",
    "deepnote_cell_height": 130.796875,
    "deepnote_cell_type": "markdown",
    "tags": []
   },
   "source": [
    "## Exercise\n",
    "\n",
    "Solve the following problems using `if`, `elif`, and `else` statements when applicable."
   ]
  },
  {
   "cell_type": "markdown",
   "id": "2f38469c",
   "metadata": {
    "cell_id": "00053-508841a8-bccc-4578-99cf-c67ae704e8c0",
    "deepnote_cell_height": 69.390625,
    "deepnote_cell_type": "markdown"
   },
   "source": [
    "1. Report with a message whether the value below is positive or negative."
   ]
  },
  {
   "cell_type": "code",
   "execution_count": 51,
   "id": "ae893ab2",
   "metadata": {
    "cell_id": "00054-8b82b849-d426-4849-a551-98dcc8483533",
    "deepnote_cell_height": 76,
    "deepnote_cell_type": "code",
    "deepnote_to_be_reexecuted": false,
    "execution_millis": 1,
    "execution_start": 1659779860753,
    "source_hash": "4858f51a"
   },
   "outputs": [],
   "source": [
    "value = 5"
   ]
  },
  {
   "cell_type": "code",
   "execution_count": 52,
   "id": "3e87ce0f",
   "metadata": {
    "cell_id": "00055-d1f454bc-237b-4f42-baf6-368702cfd36e",
    "deepnote_cell_height": 160.828125,
    "deepnote_cell_type": "code",
    "deepnote_to_be_reexecuted": false,
    "execution_millis": 1,
    "execution_start": 1659779901209,
    "source_hash": "ca6b9af7"
   },
   "outputs": [
    {
     "name": "stdout",
     "output_type": "stream",
     "text": [
      "positive\n"
     ]
    }
   ],
   "source": [
    "if value > 0:\n",
    "    print(\"positive\")\n",
    "elif value < 0:\n",
    "    print(\"negetive\")"
   ]
  },
  {
   "cell_type": "markdown",
   "id": "d9e12883",
   "metadata": {
    "cell_id": "00056-e26cb816-5add-4558-a99d-2004b26dfc72",
    "deepnote_cell_height": 74.796875,
    "deepnote_cell_type": "markdown"
   },
   "source": [
    "... change the value (to a negative value) to make sure your conditions are working properly."
   ]
  },
  {
   "cell_type": "code",
   "execution_count": 53,
   "id": "0d031238-6bd5-4d28-b5c2-66dc6662c48a",
   "metadata": {
    "cell_id": "00054-8b82b849-d426-4849-a551-98dcc8483533",
    "deepnote_cell_height": 76,
    "deepnote_cell_type": "code",
    "deepnote_to_be_reexecuted": false,
    "execution_millis": 1,
    "execution_start": 1659779860753,
    "source_hash": "4858f51a"
   },
   "outputs": [],
   "source": [
    "value = -5"
   ]
  },
  {
   "cell_type": "code",
   "execution_count": 54,
   "id": "b4c51ef3-bb0a-48ca-85ee-d243a6fa38f6",
   "metadata": {
    "cell_id": "00055-d1f454bc-237b-4f42-baf6-368702cfd36e",
    "deepnote_cell_height": 160.828125,
    "deepnote_cell_type": "code",
    "deepnote_to_be_reexecuted": false,
    "execution_millis": 1,
    "execution_start": 1659779901209,
    "source_hash": "ca6b9af7"
   },
   "outputs": [
    {
     "name": "stdout",
     "output_type": "stream",
     "text": [
      "negetive\n"
     ]
    }
   ],
   "source": [
    "if value > 0:\n",
    "    print(\"positive\")\n",
    "elif value < 0:\n",
    "    print(\"negetive\")"
   ]
  },
  {
   "cell_type": "markdown",
   "id": "75032a48",
   "metadata": {
    "cell_id": "00058-590e8d3b-cbf5-409c-964a-2ace7b1e4138",
    "deepnote_cell_height": 91.796875,
    "deepnote_cell_type": "markdown"
   },
   "source": [
    "2. Change your previous conditional statements to distinguish between three conditions: whether the value is positive, zero, or negative."
   ]
  },
  {
   "cell_type": "code",
   "execution_count": 55,
   "id": "d7b15fe1",
   "metadata": {
    "cell_id": "00059-cca32a9f-35b9-4e64-8795-cb947de5708c",
    "deepnote_cell_height": 196.828125,
    "deepnote_cell_type": "code",
    "deepnote_to_be_reexecuted": false,
    "execution_millis": 8,
    "execution_start": 1659779951366,
    "source_hash": "a340d380"
   },
   "outputs": [
    {
     "name": "stdout",
     "output_type": "stream",
     "text": [
      "negetive\n"
     ]
    }
   ],
   "source": [
    "if value > 0:\n",
    "    print(\"positive\")\n",
    "elif value < 0:\n",
    "    print(\"negetive\")\n",
    "else:\n",
    "    print(\"zero\")"
   ]
  },
  {
   "cell_type": "markdown",
   "id": "a94b50c7",
   "metadata": {
    "cell_id": "00060-2cecc8bf-dcb0-49ed-9694-0951e5492214",
    "deepnote_cell_height": 91.796875,
    "deepnote_cell_type": "markdown"
   },
   "source": [
    "3. Define a function that takes two names (i.e. strings) as input and displays the one with more characters."
   ]
  },
  {
   "cell_type": "code",
   "execution_count": 56,
   "id": "e5720b78",
   "metadata": {
    "cell_id": "00061-21a466e3-a24a-4a05-ada2-56c3e583831a",
    "deepnote_cell_height": 148,
    "deepnote_cell_type": "code",
    "deepnote_to_be_reexecuted": false,
    "execution_millis": 6,
    "execution_start": 1659780023161,
    "source_hash": "2b2b1a78"
   },
   "outputs": [],
   "source": [
    "def which_one_is_logener(name1, name2):\n",
    "    if len(name1) > len(name2):\n",
    "        print(name1)\n",
    "    else:\n",
    "        print(name2)"
   ]
  },
  {
   "cell_type": "markdown",
   "id": "426643c9",
   "metadata": {
    "cell_id": "00062-11412eed-7852-4772-af65-80618f07cf50",
    "deepnote_cell_height": 97.1875,
    "deepnote_cell_type": "markdown"
   },
   "source": [
    "... If you already have not done it, change the function such that if the two names have the same number of character it reports that (e.g. \"The names have the same number of character.\")."
   ]
  },
  {
   "cell_type": "code",
   "execution_count": 57,
   "id": "462888a9",
   "metadata": {
    "cell_id": "00063-9b07904f-c9bc-4749-8819-ee669482d4fc",
    "deepnote_cell_height": 184,
    "deepnote_cell_type": "code",
    "deepnote_to_be_reexecuted": false,
    "execution_millis": 3,
    "execution_start": 1659780068340,
    "source_hash": "63b263a4"
   },
   "outputs": [],
   "source": [
    "def which_one_is_logener(name1, name2):\n",
    "    if len(name1) > len(name2):\n",
    "        print(name1)\n",
    "    elif len(name1) < len(name2):\n",
    "        print(name2)\n",
    "    else:\n",
    "        print(\"same length\")"
   ]
  },
  {
   "cell_type": "markdown",
   "id": "eff91ec2",
   "metadata": {
    "cell_id": "00064-a19b7f4f-ec6b-4e2a-a5de-9cccf70072fa",
    "deepnote_cell_height": 69.390625,
    "deepnote_cell_type": "markdown"
   },
   "source": [
    "4. Define a function that takes two Arrays and returns the one with most entries (i.e. elements)."
   ]
  },
  {
   "cell_type": "code",
   "execution_count": 58,
   "id": "a54db576",
   "metadata": {
    "cell_id": "00065-7a285873-fd64-4319-aaa2-dcb08048717c",
    "deepnote_cell_height": 148,
    "deepnote_cell_type": "code",
    "deepnote_to_be_reexecuted": false,
    "execution_millis": 0,
    "execution_start": 1659780179290,
    "source_hash": "738f3e41"
   },
   "outputs": [],
   "source": [
    "def compare_array_size(arr1, arr2):\n",
    "    if arr1.size > arr2.size:\n",
    "        return arr1\n",
    "    elif arr1.size < arr2.size:\n",
    "        return arr2"
   ]
  },
  {
   "cell_type": "markdown",
   "id": "b7db9259",
   "metadata": {
    "cell_id": "00066-5154a8f3-a887-4c0a-ad8d-2b24b716ef36",
    "deepnote_cell_height": 114.1875,
    "deepnote_cell_type": "markdown"
   },
   "source": [
    "5. Define a function that takes two values and a string (in total three arguments). If the string input says \"add\" then the function returns the addition of the two values, if it says \"subtract\", then it subtracts the second from the first and returns the result."
   ]
  },
  {
   "cell_type": "code",
   "execution_count": 59,
   "id": "af6e26ea",
   "metadata": {
    "cell_id": "00067-d9d1446a-f96c-4f6d-9f8a-fd3d609db523",
    "deepnote_cell_height": 148,
    "deepnote_cell_type": "code",
    "deepnote_to_be_reexecuted": false,
    "execution_millis": 1,
    "execution_start": 1659780437190,
    "source_hash": "2cc9b3da"
   },
   "outputs": [],
   "source": [
    "def add_or_subtract(a, b, mode):\n",
    "    if mode == \"add\":\n",
    "        return a + b\n",
    "    else:\n",
    "        return a - b"
   ]
  },
  {
   "cell_type": "markdown",
   "id": "1c7c08bd",
   "metadata": {
    "cell_id": "00068-2fa912a9-edf0-4888-b016-d0ecf081c9bc",
    "deepnote_cell_height": 74.796875,
    "deepnote_cell_type": "markdown"
   },
   "source": [
    "... Change the function to retun both addition and subtraction results if the string input says \"both\"."
   ]
  },
  {
   "cell_type": "code",
   "execution_count": 60,
   "id": "19ec2891",
   "metadata": {
    "cell_id": "00069-d026e4c7-d6af-4e20-a41f-b56d3ee46fea",
    "deepnote_cell_height": 202,
    "deepnote_cell_type": "code",
    "deepnote_to_be_reexecuted": false,
    "execution_millis": 68216,
    "execution_start": 1659780587693,
    "source_hash": "5606e345"
   },
   "outputs": [],
   "source": [
    "def add_or_subtract(a, b, mode):\n",
    "    if mode == \"add\":\n",
    "        return a + b\n",
    "    elif mode == \"subtract\":\n",
    "        return a - b\n",
    "    else:\n",
    "        return a + b, a-b"
   ]
  },
  {
   "cell_type": "code",
   "execution_count": 61,
   "id": "820b742e",
   "metadata": {
    "cell_id": "1eacf3e82b3a457ea58c91cc1c921c8f",
    "deepnote_cell_height": 139.1875,
    "deepnote_cell_type": "code",
    "deepnote_to_be_reexecuted": false,
    "execution_millis": 10,
    "execution_start": 1659780631302,
    "source_hash": "eb867320",
    "tags": []
   },
   "outputs": [
    {
     "data": {
      "text/plain": [
       "(3, -1)"
      ]
     },
     "execution_count": 61,
     "metadata": {},
     "output_type": "execute_result"
    }
   ],
   "source": [
    "add_or_subtract(1, 2, mode=\"both\")"
   ]
  },
  {
   "cell_type": "markdown",
   "id": "59097886",
   "metadata": {
    "cell_id": "00070-49e97f32-f7c7-4153-9712-78476ddb646e",
    "deepnote_cell_height": 46,
    "deepnote_cell_type": "markdown"
   },
   "source": [
    " "
   ]
  },
  {
   "cell_type": "markdown",
   "id": "79462e58",
   "metadata": {
    "cell_id": "00071-ca362f09-9270-49f9-b23b-c9eb7c324e13",
    "deepnote_cell_height": 276.796875,
    "deepnote_cell_type": "markdown"
   },
   "source": [
    "## Logical operations\n",
    "\n",
    "What happens if we have multiple conditions and we want to combine them into one? We can combine multiple booleans into a single boolean object using **logical operations**. Logical operations are performed using the Python keywords `and`, `or`, and `not`.\n",
    "- The operator `not` just flips the boolean.\n",
    "- The expression `x and y` is True only if both `x` and `y` are True.\n",
    "- The expression `x or y` is False only if both `x` and `y` are False."
   ]
  },
  {
   "cell_type": "code",
   "execution_count": 62,
   "id": "23d41485",
   "metadata": {
    "cell_id": "00072-30bed403-6e74-4c47-837c-16d27def4d19",
    "deepnote_cell_height": 113.171875,
    "deepnote_cell_type": "code",
    "deepnote_output_heights": [
     21.1875
    ],
    "deepnote_to_be_reexecuted": false,
    "execution_millis": 4,
    "execution_start": 1659780707951,
    "source_hash": "8643e340"
   },
   "outputs": [
    {
     "data": {
      "text/plain": [
       "False"
      ]
     },
     "execution_count": 62,
     "metadata": {},
     "output_type": "execute_result"
    }
   ],
   "source": [
    "not True"
   ]
  },
  {
   "cell_type": "code",
   "execution_count": 63,
   "id": "89a13bc7",
   "metadata": {
    "cell_id": "00073-487f84df-2b2a-458d-bfaa-d4e61f1932e4",
    "deepnote_cell_height": 113.171875,
    "deepnote_cell_type": "code",
    "deepnote_output_heights": [
     21.1875
    ],
    "deepnote_to_be_reexecuted": false,
    "execution_millis": 4,
    "execution_start": 1659780730665,
    "source_hash": "ad29d379"
   },
   "outputs": [
    {
     "data": {
      "text/plain": [
       "False"
      ]
     },
     "execution_count": 63,
     "metadata": {},
     "output_type": "execute_result"
    }
   ],
   "source": [
    "True and False"
   ]
  },
  {
   "cell_type": "code",
   "execution_count": 64,
   "id": "8b706cbc",
   "metadata": {
    "cell_id": "00075-9356795e-ac4b-40cd-a785-27bd52303701",
    "deepnote_cell_height": 113.171875,
    "deepnote_cell_type": "code",
    "deepnote_output_heights": [
     21.1875
    ]
   },
   "outputs": [
    {
     "data": {
      "text/plain": [
       "False"
      ]
     },
     "execution_count": 64,
     "metadata": {},
     "output_type": "execute_result"
    }
   ],
   "source": [
    "False or False"
   ]
  },
  {
   "cell_type": "markdown",
   "id": "8fd2d377",
   "metadata": {
    "cell_id": "00076-5afaf463-632d-4a13-b939-901c23a717d2",
    "deepnote_cell_height": 70,
    "deepnote_cell_type": "markdown"
   },
   "source": [
    "## Exercise (quick)"
   ]
  },
  {
   "cell_type": "markdown",
   "id": "776b914e",
   "metadata": {
    "cell_id": "00077-c771ba5d-95ac-41a7-a843-90156088e154",
    "deepnote_cell_height": 69.390625,
    "deepnote_cell_type": "markdown"
   },
   "source": [
    "1. In a single `if` statement check and report if the value below is between 0 and 5"
   ]
  },
  {
   "cell_type": "code",
   "execution_count": 65,
   "id": "13ad17a0",
   "metadata": {
    "cell_id": "00078-ad51bc6d-c84e-4d3a-a7a7-e71061a4b9e5",
    "deepnote_cell_height": 76,
    "deepnote_cell_type": "code",
    "deepnote_to_be_reexecuted": false,
    "execution_millis": 1,
    "execution_start": 1659780907856,
    "source_hash": "1532fda5"
   },
   "outputs": [],
   "source": [
    "value = 4"
   ]
  },
  {
   "cell_type": "code",
   "execution_count": 66,
   "id": "80b1722b",
   "metadata": {
    "cell_id": "854e3ece466445cdaf98f959d712aa82",
    "deepnote_cell_height": 124.828125,
    "deepnote_cell_type": "code",
    "deepnote_output_heights": [
     21.1875
    ],
    "deepnote_to_be_reexecuted": false,
    "execution_millis": 1,
    "execution_start": 1659781006649,
    "source_hash": "c93af606",
    "tags": []
   },
   "outputs": [
    {
     "name": "stdout",
     "output_type": "stream",
     "text": [
      "Yes it is between 0 and 5\n"
     ]
    }
   ],
   "source": [
    "if (value > 0) and (value < 5):\n",
    "    print(\"Yes it is between 0 and 5\")"
   ]
  },
  {
   "cell_type": "markdown",
   "id": "176afce0",
   "metadata": {
    "cell_id": "00080-050f7c40-30af-48ed-aaf9-e063b08589d8",
    "deepnote_cell_height": 74.796875,
    "deepnote_cell_type": "markdown"
   },
   "source": [
    "... play around with different values to make sure your conditional statement is working properly."
   ]
  },
  {
   "cell_type": "code",
   "execution_count": 67,
   "id": "9072d433",
   "metadata": {
    "cell_id": "00081-16d285af-1232-412a-8bf3-496abbcbf605",
    "deepnote_cell_height": 130,
    "deepnote_cell_type": "code",
    "deepnote_to_be_reexecuted": false,
    "execution_millis": 2,
    "execution_start": 1659781027919,
    "source_hash": "ccb112a3"
   },
   "outputs": [],
   "source": [
    "value = 6\n",
    "\n",
    "if (value > 0) and (value < 5):\n",
    "    print(\"Yes it is between 0 and 5\")"
   ]
  },
  {
   "cell_type": "markdown",
   "id": "02db1c70",
   "metadata": {
    "cell_id": "00082-3e15316c-b37e-453f-b164-19fdbed13bb2",
    "deepnote_cell_height": 223.796875,
    "deepnote_cell_type": "markdown"
   },
   "source": [
    "2. What is the result of the following logical operation?\n",
    "\n",
    "```python\n",
    ">>> True and False\n",
    ">>> True or False\n",
    ">>> bool(0) and bool(1)\n",
    ">>> bool(1) or bool(2)\n",
    ">>> bool(0) and bool([0])\n",
    ">>> bool([]) or bool([0])\n",
    "```"
   ]
  },
  {
   "cell_type": "code",
   "execution_count": null,
   "id": "3dd974be-7b5e-4a36-b1d7-d7440c4e6098",
   "metadata": {},
   "outputs": [],
   "source": []
  },
  {
   "cell_type": "markdown",
   "id": "ee8ca7ff",
   "metadata": {
    "cell_id": "00084-53a8f392-1ee8-4540-81c5-f29924537eae",
    "deepnote_cell_height": 134.625,
    "deepnote_cell_type": "markdown"
   },
   "source": [
    "## Some tricky points (bonus)\n",
    "\n",
    "#### 1. Note that by using `if`, `elif`, and `else` we are imposing a priority on the conditions:"
   ]
  },
  {
   "cell_type": "code",
   "execution_count": 68,
   "id": "da300a3c",
   "metadata": {
    "cell_id": "00085-dc1d4a6c-963b-4984-93da-4a47c5daf8d2",
    "deepnote_cell_height": 250.828125,
    "deepnote_cell_type": "code"
   },
   "outputs": [
    {
     "name": "stdout",
     "output_type": "stream",
     "text": [
      "a is bigger than b\n"
     ]
    }
   ],
   "source": [
    "a = 5\n",
    "b = 3\n",
    "\n",
    "if a > b:\n",
    "    print(\"a is bigger than b\")\n",
    "elif a > 3:\n",
    "    print(\"a is bigger than 3\")\n",
    "else:\n",
    "    print(\"a is smaller than both 3 and b\")"
   ]
  },
  {
   "cell_type": "markdown",
   "id": "fd7049ab",
   "metadata": {
    "cell_id": "00086-6cc23cba-2167-4f51-980b-2bec6252de9b",
    "deepnote_cell_height": 173,
    "deepnote_cell_type": "markdown"
   },
   "source": [
    "Note that both of the following conditions are True:\n",
    "\n",
    "- a > b\n",
    "- a > 3\n",
    "\n",
    "But, since `if` has priority over `elif` (or any subsequent condition), it runs the code under `if`."
   ]
  },
  {
   "cell_type": "markdown",
   "id": "66763ef3",
   "metadata": {
    "cell_id": "00087-5f4756f3-4c57-42e0-a712-6db327bc9e01",
    "deepnote_cell_height": 332.796875,
    "deepnote_cell_type": "markdown"
   },
   "source": [
    "<br>\n",
    "\n",
    "**Question**: What happen here?\n",
    "\n",
    "```python\n",
    "a = 5\n",
    "b = 3\n",
    "\n",
    "if a > b:\n",
    "    print(\"a is bigger than b\")\n",
    "    \n",
    "if a > 3:\n",
    "    print(\"a is bigger than 3\")\n",
    "else:\n",
    "    print(\"a is smaller than both 3 and b\")\n",
    "```"
   ]
  },
  {
   "cell_type": "markdown",
   "id": "0abebd3f",
   "metadata": {
    "cell_id": "00088-82cd32e8-ea01-4843-9e6d-eb0b170a8aa8",
    "deepnote_cell_height": 46,
    "deepnote_cell_type": "markdown"
   },
   "source": [
    "---"
   ]
  },
  {
   "cell_type": "markdown",
   "id": "b4e3d816",
   "metadata": {
    "cell_id": "00089-747ffb99-c64c-44bf-aa25-91abd8ac474f",
    "deepnote_cell_height": 82,
    "deepnote_cell_type": "markdown"
   },
   "source": [
    "# Dictionaries"
   ]
  },
  {
   "cell_type": "markdown",
   "id": "e14a1688",
   "metadata": {
    "cell_id": "00090-e83fa40f-bfff-484f-b8b7-4a1d79732b9d",
    "deepnote_cell_height": 990,
    "deepnote_cell_type": "markdown"
   },
   "source": [
    "So far we talked about collections that are **ordered**. That is, we can use numbers (starting from 0) to select specific elements of the collection. What if we don't care about the order and would like to use a more \"meaningful\" index to select a specific element? \n",
    "\n",
    "Python has a valuable data structure used for associating pairs of values: the `dict`. <br>\n",
    "Each `item` in a `dict` has two parts: the `key` and the `value`.  For example:\n",
    "\n",
    "```python\n",
    "weights = {'Elisa': 55, 'Mo': 90, 'Nick': 82}\n",
    "```\n",
    "\n",
    "In this example, the names are the `keys`:\n",
    "```python\n",
    ">>> weights.keys()\n",
    "dict_keys(['Elisa', 'Mo', 'Nick'])\n",
    "```\n",
    "\n",
    "The weights are the `values`:\n",
    "```python\n",
    ">>> weights.values()\n",
    "dict_values([55, 90, 82])\n",
    "```\n",
    "\n",
    "Altogether, the pairs are `items`:\n",
    "```python\n",
    ">>> weights.items()\n",
    "dict_items([('Elisa', 55), ('Mo', 90), ('Nick', 82)])\n",
    "```\n",
    "\n",
    "**Note**: Similar to lists and tuples, dicts can also hold any type of object.\n",
    "\n",
    "## Appending and Quering Dicts\n",
    "The nice thing about dictionaries is that now we do not need to care about the position of items in our dictionary anymore. We can always access a `value` if we know its `key`:\n",
    "\n",
    "```python\n",
    ">>> weights = {'Elisa': 55, 'Mo': 90, 'Nick': 82}\n",
    ">>> weights[\"Mo\"]\n",
    "90\n",
    "```\n",
    "\n",
    "If we want to add an entry, it can be done using the same syntax:\n",
    "\n",
    "```python\n",
    ">>> weights = {} # starting from an empty dictionary\n",
    ">>> weights['Anni'] = 63\n",
    ">>> weights\n",
    "{'Anni': 63}\n",
    "```\n",
    "\n",
    "Let's get some practice with dictionaries!"
   ]
  },
  {
   "cell_type": "markdown",
   "id": "ec840c9b",
   "metadata": {
    "cell_id": "00091-2ee8e397-7b29-459b-bbc7-0a4e6a9c3798",
    "deepnote_cell_height": 70,
    "deepnote_cell_type": "markdown"
   },
   "source": [
    "## Exercise"
   ]
  },
  {
   "cell_type": "markdown",
   "id": "955f885d",
   "metadata": {
    "cell_id": "00092-a6511ed7-d16e-4be3-bb20-310304ee5ec7",
    "deepnote_cell_height": 69.390625,
    "deepnote_cell_type": "markdown"
   },
   "source": [
    "1. Print the `values` of the following dictionary."
   ]
  },
  {
   "cell_type": "code",
   "execution_count": 69,
   "id": "484f195a",
   "metadata": {
    "cell_id": "00093-73910a68-7f80-4969-a9bf-f99ff0345080",
    "deepnote_cell_height": 76,
    "deepnote_cell_type": "code",
    "deepnote_to_be_reexecuted": false,
    "execution_millis": 1,
    "execution_start": 1659781968425,
    "source_hash": "4c0051d4"
   },
   "outputs": [],
   "source": [
    "birthdays = {'John': 'Jan. 4th', 'Bernice': 'May 25th'}"
   ]
  },
  {
   "cell_type": "code",
   "execution_count": 70,
   "id": "71719707",
   "metadata": {
    "cell_id": "00094-7cd8d9e7-bd2d-41be-80a7-568bb5476778",
    "deepnote_cell_height": 113.171875,
    "deepnote_cell_type": "code",
    "deepnote_output_heights": [
     21.1875
    ],
    "deepnote_to_be_reexecuted": false,
    "execution_millis": 262,
    "execution_start": 1659781977787,
    "source_hash": "399afe53"
   },
   "outputs": [
    {
     "data": {
      "text/plain": [
       "dict_values(['Jan. 4th', 'May 25th'])"
      ]
     },
     "execution_count": 70,
     "metadata": {},
     "output_type": "execute_result"
    }
   ],
   "source": [
    "birthdays.values()"
   ]
  },
  {
   "cell_type": "markdown",
   "id": "ba01d13b",
   "metadata": {
    "cell_id": "00095-0e71d33a-8273-4782-9b71-d821c64108b9",
    "deepnote_cell_height": 52.390625,
    "deepnote_cell_type": "markdown"
   },
   "source": [
    "... Print its `keys`."
   ]
  },
  {
   "cell_type": "code",
   "execution_count": 71,
   "id": "931861cb",
   "metadata": {
    "cell_id": "00096-f00c7026-1174-45ec-814c-6d53c0acdd33",
    "deepnote_cell_height": 113.171875,
    "deepnote_cell_type": "code",
    "deepnote_output_heights": [
     21.1875
    ],
    "deepnote_to_be_reexecuted": false,
    "execution_millis": 7,
    "execution_start": 1659781995866,
    "source_hash": "1dbf6558"
   },
   "outputs": [
    {
     "data": {
      "text/plain": [
       "dict_keys(['John', 'Bernice'])"
      ]
     },
     "execution_count": 71,
     "metadata": {},
     "output_type": "execute_result"
    }
   ],
   "source": [
    "birthdays.keys()"
   ]
  },
  {
   "cell_type": "markdown",
   "id": "c2c0f5a4",
   "metadata": {
    "cell_id": "00097-6c07477e-42d6-48d4-aae3-d6364f945cbd",
    "deepnote_cell_height": 52.390625,
    "deepnote_cell_type": "markdown"
   },
   "source": [
    "... Print its `items`."
   ]
  },
  {
   "cell_type": "code",
   "execution_count": 72,
   "id": "473b6cb6",
   "metadata": {
    "cell_id": "00098-849c9959-66e9-4ba2-b050-19995e1f3997",
    "deepnote_cell_height": 113.171875,
    "deepnote_cell_type": "code",
    "deepnote_output_heights": [
     21.1875
    ],
    "deepnote_to_be_reexecuted": false,
    "execution_millis": 11,
    "execution_start": 1659782007288,
    "source_hash": "de7c8137"
   },
   "outputs": [
    {
     "data": {
      "text/plain": [
       "dict_items([('John', 'Jan. 4th'), ('Bernice', 'May 25th')])"
      ]
     },
     "execution_count": 72,
     "metadata": {},
     "output_type": "execute_result"
    }
   ],
   "source": [
    "birthdays.items()"
   ]
  },
  {
   "cell_type": "markdown",
   "id": "2575ba93",
   "metadata": {
    "cell_id": "00099-9b514db6-1681-4230-ba6e-4c692e315926",
    "deepnote_cell_height": 69.390625,
    "deepnote_cell_type": "markdown"
   },
   "source": [
    "2. Make a dict from this list of tuples:"
   ]
  },
  {
   "cell_type": "code",
   "execution_count": 73,
   "id": "1876bca2",
   "metadata": {
    "cell_id": "00100-44a20d32-ed7b-4dba-96da-de0f94ea2376",
    "deepnote_cell_height": 148,
    "deepnote_cell_type": "code",
    "deepnote_to_be_reexecuted": false,
    "execution_millis": 3,
    "execution_start": 1659782013734,
    "source_hash": "8186ff01"
   },
   "outputs": [],
   "source": [
    "brightnesses = [\n",
    "    ('red', 65), \n",
    "    ('green', 3), \n",
    "    ('blue', 10),\n",
    "]"
   ]
  },
  {
   "cell_type": "code",
   "execution_count": 74,
   "id": "fb31aa8d",
   "metadata": {
    "cell_id": "00101-57bd500b-c4a7-4f47-84a1-54da74da7d7a",
    "deepnote_cell_height": 113.171875,
    "deepnote_cell_type": "code",
    "deepnote_output_heights": [
     21.1875
    ],
    "deepnote_to_be_reexecuted": false,
    "execution_millis": 6,
    "execution_start": 1659782019148,
    "source_hash": "104b4bbb"
   },
   "outputs": [
    {
     "data": {
      "text/plain": [
       "{'red': 65, 'green': 3, 'blue': 10}"
      ]
     },
     "execution_count": 74,
     "metadata": {},
     "output_type": "execute_result"
    }
   ],
   "source": [
    "dict(brightnesses)"
   ]
  },
  {
   "cell_type": "markdown",
   "id": "3747bf86",
   "metadata": {
    "cell_id": "00102-0cef41fc-5b7f-4c43-8be0-57a2af475037",
    "deepnote_cell_height": 69.390625,
    "deepnote_cell_type": "markdown"
   },
   "source": [
    "3. Make a list of this dict's items:"
   ]
  },
  {
   "cell_type": "code",
   "execution_count": 75,
   "id": "f7de361e",
   "metadata": {
    "cell_id": "00103-f31c1a74-23be-41f3-b026-d73110c0e6dc",
    "deepnote_cell_height": 76,
    "deepnote_cell_type": "code",
    "deepnote_to_be_reexecuted": false,
    "execution_millis": 0,
    "execution_start": 1659782027608,
    "source_hash": "888cd7e0"
   },
   "outputs": [],
   "source": [
    "brightnesses = {'red': 65, 'green': 3, 'blue': 10}"
   ]
  },
  {
   "cell_type": "code",
   "execution_count": 76,
   "id": "ba2fd050",
   "metadata": {
    "cell_id": "00104-7dd64cc9-718f-4a99-b938-c1319f6dae68",
    "deepnote_cell_height": 113.171875,
    "deepnote_cell_type": "code",
    "deepnote_output_heights": [
     21.1875
    ],
    "deepnote_to_be_reexecuted": false,
    "execution_millis": 8,
    "execution_start": 1659782041821,
    "source_hash": "5ba0f3ee"
   },
   "outputs": [
    {
     "data": {
      "text/plain": [
       "[('red', 65), ('green', 3), ('blue', 10)]"
      ]
     },
     "execution_count": 76,
     "metadata": {},
     "output_type": "execute_result"
    }
   ],
   "source": [
    "list(brightnesses.items())"
   ]
  },
  {
   "cell_type": "markdown",
   "id": "2c56c9a6",
   "metadata": {
    "cell_id": "00105-6fd8eff1-e430-4bea-9002-37e53eeacb1b",
    "deepnote_cell_height": 182,
    "deepnote_cell_type": "markdown"
   },
   "source": [
    "4. Starting with an empty `dict`, add kindergartners' favorite color one at the time:\n",
    "- Amy loves yellow\n",
    "- James adores red\n",
    "- Julia worships beige\n",
    "- Johny likes green"
   ]
  },
  {
   "cell_type": "code",
   "execution_count": 77,
   "id": "267533b9",
   "metadata": {
    "cell_id": "00106-a72128ff-7a1e-476e-8c74-a33072d4b3ad",
    "deepnote_cell_height": 130,
    "deepnote_cell_type": "code",
    "deepnote_to_be_reexecuted": false,
    "execution_millis": 1,
    "execution_start": 1659782094401,
    "source_hash": "1d2aa251"
   },
   "outputs": [],
   "source": [
    "dd = {}\n",
    "dd[\"Amy\"] = \"yellow\"\n",
    "dd[\"James\"] = \"red\"\n",
    "dd[\"Julia\"] = \"beige\"\n",
    "dd[\"Johny\"] = \"green\""
   ]
  },
  {
   "cell_type": "markdown",
   "id": "cc6c5cd0",
   "metadata": {
    "cell_id": "00107-32652f61-b8f2-4fd2-bdd6-3eeb7c62fe79",
    "deepnote_cell_height": 69.390625,
    "deepnote_cell_type": "markdown"
   },
   "source": [
    "5. Use the dict created above to have Python answer the following questions:"
   ]
  },
  {
   "cell_type": "markdown",
   "id": "b840205d",
   "metadata": {
    "cell_id": "00108-f5e29c86-1657-4d94-a946-ebf81bae7ae1",
    "deepnote_cell_height": 52.390625,
    "deepnote_cell_type": "markdown"
   },
   "source": [
    "... What is James' favorite color?"
   ]
  },
  {
   "cell_type": "code",
   "execution_count": 78,
   "id": "9181cf09",
   "metadata": {
    "cell_id": "00109-72b1b6eb-171e-4304-9f7d-1c1a9818408e",
    "deepnote_cell_height": 113.171875,
    "deepnote_cell_type": "code",
    "deepnote_output_heights": [
     21.1875
    ],
    "deepnote_to_be_reexecuted": false,
    "execution_millis": 3,
    "execution_start": 1659782114377,
    "source_hash": "a9d93be5"
   },
   "outputs": [
    {
     "data": {
      "text/plain": [
       "'red'"
      ]
     },
     "execution_count": 78,
     "metadata": {},
     "output_type": "execute_result"
    }
   ],
   "source": [
    "dd[\"James\"]"
   ]
  },
  {
   "cell_type": "markdown",
   "id": "522097d5",
   "metadata": {
    "cell_id": "00110-80df353d-3091-401a-bac0-9741e90c27ab",
    "deepnote_cell_height": 52.390625,
    "deepnote_cell_type": "markdown"
   },
   "source": [
    "... What is Julia's favorite color?"
   ]
  },
  {
   "cell_type": "code",
   "execution_count": 79,
   "id": "1e4c67cb",
   "metadata": {
    "cell_id": "00111-83f1fb60-1cd6-4b5e-bdd2-708a0cea4025",
    "deepnote_cell_height": 113.171875,
    "deepnote_cell_type": "code",
    "deepnote_output_heights": [
     21.1875
    ],
    "deepnote_to_be_reexecuted": false,
    "execution_millis": 2,
    "execution_start": 1659782125853,
    "source_hash": "7a8ce346"
   },
   "outputs": [
    {
     "data": {
      "text/plain": [
       "'beige'"
      ]
     },
     "execution_count": 79,
     "metadata": {},
     "output_type": "execute_result"
    }
   ],
   "source": [
    "dd[\"Julia\"]"
   ]
  }
 ],
 "metadata": {
  "deepnote": {},
  "deepnote_execution_queue": [],
  "deepnote_notebook_id": "006eaacf-4aff-47a4-92e2-1e632a1fedad",
  "kernelspec": {
   "display_name": "Python 3 (ipykernel)",
   "language": "python",
   "name": "python3"
  },
  "language_info": {
   "codemirror_mode": {
    "name": "ipython",
    "version": 3
   },
   "file_extension": ".py",
   "mimetype": "text/x-python",
   "name": "python",
   "nbconvert_exporter": "python",
   "pygments_lexer": "ipython3",
   "version": "3.9.10"
  }
 },
 "nbformat": 4,
 "nbformat_minor": 5
}
