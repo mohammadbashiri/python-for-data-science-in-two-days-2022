{
 "cells": [
  {
   "cell_type": "markdown",
   "id": "fc089c7e-d53f-474f-8398-a7558d563717",
   "metadata": {},
   "source": [
    "# Defining functions\n",
    "\n",
    "It happens often that you have a block of code (a specific set of operstions) and you want to perform the same thing at different places in your code. Of course, you could always write the whole thing over and over, but another approach is to pack that set of operations, give it a name, and just use that name to perform it, instead of re-writing everything everytime - **keep your code dry!** And **functions** help you do exactly that.\n",
    "\n",
    "**Functions** are a set of instructions (lines of code) packaged together that perform a specific task, and return some result(s). Usually a function also get inputs (referred to as **function arguments**), and in Python you can define functions with any number of arguments, including no arguments.\n",
    "\n",
    "To create a function we use the Python keyword `def`:\n",
    "```python\n",
    "def my_func(arg):\n",
    "    # do something\n",
    "    # result = final thing\n",
    "    return result\n",
    "```"
   ]
  },
  {
   "cell_type": "code",
   "execution_count": 1,
   "id": "3a7ed57c-b5fa-411b-a7a7-67d6989fa775",
   "metadata": {},
   "outputs": [],
   "source": [
    "def my_func():\n",
    "    result = 5\n",
    "    return result"
   ]
  },
  {
   "cell_type": "code",
   "execution_count": 2,
   "id": "248a9bc7-225a-4640-b460-3a7822ea8cb8",
   "metadata": {},
   "outputs": [
    {
     "data": {
      "text/plain": [
       "5"
      ]
     },
     "execution_count": 2,
     "metadata": {},
     "output_type": "execute_result"
    }
   ],
   "source": [
    "my_func()"
   ]
  },
  {
   "cell_type": "code",
   "execution_count": 3,
   "id": "5416eed7-29dd-4560-a680-2f4e5cc290ae",
   "metadata": {},
   "outputs": [],
   "source": [
    "def add_3(input_val):\n",
    "    result = input_val + 3\n",
    "    return result"
   ]
  },
  {
   "cell_type": "code",
   "execution_count": 4,
   "id": "6100e880-f40a-44c2-a848-62b223fc7ab8",
   "metadata": {},
   "outputs": [
    {
     "data": {
      "text/plain": [
       "10"
      ]
     },
     "execution_count": 4,
     "metadata": {},
     "output_type": "execute_result"
    }
   ],
   "source": [
    "add_3(7)"
   ]
  },
  {
   "cell_type": "markdown",
   "id": "367aff99-1932-45e0-b317-5c8eee0bc942",
   "metadata": {},
   "source": [
    "Note that the variables defined in the function are not available outside it"
   ]
  },
  {
   "cell_type": "code",
   "execution_count": 5,
   "id": "3ee373a0-2707-4033-9c0d-4e097ab43b33",
   "metadata": {},
   "outputs": [
    {
     "ename": "NameError",
     "evalue": "name 'result' is not defined",
     "output_type": "error",
     "traceback": [
      "\u001b[0;31m---------------------------------------------------------------------------\u001b[0m",
      "\u001b[0;31mNameError\u001b[0m                                 Traceback (most recent call last)",
      "Input \u001b[0;32mIn [5]\u001b[0m, in \u001b[0;36m<cell line: 1>\u001b[0;34m()\u001b[0m\n\u001b[0;32m----> 1\u001b[0m \u001b[43mresult\u001b[49m\n",
      "\u001b[0;31mNameError\u001b[0m: name 'result' is not defined"
     ]
    }
   ],
   "source": [
    "result"
   ]
  },
  {
   "cell_type": "code",
   "execution_count": 1,
   "id": "40305366-d99e-4a4d-abae-df39ec4e3528",
   "metadata": {},
   "outputs": [],
   "source": [
    "def add(a, b):\n",
    "    result = a + b\n",
    "    return result"
   ]
  },
  {
   "cell_type": "code",
   "execution_count": 2,
   "id": "eeb9dbc8-350f-49da-8bb0-84c8897baad2",
   "metadata": {},
   "outputs": [
    {
     "data": {
      "text/plain": [
       "8"
      ]
     },
     "execution_count": 2,
     "metadata": {},
     "output_type": "execute_result"
    }
   ],
   "source": [
    "add(5, 3)"
   ]
  },
  {
   "cell_type": "markdown",
   "id": "eacec69c-3f6a-46ef-8944-a96027bcbcf1",
   "metadata": {},
   "source": [
    "## Exercise (quick)"
   ]
  },
  {
   "cell_type": "markdown",
   "id": "4d44563b-0a77-4b16-a149-1d8d997407d9",
   "metadata": {},
   "source": [
    "1. Define a function that takes a single input, divides it by 2, and returns the results."
   ]
  },
  {
   "cell_type": "code",
   "execution_count": null,
   "id": "ad4c13c3-ee2f-495b-8f5b-92430fedbede",
   "metadata": {},
   "outputs": [],
   "source": []
  },
  {
   "cell_type": "markdown",
   "id": "488eea71-8bf3-4018-83f9-76d6106d181e",
   "metadata": {},
   "source": [
    "... change the function such that it returns an integer."
   ]
  },
  {
   "cell_type": "code",
   "execution_count": null,
   "id": "2ed12260-d8b7-4eb5-90b4-f3dfd42cd2f1",
   "metadata": {},
   "outputs": [],
   "source": []
  },
  {
   "cell_type": "markdown",
   "id": "0bf9fc69-9d08-4ced-b48a-1d87570864f3",
   "metadata": {},
   "source": [
    "2. Define a function that takes two values, divides the first input by the second one and returns the remainder."
   ]
  },
  {
   "cell_type": "code",
   "execution_count": null,
   "id": "ce86fb04-d8f7-4522-8cbe-d3b2c12349d7",
   "metadata": {},
   "outputs": [],
   "source": []
  },
  {
   "cell_type": "markdown",
   "id": "c4172590-08e1-4e73-9b6d-b519b491d3ca",
   "metadata": {},
   "source": [
    " "
   ]
  },
  {
   "cell_type": "markdown",
   "id": "41e9c5d6-12f0-467c-8dc2-42961e040eb3",
   "metadata": {},
   "source": [
    "## Positional vs optional arguments\n",
    "\n",
    "There are **two types** of function arguments:\n",
    "\n",
    "**Positional arguments**: have no default value and must be passed to the function.\n",
    "**Optional arguments** (aka named arguments): you guessed it - have a default value which will be used in case no value is passed by the user."
   ]
  },
  {
   "cell_type": "code",
   "execution_count": 6,
   "id": "3f56843a-1c0c-4036-a2cd-8e9708454644",
   "metadata": {},
   "outputs": [],
   "source": [
    "def add_two_values(a, b):\n",
    "    result = a + b\n",
    "    return result"
   ]
  },
  {
   "cell_type": "code",
   "execution_count": 7,
   "id": "43e65b28-a973-4209-8fe5-ed72f7780901",
   "metadata": {},
   "outputs": [
    {
     "ename": "TypeError",
     "evalue": "add_two_values() missing 1 required positional argument: 'b'",
     "output_type": "error",
     "traceback": [
      "\u001b[0;31m---------------------------------------------------------------------------\u001b[0m",
      "\u001b[0;31mTypeError\u001b[0m                                 Traceback (most recent call last)",
      "Input \u001b[0;32mIn [7]\u001b[0m, in \u001b[0;36m<cell line: 1>\u001b[0;34m()\u001b[0m\n\u001b[0;32m----> 1\u001b[0m \u001b[43madd_two_values\u001b[49m\u001b[43m(\u001b[49m\u001b[38;5;241;43m5\u001b[39;49m\u001b[43m)\u001b[49m\n",
      "\u001b[0;31mTypeError\u001b[0m: add_two_values() missing 1 required positional argument: 'b'"
     ]
    }
   ],
   "source": [
    "add_two_values(5)"
   ]
  },
  {
   "cell_type": "code",
   "execution_count": 11,
   "id": "1e5555d9-6400-4a5d-b26e-54ccc2e8f552",
   "metadata": {},
   "outputs": [],
   "source": [
    "def add_two_values(a, b=0):\n",
    "    result = a + b\n",
    "    return result"
   ]
  },
  {
   "cell_type": "code",
   "execution_count": 12,
   "id": "db9e345c-10b1-43bf-b485-b76850d9ed7f",
   "metadata": {},
   "outputs": [
    {
     "data": {
      "text/plain": [
       "7"
      ]
     },
     "execution_count": 12,
     "metadata": {},
     "output_type": "execute_result"
    }
   ],
   "source": [
    "add_two_values(7)"
   ]
  },
  {
   "cell_type": "markdown",
   "id": "2932a13f-e5c8-432c-b991-83d662642065",
   "metadata": {},
   "source": [
    "Functions can also return **multiple outputs**"
   ]
  },
  {
   "cell_type": "code",
   "execution_count": 13,
   "id": "44c31d4a-90a0-498e-b278-8bfb34ea520a",
   "metadata": {},
   "outputs": [],
   "source": [
    "def add_and_substract_two_values(a, b=3):\n",
    "    result_add = a + b\n",
    "    result_sub = a - b\n",
    "    return result_add, result_sub"
   ]
  },
  {
   "cell_type": "code",
   "execution_count": 14,
   "id": "125b50f0-2f03-415f-83d0-a80056bf9c10",
   "metadata": {},
   "outputs": [
    {
     "data": {
      "text/plain": [
       "(8, 2)"
      ]
     },
     "execution_count": 14,
     "metadata": {},
     "output_type": "execute_result"
    }
   ],
   "source": [
    "add_and_substract_two_values(5)"
   ]
  },
  {
   "cell_type": "markdown",
   "id": "38bb57ce-b090-46a8-a8dc-3dc2a63128ce",
   "metadata": {},
   "source": [
    "**Question**: what is the type of the function output?"
   ]
  },
  {
   "cell_type": "markdown",
   "id": "562b7af8-00ff-48b9-915b-b4ec0f063467",
   "metadata": {},
   "source": [
    "## Exercise"
   ]
  },
  {
   "cell_type": "markdown",
   "id": "bbeacda2-b1f3-4a50-ae51-c36b85804416",
   "metadata": {},
   "source": [
    "1. Define a function that multplies two values and returns the result."
   ]
  },
  {
   "cell_type": "code",
   "execution_count": null,
   "id": "f6f52213-95cc-4fe9-839b-8c80b00da784",
   "metadata": {},
   "outputs": [],
   "source": []
  },
  {
   "cell_type": "markdown",
   "id": "d34e0720-f13f-4889-928e-8c56ae95b7ae",
   "metadata": {},
   "source": [
    "2. Define a function that takes two values and raise the first one to the power of the second one."
   ]
  },
  {
   "cell_type": "code",
   "execution_count": null,
   "id": "d262598a-b5d7-479c-9108-c5115496eb1c",
   "metadata": {},
   "outputs": [],
   "source": []
  },
  {
   "cell_type": "markdown",
   "id": "2dbbef44-e8b8-46ee-b6fe-699c2ba1564f",
   "metadata": {},
   "source": [
    "3. Change the previous function to leave the first value unchanged if the second input was not specified. "
   ]
  },
  {
   "cell_type": "code",
   "execution_count": null,
   "id": "7dd14ff7-e1ec-4026-940d-b7b891a46db4",
   "metadata": {},
   "outputs": [],
   "source": []
  },
  {
   "cell_type": "markdown",
   "id": "37d7945f-cc41-4385-8f5b-383b885d2009",
   "metadata": {},
   "source": [
    "4. Define a function called `compute_sum` that takes a list (of numerical values) and returns the sum of all values."
   ]
  },
  {
   "cell_type": "code",
   "execution_count": null,
   "id": "ea36fd19-49a5-4f59-9027-27e0e269e924",
   "metadata": {},
   "outputs": [],
   "source": []
  },
  {
   "cell_type": "markdown",
   "id": "bb40d362-08f2-465d-886e-081aa12f1323",
   "metadata": {},
   "source": [
    "5. Define a function called `compute_mean` that takes a list (of numerical values) and returns the mean (or average) value."
   ]
  },
  {
   "cell_type": "code",
   "execution_count": null,
   "id": "11672c9e-70a7-4636-965b-d96e6e7debf8",
   "metadata": {},
   "outputs": [],
   "source": []
  },
  {
   "cell_type": "markdown",
   "id": "ab6da149-732d-4ead-b931-58c97e0628c2",
   "metadata": {},
   "source": [
    "6. Define a function that takes a Numpy Array and normalizes the values in the array to be between 0 and 1."
   ]
  },
  {
   "cell_type": "code",
   "execution_count": null,
   "id": "510ba04a-31d7-454e-a779-5234e7eb5d0d",
   "metadata": {},
   "outputs": [],
   "source": []
  },
  {
   "cell_type": "markdown",
   "id": "18e15dc8-4892-46ee-a60e-d853f7023adf",
   "metadata": {},
   "source": [
    "7. Define a function that standardizes a given Array.\n",
    "\n",
    "    **What is standardization?** Rescaling the data to have a mean of 0 and a standard deviation of 1."
   ]
  },
  {
   "cell_type": "code",
   "execution_count": null,
   "id": "ecef8d2e-a849-44a0-a468-16f7aaf9b725",
   "metadata": {},
   "outputs": [],
   "source": []
  },
  {
   "cell_type": "markdown",
   "id": "c8d74c61-9178-4505-9ac0-ce07f571a5c3",
   "metadata": {},
   "source": [
    "---"
   ]
  },
  {
   "cell_type": "markdown",
   "id": "7126834b-8370-4e53-8563-14b4ef903dfb",
   "metadata": {
    "tags": []
   },
   "source": [
    "# Controlling program flow\n",
    "\n",
    "There are situations where depending on some condition we want to perform different operations - control the flow of the program. `if` statement can be used to control the flow of the operations performed in our code. if statements run when their argument is **True** (a boolean variable). So we can control the flow by performing operations that output boolean states.\n",
    "\n",
    "Similar to functions, we need a **colon** and the operation under the if statement should be **indented**.\n",
    "\n",
    "```python\n",
    "if condition_1:\n",
    "\n",
    "    do something\n",
    "\n",
    "else:\n",
    "\n",
    "    do something\n",
    "```"
   ]
  },
  {
   "cell_type": "code",
   "execution_count": 21,
   "id": "828b5025-312a-42b5-a607-1c6fc4fd011b",
   "metadata": {},
   "outputs": [],
   "source": [
    "a = 5"
   ]
  },
  {
   "cell_type": "code",
   "execution_count": 22,
   "id": "9a27d4a9-2342-4f5a-bd95-6b73973cd783",
   "metadata": {},
   "outputs": [
    {
     "name": "stdout",
     "output_type": "stream",
     "text": [
      "Argument of \"if\" evaluated to True\n"
     ]
    }
   ],
   "source": [
    "if a > 2:\n",
    "    print('Argument of \"if\" evaluated to True')"
   ]
  },
  {
   "cell_type": "markdown",
   "id": "1484eebd-1c4a-42c2-af9d-0b9e13894873",
   "metadata": {},
   "source": [
    " "
   ]
  },
  {
   "cell_type": "markdown",
   "id": "e82cc583-f45c-4c63-a36c-3236941a9803",
   "metadata": {},
   "source": [
    "We can also define a *defaul* operation if the condition is False via the `else` keyword:"
   ]
  },
  {
   "cell_type": "code",
   "execution_count": 23,
   "id": "f8d8bf79-9067-45f7-a0f1-bd2c717b6fc8",
   "metadata": {},
   "outputs": [
    {
     "name": "stdout",
     "output_type": "stream",
     "text": [
      "Argument of \"if\" evaluated to False\n"
     ]
    }
   ],
   "source": [
    "if a < 2:\n",
    "    print('Argument of \"if\" evaluated to True')\n",
    "else:\n",
    "    print('Argument of \"if\" evaluated to False')"
   ]
  },
  {
   "cell_type": "markdown",
   "id": "9a857ce4-1c18-4a01-9e69-d8f0ff7c9cbf",
   "metadata": {},
   "source": [
    " "
   ]
  },
  {
   "cell_type": "markdown",
   "id": "a07ac13a-3d3b-4bf5-9d7b-e79f779f54b1",
   "metadata": {},
   "source": [
    "We can also have multiple conditions..\n",
    "```python\n",
    "if condition_1:\n",
    "\n",
    "    do something\n",
    "\n",
    "elif condition_2:\n",
    "    \n",
    "    do something\n",
    "\n",
    "else:\n",
    "\n",
    "    do something\n",
    "```"
   ]
  },
  {
   "cell_type": "code",
   "execution_count": 24,
   "id": "78059e65-99e0-4db0-b3e2-7dca7e3881e0",
   "metadata": {},
   "outputs": [],
   "source": [
    "a = 5\n",
    "b = 3"
   ]
  },
  {
   "cell_type": "code",
   "execution_count": 25,
   "id": "18364b64-41a7-4a42-a0a4-a5eaa635ba6e",
   "metadata": {},
   "outputs": [
    {
     "name": "stdout",
     "output_type": "stream",
     "text": [
      "a is bigger than b\n"
     ]
    }
   ],
   "source": [
    "if a > b:\n",
    "    print(\"a is bigger than b\")\n",
    "elif a < b:\n",
    "    print(\"a is smaller than b\")\n",
    "else:\n",
    "    print(\"a is equal to b\")"
   ]
  },
  {
   "cell_type": "markdown",
   "id": "e0368026-6ab1-4932-8add-db9a704f235e",
   "metadata": {
    "tags": []
   },
   "source": [
    "## Exercise\n",
    "\n",
    "Solve the following problems using `if`, `elif`, and `else` statements when applicable."
   ]
  },
  {
   "cell_type": "markdown",
   "id": "c16db253-3d5d-41b0-bb4c-d01bf51343a6",
   "metadata": {},
   "source": [
    "1. Report with a message whether the value below is positive or negative."
   ]
  },
  {
   "cell_type": "code",
   "execution_count": 3,
   "id": "b5862ad5-cbdc-4cb4-91d9-35b0813c03a6",
   "metadata": {},
   "outputs": [],
   "source": [
    "value = 5"
   ]
  },
  {
   "cell_type": "code",
   "execution_count": null,
   "id": "3ef4a2e3-7c34-4c9e-9169-fa8f399af5f3",
   "metadata": {},
   "outputs": [],
   "source": []
  },
  {
   "cell_type": "markdown",
   "id": "25087966-6322-4b60-986a-53b819912779",
   "metadata": {},
   "source": [
    "... change the value (to a negative value) to make sure your conditions are working properly."
   ]
  },
  {
   "cell_type": "code",
   "execution_count": null,
   "id": "d51da20e-22e4-44c6-9c64-72a17d9f95de",
   "metadata": {},
   "outputs": [],
   "source": []
  },
  {
   "cell_type": "markdown",
   "id": "74fd0b69-0568-4fbb-9505-46b287b4f1c3",
   "metadata": {},
   "source": [
    "2. Change your previous conditional statements to distinguish between three conditions: whether the value is positive, zero, or negative."
   ]
  },
  {
   "cell_type": "code",
   "execution_count": null,
   "id": "e270e3fc-a316-42c5-8233-b9a45d81d31e",
   "metadata": {},
   "outputs": [],
   "source": []
  },
  {
   "cell_type": "markdown",
   "id": "74712ec0-f5e6-445b-b4b1-3a90a9f6f9c7",
   "metadata": {},
   "source": [
    "3. Define a function that takes two names (i.e. strings) as input and displays the one with more characters."
   ]
  },
  {
   "cell_type": "code",
   "execution_count": null,
   "id": "4c64f301-8d80-423f-af73-cb2adcaf22f5",
   "metadata": {},
   "outputs": [],
   "source": []
  },
  {
   "cell_type": "markdown",
   "id": "74bbf81a-500c-4b12-bd43-ff83936f5682",
   "metadata": {},
   "source": [
    "... If you already have not done it, change the function such that if the two names have the same number of character it reports that."
   ]
  },
  {
   "cell_type": "code",
   "execution_count": null,
   "id": "6e573686-82a9-4550-9207-adefc21dcbd3",
   "metadata": {},
   "outputs": [],
   "source": []
  },
  {
   "cell_type": "markdown",
   "id": "4b2f5e72-c244-4cfe-b273-ff8ddbf72077",
   "metadata": {},
   "source": [
    "4. Define a function that takes two Arrays and returns the one with most entries."
   ]
  },
  {
   "cell_type": "code",
   "execution_count": null,
   "id": "9f2272a5-03ac-4b6d-b21e-7a00ee3d81cb",
   "metadata": {},
   "outputs": [],
   "source": []
  },
  {
   "cell_type": "markdown",
   "id": "364e059c-930e-4408-ae78-15ae9284424e",
   "metadata": {},
   "source": [
    "5. Define a function that takes two values and a string (in total three arguments). If the string input says \"add\" then the function returns the addition of the two values, if it says \"subtract\", then it subtract the second from the first and returns the result."
   ]
  },
  {
   "cell_type": "code",
   "execution_count": null,
   "id": "895b36d6-f7b2-40f5-9bd7-454c3ea62a13",
   "metadata": {},
   "outputs": [],
   "source": []
  },
  {
   "cell_type": "markdown",
   "id": "1df4f70a-8c96-4212-9f32-a2ec391300d7",
   "metadata": {},
   "source": [
    "... Change the function to retun both addition and subtraction results if the string input says \"both\"."
   ]
  },
  {
   "cell_type": "code",
   "execution_count": null,
   "id": "b50accc5-9ba7-4a6d-af70-648ea420afc0",
   "metadata": {},
   "outputs": [],
   "source": []
  },
  {
   "cell_type": "markdown",
   "id": "1081a7c4-5a31-4406-84b7-1aa620edd955",
   "metadata": {},
   "source": [
    " "
   ]
  },
  {
   "cell_type": "markdown",
   "id": "d8f04261-f492-4f21-b3a7-cd0bda3b24f4",
   "metadata": {},
   "source": [
    "## Logical operations\n",
    "\n",
    "What happens if we have multiple conditions and we want to combine them into one? We can combine multiple booleans into a single boolean object using **logical operations**. Logical operations are performed using the Python keywords `and`, `or`, and `not`.\n",
    "- The operator `not` just flips the boolean.\n",
    "- The expression `x and y` is True only if `x` and `y` both are True.\n",
    "- The expression `x or y` is False only if `x` and `y` both are False."
   ]
  },
  {
   "cell_type": "code",
   "execution_count": 4,
   "id": "968e080a-f315-4c91-b5e2-fd631371d0b2",
   "metadata": {},
   "outputs": [
    {
     "data": {
      "text/plain": [
       "False"
      ]
     },
     "execution_count": 4,
     "metadata": {},
     "output_type": "execute_result"
    }
   ],
   "source": [
    "not True"
   ]
  },
  {
   "cell_type": "code",
   "execution_count": 5,
   "id": "cc0e7192-3412-4300-a27f-6974fc6652a3",
   "metadata": {},
   "outputs": [
    {
     "data": {
      "text/plain": [
       "False"
      ]
     },
     "execution_count": 5,
     "metadata": {},
     "output_type": "execute_result"
    }
   ],
   "source": [
    "True and False"
   ]
  },
  {
   "cell_type": "code",
   "execution_count": 6,
   "id": "00d903dd-53a7-4379-a073-7bacb0a63fae",
   "metadata": {},
   "outputs": [
    {
     "data": {
      "text/plain": [
       "True"
      ]
     },
     "execution_count": 6,
     "metadata": {},
     "output_type": "execute_result"
    }
   ],
   "source": [
    "True or False"
   ]
  },
  {
   "cell_type": "code",
   "execution_count": 7,
   "id": "daebcc97-350d-4c6b-89c1-c33f5aef6664",
   "metadata": {},
   "outputs": [
    {
     "data": {
      "text/plain": [
       "False"
      ]
     },
     "execution_count": 7,
     "metadata": {},
     "output_type": "execute_result"
    }
   ],
   "source": [
    "False or False"
   ]
  },
  {
   "cell_type": "markdown",
   "id": "36c9ba5a-3f0b-4cca-abb6-be12bc1c3f46",
   "metadata": {},
   "source": [
    "## Exercise (quick)"
   ]
  },
  {
   "cell_type": "markdown",
   "id": "2d6227f3-de59-433f-83ab-8bb8701e4807",
   "metadata": {},
   "source": [
    "1. In a single `if` statement check and report if the value below is between 0 and 5"
   ]
  },
  {
   "cell_type": "code",
   "execution_count": 8,
   "id": "c32b2756-fd0c-44e0-be20-a22014764cab",
   "metadata": {},
   "outputs": [],
   "source": [
    "value = 4"
   ]
  },
  {
   "cell_type": "code",
   "execution_count": null,
   "id": "6aec5355-b6c4-4a2c-8d47-d94e768b1810",
   "metadata": {},
   "outputs": [],
   "source": []
  },
  {
   "cell_type": "markdown",
   "id": "66d2bf46-7a4c-48f4-a3b4-90550bee7ff6",
   "metadata": {},
   "source": [
    "... play around with different values to make sure your conditional statements are working properly."
   ]
  },
  {
   "cell_type": "code",
   "execution_count": null,
   "id": "239decf7-7cca-4860-a31a-f3acf23657b1",
   "metadata": {},
   "outputs": [],
   "source": []
  },
  {
   "cell_type": "markdown",
   "id": "e6bde184-4b10-401b-b6fa-98b25a47976a",
   "metadata": {},
   "source": [
    "2. What is the result of the following logical operation?\n",
    "\n",
    "```python\n",
    ">>> True and False\n",
    ">>> True or False\n",
    ">>> bool(0) and bool(1)\n",
    ">>> bool(1) or bool(2)\n",
    ">>> bool(0) and bool([0])\n",
    ">>> bool([]) or bool([0])\n",
    "```"
   ]
  },
  {
   "cell_type": "code",
   "execution_count": null,
   "id": "a0b8a36c-1782-40d4-af84-d375f72bce5f",
   "metadata": {},
   "outputs": [],
   "source": []
  },
  {
   "cell_type": "markdown",
   "id": "d52d2e76-50b8-4fb1-952f-199e0b21c1d2",
   "metadata": {},
   "source": [
    "## Some tricky points (bonus)\n",
    "\n",
    "#### 1. Note that by using `if`, `elif`, and `else` we are imposing a priority on the conditions:"
   ]
  },
  {
   "cell_type": "code",
   "execution_count": 26,
   "id": "a30bbeaa-a6ee-4d26-bed0-33695defd444",
   "metadata": {},
   "outputs": [
    {
     "name": "stdout",
     "output_type": "stream",
     "text": [
      "a is bigger than b\n"
     ]
    }
   ],
   "source": [
    "a = 5\n",
    "b = 3\n",
    "\n",
    "if a > b:\n",
    "    print(\"a is bigger than b\")\n",
    "elif a > 3:\n",
    "    print(\"a is bigger than 3\")\n",
    "else:\n",
    "    print(\"a is smaller than both 3 and b\")"
   ]
  },
  {
   "cell_type": "markdown",
   "id": "a38d8c09-37b3-4b90-8380-5087bd69fe79",
   "metadata": {},
   "source": [
    "Note that both of the following conditions are True:\n",
    "\n",
    "- a > b\n",
    "- a > 3\n",
    "\n",
    "But, since `if` has priority over `elif` (or any subsequent condition), it runs the code under `if`."
   ]
  },
  {
   "cell_type": "markdown",
   "id": "9bfa347f-eb49-4984-a986-18af36fc779f",
   "metadata": {},
   "source": [
    "<br>\n",
    "\n",
    "**Question**: What happen here?\n",
    "\n",
    "```python\n",
    "a = 5\n",
    "b = 3\n",
    "\n",
    "if a > b:\n",
    "    print(\"a is bigger than b\")\n",
    "    \n",
    "if a > 3:\n",
    "    print(\"a is bigger than 3\")\n",
    "else:\n",
    "    print(\"a is smaller than both 3 and b\")\n",
    "```"
   ]
  },
  {
   "cell_type": "markdown",
   "id": "46131ff4-0765-4a60-87bb-bb58495f4be0",
   "metadata": {},
   "source": [
    "---"
   ]
  },
  {
   "cell_type": "markdown",
   "id": "1bd30cbc-87fe-4503-81cc-cc2990870ca6",
   "metadata": {},
   "source": [
    "# Dictionaries"
   ]
  },
  {
   "cell_type": "markdown",
   "id": "f4500eb4-84bf-4e22-8797-f75f3ca0766f",
   "metadata": {},
   "source": [
    "So far we have been talking about collections that are **ordered**. That is, we can use numbers starting from 0 to select specific elements. What if we don't care about the order and would like to use a more \"meaningful\" index to select a specific element? \n",
    "\n",
    "Python has a valuable data structure used for  associating pairs of values: the `dict`. <br>\n",
    "Each `item` in a `dict` has two parts: the `key` and the `value`.  For example:\n",
    "\n",
    "```python\n",
    "weights = {'Elisa': 55, 'Mo': 90, 'Nick': 82}\n",
    "```\n",
    "\n",
    "In this example, the names are the `keys`:\n",
    "```python\n",
    ">>> weights.keys()\n",
    "dict_keys(['Elisa', 'Mo', 'Nick'])\n",
    "```\n",
    "\n",
    "The weights are the `values`:\n",
    "```python\n",
    ">>> weights.values()\n",
    "dict_values([55, 90, 82])\n",
    "```\n",
    "\n",
    "Altogether, the pairs are `items`:\n",
    "```python\n",
    ">>> weights.items()\n",
    "dict_items([('Elisa', 55), ('Mo', 90), ('Nick', 82)])\n",
    "```\n",
    "\n",
    "**Note**: Similar to lists and tuples, dicts can also hold any type of object.\n",
    "\n",
    "## Appending and Quering Dicts\n",
    "The nice thing about dictionaries is that now we no not need to care about the position of items in our dictionary anymore. We can always access a `value` if we know its `key`:\n",
    "\n",
    "```python\n",
    ">>> weights = {'Elisa': 55, 'Mo': 90, 'Nick': 82}\n",
    ">>> weights[\"Mo\"]\n",
    "90\n",
    "```\n",
    "\n",
    "If we want to add an entry, it can be done using the same syntax:\n",
    "\n",
    "```python\n",
    ">>> weights = {} # starting from an empty dictionary\n",
    ">>> weights['Anni'] = 63\n",
    ">>> weights\n",
    "{'Anni': 63}\n",
    "```\n",
    "\n",
    "Let's get some practice with dictionaries!"
   ]
  },
  {
   "cell_type": "markdown",
   "id": "03c6a0ac-36a6-4b32-936e-fb7bb3cffb8c",
   "metadata": {},
   "source": [
    "## Exercise"
   ]
  },
  {
   "cell_type": "markdown",
   "id": "ddf40fad-e3a5-4e57-9c83-9554e04da38f",
   "metadata": {},
   "source": [
    "1. Print the `values` of the following dictionary."
   ]
  },
  {
   "cell_type": "code",
   "execution_count": 13,
   "id": "eebc8dc8-190c-4bf0-a827-d8239fe06c21",
   "metadata": {},
   "outputs": [],
   "source": [
    "birthdays = {'John': 'Jan. 4th', 'Bernice': 'May 25th'}"
   ]
  },
  {
   "cell_type": "code",
   "execution_count": null,
   "id": "693d576f-2bca-48e7-8dbf-320b6a645e1b",
   "metadata": {},
   "outputs": [],
   "source": []
  },
  {
   "cell_type": "markdown",
   "id": "15dfc366-bdb4-458b-aeed-94c092df57fb",
   "metadata": {},
   "source": [
    "... Print its `keys`."
   ]
  },
  {
   "cell_type": "code",
   "execution_count": null,
   "id": "adfc9b1d-7286-41b1-bb8b-a931f5fb35d9",
   "metadata": {},
   "outputs": [],
   "source": []
  },
  {
   "cell_type": "markdown",
   "id": "6f25aa9b-5581-4edb-9ee0-5e23c8ba15ff",
   "metadata": {},
   "source": [
    "... Print its `items`."
   ]
  },
  {
   "cell_type": "code",
   "execution_count": null,
   "id": "6b1ebce0-1251-4b64-8c69-15267ea24c9f",
   "metadata": {},
   "outputs": [],
   "source": []
  },
  {
   "cell_type": "markdown",
   "id": "7ad25570-6e37-4ebd-92be-f5e1dd9127b5",
   "metadata": {},
   "source": [
    "2. Make a dict from this list of tuples:"
   ]
  },
  {
   "cell_type": "code",
   "execution_count": 15,
   "id": "5f7e74d9-e70e-458b-a9ce-89dd231eff0a",
   "metadata": {},
   "outputs": [],
   "source": [
    "brightnesses = [\n",
    "    ('red', 65), \n",
    "    ('green', 3), \n",
    "    ('blue', 10),\n",
    "]"
   ]
  },
  {
   "cell_type": "code",
   "execution_count": null,
   "id": "52990e24-7d0c-42bf-afb1-186a643a0052",
   "metadata": {},
   "outputs": [],
   "source": []
  },
  {
   "cell_type": "markdown",
   "id": "9b7fbdf2-17e3-4443-8c80-c388629938fa",
   "metadata": {},
   "source": [
    "3. Make a list of this dict's items:"
   ]
  },
  {
   "cell_type": "code",
   "execution_count": 14,
   "id": "7e89bafa-3c6e-4c39-a0d5-b1aeb6bdf10e",
   "metadata": {},
   "outputs": [],
   "source": [
    "brightnesses = {'red': 65, 'green': 3, 'blue': 10}"
   ]
  },
  {
   "cell_type": "code",
   "execution_count": null,
   "id": "fdda8d1b-59ba-4494-8e77-4a9f180eec6e",
   "metadata": {},
   "outputs": [],
   "source": []
  },
  {
   "cell_type": "markdown",
   "id": "5bae2940-66bb-4544-a1eb-6c0f49531925",
   "metadata": {},
   "source": [
    "4. Starting with an empty `dict`, add kindergartners' favorite color one at the time:\n",
    "- Amy loves yellow\n",
    "- James adores red\n",
    "- Julia worships beige\n",
    "- Johnny likes green"
   ]
  },
  {
   "cell_type": "code",
   "execution_count": null,
   "id": "f8151cfb-eb58-4c33-8a44-e3e245f0dcf0",
   "metadata": {},
   "outputs": [],
   "source": []
  },
  {
   "cell_type": "markdown",
   "id": "726b6f09-9550-4c1d-bdf3-51afbf0a3351",
   "metadata": {},
   "source": [
    "5. Use the dict created above to have Python answer the following questions:"
   ]
  },
  {
   "cell_type": "markdown",
   "id": "c9823a4c-cef0-4cd0-b980-a454f642bc1e",
   "metadata": {},
   "source": [
    "... What is James' favorite color?"
   ]
  },
  {
   "cell_type": "code",
   "execution_count": null,
   "id": "62801442-6c80-4b93-8152-f0c4d8fcaf7f",
   "metadata": {},
   "outputs": [],
   "source": []
  },
  {
   "cell_type": "markdown",
   "id": "907269e2-0cbe-43ba-ac71-26061706da55",
   "metadata": {},
   "source": [
    "... What is Julia's favorite color?"
   ]
  },
  {
   "cell_type": "code",
   "execution_count": null,
   "id": "4f38d067-eea5-4ba3-a76a-797d1e99a10e",
   "metadata": {},
   "outputs": [],
   "source": []
  }
 ],
 "metadata": {
  "kernelspec": {
   "display_name": "Python 3 (ipykernel)",
   "language": "python",
   "name": "python3"
  },
  "language_info": {
   "codemirror_mode": {
    "name": "ipython",
    "version": 3
   },
   "file_extension": ".py",
   "mimetype": "text/x-python",
   "name": "python",
   "nbconvert_exporter": "python",
   "pygments_lexer": "ipython3",
   "version": "3.9.10"
  }
 },
 "nbformat": 4,
 "nbformat_minor": 5
}
