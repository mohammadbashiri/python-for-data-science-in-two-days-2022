{
 "cells": [
  {
   "cell_type": "markdown",
   "id": "5006ad20-8703-4cf3-8ad5-e8b9596367d2",
   "metadata": {},
   "source": [
    "## DataFrame vs 2D Arrays\n",
    "\n",
    "One difference between DataFrames and Numpy Arrays we already talked about:\n",
    "- Numpy arrays contain entries of same type\n",
    "- Pandas DataFame can contain columns of different data types\n",
    "\n",
    "One other key difference between DataFrames and Numpy Arrays is what index information they assume you'll use to query data.\n",
    "\n",
    "|           |        | Ordered | Named |\n",
    "| :--:      | :--:   | :--:    | :-:   |\n",
    "| Array     | Rows   | ✔️       |       |\n",
    "| Array     | Columns| ✔️       |       |\n",
    "| DataFrame | Rows   | ✔️       | ✔️     |\n",
    "| DataFrame | Columns|         | ✔️     |\n",
    "\n",
    "This reliance on named indices makes it straightforward to work with Pandas data **relationally**, thinking of each row as a specific Record with named Fields. \n",
    "\n",
    "Let's see how it works."
   ]
  },
  {
   "cell_type": "markdown",
   "id": "4b3777d5-a9e9-4f5b-b0fe-6f5178d20534",
   "metadata": {},
   "source": [
    "### Indexing Rows"
   ]
  },
  {
   "cell_type": "markdown",
   "id": "4af5fe97-6879-4a56-9b19-da0180627ee7",
   "metadata": {},
   "source": [
    "Because DataFrame rows are both ordered and named, they can be indexed using either approach, and even both!  Column operations tend to be name-specific:\n",
    "\n",
    "| Axis        | Ordered Index | Named Index    | Ordered Slice    | Named Slice              |  NamedOrdered Slice     |\n",
    "| :--:        | :--:          | :--:           | :--:             | :--:                     | :--:                    |\n",
    "| **Rows**    | `df.iloc[0]`    | `df.loc['John']` | `df.iloc[0:2]`    | `df.loc[['Jim', 'John']]`  |  `df.loc['Jim':'Jenny']`  |\n",
    "| **Columns** |               |  `df['Q1']`      |                  |  `df[['Q1', 'Q4']]`       |                         |\n",
    "\n",
    "\n",
    "To reduce total typing, Pandas also has alternate interfaces for the same operations:\n",
    "\n",
    "| Axis        | Ordered Index | Named Index    | Ordered Slice    | Named Slice              |  NamedOrdered Slice     |\n",
    "| :--:        | :--:          | :--:           | :--:             | :--:                     | :--:                    |\n",
    "| **Rows**    |               |                | `df[0:2]`          |                          |  `df['Jim':'Jenny']`      |\n",
    "| **Columns** |               |  `df.Q1`         |                  |  `df[['Q1', 'Q4']]`        |                         |\n",
    "\n",
    "**Note**: Notice that square brackets, not round brackets (a.k.a parenthesis) are used after `df.loc` and `df.iloc`."
   ]
  },
  {
   "cell_type": "code",
   "execution_count": 3,
   "id": "9254533e-2116-4897-a74b-f41628c8f3c8",
   "metadata": {},
   "outputs": [],
   "source": [
    "import pandas as pd"
   ]
  },
  {
   "cell_type": "code",
   "execution_count": 20,
   "id": "2d1d7bc3-3939-442e-a1b0-3d2275e44cdf",
   "metadata": {},
   "outputs": [
    {
     "data": {
      "text/html": [
       "<div>\n",
       "<style scoped>\n",
       "    .dataframe tbody tr th:only-of-type {\n",
       "        vertical-align: middle;\n",
       "    }\n",
       "\n",
       "    .dataframe tbody tr th {\n",
       "        vertical-align: top;\n",
       "    }\n",
       "\n",
       "    .dataframe thead th {\n",
       "        text-align: right;\n",
       "    }\n",
       "</style>\n",
       "<table border=\"1\" class=\"dataframe\">\n",
       "  <thead>\n",
       "    <tr style=\"text-align: right;\">\n",
       "      <th></th>\n",
       "      <th>Name</th>\n",
       "      <th>Age</th>\n",
       "      <th>Height</th>\n",
       "    </tr>\n",
       "  </thead>\n",
       "  <tbody>\n",
       "    <tr>\n",
       "      <th>0</th>\n",
       "      <td>Nick</td>\n",
       "      <td>31</td>\n",
       "      <td>2.9</td>\n",
       "    </tr>\n",
       "    <tr>\n",
       "      <th>1</th>\n",
       "      <td>Jenn</td>\n",
       "      <td>55</td>\n",
       "      <td>1.2</td>\n",
       "    </tr>\n",
       "    <tr>\n",
       "      <th>2</th>\n",
       "      <td>Joe</td>\n",
       "      <td>25</td>\n",
       "      <td>1.2</td>\n",
       "    </tr>\n",
       "    <tr>\n",
       "      <th>3</th>\n",
       "      <td>Mo</td>\n",
       "      <td>29</td>\n",
       "      <td>1.8</td>\n",
       "    </tr>\n",
       "    <tr>\n",
       "      <th>4</th>\n",
       "      <td>Anni</td>\n",
       "      <td>38</td>\n",
       "      <td>1.6</td>\n",
       "    </tr>\n",
       "  </tbody>\n",
       "</table>\n",
       "</div>"
      ],
      "text/plain": [
       "   Name  Age  Height\n",
       "0  Nick   31     2.9\n",
       "1  Jenn   55     1.2\n",
       "2   Joe   25     1.2\n",
       "3    Mo   29     1.8\n",
       "4  Anni   38     1.6"
      ]
     },
     "execution_count": 20,
     "metadata": {},
     "output_type": "execute_result"
    }
   ],
   "source": [
    "df = pd.DataFrame({ \n",
    "    'Name': ['Nick', 'Jenn', 'Joe', \"Mo\", \"Anni\"],\n",
    "    'Age': [31, 55, 25, 29, 38], \n",
    "    'Height': [2.9, 1.2, 1.2, 1.8, 1.6],\n",
    "})\n",
    "df"
   ]
  },
  {
   "cell_type": "code",
   "execution_count": 21,
   "id": "c0a0353a-d131-4a87-8fce-2f8d2a28c1ad",
   "metadata": {},
   "outputs": [],
   "source": [
    "df.set_index(\"Name\", inplace=True)"
   ]
  },
  {
   "cell_type": "code",
   "execution_count": 22,
   "id": "9989c605-4cf6-48d6-b427-5d881384f4b8",
   "metadata": {},
   "outputs": [
    {
     "data": {
      "text/html": [
       "<div>\n",
       "<style scoped>\n",
       "    .dataframe tbody tr th:only-of-type {\n",
       "        vertical-align: middle;\n",
       "    }\n",
       "\n",
       "    .dataframe tbody tr th {\n",
       "        vertical-align: top;\n",
       "    }\n",
       "\n",
       "    .dataframe thead th {\n",
       "        text-align: right;\n",
       "    }\n",
       "</style>\n",
       "<table border=\"1\" class=\"dataframe\">\n",
       "  <thead>\n",
       "    <tr style=\"text-align: right;\">\n",
       "      <th></th>\n",
       "      <th>Age</th>\n",
       "      <th>Height</th>\n",
       "    </tr>\n",
       "    <tr>\n",
       "      <th>Name</th>\n",
       "      <th></th>\n",
       "      <th></th>\n",
       "    </tr>\n",
       "  </thead>\n",
       "  <tbody>\n",
       "    <tr>\n",
       "      <th>Nick</th>\n",
       "      <td>31</td>\n",
       "      <td>2.9</td>\n",
       "    </tr>\n",
       "    <tr>\n",
       "      <th>Jenn</th>\n",
       "      <td>55</td>\n",
       "      <td>1.2</td>\n",
       "    </tr>\n",
       "    <tr>\n",
       "      <th>Joe</th>\n",
       "      <td>25</td>\n",
       "      <td>1.2</td>\n",
       "    </tr>\n",
       "    <tr>\n",
       "      <th>Mo</th>\n",
       "      <td>29</td>\n",
       "      <td>1.8</td>\n",
       "    </tr>\n",
       "    <tr>\n",
       "      <th>Anni</th>\n",
       "      <td>38</td>\n",
       "      <td>1.6</td>\n",
       "    </tr>\n",
       "  </tbody>\n",
       "</table>\n",
       "</div>"
      ],
      "text/plain": [
       "      Age  Height\n",
       "Name             \n",
       "Nick   31     2.9\n",
       "Jenn   55     1.2\n",
       "Joe    25     1.2\n",
       "Mo     29     1.8\n",
       "Anni   38     1.6"
      ]
     },
     "execution_count": 22,
     "metadata": {},
     "output_type": "execute_result"
    }
   ],
   "source": [
    "df"
   ]
  },
  {
   "cell_type": "markdown",
   "id": "b5876520-f36a-469d-8baf-06761d460e2a",
   "metadata": {},
   "source": [
    "## Exercise"
   ]
  },
  {
   "cell_type": "markdown",
   "id": "20c8c615-2835-45f4-bb14-b9879906f3d4",
   "metadata": {},
   "source": [
    "1. Load the titanic dataset (from the data folder) as a DataFrame"
   ]
  },
  {
   "cell_type": "code",
   "execution_count": null,
   "id": "8a5417bf-e62d-4d7b-b975-44fed64d5c3c",
   "metadata": {},
   "outputs": [],
   "source": []
  },
  {
   "cell_type": "markdown",
   "id": "442709ae-351b-4041-bc79-1438bf0aa1da",
   "metadata": {},
   "source": [
    "2. Select the `age` column."
   ]
  },
  {
   "cell_type": "code",
   "execution_count": null,
   "id": "fd95aa94-aef5-4129-82ab-56918c2bd03d",
   "metadata": {},
   "outputs": [],
   "source": []
  },
  {
   "cell_type": "markdown",
   "id": "a29e7db6-963d-40c2-b0a3-e2ebc5bbdadf",
   "metadata": {},
   "source": [
    "3. Get rows 10-16."
   ]
  },
  {
   "cell_type": "code",
   "execution_count": null,
   "id": "4261e9bb-a793-4bc6-a0f8-0d452678877c",
   "metadata": {},
   "outputs": [],
   "source": []
  },
  {
   "cell_type": "markdown",
   "id": "80877c29-8709-467c-a4b2-353bb5728dce",
   "metadata": {},
   "source": [
    "4. Select the first 5 rows of the \"sex\" column"
   ]
  },
  {
   "cell_type": "code",
   "execution_count": null,
   "id": "92f0810b-4f53-411b-8062-24f15832451e",
   "metadata": {},
   "outputs": [],
   "source": []
  },
  {
   "cell_type": "markdown",
   "id": "fd6e70c1-eed5-4267-b294-89eb2022975c",
   "metadata": {},
   "source": [
    "5. Select the `fare` column."
   ]
  },
  {
   "cell_type": "code",
   "execution_count": null,
   "id": "76d49fff-da05-4d56-8a39-89e63d18b943",
   "metadata": {},
   "outputs": [],
   "source": []
  },
  {
   "cell_type": "markdown",
   "id": "e88ef436-3b99-4605-b8e7-370318fe5a6b",
   "metadata": {},
   "source": [
    "6. Select the `survived` and `age` columns."
   ]
  },
  {
   "cell_type": "code",
   "execution_count": null,
   "id": "9c0576ad-b93f-4906-bb67-f7b889454558",
   "metadata": {},
   "outputs": [],
   "source": []
  },
  {
   "cell_type": "markdown",
   "id": "61a190e6-468d-4966-b8af-9c80c2b445b3",
   "metadata": {},
   "source": [
    "7. Select the last 3 rows of the `alive` column"
   ]
  },
  {
   "cell_type": "code",
   "execution_count": null,
   "id": "f1e52f2b-c0dc-4bcc-91c6-1b273e5ac7f1",
   "metadata": {},
   "outputs": [],
   "source": []
  },
  {
   "cell_type": "markdown",
   "id": "e7d1ddc4-3619-41fe-a5e2-635422a4d0e3",
   "metadata": {},
   "source": [
    " "
   ]
  },
  {
   "cell_type": "markdown",
   "id": "963d1a3f-4285-4449-8d16-5ddb0d288c88",
   "metadata": {},
   "source": [
    "## Summarizing / Aggregating Data in DataFrames\n",
    "\n",
    "Pandas also supplies many different aggregation functions as methods:\n",
    "\n",
    "```python\n",
    "df.mean()\n",
    "df['Column'].mean()\n",
    "```\n",
    "<br>\n",
    "\n",
    "**Examples**:  mean, median, max, min, count, value_counts, unique"
   ]
  },
  {
   "cell_type": "markdown",
   "id": "8d0e5c01-b6ba-4599-a38a-ee68ee451ee6",
   "metadata": {},
   "source": [
    "## Exercise"
   ]
  },
  {
   "cell_type": "code",
   "execution_count": 1,
   "id": "8c2df813-c554-4621-a205-feee271475a2",
   "metadata": {},
   "outputs": [],
   "source": [
    "import pandas as pd"
   ]
  },
  {
   "cell_type": "code",
   "execution_count": 2,
   "id": "bd52f492-e35a-46c7-a248-55a6fa8f235e",
   "metadata": {},
   "outputs": [
    {
     "data": {
      "text/html": [
       "<div>\n",
       "<style scoped>\n",
       "    .dataframe tbody tr th:only-of-type {\n",
       "        vertical-align: middle;\n",
       "    }\n",
       "\n",
       "    .dataframe tbody tr th {\n",
       "        vertical-align: top;\n",
       "    }\n",
       "\n",
       "    .dataframe thead th {\n",
       "        text-align: right;\n",
       "    }\n",
       "</style>\n",
       "<table border=\"1\" class=\"dataframe\">\n",
       "  <thead>\n",
       "    <tr style=\"text-align: right;\">\n",
       "      <th></th>\n",
       "      <th>survived</th>\n",
       "      <th>pclass</th>\n",
       "      <th>sex</th>\n",
       "      <th>age</th>\n",
       "      <th>sibsp</th>\n",
       "      <th>parch</th>\n",
       "      <th>fare</th>\n",
       "      <th>embarked</th>\n",
       "      <th>class</th>\n",
       "      <th>who</th>\n",
       "      <th>adult_male</th>\n",
       "      <th>deck</th>\n",
       "      <th>embark_town</th>\n",
       "      <th>alive</th>\n",
       "      <th>alone</th>\n",
       "    </tr>\n",
       "  </thead>\n",
       "  <tbody>\n",
       "    <tr>\n",
       "      <th>0</th>\n",
       "      <td>0</td>\n",
       "      <td>3</td>\n",
       "      <td>male</td>\n",
       "      <td>22.0</td>\n",
       "      <td>1</td>\n",
       "      <td>0</td>\n",
       "      <td>7.2500</td>\n",
       "      <td>S</td>\n",
       "      <td>Third</td>\n",
       "      <td>man</td>\n",
       "      <td>True</td>\n",
       "      <td>NaN</td>\n",
       "      <td>Southampton</td>\n",
       "      <td>no</td>\n",
       "      <td>False</td>\n",
       "    </tr>\n",
       "    <tr>\n",
       "      <th>1</th>\n",
       "      <td>1</td>\n",
       "      <td>1</td>\n",
       "      <td>female</td>\n",
       "      <td>38.0</td>\n",
       "      <td>1</td>\n",
       "      <td>0</td>\n",
       "      <td>71.2833</td>\n",
       "      <td>C</td>\n",
       "      <td>First</td>\n",
       "      <td>woman</td>\n",
       "      <td>False</td>\n",
       "      <td>C</td>\n",
       "      <td>Cherbourg</td>\n",
       "      <td>yes</td>\n",
       "      <td>False</td>\n",
       "    </tr>\n",
       "    <tr>\n",
       "      <th>2</th>\n",
       "      <td>1</td>\n",
       "      <td>3</td>\n",
       "      <td>female</td>\n",
       "      <td>26.0</td>\n",
       "      <td>0</td>\n",
       "      <td>0</td>\n",
       "      <td>7.9250</td>\n",
       "      <td>S</td>\n",
       "      <td>Third</td>\n",
       "      <td>woman</td>\n",
       "      <td>False</td>\n",
       "      <td>NaN</td>\n",
       "      <td>Southampton</td>\n",
       "      <td>yes</td>\n",
       "      <td>True</td>\n",
       "    </tr>\n",
       "    <tr>\n",
       "      <th>3</th>\n",
       "      <td>1</td>\n",
       "      <td>1</td>\n",
       "      <td>female</td>\n",
       "      <td>35.0</td>\n",
       "      <td>1</td>\n",
       "      <td>0</td>\n",
       "      <td>53.1000</td>\n",
       "      <td>S</td>\n",
       "      <td>First</td>\n",
       "      <td>woman</td>\n",
       "      <td>False</td>\n",
       "      <td>C</td>\n",
       "      <td>Southampton</td>\n",
       "      <td>yes</td>\n",
       "      <td>False</td>\n",
       "    </tr>\n",
       "    <tr>\n",
       "      <th>4</th>\n",
       "      <td>0</td>\n",
       "      <td>3</td>\n",
       "      <td>male</td>\n",
       "      <td>35.0</td>\n",
       "      <td>0</td>\n",
       "      <td>0</td>\n",
       "      <td>8.0500</td>\n",
       "      <td>S</td>\n",
       "      <td>Third</td>\n",
       "      <td>man</td>\n",
       "      <td>True</td>\n",
       "      <td>NaN</td>\n",
       "      <td>Southampton</td>\n",
       "      <td>no</td>\n",
       "      <td>True</td>\n",
       "    </tr>\n",
       "  </tbody>\n",
       "</table>\n",
       "</div>"
      ],
      "text/plain": [
       "   survived  pclass     sex   age  sibsp  parch     fare embarked  class  \\\n",
       "0         0       3    male  22.0      1      0   7.2500        S  Third   \n",
       "1         1       1  female  38.0      1      0  71.2833        C  First   \n",
       "2         1       3  female  26.0      0      0   7.9250        S  Third   \n",
       "3         1       1  female  35.0      1      0  53.1000        S  First   \n",
       "4         0       3    male  35.0      0      0   8.0500        S  Third   \n",
       "\n",
       "     who  adult_male deck  embark_town alive  alone  \n",
       "0    man        True  NaN  Southampton    no  False  \n",
       "1  woman       False    C    Cherbourg   yes  False  \n",
       "2  woman       False  NaN  Southampton   yes   True  \n",
       "3  woman       False    C  Southampton   yes  False  \n",
       "4    man        True  NaN  Southampton    no   True  "
      ]
     },
     "execution_count": 2,
     "metadata": {},
     "output_type": "execute_result"
    }
   ],
   "source": [
    "url = 'https://raw.githubusercontent.com/mwaskom/seaborn-data/master/titanic.csv'\n",
    "df = pd.read_csv(url)\n",
    "df.head()"
   ]
  },
  {
   "cell_type": "code",
   "execution_count": null,
   "id": "7ccf8de7-4a4d-4a95-8f60-2b0043c98bff",
   "metadata": {},
   "outputs": [],
   "source": []
  },
  {
   "cell_type": "markdown",
   "id": "25063932-3bdb-4102-b2ee-fa754448171d",
   "metadata": {},
   "source": [
    "1. What is the mean ticket fare that the passengers paid on the titanic?"
   ]
  },
  {
   "cell_type": "code",
   "execution_count": null,
   "id": "55ba429b-7ea4-4a7f-a4a9-1c9305911226",
   "metadata": {},
   "outputs": [],
   "source": []
  },
  {
   "cell_type": "markdown",
   "id": "c9553abc-045c-4dcd-9b5a-4d2161eb3bb2",
   "metadata": {},
   "source": [
    "2. How many passengers does this dataset contain?"
   ]
  },
  {
   "cell_type": "code",
   "execution_count": null,
   "id": "401c8fdb-e2ff-4b3e-8c69-684d2561577d",
   "metadata": {},
   "outputs": [],
   "source": []
  },
  {
   "cell_type": "markdown",
   "id": "e163f0a9-f0ec-4b99-82ed-fc4f17efb487",
   "metadata": {},
   "source": [
    "3. How many men and women are in this dataset? (`value_counts()`)"
   ]
  },
  {
   "cell_type": "code",
   "execution_count": null,
   "id": "75f60984-aecc-428a-997c-9ff3dc59a140",
   "metadata": {},
   "outputs": [],
   "source": []
  },
  {
   "cell_type": "markdown",
   "id": "1d0f641f-b1c8-46fc-bc05-6065f6febea6",
   "metadata": {},
   "source": [
    "4. What proportion of the passengers were alone on the titanic?"
   ]
  },
  {
   "cell_type": "code",
   "execution_count": null,
   "id": "4c45451e-c793-409f-a2f0-db2e05d5963f",
   "metadata": {},
   "outputs": [],
   "source": []
  },
  {
   "cell_type": "markdown",
   "id": "f1fc0add-e1f6-4c72-ba2d-b564459ec8cb",
   "metadata": {},
   "source": [
    "5. How many different classes were on the titanic?"
   ]
  },
  {
   "cell_type": "code",
   "execution_count": null,
   "id": "827a9ffd-383d-4bab-b80c-0d3a0adddc72",
   "metadata": {},
   "outputs": [],
   "source": []
  },
  {
   "cell_type": "markdown",
   "id": "db8b52b3-154e-413d-9d88-27d418003392",
   "metadata": {},
   "source": [
    "6. How many passengers of each sex are sitting in each class?"
   ]
  },
  {
   "cell_type": "code",
   "execution_count": null,
   "id": "fde76f4c-379a-4f2f-801a-3a612482b553",
   "metadata": {},
   "outputs": [],
   "source": []
  },
  {
   "cell_type": "markdown",
   "id": "b4c1310f-92ac-4f8e-a03f-77fa40008b37",
   "metadata": {},
   "source": [
    " "
   ]
  },
  {
   "cell_type": "markdown",
   "id": "2894455b-4049-4ead-8bc8-ba8d89180e5b",
   "metadata": {
    "tags": []
   },
   "source": [
    "## Querying Data via Logical Indexing\n",
    "\n",
    "To get rows based on their value, Pandas supports logical indexing - similar to Numpy.  For example, to get all the rows of a dataframe that are positive for `Column1`:\n",
    "\n",
    "```python\n",
    "positive_rows = df['Column1'] > 0\n",
    "df[positive_rows]\n",
    "```\n",
    "<br>\n",
    "\n",
    "Often, this is done in a single line:\n",
    "\n",
    "```python\n",
    "df[df['Column1'] > 0]\n",
    "```\n"
   ]
  },
  {
   "cell_type": "markdown",
   "id": "9f4ffa7a-8f88-42f8-9294-cf70b6106356",
   "metadata": {},
   "source": [
    "## Exercise\n",
    "\n",
    "Let's go back to the Titanic dataset and do some data querying."
   ]
  },
  {
   "cell_type": "markdown",
   "id": "71010f69-afe7-4b1a-9e8e-4a4f1ffe6b37",
   "metadata": {},
   "source": [
    "1. Did the oldest passenger on the Titanic survive?"
   ]
  },
  {
   "cell_type": "code",
   "execution_count": null,
   "id": "934ac470-eccd-4e7b-b0c9-c3079f4d4130",
   "metadata": {},
   "outputs": [],
   "source": []
  },
  {
   "cell_type": "markdown",
   "id": "cf7a0536-acd2-45d1-b752-7d79b08d2225",
   "metadata": {},
   "source": [
    "2. Where did the youngest passenger on the Titanic embark from?"
   ]
  },
  {
   "cell_type": "code",
   "execution_count": null,
   "id": "d1173f65-db9c-4f0c-868f-e1fdf8b257f1",
   "metadata": {},
   "outputs": [],
   "source": []
  },
  {
   "cell_type": "markdown",
   "id": "f0bfc60b-c607-45cc-9617-0ad72c22f122",
   "metadata": {},
   "source": [
    "3. How many passengers on the Titanic embarked from Cherbourg?"
   ]
  },
  {
   "cell_type": "code",
   "execution_count": null,
   "id": "722df7b8-314c-44eb-9a54-5f7c38d6826d",
   "metadata": {},
   "outputs": [],
   "source": []
  },
  {
   "cell_type": "markdown",
   "id": "99ff405d-76e1-40fd-a4ab-cb3a5e8ecceb",
   "metadata": {},
   "source": [
    "4. What is mean ticket fare for the 1st class?"
   ]
  },
  {
   "cell_type": "code",
   "execution_count": null,
   "id": "5fbb5a87-3f1a-4705-b70d-1375873f5f64",
   "metadata": {},
   "outputs": [],
   "source": []
  },
  {
   "cell_type": "markdown",
   "id": "392efc18-0e92-4330-aa36-b0000fc191b3",
   "metadata": {},
   "source": [
    "... What about the 2nd class?"
   ]
  },
  {
   "cell_type": "code",
   "execution_count": null,
   "id": "bf6ab105-e055-4efd-9711-711ee8791869",
   "metadata": {},
   "outputs": [],
   "source": []
  },
  {
   "cell_type": "markdown",
   "id": "e862895c-b680-4d2b-b284-2eb79cd42b32",
   "metadata": {},
   "source": [
    "... What about the 3rd class?"
   ]
  },
  {
   "cell_type": "code",
   "execution_count": null,
   "id": "ccf3153b-53c8-42ba-8dee-b3fb46927f1f",
   "metadata": {},
   "outputs": [],
   "source": []
  },
  {
   "cell_type": "markdown",
   "id": "e84452e9-af2d-4618-aa61-474eb46ddf01",
   "metadata": {},
   "source": [
    "5. What was the average age of female passengers?"
   ]
  },
  {
   "cell_type": "code",
   "execution_count": null,
   "id": "8be2db13-4159-4a76-a639-fdee9fdf8db7",
   "metadata": {},
   "outputs": [],
   "source": []
  },
  {
   "cell_type": "markdown",
   "id": "daf08f79-10f9-4fab-bd93-82d3dfcc04b8",
   "metadata": {},
   "source": [
    "6. What percentage of the female passengers survived?"
   ]
  },
  {
   "cell_type": "code",
   "execution_count": null,
   "id": "82cca7e1-d696-47a8-8fee-d5f52b63f897",
   "metadata": {},
   "outputs": [],
   "source": []
  },
  {
   "cell_type": "markdown",
   "id": "ffbc3570-0583-465e-8800-affce9c4322c",
   "metadata": {},
   "source": [
    " "
   ]
  },
  {
   "cell_type": "markdown",
   "id": "a51d0626-e747-4811-a8a1-4dffdaeab625",
   "metadata": {},
   "source": [
    "## Transforming Data\n",
    "\n",
    "Any transformation function can be performed on each element of a column, or even all columns of a DataFrame.  Here are several options for this approach:\n",
    "\n",
    "Numpy-like Operator syntax with Broadcasting:\n",
    "```python\n",
    "df['Column1'] * 100\n",
    "```\n",
    "<br>\n",
    "\n",
    "Functions-style syntax:\n",
    "```python\n",
    "np.sqrt(df['Column1'])\n",
    "```\n",
    "<br>\n",
    "\n",
    "Object's methods:\n",
    "```python\n",
    "df['Column1'].str.upper()\n",
    "```\n"
   ]
  },
  {
   "cell_type": "markdown",
   "id": "8f4087cc-28ae-455a-abeb-c237e4a57067",
   "metadata": {},
   "source": [
    "## Exercise"
   ]
  },
  {
   "cell_type": "markdown",
   "id": "65f920fa-dd76-4da7-85cd-f94f80490e55",
   "metadata": {},
   "source": [
    "1. Make a new column called `OnTitanic`, with all of the values set to `True`."
   ]
  },
  {
   "cell_type": "code",
   "execution_count": null,
   "id": "1234bf69-6679-4f45-8fcc-018a7ff6adfd",
   "metadata": {},
   "outputs": [],
   "source": []
  },
  {
   "cell_type": "markdown",
   "id": "1442f0f1-917b-4620-9242-517590f02052",
   "metadata": {},
   "source": [
    "2. Make a new column called `isAdult`, with `True` values if they were 18 or older and `False` if not."
   ]
  },
  {
   "cell_type": "code",
   "execution_count": null,
   "id": "ccb3c119-66c8-48e9-8d96-e83415cd3cc9",
   "metadata": {},
   "outputs": [],
   "source": []
  },
  {
   "cell_type": "markdown",
   "id": "69ecdf7d-a137-4e96-86b9-edb61785b721",
   "metadata": {},
   "source": [
    "3. Get everyone's age if they were still alive today (hint: Titanic sunk in 1912)"
   ]
  },
  {
   "cell_type": "code",
   "execution_count": null,
   "id": "0306d191-9f65-463d-8399-4bed5e36a67d",
   "metadata": {},
   "outputs": [],
   "source": []
  },
  {
   "cell_type": "markdown",
   "id": "d8ebee95-9ac7-479d-ad7c-9f7de71032a4",
   "metadata": {},
   "source": [
    "4. Make a column called `not_survived`, the opposite of the `survived` column."
   ]
  },
  {
   "cell_type": "code",
   "execution_count": null,
   "id": "7a902b43-f389-4086-b9d3-5382287e1cca",
   "metadata": {},
   "outputs": [],
   "source": []
  },
  {
   "cell_type": "markdown",
   "id": "f6aa70bf-b7b7-47c4-9bfe-d78e19b6b863",
   "metadata": {},
   "source": [
    " "
   ]
  },
  {
   "cell_type": "markdown",
   "id": "72d52337-33c4-4bcb-8aca-6502bdd342a0",
   "metadata": {},
   "source": [
    "## Further reading\n",
    "\n",
    "Pandas has great documentation, tutorials, and examples. You can get started [here](https://pandas.pydata.org/docs/getting_started/)"
   ]
  }
 ],
 "metadata": {
  "kernelspec": {
   "display_name": "Python 3 (ipykernel)",
   "language": "python",
   "name": "python3"
  },
  "language_info": {
   "codemirror_mode": {
    "name": "ipython",
    "version": 3
   },
   "file_extension": ".py",
   "mimetype": "text/x-python",
   "name": "python",
   "nbconvert_exporter": "python",
   "pygments_lexer": "ipython3",
   "version": "3.9.10"
  }
 },
 "nbformat": 4,
 "nbformat_minor": 5
}
