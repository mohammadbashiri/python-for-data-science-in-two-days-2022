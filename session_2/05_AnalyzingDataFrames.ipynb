{
 "cells": [
  {
   "cell_type": "markdown",
   "id": "4894edd5",
   "metadata": {
    "cell_id": "e96b596a-070f-4ba5-99bd-59868ca46431",
    "deepnote_cell_height": 423.796875,
    "deepnote_cell_type": "markdown"
   },
   "source": [
    "## DataFrame vs 2D Arrays\n",
    "\n",
    "One difference between DataFrames and Numpy Arrays we already talked about:\n",
    "- Numpy arrays contain entries of same type\n",
    "- Pandas DataFame can contain columns of different data types\n",
    "\n",
    "One other key difference between DataFrames and Numpy Arrays is what index information they assume you'll use to query data.\n",
    "\n",
    "|           |        | Ordered | Named |\n",
    "| :--:      | :--:   | :--:    | :-:   |\n",
    "| Array     | Rows   | ✔️       |       |\n",
    "| Array     | Columns| ✔️       |       |\n",
    "| DataFrame | Rows   | ✔️       | ✔️     |\n",
    "| DataFrame | Columns|         | ✔️     |\n",
    "\n",
    "This reliance on named indices makes it straightforward to work with Pandas data **relationally**, thinking of each row as a specific Record with named Fields. \n",
    "\n",
    "Let's see how it works."
   ]
  },
  {
   "cell_type": "markdown",
   "id": "4d1a8c7e",
   "metadata": {
    "cell_id": "00001-7565e365-0e39-463e-9a6b-cf5fcf6e02b0",
    "deepnote_cell_height": 62,
    "deepnote_cell_type": "markdown"
   },
   "source": [
    "### Indexing Rows"
   ]
  },
  {
   "cell_type": "markdown",
   "id": "a275a16d",
   "metadata": {
    "cell_id": "00002-8921837b-78ab-48ba-8912-2eb75c2fea03",
    "deepnote_cell_height": 294,
    "deepnote_cell_type": "markdown"
   },
   "source": [
    "Because DataFrame rows are both ordered and named, they can be indexed using either approach, and even both!  Column operations tend to be name-specific:\n",
    "\n",
    "| Axis        | Ordered Index | Named Index    | Ordered Slice    | Named Slice              |  NamedOrdered Slice     |\n",
    "| :--:        | :--:          | :--:           | :--:             | :--:                     | :--:                    |\n",
    "| **Rows**    | `df.iloc[0]`    | `df.loc['John']` | `df.iloc[0:2]`    | `df.loc[['Jim', 'John']]`  |  `df.loc['Jim':'Jenny']`  |\n",
    "| **Columns** |               |  `df['Q1']`      |                  |  `df[['Q1', 'Q4']]`       |                         |\n",
    "\n",
    "\n",
    "To reduce total typing, Pandas also has alternate interfaces for the same operations:\n",
    "\n",
    "| Axis        | Ordered Index | Named Index    | Ordered Slice    | Named Slice              |  NamedOrdered Slice     |\n",
    "| :--:        | :--:          | :--:           | :--:             | :--:                     | :--:                    |\n",
    "| **Rows**    |               |                | `df[0:2]`          |                          |  `df['Jim':'Jenny']`      |\n",
    "| **Columns** |               |  `df.Q1`         |                  |  `df[['Q1', 'Q4']]`        |                         |\n",
    "\n",
    "**Note**: Notice that square brackets, not round brackets (a.k.a parenthesis) are used after `df.loc` and `df.iloc`."
   ]
  },
  {
   "cell_type": "code",
   "execution_count": 1,
   "id": "54b90a71",
   "metadata": {
    "cell_id": "00003-32859df2-2a84-4902-b304-0255e580010d",
    "deepnote_cell_height": 61,
    "deepnote_cell_type": "code"
   },
   "outputs": [],
   "source": [
    "import pandas as pd"
   ]
  },
  {
   "cell_type": "code",
   "execution_count": 2,
   "id": "8915f26a",
   "metadata": {
    "cell_id": "00004-d6a507bf-59d0-459a-97b3-3ad50a062529",
    "deepnote_cell_height": 359,
    "deepnote_cell_type": "code",
    "deepnote_output_heights": [
     177
    ]
   },
   "outputs": [
    {
     "data": {
      "text/html": [
       "<div>\n",
       "<style scoped>\n",
       "    .dataframe tbody tr th:only-of-type {\n",
       "        vertical-align: middle;\n",
       "    }\n",
       "\n",
       "    .dataframe tbody tr th {\n",
       "        vertical-align: top;\n",
       "    }\n",
       "\n",
       "    .dataframe thead th {\n",
       "        text-align: right;\n",
       "    }\n",
       "</style>\n",
       "<table border=\"1\" class=\"dataframe\">\n",
       "  <thead>\n",
       "    <tr style=\"text-align: right;\">\n",
       "      <th></th>\n",
       "      <th>Name</th>\n",
       "      <th>Age</th>\n",
       "      <th>Height</th>\n",
       "    </tr>\n",
       "  </thead>\n",
       "  <tbody>\n",
       "    <tr>\n",
       "      <th>0</th>\n",
       "      <td>Nick</td>\n",
       "      <td>31</td>\n",
       "      <td>2.9</td>\n",
       "    </tr>\n",
       "    <tr>\n",
       "      <th>1</th>\n",
       "      <td>Jenn</td>\n",
       "      <td>55</td>\n",
       "      <td>1.2</td>\n",
       "    </tr>\n",
       "    <tr>\n",
       "      <th>2</th>\n",
       "      <td>Joe</td>\n",
       "      <td>25</td>\n",
       "      <td>1.2</td>\n",
       "    </tr>\n",
       "    <tr>\n",
       "      <th>3</th>\n",
       "      <td>Mo</td>\n",
       "      <td>29</td>\n",
       "      <td>1.8</td>\n",
       "    </tr>\n",
       "    <tr>\n",
       "      <th>4</th>\n",
       "      <td>Anni</td>\n",
       "      <td>38</td>\n",
       "      <td>1.6</td>\n",
       "    </tr>\n",
       "  </tbody>\n",
       "</table>\n",
       "</div>"
      ],
      "text/plain": [
       "   Name  Age  Height\n",
       "0  Nick   31     2.9\n",
       "1  Jenn   55     1.2\n",
       "2   Joe   25     1.2\n",
       "3    Mo   29     1.8\n",
       "4  Anni   38     1.6"
      ]
     },
     "execution_count": 2,
     "metadata": {},
     "output_type": "execute_result"
    }
   ],
   "source": [
    "df = pd.DataFrame({ \n",
    "    'Name': ['Nick', 'Jenn', 'Joe', \"Mo\", \"Anni\"],\n",
    "    'Age': [31, 55, 25, 29, 38], \n",
    "    'Height': [2.9, 1.2, 1.2, 1.8, 1.6],\n",
    "})\n",
    "df"
   ]
  },
  {
   "cell_type": "code",
   "execution_count": 3,
   "id": "c7cf70ea",
   "metadata": {
    "cell_id": "00005-fbd35183-3f80-4ab8-8562-b2aec7bd1002",
    "deepnote_cell_height": 61,
    "deepnote_cell_type": "code"
   },
   "outputs": [],
   "source": [
    "df.set_index(\"Name\", inplace=True)"
   ]
  },
  {
   "cell_type": "code",
   "execution_count": 4,
   "id": "9ccdbd1a",
   "metadata": {
    "cell_id": "00006-fe9baa68-f837-48f5-906f-741c139ae197",
    "deepnote_cell_height": 298,
    "deepnote_cell_type": "code",
    "deepnote_output_heights": [
     206
    ]
   },
   "outputs": [
    {
     "data": {
      "text/html": [
       "<div>\n",
       "<style scoped>\n",
       "    .dataframe tbody tr th:only-of-type {\n",
       "        vertical-align: middle;\n",
       "    }\n",
       "\n",
       "    .dataframe tbody tr th {\n",
       "        vertical-align: top;\n",
       "    }\n",
       "\n",
       "    .dataframe thead th {\n",
       "        text-align: right;\n",
       "    }\n",
       "</style>\n",
       "<table border=\"1\" class=\"dataframe\">\n",
       "  <thead>\n",
       "    <tr style=\"text-align: right;\">\n",
       "      <th></th>\n",
       "      <th>Age</th>\n",
       "      <th>Height</th>\n",
       "    </tr>\n",
       "    <tr>\n",
       "      <th>Name</th>\n",
       "      <th></th>\n",
       "      <th></th>\n",
       "    </tr>\n",
       "  </thead>\n",
       "  <tbody>\n",
       "    <tr>\n",
       "      <th>Nick</th>\n",
       "      <td>31</td>\n",
       "      <td>2.9</td>\n",
       "    </tr>\n",
       "    <tr>\n",
       "      <th>Jenn</th>\n",
       "      <td>55</td>\n",
       "      <td>1.2</td>\n",
       "    </tr>\n",
       "    <tr>\n",
       "      <th>Joe</th>\n",
       "      <td>25</td>\n",
       "      <td>1.2</td>\n",
       "    </tr>\n",
       "    <tr>\n",
       "      <th>Mo</th>\n",
       "      <td>29</td>\n",
       "      <td>1.8</td>\n",
       "    </tr>\n",
       "    <tr>\n",
       "      <th>Anni</th>\n",
       "      <td>38</td>\n",
       "      <td>1.6</td>\n",
       "    </tr>\n",
       "  </tbody>\n",
       "</table>\n",
       "</div>"
      ],
      "text/plain": [
       "      Age  Height\n",
       "Name             \n",
       "Nick   31     2.9\n",
       "Jenn   55     1.2\n",
       "Joe    25     1.2\n",
       "Mo     29     1.8\n",
       "Anni   38     1.6"
      ]
     },
     "execution_count": 4,
     "metadata": {},
     "output_type": "execute_result"
    }
   ],
   "source": [
    "df"
   ]
  },
  {
   "cell_type": "markdown",
   "id": "6aec2095",
   "metadata": {
    "cell_id": "00007-6175ff89-0787-4eb2-9f5f-7367de4521fe",
    "deepnote_cell_height": 70,
    "deepnote_cell_type": "markdown"
   },
   "source": [
    "## Exercise"
   ]
  },
  {
   "cell_type": "markdown",
   "id": "be9c7710",
   "metadata": {
    "cell_id": "00008-25999a91-61fe-431b-ad07-bf0fc2aa935e",
    "deepnote_cell_height": 69.390625,
    "deepnote_cell_type": "markdown"
   },
   "source": [
    "1. Load the titanic dataset (from the data folder) as a DataFrame"
   ]
  },
  {
   "cell_type": "code",
   "execution_count": 5,
   "id": "22832066",
   "metadata": {
    "cell_id": "00009-73b12207-3291-4aa1-90b3-1c909da6beea",
    "deepnote_cell_height": 61,
    "deepnote_cell_type": "code"
   },
   "outputs": [
    {
     "data": {
      "text/html": [
       "<div>\n",
       "<style scoped>\n",
       "    .dataframe tbody tr th:only-of-type {\n",
       "        vertical-align: middle;\n",
       "    }\n",
       "\n",
       "    .dataframe tbody tr th {\n",
       "        vertical-align: top;\n",
       "    }\n",
       "\n",
       "    .dataframe thead th {\n",
       "        text-align: right;\n",
       "    }\n",
       "</style>\n",
       "<table border=\"1\" class=\"dataframe\">\n",
       "  <thead>\n",
       "    <tr style=\"text-align: right;\">\n",
       "      <th></th>\n",
       "      <th>survived</th>\n",
       "      <th>pclass</th>\n",
       "      <th>sex</th>\n",
       "      <th>age</th>\n",
       "      <th>sibsp</th>\n",
       "      <th>parch</th>\n",
       "      <th>fare</th>\n",
       "      <th>embarked</th>\n",
       "      <th>class</th>\n",
       "      <th>who</th>\n",
       "      <th>adult_male</th>\n",
       "      <th>deck</th>\n",
       "      <th>embark_town</th>\n",
       "      <th>alive</th>\n",
       "      <th>alone</th>\n",
       "    </tr>\n",
       "  </thead>\n",
       "  <tbody>\n",
       "    <tr>\n",
       "      <th>0</th>\n",
       "      <td>0</td>\n",
       "      <td>3</td>\n",
       "      <td>male</td>\n",
       "      <td>22.0</td>\n",
       "      <td>1</td>\n",
       "      <td>0</td>\n",
       "      <td>7.2500</td>\n",
       "      <td>S</td>\n",
       "      <td>Third</td>\n",
       "      <td>man</td>\n",
       "      <td>True</td>\n",
       "      <td>NaN</td>\n",
       "      <td>Southampton</td>\n",
       "      <td>no</td>\n",
       "      <td>False</td>\n",
       "    </tr>\n",
       "    <tr>\n",
       "      <th>1</th>\n",
       "      <td>1</td>\n",
       "      <td>1</td>\n",
       "      <td>female</td>\n",
       "      <td>38.0</td>\n",
       "      <td>1</td>\n",
       "      <td>0</td>\n",
       "      <td>71.2833</td>\n",
       "      <td>C</td>\n",
       "      <td>First</td>\n",
       "      <td>woman</td>\n",
       "      <td>False</td>\n",
       "      <td>C</td>\n",
       "      <td>Cherbourg</td>\n",
       "      <td>yes</td>\n",
       "      <td>False</td>\n",
       "    </tr>\n",
       "    <tr>\n",
       "      <th>2</th>\n",
       "      <td>1</td>\n",
       "      <td>3</td>\n",
       "      <td>female</td>\n",
       "      <td>26.0</td>\n",
       "      <td>0</td>\n",
       "      <td>0</td>\n",
       "      <td>7.9250</td>\n",
       "      <td>S</td>\n",
       "      <td>Third</td>\n",
       "      <td>woman</td>\n",
       "      <td>False</td>\n",
       "      <td>NaN</td>\n",
       "      <td>Southampton</td>\n",
       "      <td>yes</td>\n",
       "      <td>True</td>\n",
       "    </tr>\n",
       "    <tr>\n",
       "      <th>3</th>\n",
       "      <td>1</td>\n",
       "      <td>1</td>\n",
       "      <td>female</td>\n",
       "      <td>35.0</td>\n",
       "      <td>1</td>\n",
       "      <td>0</td>\n",
       "      <td>53.1000</td>\n",
       "      <td>S</td>\n",
       "      <td>First</td>\n",
       "      <td>woman</td>\n",
       "      <td>False</td>\n",
       "      <td>C</td>\n",
       "      <td>Southampton</td>\n",
       "      <td>yes</td>\n",
       "      <td>False</td>\n",
       "    </tr>\n",
       "    <tr>\n",
       "      <th>4</th>\n",
       "      <td>0</td>\n",
       "      <td>3</td>\n",
       "      <td>male</td>\n",
       "      <td>35.0</td>\n",
       "      <td>0</td>\n",
       "      <td>0</td>\n",
       "      <td>8.0500</td>\n",
       "      <td>S</td>\n",
       "      <td>Third</td>\n",
       "      <td>man</td>\n",
       "      <td>True</td>\n",
       "      <td>NaN</td>\n",
       "      <td>Southampton</td>\n",
       "      <td>no</td>\n",
       "      <td>True</td>\n",
       "    </tr>\n",
       "  </tbody>\n",
       "</table>\n",
       "</div>"
      ],
      "text/plain": [
       "   survived  pclass     sex   age  sibsp  parch     fare embarked  class  \\\n",
       "0         0       3    male  22.0      1      0   7.2500        S  Third   \n",
       "1         1       1  female  38.0      1      0  71.2833        C  First   \n",
       "2         1       3  female  26.0      0      0   7.9250        S  Third   \n",
       "3         1       1  female  35.0      1      0  53.1000        S  First   \n",
       "4         0       3    male  35.0      0      0   8.0500        S  Third   \n",
       "\n",
       "     who  adult_male deck  embark_town alive  alone  \n",
       "0    man        True  NaN  Southampton    no  False  \n",
       "1  woman       False    C    Cherbourg   yes  False  \n",
       "2  woman       False  NaN  Southampton   yes   True  \n",
       "3  woman       False    C  Southampton   yes  False  \n",
       "4    man        True  NaN  Southampton    no   True  "
      ]
     },
     "execution_count": 5,
     "metadata": {},
     "output_type": "execute_result"
    }
   ],
   "source": [
    "df = pd.read_csv(\"./data/titanic.csv\")\n",
    "df.head()"
   ]
  },
  {
   "cell_type": "markdown",
   "id": "4aa556c1",
   "metadata": {
    "cell_id": "00010-4f2f5f8f-803d-4849-812d-4bf097b01d4a",
    "deepnote_cell_height": 69.390625,
    "deepnote_cell_type": "markdown"
   },
   "source": [
    "2. Select the `age` column."
   ]
  },
  {
   "cell_type": "code",
   "execution_count": 6,
   "id": "e8608b9c",
   "metadata": {
    "cell_id": "00011-8b472524-17b7-4c80-a84d-e67322b69b89",
    "deepnote_cell_height": 61,
    "deepnote_cell_type": "code"
   },
   "outputs": [
    {
     "data": {
      "text/plain": [
       "0      22.0\n",
       "1      38.0\n",
       "2      26.0\n",
       "3      35.0\n",
       "4      35.0\n",
       "       ... \n",
       "886    27.0\n",
       "887    19.0\n",
       "888     NaN\n",
       "889    26.0\n",
       "890    32.0\n",
       "Name: age, Length: 891, dtype: float64"
      ]
     },
     "execution_count": 6,
     "metadata": {},
     "output_type": "execute_result"
    }
   ],
   "source": [
    "df[\"age\"]"
   ]
  },
  {
   "cell_type": "markdown",
   "id": "44c4b461",
   "metadata": {
    "cell_id": "00012-ada6e5bd-7ab9-409e-bf33-dc8fdeda5e29",
    "deepnote_cell_height": 69.390625,
    "deepnote_cell_type": "markdown"
   },
   "source": [
    "3. Get rows 10-16."
   ]
  },
  {
   "cell_type": "code",
   "execution_count": 7,
   "id": "4d79cf56",
   "metadata": {
    "cell_id": "00013-4bc8be58-b9fd-4a7c-bd15-1070f78160de",
    "deepnote_cell_height": 61,
    "deepnote_cell_type": "code"
   },
   "outputs": [
    {
     "data": {
      "text/html": [
       "<div>\n",
       "<style scoped>\n",
       "    .dataframe tbody tr th:only-of-type {\n",
       "        vertical-align: middle;\n",
       "    }\n",
       "\n",
       "    .dataframe tbody tr th {\n",
       "        vertical-align: top;\n",
       "    }\n",
       "\n",
       "    .dataframe thead th {\n",
       "        text-align: right;\n",
       "    }\n",
       "</style>\n",
       "<table border=\"1\" class=\"dataframe\">\n",
       "  <thead>\n",
       "    <tr style=\"text-align: right;\">\n",
       "      <th></th>\n",
       "      <th>survived</th>\n",
       "      <th>pclass</th>\n",
       "      <th>sex</th>\n",
       "      <th>age</th>\n",
       "      <th>sibsp</th>\n",
       "      <th>parch</th>\n",
       "      <th>fare</th>\n",
       "      <th>embarked</th>\n",
       "      <th>class</th>\n",
       "      <th>who</th>\n",
       "      <th>adult_male</th>\n",
       "      <th>deck</th>\n",
       "      <th>embark_town</th>\n",
       "      <th>alive</th>\n",
       "      <th>alone</th>\n",
       "    </tr>\n",
       "  </thead>\n",
       "  <tbody>\n",
       "    <tr>\n",
       "      <th>10</th>\n",
       "      <td>1</td>\n",
       "      <td>3</td>\n",
       "      <td>female</td>\n",
       "      <td>4.0</td>\n",
       "      <td>1</td>\n",
       "      <td>1</td>\n",
       "      <td>16.7000</td>\n",
       "      <td>S</td>\n",
       "      <td>Third</td>\n",
       "      <td>child</td>\n",
       "      <td>False</td>\n",
       "      <td>G</td>\n",
       "      <td>Southampton</td>\n",
       "      <td>yes</td>\n",
       "      <td>False</td>\n",
       "    </tr>\n",
       "    <tr>\n",
       "      <th>11</th>\n",
       "      <td>1</td>\n",
       "      <td>1</td>\n",
       "      <td>female</td>\n",
       "      <td>58.0</td>\n",
       "      <td>0</td>\n",
       "      <td>0</td>\n",
       "      <td>26.5500</td>\n",
       "      <td>S</td>\n",
       "      <td>First</td>\n",
       "      <td>woman</td>\n",
       "      <td>False</td>\n",
       "      <td>C</td>\n",
       "      <td>Southampton</td>\n",
       "      <td>yes</td>\n",
       "      <td>True</td>\n",
       "    </tr>\n",
       "    <tr>\n",
       "      <th>12</th>\n",
       "      <td>0</td>\n",
       "      <td>3</td>\n",
       "      <td>male</td>\n",
       "      <td>20.0</td>\n",
       "      <td>0</td>\n",
       "      <td>0</td>\n",
       "      <td>8.0500</td>\n",
       "      <td>S</td>\n",
       "      <td>Third</td>\n",
       "      <td>man</td>\n",
       "      <td>True</td>\n",
       "      <td>NaN</td>\n",
       "      <td>Southampton</td>\n",
       "      <td>no</td>\n",
       "      <td>True</td>\n",
       "    </tr>\n",
       "    <tr>\n",
       "      <th>13</th>\n",
       "      <td>0</td>\n",
       "      <td>3</td>\n",
       "      <td>male</td>\n",
       "      <td>39.0</td>\n",
       "      <td>1</td>\n",
       "      <td>5</td>\n",
       "      <td>31.2750</td>\n",
       "      <td>S</td>\n",
       "      <td>Third</td>\n",
       "      <td>man</td>\n",
       "      <td>True</td>\n",
       "      <td>NaN</td>\n",
       "      <td>Southampton</td>\n",
       "      <td>no</td>\n",
       "      <td>False</td>\n",
       "    </tr>\n",
       "    <tr>\n",
       "      <th>14</th>\n",
       "      <td>0</td>\n",
       "      <td>3</td>\n",
       "      <td>female</td>\n",
       "      <td>14.0</td>\n",
       "      <td>0</td>\n",
       "      <td>0</td>\n",
       "      <td>7.8542</td>\n",
       "      <td>S</td>\n",
       "      <td>Third</td>\n",
       "      <td>child</td>\n",
       "      <td>False</td>\n",
       "      <td>NaN</td>\n",
       "      <td>Southampton</td>\n",
       "      <td>no</td>\n",
       "      <td>True</td>\n",
       "    </tr>\n",
       "    <tr>\n",
       "      <th>15</th>\n",
       "      <td>1</td>\n",
       "      <td>2</td>\n",
       "      <td>female</td>\n",
       "      <td>55.0</td>\n",
       "      <td>0</td>\n",
       "      <td>0</td>\n",
       "      <td>16.0000</td>\n",
       "      <td>S</td>\n",
       "      <td>Second</td>\n",
       "      <td>woman</td>\n",
       "      <td>False</td>\n",
       "      <td>NaN</td>\n",
       "      <td>Southampton</td>\n",
       "      <td>yes</td>\n",
       "      <td>True</td>\n",
       "    </tr>\n",
       "  </tbody>\n",
       "</table>\n",
       "</div>"
      ],
      "text/plain": [
       "    survived  pclass     sex   age  sibsp  parch     fare embarked   class  \\\n",
       "10         1       3  female   4.0      1      1  16.7000        S   Third   \n",
       "11         1       1  female  58.0      0      0  26.5500        S   First   \n",
       "12         0       3    male  20.0      0      0   8.0500        S   Third   \n",
       "13         0       3    male  39.0      1      5  31.2750        S   Third   \n",
       "14         0       3  female  14.0      0      0   7.8542        S   Third   \n",
       "15         1       2  female  55.0      0      0  16.0000        S  Second   \n",
       "\n",
       "      who  adult_male deck  embark_town alive  alone  \n",
       "10  child       False    G  Southampton   yes  False  \n",
       "11  woman       False    C  Southampton   yes   True  \n",
       "12    man        True  NaN  Southampton    no   True  \n",
       "13    man        True  NaN  Southampton    no  False  \n",
       "14  child       False  NaN  Southampton    no   True  \n",
       "15  woman       False  NaN  Southampton   yes   True  "
      ]
     },
     "execution_count": 7,
     "metadata": {},
     "output_type": "execute_result"
    }
   ],
   "source": [
    "df.iloc[10:16]"
   ]
  },
  {
   "cell_type": "markdown",
   "id": "a588d46a",
   "metadata": {
    "cell_id": "00014-c3980423-0631-466c-b38b-780de579c18f",
    "deepnote_cell_height": 69.390625,
    "deepnote_cell_type": "markdown"
   },
   "source": [
    "4. Select the first 5 rows of the \"sex\" column"
   ]
  },
  {
   "cell_type": "code",
   "execution_count": 8,
   "id": "28efaf91",
   "metadata": {
    "cell_id": "00015-952afda8-9142-4866-8f7a-b5413ca50923",
    "deepnote_cell_height": 61,
    "deepnote_cell_type": "code"
   },
   "outputs": [
    {
     "data": {
      "text/plain": [
       "0      male\n",
       "1    female\n",
       "2    female\n",
       "3    female\n",
       "4      male\n",
       "Name: sex, dtype: object"
      ]
     },
     "execution_count": 8,
     "metadata": {},
     "output_type": "execute_result"
    }
   ],
   "source": [
    "df[\"sex\"].iloc[:5]"
   ]
  },
  {
   "cell_type": "markdown",
   "id": "3e9038d7",
   "metadata": {
    "cell_id": "00016-f5127b60-a6e8-4b83-b953-7b6210e5fbb3",
    "deepnote_cell_height": 69.390625,
    "deepnote_cell_type": "markdown"
   },
   "source": [
    "5. Select the `fare` column."
   ]
  },
  {
   "cell_type": "code",
   "execution_count": 9,
   "id": "b5be33ac",
   "metadata": {
    "cell_id": "00017-2917e802-031d-4c72-a565-36984665e0e8",
    "deepnote_cell_height": 61,
    "deepnote_cell_type": "code"
   },
   "outputs": [
    {
     "data": {
      "text/plain": [
       "0       7.2500\n",
       "1      71.2833\n",
       "2       7.9250\n",
       "3      53.1000\n",
       "4       8.0500\n",
       "        ...   \n",
       "886    13.0000\n",
       "887    30.0000\n",
       "888    23.4500\n",
       "889    30.0000\n",
       "890     7.7500\n",
       "Name: fare, Length: 891, dtype: float64"
      ]
     },
     "execution_count": 9,
     "metadata": {},
     "output_type": "execute_result"
    }
   ],
   "source": [
    "df[\"fare\"]"
   ]
  },
  {
   "cell_type": "markdown",
   "id": "c9ca8d4b",
   "metadata": {
    "cell_id": "00018-add57cf4-24ea-4cef-8505-e9b03867d361",
    "deepnote_cell_height": 69.390625,
    "deepnote_cell_type": "markdown"
   },
   "source": [
    "6. Select the `survived` and `age` columns."
   ]
  },
  {
   "cell_type": "code",
   "execution_count": 10,
   "id": "91dc20a6",
   "metadata": {
    "cell_id": "00019-378f9929-7e12-467a-a41e-bdd070593adf",
    "deepnote_cell_height": 61,
    "deepnote_cell_type": "code"
   },
   "outputs": [
    {
     "data": {
      "text/html": [
       "<div>\n",
       "<style scoped>\n",
       "    .dataframe tbody tr th:only-of-type {\n",
       "        vertical-align: middle;\n",
       "    }\n",
       "\n",
       "    .dataframe tbody tr th {\n",
       "        vertical-align: top;\n",
       "    }\n",
       "\n",
       "    .dataframe thead th {\n",
       "        text-align: right;\n",
       "    }\n",
       "</style>\n",
       "<table border=\"1\" class=\"dataframe\">\n",
       "  <thead>\n",
       "    <tr style=\"text-align: right;\">\n",
       "      <th></th>\n",
       "      <th>survived</th>\n",
       "      <th>age</th>\n",
       "    </tr>\n",
       "  </thead>\n",
       "  <tbody>\n",
       "    <tr>\n",
       "      <th>0</th>\n",
       "      <td>0</td>\n",
       "      <td>22.0</td>\n",
       "    </tr>\n",
       "    <tr>\n",
       "      <th>1</th>\n",
       "      <td>1</td>\n",
       "      <td>38.0</td>\n",
       "    </tr>\n",
       "    <tr>\n",
       "      <th>2</th>\n",
       "      <td>1</td>\n",
       "      <td>26.0</td>\n",
       "    </tr>\n",
       "    <tr>\n",
       "      <th>3</th>\n",
       "      <td>1</td>\n",
       "      <td>35.0</td>\n",
       "    </tr>\n",
       "    <tr>\n",
       "      <th>4</th>\n",
       "      <td>0</td>\n",
       "      <td>35.0</td>\n",
       "    </tr>\n",
       "    <tr>\n",
       "      <th>...</th>\n",
       "      <td>...</td>\n",
       "      <td>...</td>\n",
       "    </tr>\n",
       "    <tr>\n",
       "      <th>886</th>\n",
       "      <td>0</td>\n",
       "      <td>27.0</td>\n",
       "    </tr>\n",
       "    <tr>\n",
       "      <th>887</th>\n",
       "      <td>1</td>\n",
       "      <td>19.0</td>\n",
       "    </tr>\n",
       "    <tr>\n",
       "      <th>888</th>\n",
       "      <td>0</td>\n",
       "      <td>NaN</td>\n",
       "    </tr>\n",
       "    <tr>\n",
       "      <th>889</th>\n",
       "      <td>1</td>\n",
       "      <td>26.0</td>\n",
       "    </tr>\n",
       "    <tr>\n",
       "      <th>890</th>\n",
       "      <td>0</td>\n",
       "      <td>32.0</td>\n",
       "    </tr>\n",
       "  </tbody>\n",
       "</table>\n",
       "<p>891 rows × 2 columns</p>\n",
       "</div>"
      ],
      "text/plain": [
       "     survived   age\n",
       "0           0  22.0\n",
       "1           1  38.0\n",
       "2           1  26.0\n",
       "3           1  35.0\n",
       "4           0  35.0\n",
       "..        ...   ...\n",
       "886         0  27.0\n",
       "887         1  19.0\n",
       "888         0   NaN\n",
       "889         1  26.0\n",
       "890         0  32.0\n",
       "\n",
       "[891 rows x 2 columns]"
      ]
     },
     "execution_count": 10,
     "metadata": {},
     "output_type": "execute_result"
    }
   ],
   "source": [
    "df[[\"survived\", \"age\"]]"
   ]
  },
  {
   "cell_type": "markdown",
   "id": "d7982e86",
   "metadata": {
    "cell_id": "00020-c921c425-d762-454f-872a-2da495dce367",
    "deepnote_cell_height": 69.390625,
    "deepnote_cell_type": "markdown"
   },
   "source": [
    "7. Select the last 3 rows of the `alive` column."
   ]
  },
  {
   "cell_type": "code",
   "execution_count": 11,
   "id": "5a529e2f",
   "metadata": {
    "cell_id": "00021-e34de2ef-941a-4c1b-85f5-75ae6cf8e818",
    "deepnote_cell_height": 61,
    "deepnote_cell_type": "code"
   },
   "outputs": [
    {
     "data": {
      "text/plain": [
       "888     no\n",
       "889    yes\n",
       "890     no\n",
       "Name: alive, dtype: object"
      ]
     },
     "execution_count": 11,
     "metadata": {},
     "output_type": "execute_result"
    }
   ],
   "source": [
    "df[\"alive\"].iloc[-3:]"
   ]
  },
  {
   "cell_type": "markdown",
   "id": "0b7bf976",
   "metadata": {
    "cell_id": "00022-9d7d35d1-4b6b-400e-a77a-43a8a7dd0e85",
    "deepnote_cell_height": 46,
    "deepnote_cell_type": "markdown"
   },
   "source": [
    " "
   ]
  },
  {
   "cell_type": "markdown",
   "id": "1e3540af",
   "metadata": {
    "cell_id": "00023-b99ac760-364b-451f-a2ad-9b07dc5e791f",
    "deepnote_cell_height": 232,
    "deepnote_cell_type": "markdown"
   },
   "source": [
    "## Summarizing / Aggregating Data in DataFrames\n",
    "\n",
    "Pandas also supplies many different aggregation functions as methods:\n",
    "\n",
    "```python\n",
    "df.mean()\n",
    "df['Column'].mean()\n",
    "```\n",
    "<br>\n",
    "\n",
    "**Examples**:  mean, median, max, min, count, value_counts, unique"
   ]
  },
  {
   "cell_type": "markdown",
   "id": "ee53e2be",
   "metadata": {
    "cell_id": "00024-54922437-bdb5-4d82-96b7-4097de529119",
    "deepnote_cell_height": 70,
    "deepnote_cell_type": "markdown"
   },
   "source": [
    "## Exercise"
   ]
  },
  {
   "cell_type": "code",
   "execution_count": 12,
   "id": "5ebb17e5",
   "metadata": {
    "cell_id": "00025-02204dd2-30af-4618-bc3b-35921dcae6c8",
    "deepnote_cell_height": 61,
    "deepnote_cell_type": "code"
   },
   "outputs": [],
   "source": [
    "import pandas as pd"
   ]
  },
  {
   "cell_type": "code",
   "execution_count": 13,
   "id": "7d3516ec",
   "metadata": {
    "cell_id": "00026-a232db46-67b9-40af-90ea-6f2c029d2802",
    "deepnote_cell_height": 305,
    "deepnote_cell_type": "code",
    "deepnote_output_heights": [
     177
    ]
   },
   "outputs": [
    {
     "data": {
      "text/html": [
       "<div>\n",
       "<style scoped>\n",
       "    .dataframe tbody tr th:only-of-type {\n",
       "        vertical-align: middle;\n",
       "    }\n",
       "\n",
       "    .dataframe tbody tr th {\n",
       "        vertical-align: top;\n",
       "    }\n",
       "\n",
       "    .dataframe thead th {\n",
       "        text-align: right;\n",
       "    }\n",
       "</style>\n",
       "<table border=\"1\" class=\"dataframe\">\n",
       "  <thead>\n",
       "    <tr style=\"text-align: right;\">\n",
       "      <th></th>\n",
       "      <th>survived</th>\n",
       "      <th>pclass</th>\n",
       "      <th>sex</th>\n",
       "      <th>age</th>\n",
       "      <th>sibsp</th>\n",
       "      <th>parch</th>\n",
       "      <th>fare</th>\n",
       "      <th>embarked</th>\n",
       "      <th>class</th>\n",
       "      <th>who</th>\n",
       "      <th>adult_male</th>\n",
       "      <th>deck</th>\n",
       "      <th>embark_town</th>\n",
       "      <th>alive</th>\n",
       "      <th>alone</th>\n",
       "    </tr>\n",
       "  </thead>\n",
       "  <tbody>\n",
       "    <tr>\n",
       "      <th>0</th>\n",
       "      <td>0</td>\n",
       "      <td>3</td>\n",
       "      <td>male</td>\n",
       "      <td>22.0</td>\n",
       "      <td>1</td>\n",
       "      <td>0</td>\n",
       "      <td>7.2500</td>\n",
       "      <td>S</td>\n",
       "      <td>Third</td>\n",
       "      <td>man</td>\n",
       "      <td>True</td>\n",
       "      <td>NaN</td>\n",
       "      <td>Southampton</td>\n",
       "      <td>no</td>\n",
       "      <td>False</td>\n",
       "    </tr>\n",
       "    <tr>\n",
       "      <th>1</th>\n",
       "      <td>1</td>\n",
       "      <td>1</td>\n",
       "      <td>female</td>\n",
       "      <td>38.0</td>\n",
       "      <td>1</td>\n",
       "      <td>0</td>\n",
       "      <td>71.2833</td>\n",
       "      <td>C</td>\n",
       "      <td>First</td>\n",
       "      <td>woman</td>\n",
       "      <td>False</td>\n",
       "      <td>C</td>\n",
       "      <td>Cherbourg</td>\n",
       "      <td>yes</td>\n",
       "      <td>False</td>\n",
       "    </tr>\n",
       "    <tr>\n",
       "      <th>2</th>\n",
       "      <td>1</td>\n",
       "      <td>3</td>\n",
       "      <td>female</td>\n",
       "      <td>26.0</td>\n",
       "      <td>0</td>\n",
       "      <td>0</td>\n",
       "      <td>7.9250</td>\n",
       "      <td>S</td>\n",
       "      <td>Third</td>\n",
       "      <td>woman</td>\n",
       "      <td>False</td>\n",
       "      <td>NaN</td>\n",
       "      <td>Southampton</td>\n",
       "      <td>yes</td>\n",
       "      <td>True</td>\n",
       "    </tr>\n",
       "    <tr>\n",
       "      <th>3</th>\n",
       "      <td>1</td>\n",
       "      <td>1</td>\n",
       "      <td>female</td>\n",
       "      <td>35.0</td>\n",
       "      <td>1</td>\n",
       "      <td>0</td>\n",
       "      <td>53.1000</td>\n",
       "      <td>S</td>\n",
       "      <td>First</td>\n",
       "      <td>woman</td>\n",
       "      <td>False</td>\n",
       "      <td>C</td>\n",
       "      <td>Southampton</td>\n",
       "      <td>yes</td>\n",
       "      <td>False</td>\n",
       "    </tr>\n",
       "    <tr>\n",
       "      <th>4</th>\n",
       "      <td>0</td>\n",
       "      <td>3</td>\n",
       "      <td>male</td>\n",
       "      <td>35.0</td>\n",
       "      <td>0</td>\n",
       "      <td>0</td>\n",
       "      <td>8.0500</td>\n",
       "      <td>S</td>\n",
       "      <td>Third</td>\n",
       "      <td>man</td>\n",
       "      <td>True</td>\n",
       "      <td>NaN</td>\n",
       "      <td>Southampton</td>\n",
       "      <td>no</td>\n",
       "      <td>True</td>\n",
       "    </tr>\n",
       "  </tbody>\n",
       "</table>\n",
       "</div>"
      ],
      "text/plain": [
       "   survived  pclass     sex   age  sibsp  parch     fare embarked  class  \\\n",
       "0         0       3    male  22.0      1      0   7.2500        S  Third   \n",
       "1         1       1  female  38.0      1      0  71.2833        C  First   \n",
       "2         1       3  female  26.0      0      0   7.9250        S  Third   \n",
       "3         1       1  female  35.0      1      0  53.1000        S  First   \n",
       "4         0       3    male  35.0      0      0   8.0500        S  Third   \n",
       "\n",
       "     who  adult_male deck  embark_town alive  alone  \n",
       "0    man        True  NaN  Southampton    no  False  \n",
       "1  woman       False    C    Cherbourg   yes  False  \n",
       "2  woman       False  NaN  Southampton   yes   True  \n",
       "3  woman       False    C  Southampton   yes  False  \n",
       "4    man        True  NaN  Southampton    no   True  "
      ]
     },
     "execution_count": 13,
     "metadata": {},
     "output_type": "execute_result"
    }
   ],
   "source": [
    "url = 'https://raw.githubusercontent.com/mwaskom/seaborn-data/master/titanic.csv'\n",
    "df = pd.read_csv(url)\n",
    "df.head()"
   ]
  },
  {
   "cell_type": "markdown",
   "id": "683cd50d",
   "metadata": {
    "cell_id": "00028-bc8d79c0-2e02-4f07-a803-aa18f36fcf18",
    "deepnote_cell_height": 69.390625,
    "deepnote_cell_type": "markdown"
   },
   "source": [
    "1. What is the mean ticket fare that the passengers paid on the titanic?"
   ]
  },
  {
   "cell_type": "code",
   "execution_count": 14,
   "id": "6ef2e2a0",
   "metadata": {
    "cell_id": "00029-8278f0a9-9345-4424-8b0e-5b6fb41ff315",
    "deepnote_cell_height": 61,
    "deepnote_cell_type": "code"
   },
   "outputs": [
    {
     "data": {
      "text/plain": [
       "32.2042079685746"
      ]
     },
     "execution_count": 14,
     "metadata": {},
     "output_type": "execute_result"
    }
   ],
   "source": [
    "df[\"fare\"].mean()"
   ]
  },
  {
   "cell_type": "markdown",
   "id": "ec743591",
   "metadata": {
    "cell_id": "00030-afe8f048-5239-43cf-b13b-3d031c730c27",
    "deepnote_cell_height": 69.390625,
    "deepnote_cell_type": "markdown"
   },
   "source": [
    "2. How many passengers does this dataset contain?"
   ]
  },
  {
   "cell_type": "code",
   "execution_count": 15,
   "id": "5e2399aa",
   "metadata": {
    "cell_id": "00031-dc207544-7dbe-4c0b-be2d-dcbd549cc53e",
    "deepnote_cell_height": 61,
    "deepnote_cell_type": "code"
   },
   "outputs": [
    {
     "data": {
      "text/plain": [
       "891"
      ]
     },
     "execution_count": 15,
     "metadata": {},
     "output_type": "execute_result"
    }
   ],
   "source": [
    "df.shape[0]"
   ]
  },
  {
   "cell_type": "markdown",
   "id": "7187972b",
   "metadata": {
    "cell_id": "00032-49823e8a-24cf-4b9e-9c47-dbb19a04dd1f",
    "deepnote_cell_height": 69.390625,
    "deepnote_cell_type": "markdown"
   },
   "source": [
    "3. How many men and women are in this dataset? (`value_counts()`)"
   ]
  },
  {
   "cell_type": "code",
   "execution_count": 16,
   "id": "d3cbb99c",
   "metadata": {
    "cell_id": "00033-a7860e2a-1208-4931-935e-1f46f97d57eb",
    "deepnote_cell_height": 61,
    "deepnote_cell_type": "code"
   },
   "outputs": [
    {
     "data": {
      "text/plain": [
       "male      577\n",
       "female    314\n",
       "Name: sex, dtype: int64"
      ]
     },
     "execution_count": 16,
     "metadata": {},
     "output_type": "execute_result"
    }
   ],
   "source": [
    "df[\"sex\"].value_counts()"
   ]
  },
  {
   "cell_type": "markdown",
   "id": "7e3e0b96",
   "metadata": {
    "cell_id": "00034-6f590b0a-909f-45d1-a68f-a3f528a7de5f",
    "deepnote_cell_height": 69.390625,
    "deepnote_cell_type": "markdown"
   },
   "source": [
    "4. What proportion of the passengers were alone on the titanic?"
   ]
  },
  {
   "cell_type": "code",
   "execution_count": 17,
   "id": "33ca89ef",
   "metadata": {
    "cell_id": "00035-422bbf4d-0258-425a-9237-62c42c9d028e",
    "deepnote_cell_height": 61,
    "deepnote_cell_type": "code"
   },
   "outputs": [
    {
     "data": {
      "text/plain": [
       "0.6026936026936027"
      ]
     },
     "execution_count": 17,
     "metadata": {},
     "output_type": "execute_result"
    }
   ],
   "source": [
    "df['alone'].mean()"
   ]
  },
  {
   "cell_type": "markdown",
   "id": "1533db15",
   "metadata": {
    "cell_id": "00036-b87881dd-bfbf-4f8a-9ba8-54160bd142ba",
    "deepnote_cell_height": 69.390625,
    "deepnote_cell_type": "markdown"
   },
   "source": [
    "5. How many different classes were on the titanic?"
   ]
  },
  {
   "cell_type": "code",
   "execution_count": 18,
   "id": "58c65fb7",
   "metadata": {
    "cell_id": "00037-dc882a60-d3e3-428d-840e-b2f5a48d5811",
    "deepnote_cell_height": 61,
    "deepnote_cell_type": "code"
   },
   "outputs": [
    {
     "data": {
      "text/plain": [
       "(3,)"
      ]
     },
     "execution_count": 18,
     "metadata": {},
     "output_type": "execute_result"
    }
   ],
   "source": [
    "df[\"class\"].unique().shape"
   ]
  },
  {
   "cell_type": "markdown",
   "id": "bc2b68ce",
   "metadata": {
    "cell_id": "00038-01943475-95ab-4f50-b844-146234a32288",
    "deepnote_cell_height": 69.390625,
    "deepnote_cell_type": "markdown"
   },
   "source": [
    "6. How many passengers of each sex are sitting in each class?"
   ]
  },
  {
   "cell_type": "code",
   "execution_count": 19,
   "id": "d73b8fc8",
   "metadata": {
    "cell_id": "00039-e87a779f-a0bf-4970-8ae1-efa38dbaf86d",
    "deepnote_cell_height": 61,
    "deepnote_cell_type": "code"
   },
   "outputs": [
    {
     "data": {
      "text/plain": [
       "class   sex   \n",
       "Third   male      347\n",
       "        female    144\n",
       "First   male      122\n",
       "Second  male      108\n",
       "First   female     94\n",
       "Second  female     76\n",
       "dtype: int64"
      ]
     },
     "execution_count": 19,
     "metadata": {},
     "output_type": "execute_result"
    }
   ],
   "source": [
    "df[[\"class\", \"sex\"]].value_counts()"
   ]
  },
  {
   "cell_type": "markdown",
   "id": "006f39e7",
   "metadata": {
    "cell_id": "00040-dc5e5e19-445f-47fe-9891-56a96a0eb5f1",
    "deepnote_cell_height": 46,
    "deepnote_cell_type": "markdown"
   },
   "source": [
    " "
   ]
  },
  {
   "cell_type": "markdown",
   "id": "20574756",
   "metadata": {
    "cell_id": "00041-972bc227-b66c-4dd1-b330-0dd0745860dc",
    "deepnote_cell_height": 310.796875,
    "deepnote_cell_type": "markdown",
    "tags": []
   },
   "source": [
    "## Querying Data via Logical Indexing\n",
    "\n",
    "To get rows based on their value, Pandas supports logical indexing - similar to Numpy.  For example, to get all the rows of a dataframe that are positive for `Column1`:\n",
    "\n",
    "```python\n",
    "positive_rows = df['Column1'] > 0\n",
    "df[positive_rows]\n",
    "```\n",
    "<br>\n",
    "\n",
    "Often, this is done in a single line:\n",
    "\n",
    "```python\n",
    "df[df['Column1'] > 0]\n",
    "```\n"
   ]
  },
  {
   "cell_type": "markdown",
   "id": "7f61fc9b",
   "metadata": {
    "cell_id": "00042-c21be4c1-8bad-481a-ac31-75043554d9e1",
    "deepnote_cell_height": 108.390625,
    "deepnote_cell_type": "markdown"
   },
   "source": [
    "## Exercise\n",
    "\n",
    "Let's go back to the Titanic dataset and do some data querying."
   ]
  },
  {
   "cell_type": "markdown",
   "id": "cfcb9e9c",
   "metadata": {
    "cell_id": "00043-187075b6-0ae0-4545-927c-e787aba3be07",
    "deepnote_cell_height": 69.390625,
    "deepnote_cell_type": "markdown"
   },
   "source": [
    "1. Did the oldest passenger on the Titanic survive?"
   ]
  },
  {
   "cell_type": "code",
   "execution_count": 20,
   "id": "c839fc31",
   "metadata": {
    "cell_id": "00044-fa88e1ec-082a-46b5-af92-13e4632cdab4",
    "deepnote_cell_height": 61,
    "deepnote_cell_type": "code"
   },
   "outputs": [
    {
     "data": {
      "text/plain": [
       "630    1\n",
       "Name: survived, dtype: int64"
      ]
     },
     "execution_count": 20,
     "metadata": {},
     "output_type": "execute_result"
    }
   ],
   "source": [
    "dd_oldest = df[df[\"age\"] == df[\"age\"].max()]\n",
    "dd_oldest[\"survived\"]"
   ]
  },
  {
   "cell_type": "markdown",
   "id": "c9d98228",
   "metadata": {
    "cell_id": "00045-b20bb55b-30c3-4704-b282-0f5780dd20c5",
    "deepnote_cell_height": 69.390625,
    "deepnote_cell_type": "markdown"
   },
   "source": [
    "2. Where did the youngest passenger on the Titanic embark from?"
   ]
  },
  {
   "cell_type": "code",
   "execution_count": 21,
   "id": "e74aeb9c",
   "metadata": {
    "cell_id": "00046-79766507-47e4-4250-b43e-420aa36ab959",
    "deepnote_cell_height": 61,
    "deepnote_cell_type": "code"
   },
   "outputs": [
    {
     "data": {
      "text/plain": [
       "803    Cherbourg\n",
       "Name: embark_town, dtype: object"
      ]
     },
     "execution_count": 21,
     "metadata": {},
     "output_type": "execute_result"
    }
   ],
   "source": [
    "dd_youngest = df[df[\"age\"] == df[\"age\"].min()]\n",
    "dd_youngest[\"embark_town\"]"
   ]
  },
  {
   "cell_type": "markdown",
   "id": "6b39bf4c",
   "metadata": {
    "cell_id": "00047-df07a650-2f7b-40ea-8434-8093796ab108",
    "deepnote_cell_height": 69.390625,
    "deepnote_cell_type": "markdown"
   },
   "source": [
    "3. How many passengers on the Titanic embarked from Cherbourg?"
   ]
  },
  {
   "cell_type": "code",
   "execution_count": 22,
   "id": "4128906c",
   "metadata": {
    "cell_id": "00048-698dd854-05b6-48b3-9d75-78578d393259",
    "deepnote_cell_height": 61,
    "deepnote_cell_type": "code"
   },
   "outputs": [
    {
     "data": {
      "text/plain": [
       "168"
      ]
     },
     "execution_count": 22,
     "metadata": {},
     "output_type": "execute_result"
    }
   ],
   "source": [
    "df[df[\"embark_town\"] == \"Cherbourg\"].shape[0]"
   ]
  },
  {
   "cell_type": "markdown",
   "id": "4add13a3",
   "metadata": {
    "cell_id": "00049-622c7270-67b4-41b5-bae2-8b10d0cff3aa",
    "deepnote_cell_height": 69.390625,
    "deepnote_cell_type": "markdown"
   },
   "source": [
    "4. What is mean ticket fare for the 1st class?"
   ]
  },
  {
   "cell_type": "code",
   "execution_count": 23,
   "id": "15d72ecc",
   "metadata": {
    "cell_id": "00050-6c7f9f1e-eb2e-445f-8d5b-b301694ca6db",
    "deepnote_cell_height": 61,
    "deepnote_cell_type": "code"
   },
   "outputs": [
    {
     "data": {
      "text/plain": [
       "84.15468749999992"
      ]
     },
     "execution_count": 23,
     "metadata": {},
     "output_type": "execute_result"
    }
   ],
   "source": [
    "dd_first_class = df[df[\"class\"] == \"First\"]\n",
    "dd_first_class[\"fare\"].mean()"
   ]
  },
  {
   "cell_type": "markdown",
   "id": "78b3e697",
   "metadata": {
    "cell_id": "00051-1db08a61-388e-4696-99ad-9dc8676647ff",
    "deepnote_cell_height": 52.390625,
    "deepnote_cell_type": "markdown"
   },
   "source": [
    "... What about the 2nd class?"
   ]
  },
  {
   "cell_type": "code",
   "execution_count": 24,
   "id": "264f5a03",
   "metadata": {
    "cell_id": "00052-e1875c6b-132a-48d5-bfbd-b6800ca3f658",
    "deepnote_cell_height": 61,
    "deepnote_cell_type": "code"
   },
   "outputs": [
    {
     "data": {
      "text/plain": [
       "20.66218315217391"
      ]
     },
     "execution_count": 24,
     "metadata": {},
     "output_type": "execute_result"
    }
   ],
   "source": [
    "dd_first_class = df[df[\"class\"] == \"Second\"]\n",
    "dd_first_class[\"fare\"].mean()"
   ]
  },
  {
   "cell_type": "markdown",
   "id": "6576b1ef",
   "metadata": {
    "cell_id": "00053-3c1ccad0-390e-41d5-81a3-ded5fa5699c5",
    "deepnote_cell_height": 52.390625,
    "deepnote_cell_type": "markdown"
   },
   "source": [
    "... What about the 3rd class?"
   ]
  },
  {
   "cell_type": "code",
   "execution_count": 25,
   "id": "da71c727",
   "metadata": {
    "cell_id": "00054-7a66e522-a82a-41cb-8435-8f78fa36625c",
    "deepnote_cell_height": 61,
    "deepnote_cell_type": "code"
   },
   "outputs": [
    {
     "data": {
      "text/plain": [
       "13.675550101832997"
      ]
     },
     "execution_count": 25,
     "metadata": {},
     "output_type": "execute_result"
    }
   ],
   "source": [
    "dd_first_class = df[df[\"class\"] == \"Third\"]\n",
    "dd_first_class[\"fare\"].mean()"
   ]
  },
  {
   "cell_type": "markdown",
   "id": "1a65334f",
   "metadata": {
    "cell_id": "00055-3a0ab589-c925-49d5-ae26-393728717ad9",
    "deepnote_cell_height": 69.390625,
    "deepnote_cell_type": "markdown"
   },
   "source": [
    "5. What was the average age of female passengers?"
   ]
  },
  {
   "cell_type": "code",
   "execution_count": 26,
   "id": "b36c2bdf",
   "metadata": {
    "cell_id": "00056-04ece4b6-f40f-4fb2-96dd-608a161a385d",
    "deepnote_cell_height": 61,
    "deepnote_cell_type": "code"
   },
   "outputs": [
    {
     "data": {
      "text/plain": [
       "27.915708812260537"
      ]
     },
     "execution_count": 26,
     "metadata": {},
     "output_type": "execute_result"
    }
   ],
   "source": [
    "dd_female = df[df[\"sex\"] == \"female\"]\n",
    "dd_female[\"age\"].mean()"
   ]
  },
  {
   "cell_type": "markdown",
   "id": "ea01a97d",
   "metadata": {
    "cell_id": "00057-afe6dc25-1b78-4ab1-9b70-a63ca70f05d5",
    "deepnote_cell_height": 69.390625,
    "deepnote_cell_type": "markdown"
   },
   "source": [
    "6. What percentage of the female passengers survived?"
   ]
  },
  {
   "cell_type": "code",
   "execution_count": 27,
   "id": "ba0911e5",
   "metadata": {
    "cell_id": "00058-b3839add-5a3a-42ed-8966-d20daff19cca",
    "deepnote_cell_height": 61,
    "deepnote_cell_type": "code"
   },
   "outputs": [
    {
     "data": {
      "text/plain": [
       "74.20382165605095"
      ]
     },
     "execution_count": 27,
     "metadata": {},
     "output_type": "execute_result"
    }
   ],
   "source": [
    "dd_female[\"survived\"].mean() * 100"
   ]
  },
  {
   "cell_type": "markdown",
   "id": "fbeb90a1",
   "metadata": {
    "cell_id": "00059-f891dd2a-f889-4fce-8f4e-94a531f17424",
    "deepnote_cell_height": 46,
    "deepnote_cell_type": "markdown"
   },
   "source": [
    " "
   ]
  },
  {
   "cell_type": "markdown",
   "id": "4467ba76",
   "metadata": {
    "cell_id": "00060-f1588a61-95d9-4ab6-8367-8260836c18d0",
    "deepnote_cell_height": 426,
    "deepnote_cell_type": "markdown"
   },
   "source": [
    "## Transforming Data\n",
    "\n",
    "Any transformation function can be performed on each element of a column, or even all columns of a DataFrame.  Here are several options for this approach:\n",
    "\n",
    "Numpy-like Operator syntax with Broadcasting:\n",
    "```python\n",
    "df['Column1'] * 100\n",
    "```\n",
    "<br>\n",
    "\n",
    "Functions-style syntax:\n",
    "```python\n",
    "np.sqrt(df['Column1'])\n",
    "```\n",
    "<br>\n",
    "\n",
    "Object's methods:\n",
    "```python\n",
    "df['Column1'].str.upper()\n",
    "```\n"
   ]
  },
  {
   "cell_type": "markdown",
   "id": "baf4a022",
   "metadata": {
    "cell_id": "00061-2e6a1f3e-0fa6-44d7-ad8d-d7bcf97a87a1",
    "deepnote_cell_height": 70,
    "deepnote_cell_type": "markdown"
   },
   "source": [
    "## Exercise"
   ]
  },
  {
   "cell_type": "markdown",
   "id": "cc05b0f2",
   "metadata": {
    "cell_id": "00062-9f261e10-0b01-4bdc-86a6-92a38be13b64",
    "deepnote_cell_height": 69.390625,
    "deepnote_cell_type": "markdown"
   },
   "source": [
    "1. Make a new column called `OnTitanic`, with all of the values set to `True`."
   ]
  },
  {
   "cell_type": "code",
   "execution_count": 28,
   "id": "ac5d5a4c",
   "metadata": {
    "cell_id": "00063-283c853a-94cc-4677-9a30-16acc7f4a744",
    "deepnote_cell_height": 61,
    "deepnote_cell_type": "code"
   },
   "outputs": [],
   "source": [
    "df[\"OnTitanic\"] = True"
   ]
  },
  {
   "cell_type": "code",
   "execution_count": 29,
   "id": "7e13189a-346d-47ba-b2c6-f6a99c1c966b",
   "metadata": {},
   "outputs": [
    {
     "data": {
      "text/html": [
       "<div>\n",
       "<style scoped>\n",
       "    .dataframe tbody tr th:only-of-type {\n",
       "        vertical-align: middle;\n",
       "    }\n",
       "\n",
       "    .dataframe tbody tr th {\n",
       "        vertical-align: top;\n",
       "    }\n",
       "\n",
       "    .dataframe thead th {\n",
       "        text-align: right;\n",
       "    }\n",
       "</style>\n",
       "<table border=\"1\" class=\"dataframe\">\n",
       "  <thead>\n",
       "    <tr style=\"text-align: right;\">\n",
       "      <th></th>\n",
       "      <th>survived</th>\n",
       "      <th>pclass</th>\n",
       "      <th>sex</th>\n",
       "      <th>age</th>\n",
       "      <th>sibsp</th>\n",
       "      <th>parch</th>\n",
       "      <th>fare</th>\n",
       "      <th>embarked</th>\n",
       "      <th>class</th>\n",
       "      <th>who</th>\n",
       "      <th>adult_male</th>\n",
       "      <th>deck</th>\n",
       "      <th>embark_town</th>\n",
       "      <th>alive</th>\n",
       "      <th>alone</th>\n",
       "      <th>OnTitanic</th>\n",
       "    </tr>\n",
       "  </thead>\n",
       "  <tbody>\n",
       "    <tr>\n",
       "      <th>0</th>\n",
       "      <td>0</td>\n",
       "      <td>3</td>\n",
       "      <td>male</td>\n",
       "      <td>22.0</td>\n",
       "      <td>1</td>\n",
       "      <td>0</td>\n",
       "      <td>7.2500</td>\n",
       "      <td>S</td>\n",
       "      <td>Third</td>\n",
       "      <td>man</td>\n",
       "      <td>True</td>\n",
       "      <td>NaN</td>\n",
       "      <td>Southampton</td>\n",
       "      <td>no</td>\n",
       "      <td>False</td>\n",
       "      <td>True</td>\n",
       "    </tr>\n",
       "    <tr>\n",
       "      <th>1</th>\n",
       "      <td>1</td>\n",
       "      <td>1</td>\n",
       "      <td>female</td>\n",
       "      <td>38.0</td>\n",
       "      <td>1</td>\n",
       "      <td>0</td>\n",
       "      <td>71.2833</td>\n",
       "      <td>C</td>\n",
       "      <td>First</td>\n",
       "      <td>woman</td>\n",
       "      <td>False</td>\n",
       "      <td>C</td>\n",
       "      <td>Cherbourg</td>\n",
       "      <td>yes</td>\n",
       "      <td>False</td>\n",
       "      <td>True</td>\n",
       "    </tr>\n",
       "    <tr>\n",
       "      <th>2</th>\n",
       "      <td>1</td>\n",
       "      <td>3</td>\n",
       "      <td>female</td>\n",
       "      <td>26.0</td>\n",
       "      <td>0</td>\n",
       "      <td>0</td>\n",
       "      <td>7.9250</td>\n",
       "      <td>S</td>\n",
       "      <td>Third</td>\n",
       "      <td>woman</td>\n",
       "      <td>False</td>\n",
       "      <td>NaN</td>\n",
       "      <td>Southampton</td>\n",
       "      <td>yes</td>\n",
       "      <td>True</td>\n",
       "      <td>True</td>\n",
       "    </tr>\n",
       "    <tr>\n",
       "      <th>3</th>\n",
       "      <td>1</td>\n",
       "      <td>1</td>\n",
       "      <td>female</td>\n",
       "      <td>35.0</td>\n",
       "      <td>1</td>\n",
       "      <td>0</td>\n",
       "      <td>53.1000</td>\n",
       "      <td>S</td>\n",
       "      <td>First</td>\n",
       "      <td>woman</td>\n",
       "      <td>False</td>\n",
       "      <td>C</td>\n",
       "      <td>Southampton</td>\n",
       "      <td>yes</td>\n",
       "      <td>False</td>\n",
       "      <td>True</td>\n",
       "    </tr>\n",
       "    <tr>\n",
       "      <th>4</th>\n",
       "      <td>0</td>\n",
       "      <td>3</td>\n",
       "      <td>male</td>\n",
       "      <td>35.0</td>\n",
       "      <td>0</td>\n",
       "      <td>0</td>\n",
       "      <td>8.0500</td>\n",
       "      <td>S</td>\n",
       "      <td>Third</td>\n",
       "      <td>man</td>\n",
       "      <td>True</td>\n",
       "      <td>NaN</td>\n",
       "      <td>Southampton</td>\n",
       "      <td>no</td>\n",
       "      <td>True</td>\n",
       "      <td>True</td>\n",
       "    </tr>\n",
       "  </tbody>\n",
       "</table>\n",
       "</div>"
      ],
      "text/plain": [
       "   survived  pclass     sex   age  sibsp  parch     fare embarked  class  \\\n",
       "0         0       3    male  22.0      1      0   7.2500        S  Third   \n",
       "1         1       1  female  38.0      1      0  71.2833        C  First   \n",
       "2         1       3  female  26.0      0      0   7.9250        S  Third   \n",
       "3         1       1  female  35.0      1      0  53.1000        S  First   \n",
       "4         0       3    male  35.0      0      0   8.0500        S  Third   \n",
       "\n",
       "     who  adult_male deck  embark_town alive  alone  OnTitanic  \n",
       "0    man        True  NaN  Southampton    no  False       True  \n",
       "1  woman       False    C    Cherbourg   yes  False       True  \n",
       "2  woman       False  NaN  Southampton   yes   True       True  \n",
       "3  woman       False    C  Southampton   yes  False       True  \n",
       "4    man        True  NaN  Southampton    no   True       True  "
      ]
     },
     "execution_count": 29,
     "metadata": {},
     "output_type": "execute_result"
    }
   ],
   "source": [
    "df.head()"
   ]
  },
  {
   "cell_type": "markdown",
   "id": "62e6b373",
   "metadata": {
    "cell_id": "00064-9420426d-eed3-4381-afd9-36dfdb23278c",
    "deepnote_cell_height": 69.390625,
    "deepnote_cell_type": "markdown"
   },
   "source": [
    "2. Make a new column called `isAdult`, with `True` values if they were 18 or older and `False` if not."
   ]
  },
  {
   "cell_type": "code",
   "execution_count": 30,
   "id": "f0c76791",
   "metadata": {
    "cell_id": "00065-295e21a5-b0f7-45cc-9e99-a90b258d3282",
    "deepnote_cell_height": 61,
    "deepnote_cell_type": "code"
   },
   "outputs": [],
   "source": [
    "df[\"isAdult\"] = False\n",
    "df.loc[df[\"age\"] >= 18, \"isAdult\"] = True"
   ]
  },
  {
   "cell_type": "code",
   "execution_count": 31,
   "id": "16abf8cf-9b07-48a3-9e59-1fa57352cc67",
   "metadata": {},
   "outputs": [
    {
     "data": {
      "text/html": [
       "<div>\n",
       "<style scoped>\n",
       "    .dataframe tbody tr th:only-of-type {\n",
       "        vertical-align: middle;\n",
       "    }\n",
       "\n",
       "    .dataframe tbody tr th {\n",
       "        vertical-align: top;\n",
       "    }\n",
       "\n",
       "    .dataframe thead th {\n",
       "        text-align: right;\n",
       "    }\n",
       "</style>\n",
       "<table border=\"1\" class=\"dataframe\">\n",
       "  <thead>\n",
       "    <tr style=\"text-align: right;\">\n",
       "      <th></th>\n",
       "      <th>survived</th>\n",
       "      <th>pclass</th>\n",
       "      <th>sex</th>\n",
       "      <th>age</th>\n",
       "      <th>sibsp</th>\n",
       "      <th>parch</th>\n",
       "      <th>fare</th>\n",
       "      <th>embarked</th>\n",
       "      <th>class</th>\n",
       "      <th>who</th>\n",
       "      <th>adult_male</th>\n",
       "      <th>deck</th>\n",
       "      <th>embark_town</th>\n",
       "      <th>alive</th>\n",
       "      <th>alone</th>\n",
       "      <th>OnTitanic</th>\n",
       "      <th>isAdult</th>\n",
       "    </tr>\n",
       "  </thead>\n",
       "  <tbody>\n",
       "    <tr>\n",
       "      <th>0</th>\n",
       "      <td>0</td>\n",
       "      <td>3</td>\n",
       "      <td>male</td>\n",
       "      <td>22.0</td>\n",
       "      <td>1</td>\n",
       "      <td>0</td>\n",
       "      <td>7.2500</td>\n",
       "      <td>S</td>\n",
       "      <td>Third</td>\n",
       "      <td>man</td>\n",
       "      <td>True</td>\n",
       "      <td>NaN</td>\n",
       "      <td>Southampton</td>\n",
       "      <td>no</td>\n",
       "      <td>False</td>\n",
       "      <td>True</td>\n",
       "      <td>True</td>\n",
       "    </tr>\n",
       "    <tr>\n",
       "      <th>1</th>\n",
       "      <td>1</td>\n",
       "      <td>1</td>\n",
       "      <td>female</td>\n",
       "      <td>38.0</td>\n",
       "      <td>1</td>\n",
       "      <td>0</td>\n",
       "      <td>71.2833</td>\n",
       "      <td>C</td>\n",
       "      <td>First</td>\n",
       "      <td>woman</td>\n",
       "      <td>False</td>\n",
       "      <td>C</td>\n",
       "      <td>Cherbourg</td>\n",
       "      <td>yes</td>\n",
       "      <td>False</td>\n",
       "      <td>True</td>\n",
       "      <td>True</td>\n",
       "    </tr>\n",
       "    <tr>\n",
       "      <th>2</th>\n",
       "      <td>1</td>\n",
       "      <td>3</td>\n",
       "      <td>female</td>\n",
       "      <td>26.0</td>\n",
       "      <td>0</td>\n",
       "      <td>0</td>\n",
       "      <td>7.9250</td>\n",
       "      <td>S</td>\n",
       "      <td>Third</td>\n",
       "      <td>woman</td>\n",
       "      <td>False</td>\n",
       "      <td>NaN</td>\n",
       "      <td>Southampton</td>\n",
       "      <td>yes</td>\n",
       "      <td>True</td>\n",
       "      <td>True</td>\n",
       "      <td>True</td>\n",
       "    </tr>\n",
       "    <tr>\n",
       "      <th>3</th>\n",
       "      <td>1</td>\n",
       "      <td>1</td>\n",
       "      <td>female</td>\n",
       "      <td>35.0</td>\n",
       "      <td>1</td>\n",
       "      <td>0</td>\n",
       "      <td>53.1000</td>\n",
       "      <td>S</td>\n",
       "      <td>First</td>\n",
       "      <td>woman</td>\n",
       "      <td>False</td>\n",
       "      <td>C</td>\n",
       "      <td>Southampton</td>\n",
       "      <td>yes</td>\n",
       "      <td>False</td>\n",
       "      <td>True</td>\n",
       "      <td>True</td>\n",
       "    </tr>\n",
       "    <tr>\n",
       "      <th>4</th>\n",
       "      <td>0</td>\n",
       "      <td>3</td>\n",
       "      <td>male</td>\n",
       "      <td>35.0</td>\n",
       "      <td>0</td>\n",
       "      <td>0</td>\n",
       "      <td>8.0500</td>\n",
       "      <td>S</td>\n",
       "      <td>Third</td>\n",
       "      <td>man</td>\n",
       "      <td>True</td>\n",
       "      <td>NaN</td>\n",
       "      <td>Southampton</td>\n",
       "      <td>no</td>\n",
       "      <td>True</td>\n",
       "      <td>True</td>\n",
       "      <td>True</td>\n",
       "    </tr>\n",
       "  </tbody>\n",
       "</table>\n",
       "</div>"
      ],
      "text/plain": [
       "   survived  pclass     sex   age  sibsp  parch     fare embarked  class  \\\n",
       "0         0       3    male  22.0      1      0   7.2500        S  Third   \n",
       "1         1       1  female  38.0      1      0  71.2833        C  First   \n",
       "2         1       3  female  26.0      0      0   7.9250        S  Third   \n",
       "3         1       1  female  35.0      1      0  53.1000        S  First   \n",
       "4         0       3    male  35.0      0      0   8.0500        S  Third   \n",
       "\n",
       "     who  adult_male deck  embark_town alive  alone  OnTitanic  isAdult  \n",
       "0    man        True  NaN  Southampton    no  False       True     True  \n",
       "1  woman       False    C    Cherbourg   yes  False       True     True  \n",
       "2  woman       False  NaN  Southampton   yes   True       True     True  \n",
       "3  woman       False    C  Southampton   yes  False       True     True  \n",
       "4    man        True  NaN  Southampton    no   True       True     True  "
      ]
     },
     "execution_count": 31,
     "metadata": {},
     "output_type": "execute_result"
    }
   ],
   "source": [
    "df.head()"
   ]
  },
  {
   "cell_type": "markdown",
   "id": "b1ffe077",
   "metadata": {
    "cell_id": "00066-5389beb2-fb9f-4b36-8eec-99a4c8c93a3a",
    "deepnote_cell_height": 69.390625,
    "deepnote_cell_type": "markdown"
   },
   "source": [
    "3. Get everyone's age if they were still alive today (hint: Titanic sunk in 1912)"
   ]
  },
  {
   "cell_type": "code",
   "execution_count": 32,
   "id": "81d02f1d",
   "metadata": {
    "cell_id": "00067-02963e32-eaab-454e-ade1-de4649478976",
    "deepnote_cell_height": 61,
    "deepnote_cell_type": "code"
   },
   "outputs": [],
   "source": [
    "df[\"AgeToday\"] = df[\"age\"] + (2022 - 1912)"
   ]
  },
  {
   "cell_type": "code",
   "execution_count": 33,
   "id": "b4262489-2710-4327-9fd9-db6213ab86d6",
   "metadata": {},
   "outputs": [
    {
     "data": {
      "text/plain": [
       "0      132.0\n",
       "1      148.0\n",
       "2      136.0\n",
       "3      145.0\n",
       "4      145.0\n",
       "       ...  \n",
       "886    137.0\n",
       "887    129.0\n",
       "888      NaN\n",
       "889    136.0\n",
       "890    142.0\n",
       "Name: AgeToday, Length: 891, dtype: float64"
      ]
     },
     "execution_count": 33,
     "metadata": {},
     "output_type": "execute_result"
    }
   ],
   "source": [
    "df[\"AgeToday\"]"
   ]
  },
  {
   "cell_type": "markdown",
   "id": "3ef3c4d7",
   "metadata": {
    "cell_id": "00068-28e67116-7fa1-46d6-b012-730cf1334516",
    "deepnote_cell_height": 69.390625,
    "deepnote_cell_type": "markdown"
   },
   "source": [
    "4. Make a column called `not_survived`, the opposite of the `survived` column."
   ]
  },
  {
   "cell_type": "code",
   "execution_count": 34,
   "id": "08ee24ea",
   "metadata": {
    "cell_id": "00069-47a741a9-1385-49a2-82bf-4de90f27c422",
    "deepnote_cell_height": 61,
    "deepnote_cell_type": "code"
   },
   "outputs": [],
   "source": [
    "df[\"not_survived\"] = 1 - df[\"survived\"]"
   ]
  },
  {
   "cell_type": "code",
   "execution_count": 35,
   "id": "edce9c76-e0be-48e4-85b0-c940ba01df1e",
   "metadata": {},
   "outputs": [
    {
     "data": {
      "text/html": [
       "<div>\n",
       "<style scoped>\n",
       "    .dataframe tbody tr th:only-of-type {\n",
       "        vertical-align: middle;\n",
       "    }\n",
       "\n",
       "    .dataframe tbody tr th {\n",
       "        vertical-align: top;\n",
       "    }\n",
       "\n",
       "    .dataframe thead th {\n",
       "        text-align: right;\n",
       "    }\n",
       "</style>\n",
       "<table border=\"1\" class=\"dataframe\">\n",
       "  <thead>\n",
       "    <tr style=\"text-align: right;\">\n",
       "      <th></th>\n",
       "      <th>survived</th>\n",
       "      <th>pclass</th>\n",
       "      <th>sex</th>\n",
       "      <th>age</th>\n",
       "      <th>sibsp</th>\n",
       "      <th>parch</th>\n",
       "      <th>fare</th>\n",
       "      <th>embarked</th>\n",
       "      <th>class</th>\n",
       "      <th>who</th>\n",
       "      <th>adult_male</th>\n",
       "      <th>deck</th>\n",
       "      <th>embark_town</th>\n",
       "      <th>alive</th>\n",
       "      <th>alone</th>\n",
       "      <th>OnTitanic</th>\n",
       "      <th>isAdult</th>\n",
       "      <th>AgeToday</th>\n",
       "      <th>not_survived</th>\n",
       "    </tr>\n",
       "  </thead>\n",
       "  <tbody>\n",
       "    <tr>\n",
       "      <th>0</th>\n",
       "      <td>0</td>\n",
       "      <td>3</td>\n",
       "      <td>male</td>\n",
       "      <td>22.0</td>\n",
       "      <td>1</td>\n",
       "      <td>0</td>\n",
       "      <td>7.2500</td>\n",
       "      <td>S</td>\n",
       "      <td>Third</td>\n",
       "      <td>man</td>\n",
       "      <td>True</td>\n",
       "      <td>NaN</td>\n",
       "      <td>Southampton</td>\n",
       "      <td>no</td>\n",
       "      <td>False</td>\n",
       "      <td>True</td>\n",
       "      <td>True</td>\n",
       "      <td>132.0</td>\n",
       "      <td>1</td>\n",
       "    </tr>\n",
       "    <tr>\n",
       "      <th>1</th>\n",
       "      <td>1</td>\n",
       "      <td>1</td>\n",
       "      <td>female</td>\n",
       "      <td>38.0</td>\n",
       "      <td>1</td>\n",
       "      <td>0</td>\n",
       "      <td>71.2833</td>\n",
       "      <td>C</td>\n",
       "      <td>First</td>\n",
       "      <td>woman</td>\n",
       "      <td>False</td>\n",
       "      <td>C</td>\n",
       "      <td>Cherbourg</td>\n",
       "      <td>yes</td>\n",
       "      <td>False</td>\n",
       "      <td>True</td>\n",
       "      <td>True</td>\n",
       "      <td>148.0</td>\n",
       "      <td>0</td>\n",
       "    </tr>\n",
       "    <tr>\n",
       "      <th>2</th>\n",
       "      <td>1</td>\n",
       "      <td>3</td>\n",
       "      <td>female</td>\n",
       "      <td>26.0</td>\n",
       "      <td>0</td>\n",
       "      <td>0</td>\n",
       "      <td>7.9250</td>\n",
       "      <td>S</td>\n",
       "      <td>Third</td>\n",
       "      <td>woman</td>\n",
       "      <td>False</td>\n",
       "      <td>NaN</td>\n",
       "      <td>Southampton</td>\n",
       "      <td>yes</td>\n",
       "      <td>True</td>\n",
       "      <td>True</td>\n",
       "      <td>True</td>\n",
       "      <td>136.0</td>\n",
       "      <td>0</td>\n",
       "    </tr>\n",
       "    <tr>\n",
       "      <th>3</th>\n",
       "      <td>1</td>\n",
       "      <td>1</td>\n",
       "      <td>female</td>\n",
       "      <td>35.0</td>\n",
       "      <td>1</td>\n",
       "      <td>0</td>\n",
       "      <td>53.1000</td>\n",
       "      <td>S</td>\n",
       "      <td>First</td>\n",
       "      <td>woman</td>\n",
       "      <td>False</td>\n",
       "      <td>C</td>\n",
       "      <td>Southampton</td>\n",
       "      <td>yes</td>\n",
       "      <td>False</td>\n",
       "      <td>True</td>\n",
       "      <td>True</td>\n",
       "      <td>145.0</td>\n",
       "      <td>0</td>\n",
       "    </tr>\n",
       "    <tr>\n",
       "      <th>4</th>\n",
       "      <td>0</td>\n",
       "      <td>3</td>\n",
       "      <td>male</td>\n",
       "      <td>35.0</td>\n",
       "      <td>0</td>\n",
       "      <td>0</td>\n",
       "      <td>8.0500</td>\n",
       "      <td>S</td>\n",
       "      <td>Third</td>\n",
       "      <td>man</td>\n",
       "      <td>True</td>\n",
       "      <td>NaN</td>\n",
       "      <td>Southampton</td>\n",
       "      <td>no</td>\n",
       "      <td>True</td>\n",
       "      <td>True</td>\n",
       "      <td>True</td>\n",
       "      <td>145.0</td>\n",
       "      <td>1</td>\n",
       "    </tr>\n",
       "  </tbody>\n",
       "</table>\n",
       "</div>"
      ],
      "text/plain": [
       "   survived  pclass     sex   age  sibsp  parch     fare embarked  class  \\\n",
       "0         0       3    male  22.0      1      0   7.2500        S  Third   \n",
       "1         1       1  female  38.0      1      0  71.2833        C  First   \n",
       "2         1       3  female  26.0      0      0   7.9250        S  Third   \n",
       "3         1       1  female  35.0      1      0  53.1000        S  First   \n",
       "4         0       3    male  35.0      0      0   8.0500        S  Third   \n",
       "\n",
       "     who  adult_male deck  embark_town alive  alone  OnTitanic  isAdult  \\\n",
       "0    man        True  NaN  Southampton    no  False       True     True   \n",
       "1  woman       False    C    Cherbourg   yes  False       True     True   \n",
       "2  woman       False  NaN  Southampton   yes   True       True     True   \n",
       "3  woman       False    C  Southampton   yes  False       True     True   \n",
       "4    man        True  NaN  Southampton    no   True       True     True   \n",
       "\n",
       "   AgeToday  not_survived  \n",
       "0     132.0             1  \n",
       "1     148.0             0  \n",
       "2     136.0             0  \n",
       "3     145.0             0  \n",
       "4     145.0             1  "
      ]
     },
     "execution_count": 35,
     "metadata": {},
     "output_type": "execute_result"
    }
   ],
   "source": [
    "df.head()"
   ]
  },
  {
   "cell_type": "markdown",
   "id": "5eb1da9e",
   "metadata": {
    "cell_id": "00070-33f7a2c3-2feb-452c-b005-1c1a4b6d624c",
    "deepnote_cell_height": 46,
    "deepnote_cell_type": "markdown"
   },
   "source": [
    " "
   ]
  },
  {
   "cell_type": "markdown",
   "id": "2acdad2e",
   "metadata": {
    "cell_id": "00071-51012e55-9409-4596-a1e0-b5da3afbbc52",
    "deepnote_cell_height": 108.390625,
    "deepnote_cell_type": "markdown"
   },
   "source": [
    "## Further reading\n",
    "\n",
    "Pandas has great documentation, tutorials, and examples. You can get started [here](https://pandas.pydata.org/docs/getting_started/)"
   ]
  }
 ],
 "metadata": {
  "deepnote": {},
  "deepnote_execution_queue": [],
  "deepnote_notebook_id": "47ad9ad5-e97e-487d-b46f-7d2853ad7874",
  "kernelspec": {
   "display_name": "Python 3 (ipykernel)",
   "language": "python",
   "name": "python3"
  },
  "language_info": {
   "codemirror_mode": {
    "name": "ipython",
    "version": 3
   },
   "file_extension": ".py",
   "mimetype": "text/x-python",
   "name": "python",
   "nbconvert_exporter": "python",
   "pygments_lexer": "ipython3",
   "version": "3.9.10"
  }
 },
 "nbformat": 4,
 "nbformat_minor": 5
}
